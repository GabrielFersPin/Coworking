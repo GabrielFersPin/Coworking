{
 "cells": [
  {
   "cell_type": "markdown",
   "metadata": {},
   "source": [
    "# Create a score for each place based on the rating count and the rate of each."
   ]
  },
  {
   "cell_type": "code",
   "execution_count": 1,
   "metadata": {},
   "outputs": [
    {
     "name": "stdout",
     "output_type": "stream",
     "text": [
      "File correct exported!\n"
     ]
    },
    {
     "data": {
      "text/html": [
       "<div>\n",
       "<style scoped>\n",
       "    .dataframe tbody tr th:only-of-type {\n",
       "        vertical-align: middle;\n",
       "    }\n",
       "\n",
       "    .dataframe tbody tr th {\n",
       "        vertical-align: top;\n",
       "    }\n",
       "\n",
       "    .dataframe thead th {\n",
       "        text-align: right;\n",
       "    }\n",
       "</style>\n",
       "<table border=\"1\" class=\"dataframe\">\n",
       "  <thead>\n",
       "    <tr style=\"text-align: right;\">\n",
       "      <th></th>\n",
       "      <th>Name</th>\n",
       "      <th>Address</th>\n",
       "      <th>Latitude</th>\n",
       "      <th>Longitude</th>\n",
       "      <th>Rating</th>\n",
       "      <th>User Rating Count</th>\n",
       "    </tr>\n",
       "  </thead>\n",
       "  <tbody>\n",
       "    <tr>\n",
       "      <th>0</th>\n",
       "      <td>WeWork Shibuya Scramble Square</td>\n",
       "      <td>39F, Shibuya-ku, ２丁目-２４-12 渋谷 渋谷区 東京都 150-6139...</td>\n",
       "      <td>35.658411</td>\n",
       "      <td>139.702241</td>\n",
       "      <td>4.2</td>\n",
       "      <td>82</td>\n",
       "    </tr>\n",
       "    <tr>\n",
       "      <th>1</th>\n",
       "      <td>Tokyo Chapter - ninetytwo13</td>\n",
       "      <td>9-chōme-2-13 Akasaka, Minato City, Tokyo 107-0...</td>\n",
       "      <td>35.668048</td>\n",
       "      <td>139.732122</td>\n",
       "      <td>4.4</td>\n",
       "      <td>25</td>\n",
       "    </tr>\n",
       "    <tr>\n",
       "      <th>2</th>\n",
       "      <td>.andwork shibuya</td>\n",
       "      <td>Japan, 〒150-0041 Tokyo, Shibuya, Jinnan, 1-chō...</td>\n",
       "      <td>35.662215</td>\n",
       "      <td>139.699634</td>\n",
       "      <td>4.0</td>\n",
       "      <td>28</td>\n",
       "    </tr>\n",
       "    <tr>\n",
       "      <th>3</th>\n",
       "      <td>CASE Shinjuku</td>\n",
       "      <td>Japan, 〒169-0075 Tokyo, Shinjuku City, Takadan...</td>\n",
       "      <td>35.712093</td>\n",
       "      <td>139.704739</td>\n",
       "      <td>4.3</td>\n",
       "      <td>65</td>\n",
       "    </tr>\n",
       "    <tr>\n",
       "      <th>4</th>\n",
       "      <td>WeWork TOKYO SQUARE GARDEN</td>\n",
       "      <td>14F, ３丁目-１-1 京橋 中央区 東京都 104-0031, Japan</td>\n",
       "      <td>35.676115</td>\n",
       "      <td>139.768664</td>\n",
       "      <td>4.2</td>\n",
       "      <td>43</td>\n",
       "    </tr>\n",
       "  </tbody>\n",
       "</table>\n",
       "</div>"
      ],
      "text/plain": [
       "                             Name  \\\n",
       "0  WeWork Shibuya Scramble Square   \n",
       "1     Tokyo Chapter - ninetytwo13   \n",
       "2                .andwork shibuya   \n",
       "3                   CASE Shinjuku   \n",
       "4      WeWork TOKYO SQUARE GARDEN   \n",
       "\n",
       "                                             Address   Latitude   Longitude  \\\n",
       "0  39F, Shibuya-ku, ２丁目-２４-12 渋谷 渋谷区 東京都 150-6139...  35.658411  139.702241   \n",
       "1  9-chōme-2-13 Akasaka, Minato City, Tokyo 107-0...  35.668048  139.732122   \n",
       "2  Japan, 〒150-0041 Tokyo, Shibuya, Jinnan, 1-chō...  35.662215  139.699634   \n",
       "3  Japan, 〒169-0075 Tokyo, Shinjuku City, Takadan...  35.712093  139.704739   \n",
       "4            14F, ３丁目-１-1 京橋 中央区 東京都 104-0031, Japan  35.676115  139.768664   \n",
       "\n",
       "   Rating  User Rating Count  \n",
       "0     4.2                 82  \n",
       "1     4.4                 25  \n",
       "2     4.0                 28  \n",
       "3     4.3                 65  \n",
       "4     4.2                 43  "
      ]
     },
     "execution_count": 1,
     "metadata": {},
     "output_type": "execute_result"
    }
   ],
   "source": [
    "import pandas as pd\n",
    "\n",
    "try:\n",
    "    NewYork_places = pd.read_csv('/workspaces/Coworking/src/results/Tokyo/TokyoPLaces.csv')\n",
    "    print('File correct exported!')\n",
    "except Exception as e:\n",
    "    print(f\"❌ Error inesperado al guardar el archivo: {e}\")\n",
    "    \n",
    "NewYork_places.head()"
   ]
  },
  {
   "cell_type": "code",
   "execution_count": null,
   "metadata": {},
   "outputs": [
    {
     "name": "stdout",
     "output_type": "stream",
     "text": [
      "Place WORKVILLE - Flexible Office Space, Conference Center, Coworking & Meeting Room Rental NYC: Score = 1.0\n",
      "Place The Farm SoHo NYC - Coworking Office Space and Private Offices: Score = 0.8509169054441261\n",
      "Place Nomadworks: Score = 0.7864469914040114\n",
      "Place Rise New York: Score = 0.8797765042979943\n",
      "Place Coworking @ Industry City: Score = 0.7278739255014326\n",
      "Place WorkHouse NYC: Score = 0.6721203438395416\n",
      "Place Bond Collective - 60 Broad: Score = 0.7427335243553009\n",
      "Place OASIS by Workville - Conference Center & Corporate Events, Flex Office, Meeting Space Venue & Rooftop: Score = 0.8392550143266475\n",
      "Place Workspace by Rockefeller Group: Score = 0.7358567335243553\n",
      "Place Primary: Score = 0.7620114613180516\n",
      "Place Croissant: Score = 0.7550143266475644\n",
      "Place Blender Workspace: Score = 0.7351174785100285\n",
      "Place Bond Collective - 55 Broadway: Score = 0.7250487106017193\n",
      "Place The Yard: Lower East Side Coworking Office Space NYC: Score = 0.6643839541547278\n",
      "Place Bond Collective - Bushwick: Score = 0.7814154727793696\n",
      "Place The Commons: Score = 0.7089627507163323\n",
      "Place Carr Workplaces Central Park - Coworking & Office Space: Score = 0.7178051575931232\n",
      "Place The New Work Project: Score = 0.8083094555873925\n",
      "Place The Yard: Herald Square Coworking Office Space Manhattan: Score = 0.6873467048710602\n",
      "Place Based In Coworking and Event Space: Score = 0.6803495702005731\n"
     ]
    }
   ],
   "source": [
    "def normalize_rating(rating):\n",
    "    # Normalize the rating to a scale of 0 to 1\n",
    "    return rating / 5.0  # Assuming ratings are on a scale of 0 to 5\n",
    "\n",
    "def calculate_score(rating, user_rating_count, rating_weight=0.7, user_rating_count_weight=0.3):\n",
    "    # Normalize rating and user rating count\n",
    "    normalized_rating = normalize_rating(rating)\n",
    "    normalized_user_rating_count = user_rating_count / max_user_rating_count  # Normalize to range [0, 1]\n",
    "\n",
    "    # Calculate weighted sum\n",
    "    score = (rating_weight * normalized_rating) + (user_rating_count_weight * normalized_user_rating_count)\n",
    "    return score\n",
    "\n",
    "ratings = NewYork_places['Rating']\n",
    "user_rating_counts = NewYork_places['User Rating Count']\n",
    "max_user_rating_count = max(user_rating_counts)  # Maximum user rating count\n",
    "\n",
    "# Calculate scores for each place\n",
    "scores = []\n",
    "for rating, user_rating_count in zip(ratings, user_rating_counts):\n",
    "    score = calculate_score(rating, user_rating_count)\n",
    "    scores.append(score)\n",
    "\n",
    "# Print the scores\n",
    "for place_name, score in zip(NewYork_places['Name'], scores):\n",
    "    print(f\"Place {place_name}: Score = {score}\")\n",
    "\n"
   ]
  },
  {
   "cell_type": "code",
   "execution_count": null,
   "metadata": {},
   "outputs": [
    {
     "name": "stdout",
     "output_type": "stream",
     "text": [
      "                                           Place Name     Score\n",
      "0   WORKVILLE - Flexible Office Space, Conference ...  1.000000\n",
      "1   The Farm SoHo NYC - Coworking Office Space and...  0.850917\n",
      "2                                          Nomadworks  0.786447\n",
      "3                                       Rise New York  0.879777\n",
      "4                           Coworking @ Industry City  0.727874\n",
      "5                                       WorkHouse NYC  0.672120\n",
      "6                          Bond Collective - 60 Broad  0.742734\n",
      "7   OASIS by Workville - Conference Center & Corpo...  0.839255\n",
      "8                      Workspace by Rockefeller Group  0.735857\n",
      "9                                             Primary  0.762011\n",
      "10                                          Croissant  0.755014\n",
      "11                                  Blender Workspace  0.735117\n",
      "12                      Bond Collective - 55 Broadway  0.725049\n",
      "13  The Yard: Lower East Side Coworking Office Spa...  0.664384\n",
      "14                         Bond Collective - Bushwick  0.781415\n",
      "15                                        The Commons  0.708963\n",
      "16  Carr Workplaces Central Park - Coworking & Off...  0.717805\n",
      "17                               The New Work Project  0.808309\n",
      "18  The Yard: Herald Square Coworking Office Space...  0.687347\n",
      "19                 Based In Coworking and Event Space  0.680350\n"
     ]
    }
   ],
   "source": [
    "import pandas as pd\n",
    "\n",
    "# Initialize lists to store data\n",
    "place_names = []\n",
    "score_values = []\n",
    "\n",
    "# Iterate over the data and collect into lists\n",
    "for place_name, score in zip(NewYork_places['Name'], scores):\n",
    "    place_names.append(place_name)\n",
    "    score_values.append(score)\n",
    "\n",
    "# Create DataFrame from lists\n",
    "data = {'Place Name': place_names, 'Score': score_values}\n",
    "places_score = pd.DataFrame(data)\n",
    "\n",
    "# Display DataFrame\n",
    "print(places_score)\n"
   ]
  },
  {
   "cell_type": "code",
   "execution_count": null,
   "metadata": {},
   "outputs": [
    {
     "name": "stdout",
     "output_type": "stream",
     "text": [
      "Top five places:\n",
      "WORKVILLE - Flexible Office Space, Conference Center, Coworking & Meeting Room Rental NYC: Score = 1.0\n",
      "Rise New York: Score = 0.8797765042979943\n",
      "The Farm SoHo NYC - Coworking Office Space and Private Offices: Score = 0.8509169054441261\n",
      "OASIS by Workville - Conference Center & Corporate Events, Flex Office, Meeting Space Venue & Rooftop: Score = 0.8392550143266475\n",
      "The New Work Project: Score = 0.8083094555873925\n"
     ]
    }
   ],
   "source": [
    "# Combine names and scores into a DataFrame\n",
    "score_df = pd.DataFrame({'name': NewYork_places['Name'], 'score': scores})\n",
    "\n",
    "# Sort the DataFrame by score in descending order\n",
    "sorted_scores = score_df.sort_values(by='score', ascending=False)\n",
    "\n",
    "# Select the top five places\n",
    "top_five = sorted_scores.head(5)\n",
    "\n",
    "# Print the top five places\n",
    "print(\"Top five places:\")\n",
    "for idx, row in top_five.iterrows():\n",
    "    print(f\"{row['name']}: Score = {row['score']}\")\n"
   ]
  }
 ],
 "metadata": {
  "kernelspec": {
   "display_name": "new_venv",
   "language": "python",
   "name": "python3"
  },
  "language_info": {
   "codemirror_mode": {
    "name": "ipython",
    "version": 3
   },
   "file_extension": ".py",
   "mimetype": "text/x-python",
   "name": "python",
   "nbconvert_exporter": "python",
   "pygments_lexer": "ipython3",
   "version": "3.12.1"
  }
 },
 "nbformat": 4,
 "nbformat_minor": 2
}

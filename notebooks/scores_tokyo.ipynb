{
 "cells": [
  {
   "cell_type": "markdown",
   "metadata": {},
   "source": [
    "# Create a score for each place based on the rating count and the rate of each."
   ]
  },
  {
   "cell_type": "code",
   "execution_count": null,
   "metadata": {},
   "outputs": [
    {
     "name": "stdout",
     "output_type": "stream",
     "text": [
      "File correct exported!\n"
     ]
    },
    {
     "data": {
      "text/html": [
       "<div>\n",
       "<style scoped>\n",
       "    .dataframe tbody tr th:only-of-type {\n",
       "        vertical-align: middle;\n",
       "    }\n",
       "\n",
       "    .dataframe tbody tr th {\n",
       "        vertical-align: top;\n",
       "    }\n",
       "\n",
       "    .dataframe thead th {\n",
       "        text-align: right;\n",
       "    }\n",
       "</style>\n",
       "<table border=\"1\" class=\"dataframe\">\n",
       "  <thead>\n",
       "    <tr style=\"text-align: right;\">\n",
       "      <th></th>\n",
       "      <th>Name</th>\n",
       "      <th>Address</th>\n",
       "      <th>Latitude</th>\n",
       "      <th>Longitude</th>\n",
       "      <th>Rating</th>\n",
       "      <th>User Rating Count</th>\n",
       "    </tr>\n",
       "  </thead>\n",
       "  <tbody>\n",
       "    <tr>\n",
       "      <th>0</th>\n",
       "      <td>WeWork Shibuya Scramble Square</td>\n",
       "      <td>39F, Shibuya-ku, ２丁目-２４-12 渋谷 渋谷区 東京都 150-6139...</td>\n",
       "      <td>35.658411</td>\n",
       "      <td>139.702241</td>\n",
       "      <td>4.2</td>\n",
       "      <td>82</td>\n",
       "    </tr>\n",
       "    <tr>\n",
       "      <th>1</th>\n",
       "      <td>Tokyo Chapter - ninetytwo13</td>\n",
       "      <td>9-chōme-2-13 Akasaka, Minato City, Tokyo 107-0...</td>\n",
       "      <td>35.668048</td>\n",
       "      <td>139.732122</td>\n",
       "      <td>4.4</td>\n",
       "      <td>25</td>\n",
       "    </tr>\n",
       "    <tr>\n",
       "      <th>2</th>\n",
       "      <td>.andwork shibuya</td>\n",
       "      <td>Japan, 〒150-0041 Tokyo, Shibuya, Jinnan, 1-chō...</td>\n",
       "      <td>35.662215</td>\n",
       "      <td>139.699634</td>\n",
       "      <td>4.0</td>\n",
       "      <td>28</td>\n",
       "    </tr>\n",
       "    <tr>\n",
       "      <th>3</th>\n",
       "      <td>CASE Shinjuku</td>\n",
       "      <td>Japan, 〒169-0075 Tokyo, Shinjuku City, Takadan...</td>\n",
       "      <td>35.712093</td>\n",
       "      <td>139.704739</td>\n",
       "      <td>4.3</td>\n",
       "      <td>65</td>\n",
       "    </tr>\n",
       "    <tr>\n",
       "      <th>4</th>\n",
       "      <td>WeWork TOKYO SQUARE GARDEN</td>\n",
       "      <td>14F, ３丁目-１-1 京橋 中央区 東京都 104-0031, Japan</td>\n",
       "      <td>35.676115</td>\n",
       "      <td>139.768664</td>\n",
       "      <td>4.2</td>\n",
       "      <td>43</td>\n",
       "    </tr>\n",
       "  </tbody>\n",
       "</table>\n",
       "</div>"
      ],
      "text/plain": [
       "                             Name  \\\n",
       "0  WeWork Shibuya Scramble Square   \n",
       "1     Tokyo Chapter - ninetytwo13   \n",
       "2                .andwork shibuya   \n",
       "3                   CASE Shinjuku   \n",
       "4      WeWork TOKYO SQUARE GARDEN   \n",
       "\n",
       "                                             Address   Latitude   Longitude  \\\n",
       "0  39F, Shibuya-ku, ２丁目-２４-12 渋谷 渋谷区 東京都 150-6139...  35.658411  139.702241   \n",
       "1  9-chōme-2-13 Akasaka, Minato City, Tokyo 107-0...  35.668048  139.732122   \n",
       "2  Japan, 〒150-0041 Tokyo, Shibuya, Jinnan, 1-chō...  35.662215  139.699634   \n",
       "3  Japan, 〒169-0075 Tokyo, Shinjuku City, Takadan...  35.712093  139.704739   \n",
       "4            14F, ３丁目-１-1 京橋 中央区 東京都 104-0031, Japan  35.676115  139.768664   \n",
       "\n",
       "   Rating  User Rating Count  \n",
       "0     4.2                 82  \n",
       "1     4.4                 25  \n",
       "2     4.0                 28  \n",
       "3     4.3                 65  \n",
       "4     4.2                 43  "
      ]
     },
     "execution_count": 2,
     "metadata": {},
     "output_type": "execute_result"
    }
   ],
   "source": [
    "import pandas as pd\n",
    "\n",
    "try:\n",
    "    Tokyo_Places = pd.read_csv('/workspaces/Coworking/src/results/Tokyo/TokyoPLaces.csv')\n",
    "    print('File correct exported!')\n",
    "except Exception as e:\n",
    "    print(f\"❌ Error inesperado al guardar el archivo: {e}\")\n",
    "    \n",
    "Tokyo_Places.head()"
   ]
  },
  {
   "cell_type": "code",
   "execution_count": 4,
   "metadata": {},
   "outputs": [
    {
     "name": "stdout",
     "output_type": "stream",
     "text": [
      "Place WeWork Shibuya Scramble Square: Score = 0.6629999999999999\n",
      "Place Tokyo Chapter - ninetytwo13: Score = 0.6388658536585365\n",
      "Place .andwork shibuya: Score = 0.5856097560975609\n",
      "Place CASE Shinjuku: Score = 0.6614512195121951\n",
      "Place WeWork TOKYO SQUARE GARDEN: Score = 0.6273292682926829\n",
      "Place 【法人登記可】コワーキングスペースfactoria nishiogi: Score = 0.7289878048780488\n",
      "Place LULL TECH BEACH shibuya coworking space: Score = 0.7506585365853657\n",
      "Place Impact HUB Tokyo: Score = 0.6755243902439024\n",
      "Place RYOZAN PARK 巣鴨（GRAND）: Score = 0.6218414634146341\n",
      "Place BLINK Roppongi: Score = 0.7189999999999999\n",
      "Place AWS Startup Loft Tokyo: Score = 0.7729634146341462\n",
      "Place Pasela Co-work Higashishinjuku: Score = 0.8148292682926829\n",
      "Place TOKYOシェアオフィス墨田: Score = 0.7037317073170732\n",
      "Place Gotanda co-working space pao pao: Score = 0.6389390243902439\n",
      "Place WeWork LINK SQUARE SHINJUKU: Score = 0.6148780487804878\n",
      "Place SHIBUYA QWS: Score = 0.6693292682926829\n",
      "Place SYCL by KEIO: Score = 0.697890243902439\n",
      "Place WeWork Iceberg: Score = 0.7246341463414634\n",
      "Place Basis Point Shinbashi: Score = 0.9019999999999999\n",
      "Place S-TOKYO: Score = 0.7106951219512195\n"
     ]
    }
   ],
   "source": [
    "def normalize_rating(rating):\n",
    "    # Normalize the rating to a scale of 0 to 1\n",
    "    return rating / 5.0  # Assuming ratings are on a scale of 0 to 5\n",
    "\n",
    "def calculate_score(rating, user_rating_count, rating_weight=0.7, user_rating_count_weight=0.3):\n",
    "    # Normalize rating and user rating count\n",
    "    normalized_rating = normalize_rating(rating)\n",
    "    normalized_user_rating_count = user_rating_count / max_user_rating_count  # Normalize to range [0, 1]\n",
    "\n",
    "    # Calculate weighted sum\n",
    "    score = (rating_weight * normalized_rating) + (user_rating_count_weight * normalized_user_rating_count)\n",
    "    return score\n",
    "\n",
    "ratings = Tokyo_Places['Rating']\n",
    "user_rating_counts = Tokyo_Places['User Rating Count']\n",
    "max_user_rating_count = max(user_rating_counts)  # Maximum user rating count\n",
    "\n",
    "# Calculate scores for each place\n",
    "scores = []\n",
    "for rating, user_rating_count in zip(ratings, user_rating_counts):\n",
    "    score = calculate_score(rating, user_rating_count)\n",
    "    scores.append(score)\n",
    "\n",
    "# Print the scores\n",
    "for place_name, score in zip(Tokyo_Places['Name'], scores):\n",
    "    print(f\"Place {place_name}: Score = {score}\")\n",
    "\n"
   ]
  },
  {
   "cell_type": "code",
   "execution_count": 5,
   "metadata": {},
   "outputs": [
    {
     "name": "stdout",
     "output_type": "stream",
     "text": [
      "                                 Place Name     Score\n",
      "0            WeWork Shibuya Scramble Square  0.663000\n",
      "1               Tokyo Chapter - ninetytwo13  0.638866\n",
      "2                          .andwork shibuya  0.585610\n",
      "3                             CASE Shinjuku  0.661451\n",
      "4                WeWork TOKYO SQUARE GARDEN  0.627329\n",
      "5        【法人登記可】コワーキングスペースfactoria nishiogi  0.728988\n",
      "6   LULL TECH BEACH shibuya coworking space  0.750659\n",
      "7                          Impact HUB Tokyo  0.675524\n",
      "8                     RYOZAN PARK 巣鴨（GRAND）  0.621841\n",
      "9                            BLINK Roppongi  0.719000\n",
      "10                   AWS Startup Loft Tokyo  0.772963\n",
      "11           Pasela Co-work Higashishinjuku  0.814829\n",
      "12                           TOKYOシェアオフィス墨田  0.703732\n",
      "13         Gotanda co-working space pao pao  0.638939\n",
      "14              WeWork LINK SQUARE SHINJUKU  0.614878\n",
      "15                              SHIBUYA QWS  0.669329\n",
      "16                             SYCL by KEIO  0.697890\n",
      "17                           WeWork Iceberg  0.724634\n",
      "18                    Basis Point Shinbashi  0.902000\n",
      "19                                  S-TOKYO  0.710695\n"
     ]
    }
   ],
   "source": [
    "import pandas as pd\n",
    "\n",
    "# Initialize lists to store data\n",
    "place_names = []\n",
    "score_values = []\n",
    "\n",
    "# Iterate over the data and collect into lists\n",
    "for place_name, score in zip(Tokyo_Places['Name'], scores):\n",
    "    place_names.append(place_name)\n",
    "    score_values.append(score)\n",
    "\n",
    "# Create DataFrame from lists\n",
    "data = {'Place Name': place_names, 'Score': score_values}\n",
    "places_score = pd.DataFrame(data)\n",
    "\n",
    "# Display DataFrame\n",
    "print(places_score)\n"
   ]
  },
  {
   "cell_type": "code",
   "execution_count": 6,
   "metadata": {},
   "outputs": [
    {
     "name": "stdout",
     "output_type": "stream",
     "text": [
      "Top five places:\n",
      "Basis Point Shinbashi: Score = 0.9019999999999999\n",
      "Pasela Co-work Higashishinjuku: Score = 0.8148292682926829\n",
      "AWS Startup Loft Tokyo: Score = 0.7729634146341462\n",
      "LULL TECH BEACH shibuya coworking space: Score = 0.7506585365853657\n",
      "【法人登記可】コワーキングスペースfactoria nishiogi: Score = 0.7289878048780488\n"
     ]
    }
   ],
   "source": [
    "# Combine names and scores into a DataFrame\n",
    "score_df = pd.DataFrame({'name': Tokyo_Places['Name'], 'score': scores})\n",
    "\n",
    "# Sort the DataFrame by score in descending order\n",
    "sorted_scores = score_df.sort_values(by='score', ascending=False)\n",
    "\n",
    "# Select the top five places\n",
    "top_five = sorted_scores.head(5)\n",
    "\n",
    "# Print the top five places\n",
    "print(\"Top five places:\")\n",
    "for idx, row in top_five.iterrows():\n",
    "    print(f\"{row['name']}: Score = {row['score']}\")\n"
   ]
  }
 ],
 "metadata": {
  "kernelspec": {
   "display_name": "new_venv",
   "language": "python",
   "name": "python3"
  },
  "language_info": {
   "codemirror_mode": {
    "name": "ipython",
    "version": 3
   },
   "file_extension": ".py",
   "mimetype": "text/x-python",
   "name": "python",
   "nbconvert_exporter": "python",
   "pygments_lexer": "ipython3",
   "version": "3.12.1"
  }
 },
 "nbformat": 4,
 "nbformat_minor": 2
}

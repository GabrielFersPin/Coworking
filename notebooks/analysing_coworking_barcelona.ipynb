{
 "cells": [
  {
   "cell_type": "markdown",
   "metadata": {},
   "source": [
    "# Analyzing coworking space in Barcelona."
   ]
  },
  {
   "cell_type": "code",
   "execution_count": 2,
   "metadata": {},
   "outputs": [
    {
     "data": {
      "text/html": [
       "<div>\n",
       "<style scoped>\n",
       "    .dataframe tbody tr th:only-of-type {\n",
       "        vertical-align: middle;\n",
       "    }\n",
       "\n",
       "    .dataframe tbody tr th {\n",
       "        vertical-align: top;\n",
       "    }\n",
       "\n",
       "    .dataframe thead th {\n",
       "        text-align: right;\n",
       "    }\n",
       "</style>\n",
       "<table border=\"1\" class=\"dataframe\">\n",
       "  <thead>\n",
       "    <tr style=\"text-align: right;\">\n",
       "      <th></th>\n",
       "      <th>Name</th>\n",
       "      <th>Address</th>\n",
       "      <th>Latitude</th>\n",
       "      <th>Longitude</th>\n",
       "      <th>Price Level</th>\n",
       "      <th>Rating</th>\n",
       "      <th>User Rating Count</th>\n",
       "    </tr>\n",
       "  </thead>\n",
       "  <tbody>\n",
       "    <tr>\n",
       "      <th>0</th>\n",
       "      <td>Betahaus | Coworking Barcelona</td>\n",
       "      <td>Carrer de Vilafranca, 7, Gràcia, 08024 Barcelo...</td>\n",
       "      <td>41.406983</td>\n",
       "      <td>2.156765</td>\n",
       "      <td>NaN</td>\n",
       "      <td>4.8</td>\n",
       "      <td>388</td>\n",
       "    </tr>\n",
       "    <tr>\n",
       "      <th>1</th>\n",
       "      <td>OneCoWork Plaça Catalunya | Barcelona Coworking</td>\n",
       "      <td>Carrer d'Estruc, 9, Ciutat Vella, 08002 Barcel...</td>\n",
       "      <td>41.386887</td>\n",
       "      <td>2.172505</td>\n",
       "      <td>NaN</td>\n",
       "      <td>4.8</td>\n",
       "      <td>310</td>\n",
       "    </tr>\n",
       "    <tr>\n",
       "      <th>2</th>\n",
       "      <td>La Vaca Coworking Barcelona</td>\n",
       "      <td>Carrer de la Creu dels Molers, 19, Sants-Montj...</td>\n",
       "      <td>41.374110</td>\n",
       "      <td>2.161943</td>\n",
       "      <td>NaN</td>\n",
       "      <td>4.8</td>\n",
       "      <td>185</td>\n",
       "    </tr>\n",
       "    <tr>\n",
       "      <th>3</th>\n",
       "      <td>MOB Bailén - Coworking in Barcelona</td>\n",
       "      <td>Carrer de Bailèn, 11, L'Eixample, 08010 Barcel...</td>\n",
       "      <td>41.391740</td>\n",
       "      <td>2.177145</td>\n",
       "      <td>NaN</td>\n",
       "      <td>4.6</td>\n",
       "      <td>204</td>\n",
       "    </tr>\n",
       "    <tr>\n",
       "      <th>4</th>\n",
       "      <td>Kubik Barcelona</td>\n",
       "      <td>Carrer de Luis Antúnez, 6, Gràcia, 08006 Barce...</td>\n",
       "      <td>41.398776</td>\n",
       "      <td>2.155823</td>\n",
       "      <td>NaN</td>\n",
       "      <td>4.7</td>\n",
       "      <td>48</td>\n",
       "    </tr>\n",
       "  </tbody>\n",
       "</table>\n",
       "</div>"
      ],
      "text/plain": [
       "                                              Name  \\\n",
       "0                   Betahaus | Coworking Barcelona   \n",
       "1  OneCoWork Plaça Catalunya | Barcelona Coworking   \n",
       "2                      La Vaca Coworking Barcelona   \n",
       "3              MOB Bailén - Coworking in Barcelona   \n",
       "4                                  Kubik Barcelona   \n",
       "\n",
       "                                             Address   Latitude  Longitude  \\\n",
       "0  Carrer de Vilafranca, 7, Gràcia, 08024 Barcelo...  41.406983   2.156765   \n",
       "1  Carrer d'Estruc, 9, Ciutat Vella, 08002 Barcel...  41.386887   2.172505   \n",
       "2  Carrer de la Creu dels Molers, 19, Sants-Montj...  41.374110   2.161943   \n",
       "3  Carrer de Bailèn, 11, L'Eixample, 08010 Barcel...  41.391740   2.177145   \n",
       "4  Carrer de Luis Antúnez, 6, Gràcia, 08006 Barce...  41.398776   2.155823   \n",
       "\n",
       "   Price Level  Rating  User Rating Count  \n",
       "0          NaN     4.8                388  \n",
       "1          NaN     4.8                310  \n",
       "2          NaN     4.8                185  \n",
       "3          NaN     4.6                204  \n",
       "4          NaN     4.7                 48  "
      ]
     },
     "execution_count": 2,
     "metadata": {},
     "output_type": "execute_result"
    }
   ],
   "source": [
    "import pandas as pd\n",
    "\n",
    "barcelona_places = pd.read_csv('/workspaces/Coworking/src/results/BarcelonaPlaces.csv')\n",
    "\n",
    "barcelona_places.head()"
   ]
  },
  {
   "cell_type": "code",
   "execution_count": 3,
   "metadata": {},
   "outputs": [
    {
     "name": "stdout",
     "output_type": "stream",
     "text": [
      "<class 'pandas.core.frame.DataFrame'>\n",
      "RangeIndex: 20 entries, 0 to 19\n",
      "Data columns (total 7 columns):\n",
      " #   Column             Non-Null Count  Dtype  \n",
      "---  ------             --------------  -----  \n",
      " 0   Name               20 non-null     object \n",
      " 1   Address            20 non-null     object \n",
      " 2   Latitude           20 non-null     float64\n",
      " 3   Longitude          20 non-null     float64\n",
      " 4   Price Level        0 non-null      float64\n",
      " 5   Rating             20 non-null     float64\n",
      " 6   User Rating Count  20 non-null     int64  \n",
      "dtypes: float64(4), int64(1), object(2)\n",
      "memory usage: 1.2+ KB\n"
     ]
    }
   ],
   "source": [
    "barcelona_places.info()"
   ]
  },
  {
   "cell_type": "code",
   "execution_count": 4,
   "metadata": {},
   "outputs": [
    {
     "data": {
      "text/html": [
       "<div>\n",
       "<style scoped>\n",
       "    .dataframe tbody tr th:only-of-type {\n",
       "        vertical-align: middle;\n",
       "    }\n",
       "\n",
       "    .dataframe tbody tr th {\n",
       "        vertical-align: top;\n",
       "    }\n",
       "\n",
       "    .dataframe thead th {\n",
       "        text-align: right;\n",
       "    }\n",
       "</style>\n",
       "<table border=\"1\" class=\"dataframe\">\n",
       "  <thead>\n",
       "    <tr style=\"text-align: right;\">\n",
       "      <th></th>\n",
       "      <th>Latitude</th>\n",
       "      <th>Longitude</th>\n",
       "      <th>Rating</th>\n",
       "      <th>User Rating Count</th>\n",
       "    </tr>\n",
       "  </thead>\n",
       "  <tbody>\n",
       "    <tr>\n",
       "      <th>count</th>\n",
       "      <td>20.000000</td>\n",
       "      <td>20.000000</td>\n",
       "      <td>20.000000</td>\n",
       "      <td>20.000000</td>\n",
       "    </tr>\n",
       "    <tr>\n",
       "      <th>mean</th>\n",
       "      <td>41.391058</td>\n",
       "      <td>2.171884</td>\n",
       "      <td>4.720000</td>\n",
       "      <td>125.850000</td>\n",
       "    </tr>\n",
       "    <tr>\n",
       "      <th>std</th>\n",
       "      <td>0.010716</td>\n",
       "      <td>0.014832</td>\n",
       "      <td>0.223842</td>\n",
       "      <td>102.336532</td>\n",
       "    </tr>\n",
       "    <tr>\n",
       "      <th>min</th>\n",
       "      <td>41.368884</td>\n",
       "      <td>2.151855</td>\n",
       "      <td>4.200000</td>\n",
       "      <td>11.000000</td>\n",
       "    </tr>\n",
       "    <tr>\n",
       "      <th>25%</th>\n",
       "      <td>41.384225</td>\n",
       "      <td>2.158007</td>\n",
       "      <td>4.700000</td>\n",
       "      <td>47.750000</td>\n",
       "    </tr>\n",
       "    <tr>\n",
       "      <th>50%</th>\n",
       "      <td>41.393215</td>\n",
       "      <td>2.172121</td>\n",
       "      <td>4.800000</td>\n",
       "      <td>82.000000</td>\n",
       "    </tr>\n",
       "    <tr>\n",
       "      <th>75%</th>\n",
       "      <td>41.397495</td>\n",
       "      <td>2.177422</td>\n",
       "      <td>4.825000</td>\n",
       "      <td>189.750000</td>\n",
       "    </tr>\n",
       "    <tr>\n",
       "      <th>max</th>\n",
       "      <td>41.409976</td>\n",
       "      <td>2.204478</td>\n",
       "      <td>5.000000</td>\n",
       "      <td>388.000000</td>\n",
       "    </tr>\n",
       "  </tbody>\n",
       "</table>\n",
       "</div>"
      ],
      "text/plain": [
       "        Latitude  Longitude     Rating  User Rating Count\n",
       "count  20.000000  20.000000  20.000000          20.000000\n",
       "mean   41.391058   2.171884   4.720000         125.850000\n",
       "std     0.010716   0.014832   0.223842         102.336532\n",
       "min    41.368884   2.151855   4.200000          11.000000\n",
       "25%    41.384225   2.158007   4.700000          47.750000\n",
       "50%    41.393215   2.172121   4.800000          82.000000\n",
       "75%    41.397495   2.177422   4.825000         189.750000\n",
       "max    41.409976   2.204478   5.000000         388.000000"
      ]
     },
     "execution_count": 4,
     "metadata": {},
     "output_type": "execute_result"
    }
   ],
   "source": [
    "barcelona_places = barcelona_places.drop(columns='Price Level', axis=1)\n",
    "\n",
    "barcelona_places.describe()"
   ]
  },
  {
   "cell_type": "code",
   "execution_count": 6,
   "metadata": {},
   "outputs": [
    {
     "data": {
      "text/plain": [
       "(20, 6)"
      ]
     },
     "execution_count": 6,
     "metadata": {},
     "output_type": "execute_result"
    }
   ],
   "source": [
    "barcelona_places = barcelona_places[barcelona_places['User Rating Count'] != 0]\n",
    "\n",
    "barcelona_places.shape"
   ]
  },
  {
   "cell_type": "code",
   "execution_count": 7,
   "metadata": {},
   "outputs": [
    {
     "name": "stdout",
     "output_type": "stream",
     "text": [
      "✅ Datos guardados en BarcelonaPlaces.csv\n"
     ]
    }
   ],
   "source": [
    "try:\n",
    "    barcelona_places.to_csv('BarcelonaPlaces.csv', index=False, encoding=\"utf-8-sig\")\n",
    "    print(\"✅ Datos guardados en BarcelonaPlaces.csv\")\n",
    "except Exception as e:\n",
    "    print(f\"❌ Error inesperado al guardar el archivo: {e}\")\n",
    "        "
   ]
  }
 ],
 "metadata": {
  "kernelspec": {
   "display_name": "new_venv",
   "language": "python",
   "name": "python3"
  },
  "language_info": {
   "codemirror_mode": {
    "name": "ipython",
    "version": 3
   },
   "file_extension": ".py",
   "mimetype": "text/x-python",
   "name": "python",
   "nbconvert_exporter": "python",
   "pygments_lexer": "ipython3",
   "version": "3.12.1"
  }
 },
 "nbformat": 4,
 "nbformat_minor": 2
}

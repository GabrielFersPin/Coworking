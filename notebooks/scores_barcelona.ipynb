{
 "cells": [
  {
   "cell_type": "code",
   "execution_count": 4,
   "metadata": {},
   "outputs": [
    {
     "name": "stdout",
     "output_type": "stream",
     "text": [
      "File correct exported!\n"
     ]
    },
    {
     "data": {
      "text/html": [
       "<div>\n",
       "<style scoped>\n",
       "    .dataframe tbody tr th:only-of-type {\n",
       "        vertical-align: middle;\n",
       "    }\n",
       "\n",
       "    .dataframe tbody tr th {\n",
       "        vertical-align: top;\n",
       "    }\n",
       "\n",
       "    .dataframe thead th {\n",
       "        text-align: right;\n",
       "    }\n",
       "</style>\n",
       "<table border=\"1\" class=\"dataframe\">\n",
       "  <thead>\n",
       "    <tr style=\"text-align: right;\">\n",
       "      <th></th>\n",
       "      <th>Name</th>\n",
       "      <th>Address</th>\n",
       "      <th>Latitude</th>\n",
       "      <th>Longitude</th>\n",
       "      <th>Rating</th>\n",
       "      <th>User Rating Count</th>\n",
       "    </tr>\n",
       "  </thead>\n",
       "  <tbody>\n",
       "    <tr>\n",
       "      <th>0</th>\n",
       "      <td>Betahaus | Coworking Barcelona</td>\n",
       "      <td>Carrer de Vilafranca, 7, Gràcia, 08024 Barcelo...</td>\n",
       "      <td>41.406983</td>\n",
       "      <td>2.156765</td>\n",
       "      <td>4.8</td>\n",
       "      <td>388</td>\n",
       "    </tr>\n",
       "    <tr>\n",
       "      <th>1</th>\n",
       "      <td>OneCoWork Plaça Catalunya | Barcelona Coworking</td>\n",
       "      <td>Carrer d'Estruc, 9, Ciutat Vella, 08002 Barcel...</td>\n",
       "      <td>41.386887</td>\n",
       "      <td>2.172505</td>\n",
       "      <td>4.8</td>\n",
       "      <td>310</td>\n",
       "    </tr>\n",
       "    <tr>\n",
       "      <th>2</th>\n",
       "      <td>La Vaca Coworking Barcelona</td>\n",
       "      <td>Carrer de la Creu dels Molers, 19, Sants-Montj...</td>\n",
       "      <td>41.374110</td>\n",
       "      <td>2.161943</td>\n",
       "      <td>4.8</td>\n",
       "      <td>185</td>\n",
       "    </tr>\n",
       "    <tr>\n",
       "      <th>3</th>\n",
       "      <td>MOB Bailén - Coworking in Barcelona</td>\n",
       "      <td>Carrer de Bailèn, 11, L'Eixample, 08010 Barcel...</td>\n",
       "      <td>41.391740</td>\n",
       "      <td>2.177145</td>\n",
       "      <td>4.6</td>\n",
       "      <td>204</td>\n",
       "    </tr>\n",
       "    <tr>\n",
       "      <th>4</th>\n",
       "      <td>Kubik Barcelona</td>\n",
       "      <td>Carrer de Luis Antúnez, 6, Gràcia, 08006 Barce...</td>\n",
       "      <td>41.398776</td>\n",
       "      <td>2.155823</td>\n",
       "      <td>4.7</td>\n",
       "      <td>48</td>\n",
       "    </tr>\n",
       "  </tbody>\n",
       "</table>\n",
       "</div>"
      ],
      "text/plain": [
       "                                              Name  \\\n",
       "0                   Betahaus | Coworking Barcelona   \n",
       "1  OneCoWork Plaça Catalunya | Barcelona Coworking   \n",
       "2                      La Vaca Coworking Barcelona   \n",
       "3              MOB Bailén - Coworking in Barcelona   \n",
       "4                                  Kubik Barcelona   \n",
       "\n",
       "                                             Address   Latitude  Longitude  \\\n",
       "0  Carrer de Vilafranca, 7, Gràcia, 08024 Barcelo...  41.406983   2.156765   \n",
       "1  Carrer d'Estruc, 9, Ciutat Vella, 08002 Barcel...  41.386887   2.172505   \n",
       "2  Carrer de la Creu dels Molers, 19, Sants-Montj...  41.374110   2.161943   \n",
       "3  Carrer de Bailèn, 11, L'Eixample, 08010 Barcel...  41.391740   2.177145   \n",
       "4  Carrer de Luis Antúnez, 6, Gràcia, 08006 Barce...  41.398776   2.155823   \n",
       "\n",
       "   Rating  User Rating Count  \n",
       "0     4.8                388  \n",
       "1     4.8                310  \n",
       "2     4.8                185  \n",
       "3     4.6                204  \n",
       "4     4.7                 48  "
      ]
     },
     "execution_count": 4,
     "metadata": {},
     "output_type": "execute_result"
    }
   ],
   "source": [
    "import pandas as pd\n",
    "\n",
    "try:\n",
    "    barcelona_places = pd.read_csv('/workspaces/Coworking/src/results/Barcelona/BarcelonaPlaces.csv')\n",
    "    print('File correct exported!')\n",
    "except Exception as e:\n",
    "    print(f\"❌ Error inesperado al guardar el archivo: {e}\")\n",
    "    \n",
    "barcelona_places.head()"
   ]
  },
  {
   "cell_type": "code",
   "execution_count": 5,
   "metadata": {},
   "outputs": [
    {
     "name": "stdout",
     "output_type": "stream",
     "text": [
      "Place Betahaus | Coworking Barcelona: Score = 0.972\n",
      "Place OneCoWork Plaça Catalunya | Barcelona Coworking: Score = 0.9116907216494845\n",
      "Place La Vaca Coworking Barcelona: Score = 0.8150412371134019\n",
      "Place MOB Bailén - Coworking in Barcelona: Score = 0.8017319587628865\n",
      "Place Kubik Barcelona: Score = 0.6951134020618557\n",
      "Place Meet BCN - Coworking Space in Barcelona: Score = 0.7176185567010308\n",
      "Place The Office Coworking Barcelona: Score = 0.6788762886597939\n",
      "Place Norrsken House Barcelona: Score = 0.722340206185567\n",
      "Place Cowork Rambla Catalunya - Coworking Barcelona: Score = 0.7393505154639176\n",
      "Place OneCoWork Catedral | Barcelona Coworking: Score = 0.8305051546391752\n",
      "Place Coworking space Camaleó: Score = 0.8219175257731959\n",
      "Place Sitandplug: Score = 0.7207938144329897\n",
      "Place Coworking Sant Antoni Barcelona | Fix, Flex y Day Pass: Score = 0.7432989690721649\n",
      "Place Aticco Bailén - Coworking Eixample Dreta: Score = 0.7231958762886598\n",
      "Place The Social Hub Coworking Barcelona Poblenou: Score = 0.7163505154639175\n",
      "Place Barcelona Reial Coworking: Score = 0.6245051546391752\n",
      "Place Coworking Transforma bcn: Score = 0.8096288659793813\n",
      "Place Spaces - Barcelona, Spaces 22 Arroba: Score = 0.6614536082474226\n",
      "Place Wojo Coworking Barcelona Poblenou - Alquiler oficinas y salas de reuniones: Score = 0.7515567010309279\n",
      "Place Sowo Coworking Barcelona: Score = 0.7051649484536082\n"
     ]
    }
   ],
   "source": [
    "def normalize_rating(rating):\n",
    "    # Normalize the rating to a scale of 0 to 1\n",
    "    return rating / 5.0  # Assuming ratings are on a scale of 0 to 5\n",
    "\n",
    "def calculate_score(rating, user_rating_count, rating_weight=0.7, user_rating_count_weight=0.3):\n",
    "    # Normalize rating and user rating count\n",
    "    normalized_rating = normalize_rating(rating)\n",
    "    normalized_user_rating_count = user_rating_count / max_user_rating_count  # Normalize to range [0, 1]\n",
    "\n",
    "    # Calculate weighted sum\n",
    "    score = (rating_weight * normalized_rating) + (user_rating_count_weight * normalized_user_rating_count)\n",
    "    return score\n",
    "\n",
    "ratings = barcelona_places['Rating']\n",
    "user_rating_counts = barcelona_places['User Rating Count']\n",
    "max_user_rating_count = max(user_rating_counts)  # Maximum user rating count\n",
    "\n",
    "# Calculate scores for each place\n",
    "scores = []\n",
    "for rating, user_rating_count in zip(ratings, user_rating_counts):\n",
    "    score = calculate_score(rating, user_rating_count)\n",
    "    scores.append(score)\n",
    "\n",
    "# Print the scores\n",
    "for place_name, score in zip(barcelona_places['Name'], scores):\n",
    "    print(f\"Place {place_name}: Score = {score}\")\n",
    "\n"
   ]
  },
  {
   "cell_type": "code",
   "execution_count": 8,
   "metadata": {},
   "outputs": [
    {
     "name": "stdout",
     "output_type": "stream",
     "text": [
      "                                           Place Name     Score\n",
      "0                      Betahaus | Coworking Barcelona  0.972000\n",
      "1     OneCoWork Plaça Catalunya | Barcelona Coworking  0.911691\n",
      "2                         La Vaca Coworking Barcelona  0.815041\n",
      "3                 MOB Bailén - Coworking in Barcelona  0.801732\n",
      "4                                     Kubik Barcelona  0.695113\n",
      "5             Meet BCN - Coworking Space in Barcelona  0.717619\n",
      "6                      The Office Coworking Barcelona  0.678876\n",
      "7                            Norrsken House Barcelona  0.722340\n",
      "8       Cowork Rambla Catalunya - Coworking Barcelona  0.739351\n",
      "9            OneCoWork Catedral | Barcelona Coworking  0.830505\n",
      "10                            Coworking space Camaleó  0.821918\n",
      "11                                         Sitandplug  0.720794\n",
      "12  Coworking Sant Antoni Barcelona | Fix, Flex y ...  0.743299\n",
      "13           Aticco Bailén - Coworking Eixample Dreta  0.723196\n",
      "14        The Social Hub Coworking Barcelona Poblenou  0.716351\n",
      "15                          Barcelona Reial Coworking  0.624505\n",
      "16                           Coworking Transforma bcn  0.809629\n",
      "17               Spaces - Barcelona, Spaces 22 Arroba  0.661454\n",
      "18  Wojo Coworking Barcelona Poblenou - Alquiler o...  0.751557\n",
      "19                           Sowo Coworking Barcelona  0.705165\n"
     ]
    }
   ],
   "source": [
    "import pandas as pd\n",
    "\n",
    "# Initialize lists to store data\n",
    "place_names = []\n",
    "score_values = []\n",
    "\n",
    "# Iterate over the data and collect into lists\n",
    "for place_name, score in zip(barcelona_places['Name'], scores):\n",
    "    place_names.append(place_name)\n",
    "    score_values.append(score)\n",
    "\n",
    "# Create DataFrame from lists\n",
    "data = {'Place Name': place_names, 'Score': score_values}\n",
    "places_score = pd.DataFrame(data)\n",
    "\n",
    "# Display DataFrame\n",
    "print(places_score)\n"
   ]
  },
  {
   "cell_type": "code",
   "execution_count": 10,
   "metadata": {},
   "outputs": [],
   "source": [
    "places_score.to_csv('/workspaces/Coworking/src/results/Barcelona/PlacesScores.csv', index=False)"
   ]
  },
  {
   "cell_type": "code",
   "execution_count": null,
   "metadata": {},
   "outputs": [
    {
     "name": "stdout",
     "output_type": "stream",
     "text": [
      "Top five places:\n",
      "Betahaus | Coworking Barcelona: Score = 0.972\n",
      "OneCoWork Plaça Catalunya | Barcelona Coworking: Score = 0.9116907216494845\n",
      "OneCoWork Catedral | Barcelona Coworking: Score = 0.8305051546391752\n",
      "Coworking space Camaleó: Score = 0.8219175257731959\n",
      "La Vaca Coworking Barcelona: Score = 0.8150412371134019\n"
     ]
    }
   ],
   "source": [
    "# Combine names and scores into a DataFrame\n",
    "score_df = pd.DataFrame({'name': barcelona_places['Name'], 'score': scores})\n",
    "\n",
    "# Sort the DataFrame by score in descending order\n",
    "sorted_scores = score_df.sort_values(by='score', ascending=False)\n",
    "\n",
    "# Select the top five places\n",
    "top_five = sorted_scores.head(5)\n",
    "\n",
    "# Print the top five places\n",
    "print(\"Top five places:\")\n",
    "for idx, row in top_five.iterrows():\n",
    "    print(f\"{row['name']}: Score = {row['score']}\")\n"
   ]
  },
  {
   "cell_type": "code",
   "execution_count": null,
   "metadata": {},
   "outputs": [],
   "source": []
  }
 ],
 "metadata": {
  "kernelspec": {
   "display_name": "new_venv",
   "language": "python",
   "name": "python3"
  },
  "language_info": {
   "codemirror_mode": {
    "name": "ipython",
    "version": 3
   },
   "file_extension": ".py",
   "mimetype": "text/x-python",
   "name": "python",
   "nbconvert_exporter": "python",
   "pygments_lexer": "ipython3",
   "version": "3.12.1"
  }
 },
 "nbformat": 4,
 "nbformat_minor": 2
}

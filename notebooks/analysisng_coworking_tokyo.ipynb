{
 "cells": [
  {
   "cell_type": "markdown",
   "metadata": {},
   "source": [
    "# Analyzing coworking space in Tokyo."
   ]
  },
  {
   "cell_type": "code",
   "execution_count": 1,
   "metadata": {},
   "outputs": [
    {
     "data": {
      "text/html": [
       "<div>\n",
       "<style scoped>\n",
       "    .dataframe tbody tr th:only-of-type {\n",
       "        vertical-align: middle;\n",
       "    }\n",
       "\n",
       "    .dataframe tbody tr th {\n",
       "        vertical-align: top;\n",
       "    }\n",
       "\n",
       "    .dataframe thead th {\n",
       "        text-align: right;\n",
       "    }\n",
       "</style>\n",
       "<table border=\"1\" class=\"dataframe\">\n",
       "  <thead>\n",
       "    <tr style=\"text-align: right;\">\n",
       "      <th></th>\n",
       "      <th>Name</th>\n",
       "      <th>Address</th>\n",
       "      <th>Latitude</th>\n",
       "      <th>Longitude</th>\n",
       "      <th>Price Level</th>\n",
       "      <th>Rating</th>\n",
       "      <th>User Rating Count</th>\n",
       "    </tr>\n",
       "  </thead>\n",
       "  <tbody>\n",
       "    <tr>\n",
       "      <th>0</th>\n",
       "      <td>WeWork Shibuya Scramble Square</td>\n",
       "      <td>39F, Shibuya-ku, ２丁目-２４-12 渋谷 渋谷区 東京都 150-6139...</td>\n",
       "      <td>35.658411</td>\n",
       "      <td>139.702241</td>\n",
       "      <td>NaN</td>\n",
       "      <td>4.2</td>\n",
       "      <td>82</td>\n",
       "    </tr>\n",
       "    <tr>\n",
       "      <th>1</th>\n",
       "      <td>Tokyo Chapter - ninetytwo13</td>\n",
       "      <td>9-chōme-2-13 Akasaka, Minato City, Tokyo 107-0...</td>\n",
       "      <td>35.668048</td>\n",
       "      <td>139.732122</td>\n",
       "      <td>NaN</td>\n",
       "      <td>4.4</td>\n",
       "      <td>25</td>\n",
       "    </tr>\n",
       "    <tr>\n",
       "      <th>2</th>\n",
       "      <td>.andwork shibuya</td>\n",
       "      <td>Japan, 〒150-0041 Tokyo, Shibuya, Jinnan, 1-chō...</td>\n",
       "      <td>35.662215</td>\n",
       "      <td>139.699634</td>\n",
       "      <td>NaN</td>\n",
       "      <td>4.0</td>\n",
       "      <td>28</td>\n",
       "    </tr>\n",
       "    <tr>\n",
       "      <th>3</th>\n",
       "      <td>CASE Shinjuku</td>\n",
       "      <td>Japan, 〒169-0075 Tokyo, Shinjuku City, Takadan...</td>\n",
       "      <td>35.712093</td>\n",
       "      <td>139.704739</td>\n",
       "      <td>NaN</td>\n",
       "      <td>4.3</td>\n",
       "      <td>65</td>\n",
       "    </tr>\n",
       "    <tr>\n",
       "      <th>4</th>\n",
       "      <td>WeWork TOKYO SQUARE GARDEN</td>\n",
       "      <td>14F, ３丁目-１-1 京橋 中央区 東京都 104-0031, Japan</td>\n",
       "      <td>35.676115</td>\n",
       "      <td>139.768664</td>\n",
       "      <td>NaN</td>\n",
       "      <td>4.2</td>\n",
       "      <td>43</td>\n",
       "    </tr>\n",
       "  </tbody>\n",
       "</table>\n",
       "</div>"
      ],
      "text/plain": [
       "                             Name  \\\n",
       "0  WeWork Shibuya Scramble Square   \n",
       "1     Tokyo Chapter - ninetytwo13   \n",
       "2                .andwork shibuya   \n",
       "3                   CASE Shinjuku   \n",
       "4      WeWork TOKYO SQUARE GARDEN   \n",
       "\n",
       "                                             Address   Latitude   Longitude  \\\n",
       "0  39F, Shibuya-ku, ２丁目-２４-12 渋谷 渋谷区 東京都 150-6139...  35.658411  139.702241   \n",
       "1  9-chōme-2-13 Akasaka, Minato City, Tokyo 107-0...  35.668048  139.732122   \n",
       "2  Japan, 〒150-0041 Tokyo, Shibuya, Jinnan, 1-chō...  35.662215  139.699634   \n",
       "3  Japan, 〒169-0075 Tokyo, Shinjuku City, Takadan...  35.712093  139.704739   \n",
       "4            14F, ３丁目-１-1 京橋 中央区 東京都 104-0031, Japan  35.676115  139.768664   \n",
       "\n",
       "   Price Level  Rating  User Rating Count  \n",
       "0          NaN     4.2                 82  \n",
       "1          NaN     4.4                 25  \n",
       "2          NaN     4.0                 28  \n",
       "3          NaN     4.3                 65  \n",
       "4          NaN     4.2                 43  "
      ]
     },
     "execution_count": 1,
     "metadata": {},
     "output_type": "execute_result"
    }
   ],
   "source": [
    "import pandas as pd\n",
    "\n",
    "barcelona_places = pd.read_csv('/workspaces/Coworking/src/results/Tokyo/TokyoPLaces.csv')\n",
    "\n",
    "barcelona_places.head()"
   ]
  },
  {
   "cell_type": "code",
   "execution_count": 2,
   "metadata": {},
   "outputs": [
    {
     "name": "stdout",
     "output_type": "stream",
     "text": [
      "<class 'pandas.core.frame.DataFrame'>\n",
      "RangeIndex: 20 entries, 0 to 19\n",
      "Data columns (total 7 columns):\n",
      " #   Column             Non-Null Count  Dtype  \n",
      "---  ------             --------------  -----  \n",
      " 0   Name               20 non-null     object \n",
      " 1   Address            20 non-null     object \n",
      " 2   Latitude           20 non-null     float64\n",
      " 3   Longitude          20 non-null     float64\n",
      " 4   Price Level        0 non-null      float64\n",
      " 5   Rating             20 non-null     float64\n",
      " 6   User Rating Count  20 non-null     int64  \n",
      "dtypes: float64(4), int64(1), object(2)\n",
      "memory usage: 1.2+ KB\n"
     ]
    }
   ],
   "source": [
    "barcelona_places.info()"
   ]
  },
  {
   "cell_type": "code",
   "execution_count": 3,
   "metadata": {},
   "outputs": [
    {
     "data": {
      "text/html": [
       "<div>\n",
       "<style scoped>\n",
       "    .dataframe tbody tr th:only-of-type {\n",
       "        vertical-align: middle;\n",
       "    }\n",
       "\n",
       "    .dataframe tbody tr th {\n",
       "        vertical-align: top;\n",
       "    }\n",
       "\n",
       "    .dataframe thead th {\n",
       "        text-align: right;\n",
       "    }\n",
       "</style>\n",
       "<table border=\"1\" class=\"dataframe\">\n",
       "  <thead>\n",
       "    <tr style=\"text-align: right;\">\n",
       "      <th></th>\n",
       "      <th>Latitude</th>\n",
       "      <th>Longitude</th>\n",
       "      <th>Rating</th>\n",
       "      <th>User Rating Count</th>\n",
       "    </tr>\n",
       "  </thead>\n",
       "  <tbody>\n",
       "    <tr>\n",
       "      <th>count</th>\n",
       "      <td>20.000000</td>\n",
       "      <td>20.000000</td>\n",
       "      <td>20.000000</td>\n",
       "      <td>20.00000</td>\n",
       "    </tr>\n",
       "    <tr>\n",
       "      <th>mean</th>\n",
       "      <td>35.672721</td>\n",
       "      <td>139.718120</td>\n",
       "      <td>4.395000</td>\n",
       "      <td>88.35000</td>\n",
       "    </tr>\n",
       "    <tr>\n",
       "      <th>std</th>\n",
       "      <td>0.028017</td>\n",
       "      <td>0.042337</td>\n",
       "      <td>0.318673</td>\n",
       "      <td>80.57966</td>\n",
       "    </tr>\n",
       "    <tr>\n",
       "      <th>min</th>\n",
       "      <td>35.624772</td>\n",
       "      <td>139.600860</td>\n",
       "      <td>4.000000</td>\n",
       "      <td>13.00000</td>\n",
       "    </tr>\n",
       "    <tr>\n",
       "      <th>25%</th>\n",
       "      <td>35.658359</td>\n",
       "      <td>139.702733</td>\n",
       "      <td>4.175000</td>\n",
       "      <td>41.50000</td>\n",
       "    </tr>\n",
       "    <tr>\n",
       "      <th>50%</th>\n",
       "      <td>35.666587</td>\n",
       "      <td>139.708788</td>\n",
       "      <td>4.300000</td>\n",
       "      <td>62.50000</td>\n",
       "    </tr>\n",
       "    <tr>\n",
       "      <th>75%</th>\n",
       "      <td>35.693671</td>\n",
       "      <td>139.734410</td>\n",
       "      <td>4.625000</td>\n",
       "      <td>92.25000</td>\n",
       "    </tr>\n",
       "    <tr>\n",
       "      <th>max</th>\n",
       "      <td>35.732627</td>\n",
       "      <td>139.802646</td>\n",
       "      <td>4.900000</td>\n",
       "      <td>328.00000</td>\n",
       "    </tr>\n",
       "  </tbody>\n",
       "</table>\n",
       "</div>"
      ],
      "text/plain": [
       "        Latitude   Longitude     Rating  User Rating Count\n",
       "count  20.000000   20.000000  20.000000           20.00000\n",
       "mean   35.672721  139.718120   4.395000           88.35000\n",
       "std     0.028017    0.042337   0.318673           80.57966\n",
       "min    35.624772  139.600860   4.000000           13.00000\n",
       "25%    35.658359  139.702733   4.175000           41.50000\n",
       "50%    35.666587  139.708788   4.300000           62.50000\n",
       "75%    35.693671  139.734410   4.625000           92.25000\n",
       "max    35.732627  139.802646   4.900000          328.00000"
      ]
     },
     "execution_count": 3,
     "metadata": {},
     "output_type": "execute_result"
    }
   ],
   "source": [
    "barcelona_places = barcelona_places.drop(columns='Price Level', axis=1)\n",
    "\n",
    "barcelona_places.describe()"
   ]
  },
  {
   "cell_type": "code",
   "execution_count": 4,
   "metadata": {},
   "outputs": [
    {
     "data": {
      "text/plain": [
       "(20, 6)"
      ]
     },
     "execution_count": 4,
     "metadata": {},
     "output_type": "execute_result"
    }
   ],
   "source": [
    "barcelona_places = barcelona_places[barcelona_places['User Rating Count'] != 0]\n",
    "\n",
    "barcelona_places.shape"
   ]
  },
  {
   "cell_type": "code",
   "execution_count": 5,
   "metadata": {},
   "outputs": [
    {
     "name": "stdout",
     "output_type": "stream",
     "text": [
      "✅ Datos guardados en TokyoPLaces.csv\n"
     ]
    }
   ],
   "source": [
    "try:\n",
    "    barcelona_places.to_csv('TokyoPLaces.csv', index=False, encoding=\"utf-8-sig\")\n",
    "    print(\"✅ Datos guardados en TokyoPLaces.csv\")\n",
    "except Exception as e:\n",
    "    print(f\"❌ Error inesperado al guardar el archivo: {e}\")\n",
    "        "
   ]
  }
 ],
 "metadata": {
  "kernelspec": {
   "display_name": "new_venv",
   "language": "python",
   "name": "python3"
  },
  "language_info": {
   "codemirror_mode": {
    "name": "ipython",
    "version": 3
   },
   "file_extension": ".py",
   "mimetype": "text/x-python",
   "name": "python",
   "nbconvert_exporter": "python",
   "pygments_lexer": "ipython3",
   "version": "3.12.1"
  }
 },
 "nbformat": 4,
 "nbformat_minor": 2
}

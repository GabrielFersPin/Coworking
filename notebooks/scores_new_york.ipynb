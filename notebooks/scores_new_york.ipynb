{
 "cells": [
  {
   "cell_type": "code",
   "execution_count": 2,
   "metadata": {},
   "outputs": [
    {
     "name": "stdout",
     "output_type": "stream",
     "text": [
      "File correct exported!\n"
     ]
    },
    {
     "data": {
      "text/html": [
       "<div>\n",
       "<style scoped>\n",
       "    .dataframe tbody tr th:only-of-type {\n",
       "        vertical-align: middle;\n",
       "    }\n",
       "\n",
       "    .dataframe tbody tr th {\n",
       "        vertical-align: top;\n",
       "    }\n",
       "\n",
       "    .dataframe thead th {\n",
       "        text-align: right;\n",
       "    }\n",
       "</style>\n",
       "<table border=\"1\" class=\"dataframe\">\n",
       "  <thead>\n",
       "    <tr style=\"text-align: right;\">\n",
       "      <th></th>\n",
       "      <th>Name</th>\n",
       "      <th>Address</th>\n",
       "      <th>Latitude</th>\n",
       "      <th>Longitude</th>\n",
       "      <th>Price Level</th>\n",
       "      <th>Rating</th>\n",
       "      <th>User Rating Count</th>\n",
       "    </tr>\n",
       "  </thead>\n",
       "  <tbody>\n",
       "    <tr>\n",
       "      <th>0</th>\n",
       "      <td>WORKVILLE - Flexible Office Space, Conference ...</td>\n",
       "      <td>1412 Broadway 21st Floor, New York, NY 10018, USA</td>\n",
       "      <td>40.753615</td>\n",
       "      <td>-73.986561</td>\n",
       "      <td>NaN</td>\n",
       "      <td>5.0</td>\n",
       "      <td>349</td>\n",
       "    </tr>\n",
       "    <tr>\n",
       "      <th>1</th>\n",
       "      <td>The Farm SoHo NYC - Coworking Office Space and...</td>\n",
       "      <td>447 Broadway 2nd floor, New York, NY 10013, USA</td>\n",
       "      <td>40.720573</td>\n",
       "      <td>-74.001415</td>\n",
       "      <td>NaN</td>\n",
       "      <td>4.5</td>\n",
       "      <td>257</td>\n",
       "    </tr>\n",
       "    <tr>\n",
       "      <th>2</th>\n",
       "      <td>Nomadworks</td>\n",
       "      <td>1216 Broadway, New York, NY 10001, USA</td>\n",
       "      <td>40.746495</td>\n",
       "      <td>-73.988261</td>\n",
       "      <td>NaN</td>\n",
       "      <td>4.5</td>\n",
       "      <td>182</td>\n",
       "    </tr>\n",
       "    <tr>\n",
       "      <th>3</th>\n",
       "      <td>Rise New York</td>\n",
       "      <td>43 W 23rd St, New York, NY 10010, USA</td>\n",
       "      <td>40.742465</td>\n",
       "      <td>-73.991176</td>\n",
       "      <td>NaN</td>\n",
       "      <td>4.7</td>\n",
       "      <td>258</td>\n",
       "    </tr>\n",
       "    <tr>\n",
       "      <th>4</th>\n",
       "      <td>Coworking @ Industry City</td>\n",
       "      <td>237 36th St, Brooklyn, NY 11232, USA</td>\n",
       "      <td>40.656528</td>\n",
       "      <td>-74.007756</td>\n",
       "      <td>NaN</td>\n",
       "      <td>4.8</td>\n",
       "      <td>65</td>\n",
       "    </tr>\n",
       "  </tbody>\n",
       "</table>\n",
       "</div>"
      ],
      "text/plain": [
       "                                                Name  \\\n",
       "0  WORKVILLE - Flexible Office Space, Conference ...   \n",
       "1  The Farm SoHo NYC - Coworking Office Space and...   \n",
       "2                                         Nomadworks   \n",
       "3                                      Rise New York   \n",
       "4                          Coworking @ Industry City   \n",
       "\n",
       "                                             Address   Latitude  Longitude  \\\n",
       "0  1412 Broadway 21st Floor, New York, NY 10018, USA  40.753615 -73.986561   \n",
       "1    447 Broadway 2nd floor, New York, NY 10013, USA  40.720573 -74.001415   \n",
       "2             1216 Broadway, New York, NY 10001, USA  40.746495 -73.988261   \n",
       "3              43 W 23rd St, New York, NY 10010, USA  40.742465 -73.991176   \n",
       "4               237 36th St, Brooklyn, NY 11232, USA  40.656528 -74.007756   \n",
       "\n",
       "   Price Level  Rating  User Rating Count  \n",
       "0          NaN     5.0                349  \n",
       "1          NaN     4.5                257  \n",
       "2          NaN     4.5                182  \n",
       "3          NaN     4.7                258  \n",
       "4          NaN     4.8                 65  "
      ]
     },
     "execution_count": 2,
     "metadata": {},
     "output_type": "execute_result"
    }
   ],
   "source": [
    "import pandas as pd\n",
    "\n",
    "try:\n",
    "    NewYork_places = pd.read_csv('/workspaces/Coworking/src/results/New York/New_York_Places.csv')\n",
    "    print('File correct exported!')\n",
    "except Exception as e:\n",
    "    print(f\"❌ Error inesperado al guardar el archivo: {e}\")\n",
    "    \n",
    "NewYork_places.head()"
   ]
  },
  {
   "cell_type": "code",
   "execution_count": null,
   "metadata": {},
   "outputs": [],
   "source": []
  }
 ],
 "metadata": {
  "kernelspec": {
   "display_name": "new_venv",
   "language": "python",
   "name": "python3"
  },
  "language_info": {
   "codemirror_mode": {
    "name": "ipython",
    "version": 3
   },
   "file_extension": ".py",
   "mimetype": "text/x-python",
   "name": "python",
   "nbconvert_exporter": "python",
   "pygments_lexer": "ipython3",
   "version": "3.12.1"
  }
 },
 "nbformat": 4,
 "nbformat_minor": 2
}

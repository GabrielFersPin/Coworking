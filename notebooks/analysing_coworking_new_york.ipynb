{
 "cells": [
  {
   "cell_type": "markdown",
   "metadata": {},
   "source": [
    "# Analyzing coworking space in NYC."
   ]
  },
  {
   "cell_type": "code",
   "execution_count": 1,
   "metadata": {},
   "outputs": [
    {
     "data": {
      "text/html": [
       "<div>\n",
       "<style scoped>\n",
       "    .dataframe tbody tr th:only-of-type {\n",
       "        vertical-align: middle;\n",
       "    }\n",
       "\n",
       "    .dataframe tbody tr th {\n",
       "        vertical-align: top;\n",
       "    }\n",
       "\n",
       "    .dataframe thead th {\n",
       "        text-align: right;\n",
       "    }\n",
       "</style>\n",
       "<table border=\"1\" class=\"dataframe\">\n",
       "  <thead>\n",
       "    <tr style=\"text-align: right;\">\n",
       "      <th></th>\n",
       "      <th>Name</th>\n",
       "      <th>Address</th>\n",
       "      <th>Latitude</th>\n",
       "      <th>Longitude</th>\n",
       "      <th>Price Level</th>\n",
       "      <th>Rating</th>\n",
       "      <th>User Rating Count</th>\n",
       "    </tr>\n",
       "  </thead>\n",
       "  <tbody>\n",
       "    <tr>\n",
       "      <th>0</th>\n",
       "      <td>WORKVILLE - Flexible Office Space, Conference ...</td>\n",
       "      <td>1412 Broadway 21st Floor, New York, NY 10018, USA</td>\n",
       "      <td>40.753615</td>\n",
       "      <td>-73.986561</td>\n",
       "      <td>NaN</td>\n",
       "      <td>5.0</td>\n",
       "      <td>349</td>\n",
       "    </tr>\n",
       "    <tr>\n",
       "      <th>1</th>\n",
       "      <td>The Farm SoHo NYC - Coworking Office Space and...</td>\n",
       "      <td>447 Broadway 2nd floor, New York, NY 10013, USA</td>\n",
       "      <td>40.720573</td>\n",
       "      <td>-74.001415</td>\n",
       "      <td>NaN</td>\n",
       "      <td>4.5</td>\n",
       "      <td>257</td>\n",
       "    </tr>\n",
       "    <tr>\n",
       "      <th>2</th>\n",
       "      <td>Nomadworks</td>\n",
       "      <td>1216 Broadway, New York, NY 10001, USA</td>\n",
       "      <td>40.746495</td>\n",
       "      <td>-73.988261</td>\n",
       "      <td>NaN</td>\n",
       "      <td>4.5</td>\n",
       "      <td>182</td>\n",
       "    </tr>\n",
       "    <tr>\n",
       "      <th>3</th>\n",
       "      <td>Rise New York</td>\n",
       "      <td>43 W 23rd St, New York, NY 10010, USA</td>\n",
       "      <td>40.742465</td>\n",
       "      <td>-73.991176</td>\n",
       "      <td>NaN</td>\n",
       "      <td>4.7</td>\n",
       "      <td>258</td>\n",
       "    </tr>\n",
       "    <tr>\n",
       "      <th>4</th>\n",
       "      <td>Coworking @ Industry City</td>\n",
       "      <td>237 36th St, Brooklyn, NY 11232, USA</td>\n",
       "      <td>40.656528</td>\n",
       "      <td>-74.007756</td>\n",
       "      <td>NaN</td>\n",
       "      <td>4.8</td>\n",
       "      <td>65</td>\n",
       "    </tr>\n",
       "  </tbody>\n",
       "</table>\n",
       "</div>"
      ],
      "text/plain": [
       "                                                Name  \\\n",
       "0  WORKVILLE - Flexible Office Space, Conference ...   \n",
       "1  The Farm SoHo NYC - Coworking Office Space and...   \n",
       "2                                         Nomadworks   \n",
       "3                                      Rise New York   \n",
       "4                          Coworking @ Industry City   \n",
       "\n",
       "                                             Address   Latitude  Longitude  \\\n",
       "0  1412 Broadway 21st Floor, New York, NY 10018, USA  40.753615 -73.986561   \n",
       "1    447 Broadway 2nd floor, New York, NY 10013, USA  40.720573 -74.001415   \n",
       "2             1216 Broadway, New York, NY 10001, USA  40.746495 -73.988261   \n",
       "3              43 W 23rd St, New York, NY 10010, USA  40.742465 -73.991176   \n",
       "4               237 36th St, Brooklyn, NY 11232, USA  40.656528 -74.007756   \n",
       "\n",
       "   Price Level  Rating  User Rating Count  \n",
       "0          NaN     5.0                349  \n",
       "1          NaN     4.5                257  \n",
       "2          NaN     4.5                182  \n",
       "3          NaN     4.7                258  \n",
       "4          NaN     4.8                 65  "
      ]
     },
     "execution_count": 1,
     "metadata": {},
     "output_type": "execute_result"
    }
   ],
   "source": [
    "import pandas as pd\n",
    "\n",
    "barcelona_places = pd.read_csv('/workspaces/Coworking/src/results/New York/New_York_Places.csv')\n",
    "\n",
    "barcelona_places.head()"
   ]
  },
  {
   "cell_type": "code",
   "execution_count": 2,
   "metadata": {},
   "outputs": [
    {
     "name": "stdout",
     "output_type": "stream",
     "text": [
      "<class 'pandas.core.frame.DataFrame'>\n",
      "RangeIndex: 20 entries, 0 to 19\n",
      "Data columns (total 7 columns):\n",
      " #   Column             Non-Null Count  Dtype  \n",
      "---  ------             --------------  -----  \n",
      " 0   Name               20 non-null     object \n",
      " 1   Address            20 non-null     object \n",
      " 2   Latitude           20 non-null     float64\n",
      " 3   Longitude          20 non-null     float64\n",
      " 4   Price Level        0 non-null      float64\n",
      " 5   Rating             20 non-null     float64\n",
      " 6   User Rating Count  20 non-null     int64  \n",
      "dtypes: float64(4), int64(1), object(2)\n",
      "memory usage: 1.2+ KB\n"
     ]
    }
   ],
   "source": [
    "barcelona_places.info()"
   ]
  },
  {
   "cell_type": "code",
   "execution_count": 3,
   "metadata": {},
   "outputs": [
    {
     "data": {
      "text/html": [
       "<div>\n",
       "<style scoped>\n",
       "    .dataframe tbody tr th:only-of-type {\n",
       "        vertical-align: middle;\n",
       "    }\n",
       "\n",
       "    .dataframe tbody tr th {\n",
       "        vertical-align: top;\n",
       "    }\n",
       "\n",
       "    .dataframe thead th {\n",
       "        text-align: right;\n",
       "    }\n",
       "</style>\n",
       "<table border=\"1\" class=\"dataframe\">\n",
       "  <thead>\n",
       "    <tr style=\"text-align: right;\">\n",
       "      <th></th>\n",
       "      <th>Latitude</th>\n",
       "      <th>Longitude</th>\n",
       "      <th>Rating</th>\n",
       "      <th>User Rating Count</th>\n",
       "    </tr>\n",
       "  </thead>\n",
       "  <tbody>\n",
       "    <tr>\n",
       "      <th>count</th>\n",
       "      <td>20.000000</td>\n",
       "      <td>20.000000</td>\n",
       "      <td>20.00000</td>\n",
       "      <td>20.000000</td>\n",
       "    </tr>\n",
       "    <tr>\n",
       "      <th>mean</th>\n",
       "      <td>40.730629</td>\n",
       "      <td>-73.988087</td>\n",
       "      <td>4.75000</td>\n",
       "      <td>114.050000</td>\n",
       "    </tr>\n",
       "    <tr>\n",
       "      <th>std</th>\n",
       "      <td>0.029097</td>\n",
       "      <td>0.020540</td>\n",
       "      <td>0.19868</td>\n",
       "      <td>87.243443</td>\n",
       "    </tr>\n",
       "    <tr>\n",
       "      <th>min</th>\n",
       "      <td>40.656528</td>\n",
       "      <td>-74.013169</td>\n",
       "      <td>4.40000</td>\n",
       "      <td>26.000000</td>\n",
       "    </tr>\n",
       "    <tr>\n",
       "      <th>25%</th>\n",
       "      <td>40.711453</td>\n",
       "      <td>-74.003000</td>\n",
       "      <td>4.57500</td>\n",
       "      <td>55.750000</td>\n",
       "    </tr>\n",
       "    <tr>\n",
       "      <th>50%</th>\n",
       "      <td>40.731733</td>\n",
       "      <td>-73.989537</td>\n",
       "      <td>4.75000</td>\n",
       "      <td>80.500000</td>\n",
       "    </tr>\n",
       "    <tr>\n",
       "      <th>75%</th>\n",
       "      <td>40.753412</td>\n",
       "      <td>-73.979386</td>\n",
       "      <td>4.90000</td>\n",
       "      <td>135.000000</td>\n",
       "    </tr>\n",
       "    <tr>\n",
       "      <th>max</th>\n",
       "      <td>40.779457</td>\n",
       "      <td>-73.938367</td>\n",
       "      <td>5.00000</td>\n",
       "      <td>349.000000</td>\n",
       "    </tr>\n",
       "  </tbody>\n",
       "</table>\n",
       "</div>"
      ],
      "text/plain": [
       "        Latitude  Longitude    Rating  User Rating Count\n",
       "count  20.000000  20.000000  20.00000          20.000000\n",
       "mean   40.730629 -73.988087   4.75000         114.050000\n",
       "std     0.029097   0.020540   0.19868          87.243443\n",
       "min    40.656528 -74.013169   4.40000          26.000000\n",
       "25%    40.711453 -74.003000   4.57500          55.750000\n",
       "50%    40.731733 -73.989537   4.75000          80.500000\n",
       "75%    40.753412 -73.979386   4.90000         135.000000\n",
       "max    40.779457 -73.938367   5.00000         349.000000"
      ]
     },
     "execution_count": 3,
     "metadata": {},
     "output_type": "execute_result"
    }
   ],
   "source": [
    "barcelona_places = barcelona_places.drop(columns='Price Level', axis=1)\n",
    "\n",
    "barcelona_places.describe()"
   ]
  },
  {
   "cell_type": "code",
   "execution_count": 4,
   "metadata": {},
   "outputs": [
    {
     "data": {
      "text/plain": [
       "(20, 6)"
      ]
     },
     "execution_count": 4,
     "metadata": {},
     "output_type": "execute_result"
    }
   ],
   "source": [
    "barcelona_places = barcelona_places[barcelona_places['User Rating Count'] != 0]\n",
    "\n",
    "barcelona_places.shape"
   ]
  },
  {
   "cell_type": "code",
   "execution_count": 5,
   "metadata": {},
   "outputs": [
    {
     "name": "stdout",
     "output_type": "stream",
     "text": [
      "✅ Datos guardados en NYC_Places.csv\n"
     ]
    }
   ],
   "source": [
    "try:\n",
    "    barcelona_places.to_csv('NYC_PLaces.csv', index=False, encoding=\"utf-8-sig\")\n",
    "    print(\"✅ Datos guardados en NYC_Places.csv\")\n",
    "except Exception as e:\n",
    "    print(f\"❌ Error inesperado al guardar el archivo: {e}\")\n",
    "        "
   ]
  }
 ],
 "metadata": {
  "kernelspec": {
   "display_name": "new_venv",
   "language": "python",
   "name": "python3"
  },
  "language_info": {
   "codemirror_mode": {
    "name": "ipython",
    "version": 3
   },
   "file_extension": ".py",
   "mimetype": "text/x-python",
   "name": "python",
   "nbconvert_exporter": "python",
   "pygments_lexer": "ipython3",
   "version": "3.12.1"
  }
 },
 "nbformat": 4,
 "nbformat_minor": 2
}

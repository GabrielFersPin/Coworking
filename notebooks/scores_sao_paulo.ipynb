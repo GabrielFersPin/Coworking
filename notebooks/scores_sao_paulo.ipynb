{
 "cells": [
  {
   "cell_type": "markdown",
   "metadata": {},
   "source": [
    "# Create a score for each place based on the rating count and the rate of each."
   ]
  },
  {
   "cell_type": "code",
   "execution_count": 1,
   "metadata": {},
   "outputs": [
    {
     "name": "stdout",
     "output_type": "stream",
     "text": [
      "File correct exported!\n"
     ]
    },
    {
     "data": {
      "text/html": [
       "<div>\n",
       "<style scoped>\n",
       "    .dataframe tbody tr th:only-of-type {\n",
       "        vertical-align: middle;\n",
       "    }\n",
       "\n",
       "    .dataframe tbody tr th {\n",
       "        vertical-align: top;\n",
       "    }\n",
       "\n",
       "    .dataframe thead th {\n",
       "        text-align: right;\n",
       "    }\n",
       "</style>\n",
       "<table border=\"1\" class=\"dataframe\">\n",
       "  <thead>\n",
       "    <tr style=\"text-align: right;\">\n",
       "      <th></th>\n",
       "      <th>Name</th>\n",
       "      <th>Address</th>\n",
       "      <th>Latitude</th>\n",
       "      <th>Longitude</th>\n",
       "      <th>Price Level</th>\n",
       "      <th>Rating</th>\n",
       "      <th>User Rating Count</th>\n",
       "    </tr>\n",
       "  </thead>\n",
       "  <tbody>\n",
       "    <tr>\n",
       "      <th>0</th>\n",
       "      <td>Coworka - Endereço Fiscal, Comercial, Virtual ...</td>\n",
       "      <td>Avenida Paulista 1471 conjunto 1110 ou - R. Sa...</td>\n",
       "      <td>-23.562675</td>\n",
       "      <td>-46.655889</td>\n",
       "      <td>NaN</td>\n",
       "      <td>5.0</td>\n",
       "      <td>1387</td>\n",
       "    </tr>\n",
       "    <tr>\n",
       "      <th>1</th>\n",
       "      <td>iSpaces Coworking - São Paulo</td>\n",
       "      <td>Ed. Praça Pamplona - R. Pamplona, 145 - sala 1...</td>\n",
       "      <td>-23.560195</td>\n",
       "      <td>-46.651412</td>\n",
       "      <td>NaN</td>\n",
       "      <td>5.0</td>\n",
       "      <td>37</td>\n",
       "    </tr>\n",
       "    <tr>\n",
       "      <th>2</th>\n",
       "      <td>Coworking Higienopolis</td>\n",
       "      <td>Tv. Dona Paula, 13 - Higienópolis, São Paulo -...</td>\n",
       "      <td>-23.552143</td>\n",
       "      <td>-46.659721</td>\n",
       "      <td>NaN</td>\n",
       "      <td>4.8</td>\n",
       "      <td>226</td>\n",
       "    </tr>\n",
       "    <tr>\n",
       "      <th>3</th>\n",
       "      <td>WeWork Sala Comercial &amp; Coworking</td>\n",
       "      <td>Avenida Paulista, 1374 Andares 4, 5, 6 - 11 e ...</td>\n",
       "      <td>-23.562913</td>\n",
       "      <td>-46.654443</td>\n",
       "      <td>NaN</td>\n",
       "      <td>4.7</td>\n",
       "      <td>945</td>\n",
       "    </tr>\n",
       "    <tr>\n",
       "      <th>4</th>\n",
       "      <td>Google Campus São Paulo</td>\n",
       "      <td>Rua Coronel Oscar Porto, 70 - Paraíso, São Pau...</td>\n",
       "      <td>-23.570991</td>\n",
       "      <td>-46.649886</td>\n",
       "      <td>PRICE_LEVEL_MODERATE</td>\n",
       "      <td>4.8</td>\n",
       "      <td>4518</td>\n",
       "    </tr>\n",
       "  </tbody>\n",
       "</table>\n",
       "</div>"
      ],
      "text/plain": [
       "                                                Name  \\\n",
       "0  Coworka - Endereço Fiscal, Comercial, Virtual ...   \n",
       "1                      iSpaces Coworking - São Paulo   \n",
       "2                             Coworking Higienopolis   \n",
       "3                  WeWork Sala Comercial & Coworking   \n",
       "4                            Google Campus São Paulo   \n",
       "\n",
       "                                             Address   Latitude  Longitude  \\\n",
       "0  Avenida Paulista 1471 conjunto 1110 ou - R. Sa... -23.562675 -46.655889   \n",
       "1  Ed. Praça Pamplona - R. Pamplona, 145 - sala 1... -23.560195 -46.651412   \n",
       "2  Tv. Dona Paula, 13 - Higienópolis, São Paulo -... -23.552143 -46.659721   \n",
       "3  Avenida Paulista, 1374 Andares 4, 5, 6 - 11 e ... -23.562913 -46.654443   \n",
       "4  Rua Coronel Oscar Porto, 70 - Paraíso, São Pau... -23.570991 -46.649886   \n",
       "\n",
       "            Price Level  Rating  User Rating Count  \n",
       "0                   NaN     5.0               1387  \n",
       "1                   NaN     5.0                 37  \n",
       "2                   NaN     4.8                226  \n",
       "3                   NaN     4.7                945  \n",
       "4  PRICE_LEVEL_MODERATE     4.8               4518  "
      ]
     },
     "execution_count": 1,
     "metadata": {},
     "output_type": "execute_result"
    }
   ],
   "source": [
    "import pandas as pd\n",
    "\n",
    "try:\n",
    "    SaoPaulo_Places = pd.read_csv('/workspaces/Coworking/src/results/SaoPaulo/SaoPaulo.csv')\n",
    "    print('File correct exported!')\n",
    "except Exception as e:\n",
    "    print(f\"❌ Error inesperado al guardar el archivo: {e}\")\n",
    "    \n",
    "SaoPaulo_Places.head()"
   ]
  },
  {
   "cell_type": "code",
   "execution_count": 2,
   "metadata": {},
   "outputs": [
    {
     "name": "stdout",
     "output_type": "stream",
     "text": [
      "Place Coworka - Endereço Fiscal, Comercial, Virtual e Coworking com Salas de Reunião: Score = 0.7920982735723772\n",
      "Place iSpaces Coworking - São Paulo: Score = 0.7024568393094289\n",
      "Place Coworking Higienopolis: Score = 0.6870066401062417\n",
      "Place WeWork Sala Comercial & Coworking: Score = 0.7207490039840638\n",
      "Place Google Campus São Paulo: Score = 0.972\n",
      "Place Coworking Av Paulista WORKINGSP Office Service: Score = 0.691112881806109\n",
      "Place Coworking Smart - Paulista I: Score = 0.7043824701195218\n",
      "Place Creative Space Coworking: Score = 0.7015272244355909\n",
      "Place Coworking Offices Vila Olimpia: Score = 0.6982841965471448\n",
      "Place 491 Coworking: Score = 0.7065737051792829\n",
      "Place Rocket N Coworking: Score = 0.690980079681275\n",
      "Place Mango Tree Coworking: Score = 0.6972217795484729\n",
      "Place Spaces - Sao Paulo, Spaces - Vila Madalena - Pinheiros: Score = 0.6668419654714475\n",
      "Place Easily Work Coworking: Score = 0.7073041168658698\n",
      "Place 818 Coworking: Score = 0.7030544488711818\n",
      "Place Be Coworking - Higienópolis: Score = 0.688523240371846\n",
      "Place Sextante Coworking: Score = 0.691245683930943\n",
      "Place Bendito Coworking - Unidade Al. Santos: Score = 0.6768472775564408\n",
      "Place Coworking Smart - Paulista II: Score = 0.7035192563081009\n",
      "Place Casa Coworking: Score = 0.6946985391766268\n"
     ]
    }
   ],
   "source": [
    "def normalize_rating(rating):\n",
    "    # Normalize the rating to a scale of 0 to 1\n",
    "    return rating / 5.0  # Assuming ratings are on a scale of 0 to 5\n",
    "\n",
    "def calculate_score(rating, user_rating_count, rating_weight=0.7, user_rating_count_weight=0.3):\n",
    "    # Normalize rating and user rating count\n",
    "    normalized_rating = normalize_rating(rating)\n",
    "    normalized_user_rating_count = user_rating_count / max_user_rating_count  # Normalize to range [0, 1]\n",
    "\n",
    "    # Calculate weighted sum\n",
    "    score = (rating_weight * normalized_rating) + (user_rating_count_weight * normalized_user_rating_count)\n",
    "    return score\n",
    "\n",
    "ratings = SaoPaulo_Places['Rating']\n",
    "user_rating_counts = SaoPaulo_Places['User Rating Count']\n",
    "max_user_rating_count = max(user_rating_counts)  # Maximum user rating count\n",
    "\n",
    "# Calculate scores for each place\n",
    "scores = []\n",
    "for rating, user_rating_count in zip(ratings, user_rating_counts):\n",
    "    score = calculate_score(rating, user_rating_count)\n",
    "    scores.append(score)\n",
    "\n",
    "# Print the scores\n",
    "for place_name, score in zip(SaoPaulo_Places['Name'], scores):\n",
    "    print(f\"Place {place_name}: Score = {score}\")\n",
    "\n"
   ]
  },
  {
   "cell_type": "code",
   "execution_count": 4,
   "metadata": {},
   "outputs": [
    {
     "name": "stdout",
     "output_type": "stream",
     "text": [
      "                                           Place Name     Score\n",
      "0   Coworka - Endereço Fiscal, Comercial, Virtual ...  0.792098\n",
      "1                       iSpaces Coworking - São Paulo  0.702457\n",
      "2                              Coworking Higienopolis  0.687007\n",
      "3                   WeWork Sala Comercial & Coworking  0.720749\n",
      "4                             Google Campus São Paulo  0.972000\n",
      "5      Coworking Av Paulista WORKINGSP Office Service  0.691113\n",
      "6                        Coworking Smart - Paulista I  0.704382\n",
      "7                            Creative Space Coworking  0.701527\n",
      "8                      Coworking Offices Vila Olimpia  0.698284\n",
      "9                                       491 Coworking  0.706574\n",
      "10                                 Rocket N Coworking  0.690980\n",
      "11                               Mango Tree Coworking  0.697222\n",
      "12  Spaces - Sao Paulo, Spaces - Vila Madalena - P...  0.666842\n",
      "13                              Easily Work Coworking  0.707304\n",
      "14                                      818 Coworking  0.703054\n",
      "15                        Be Coworking - Higienópolis  0.688523\n",
      "16                                 Sextante Coworking  0.691246\n",
      "17             Bendito Coworking - Unidade Al. Santos  0.676847\n",
      "18                      Coworking Smart - Paulista II  0.703519\n",
      "19                                     Casa Coworking  0.694699\n"
     ]
    }
   ],
   "source": [
    "import pandas as pd\n",
    "\n",
    "# Initialize lists to store data\n",
    "place_names = []\n",
    "score_values = []\n",
    "\n",
    "# Iterate over the data and collect into lists\n",
    "for place_name, score in zip(SaoPaulo_Places['Name'], scores):\n",
    "    place_names.append(place_name)\n",
    "    score_values.append(score)\n",
    "\n",
    "# Create DataFrame from lists\n",
    "data = {'Place Name': place_names, 'Score': score_values}\n",
    "places_score = pd.DataFrame(data)\n",
    "\n",
    "# Display DataFrame\n",
    "print(places_score)\n"
   ]
  },
  {
   "cell_type": "code",
   "execution_count": 5,
   "metadata": {},
   "outputs": [],
   "source": [
    "places_score.to_csv('/workspaces/Coworking/src/results/SaoPaulo/PlacesScore.csv', index=False)"
   ]
  },
  {
   "cell_type": "code",
   "execution_count": 6,
   "metadata": {},
   "outputs": [
    {
     "name": "stdout",
     "output_type": "stream",
     "text": [
      "Top five places:\n",
      "Google Campus São Paulo: Score = 0.972\n",
      "Coworka - Endereço Fiscal, Comercial, Virtual e Coworking com Salas de Reunião: Score = 0.7920982735723772\n",
      "WeWork Sala Comercial & Coworking: Score = 0.7207490039840638\n",
      "Easily Work Coworking: Score = 0.7073041168658698\n",
      "491 Coworking: Score = 0.7065737051792829\n"
     ]
    }
   ],
   "source": [
    "# Combine names and scores into a DataFrame\n",
    "score_df = pd.DataFrame({'name': SaoPaulo_Places['Name'], 'score': scores})\n",
    "\n",
    "# Sort the DataFrame by score in descending order\n",
    "sorted_scores = score_df.sort_values(by='score', ascending=False)\n",
    "\n",
    "# Select the top five places\n",
    "top_five = sorted_scores.head(5)\n",
    "\n",
    "# Print the top five places\n",
    "print(\"Top five places:\")\n",
    "for idx, row in top_five.iterrows():\n",
    "    print(f\"{row['name']}: Score = {row['score']}\")\n"
   ]
  }
 ],
 "metadata": {
  "kernelspec": {
   "display_name": "Python 3",
   "language": "python",
   "name": "python3"
  },
  "language_info": {
   "codemirror_mode": {
    "name": "ipython",
    "version": 3
   },
   "file_extension": ".py",
   "mimetype": "text/x-python",
   "name": "python",
   "nbconvert_exporter": "python",
   "pygments_lexer": "ipython3",
   "version": "3.11.11"
  }
 },
 "nbformat": 4,
 "nbformat_minor": 2
}

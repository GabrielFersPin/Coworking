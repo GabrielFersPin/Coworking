{
 "cells": [
  {
   "cell_type": "code",
   "execution_count": 2,
   "metadata": {},
   "outputs": [
    {
     "name": "stdout",
     "output_type": "stream",
     "text": [
      "File correct exported!\n",
      "                                              Name   Daily Price   Fix Desk\n",
      "0                   Betahaus | Coworking Barcelona            20        275\n",
      "1  OneCoWork Plaça Catalunya | Barcelona Coworking            25        235\n",
      "2         OneCoWork Catedral | Barcelona Coworking            25        265\n",
      "3                           oworking space Camaleó            25        200\n",
      "4                      La Vaca Coworking Barcelona            22        240\n"
     ]
    }
   ],
   "source": [
    "import pandas as pd\n",
    "\n",
    "try:\n",
    "    barcelona_prices = pd.read_csv('/workspaces/Coworking/src/results/Barcelona/PreciosCoworking.csv')\n",
    "    print('File correct exported!')\n",
    "except Exception as e:\n",
    "    print('Fallo inesperado')\n",
    "    \n",
    "print(barcelona_prices)"
   ]
  },
  {
   "cell_type": "code",
   "execution_count": 10,
   "metadata": {},
   "outputs": [
    {
     "ename": "ValueError",
     "evalue": "The column 'Daily Price' is missing in the dataset.",
     "output_type": "error",
     "traceback": [
      "\u001b[0;31m---------------------------------------------------------------------------\u001b[0m",
      "\u001b[0;31mValueError\u001b[0m                                Traceback (most recent call last)",
      "Cell \u001b[0;32mIn[10], line 6\u001b[0m\n\u001b[1;32m      4\u001b[0m \u001b[38;5;66;03m# Sample data check\u001b[39;00m\n\u001b[1;32m      5\u001b[0m \u001b[38;5;28;01mif\u001b[39;00m \u001b[38;5;124m'\u001b[39m\u001b[38;5;124mDaily Price\u001b[39m\u001b[38;5;124m'\u001b[39m \u001b[38;5;129;01mnot\u001b[39;00m \u001b[38;5;129;01min\u001b[39;00m barcelona_prices\u001b[38;5;241m.\u001b[39mcolumns:\n\u001b[0;32m----> 6\u001b[0m     \u001b[38;5;28;01mraise\u001b[39;00m \u001b[38;5;167;01mValueError\u001b[39;00m(\u001b[38;5;124m\"\u001b[39m\u001b[38;5;124mThe column \u001b[39m\u001b[38;5;124m'\u001b[39m\u001b[38;5;124mDaily Price\u001b[39m\u001b[38;5;124m'\u001b[39m\u001b[38;5;124m is missing in the dataset.\u001b[39m\u001b[38;5;124m\"\u001b[39m)\n\u001b[1;32m      8\u001b[0m \u001b[38;5;66;03m# Ensure numeric values\u001b[39;00m\n\u001b[1;32m      9\u001b[0m barcelona_prices[\u001b[38;5;124m'\u001b[39m\u001b[38;5;124mDaily Price\u001b[39m\u001b[38;5;124m'\u001b[39m] \u001b[38;5;241m=\u001b[39m pd\u001b[38;5;241m.\u001b[39mto_numeric(barcelona_prices[\u001b[38;5;124m'\u001b[39m\u001b[38;5;124mDaily Price\u001b[39m\u001b[38;5;124m'\u001b[39m], errors\u001b[38;5;241m=\u001b[39m\u001b[38;5;124m'\u001b[39m\u001b[38;5;124mcoerce\u001b[39m\u001b[38;5;124m'\u001b[39m)\n",
      "\u001b[0;31mValueError\u001b[0m: The column 'Daily Price' is missing in the dataset."
     ]
    }
   ],
   "source": [
    "import pandas as pd\n",
    "import matplotlib.pyplot as plt\n",
    "\n",
    "# Sample data check\n",
    "if 'Daily Price' not in barcelona_prices.columns:\n",
    "    raise ValueError(\"The column 'Daily Price' is missing in the dataset.\")\n",
    "\n",
    "# Ensure numeric values\n",
    "barcelona_prices['Daily Price'] = pd.to_numeric(barcelona_prices['Daily Price'], errors='coerce')\n",
    "\n",
    "data = barcelona_prices['Daily Price']\n",
    "\n",
    "# Plotting\n",
    "fig, ax = plt.subplots(figsize=(10, 6))\n",
    "ax.bar(data.index, data, color='blue', label='Price')\n",
    "\n",
    "# Mean line\n",
    "mean_line = data.mean()\n",
    "ax.axhline(y=mean_line, color='red', linestyle='--', label='Mean')\n",
    "\n",
    "# Annotate each bar\n",
    "for i, v in enumerate(data):\n",
    "    ax.text(i, v + (0.05 * max(data)), f'{v:.2f}', ha='center', va='bottom')\n",
    "\n",
    "# Annotate mean line\n",
    "ax.text(len(data) - 1, mean_line + (0.05 * max(data)), f'Mean: {mean_line:.2f}', color='red', ha='right')\n",
    "\n",
    "# Labels and formatting\n",
    "plt.title('Comparing Daily Pass Desk Prices')\n",
    "plt.xlabel('Coworking')\n",
    "plt.ylabel('Price (€)')\n",
    "plt.xticks(rotation=45)\n",
    "plt.grid(axis='y', linestyle='--', alpha=0.7)\n",
    "plt.legend()\n",
    "plt.tight_layout()\n",
    "\n",
    "plt.show()"
   ]
  }
 ],
 "metadata": {
  "kernelspec": {
   "display_name": "new_venv",
   "language": "python",
   "name": "python3"
  },
  "language_info": {
   "codemirror_mode": {
    "name": "ipython",
    "version": 3
   },
   "file_extension": ".py",
   "mimetype": "text/x-python",
   "name": "python",
   "nbconvert_exporter": "python",
   "pygments_lexer": "ipython3",
   "version": "3.12.1"
  }
 },
 "nbformat": 4,
 "nbformat_minor": 2
}

{
 "cells": [
  {
   "cell_type": "markdown",
   "metadata": {},
   "source": [
    "## Create a score for each place based on the rating count and the rate of each."
   ]
  },
  {
   "cell_type": "code",
   "execution_count": null,
   "metadata": {},
   "outputs": [
    {
     "name": "stdout",
     "output_type": "stream",
     "text": [
      "Place EslabON Coworking: Score = 0.7627441860465117\n",
      "Place COWORKING - ALQUILER SALAS - DESPACHOS - CENTRO DE NEGOCIOS Aguacate: Score = 0.7167441860465116\n",
      "Place Espacio Coworking CC Plaza Río 2: Score = 0.583767441860465\n",
      "Place CO-MA COWORKING: Score = 0.709767441860465\n",
      "Place Coworking La Ebanistería: Score = 0.7153488372093023\n",
      "Place SoWORK Coworking en Leganés: Score = 0.7166976744186047\n",
      "Place ACCESS POINT COWORKING: Score = 0.7125116279069768\n",
      "Place Espacio Oculto Madrid: Score = 0.7152093023255814\n",
      "Place El coworking de altamarea: Score = 0.7083720930232558\n",
      "Place Coworking La Guarida Creativa Leganés: Score = 0.7167441860465116\n",
      "Place JERÓNIMO by Bonsai (Coworking Space): Score = 0.7026046511627906\n",
      "Place Area Coworking: Score = 0.7376279069767442\n",
      "Place Talent Garden Madrid: Score = 0.9299999999999999\n",
      "Place The Small House CoWorKing: Score = 0.7167441860465116\n",
      "Place MODO Coworking: Score = 0.7236279069767442\n",
      "Place Freeland: Score = 0.8980465116279068\n",
      "Place Coworking LOOM Huertas: Score = 0.7793488372093023\n",
      "Place Manual - Casa Creativa: Score = 0.713860465116279\n"
     ]
    }
   ],
   "source": [
    "def normalize_rating(rating):\n",
    "    # Normalize the rating to a scale of 0 to 1\n",
    "    return rating / 5.0  # Assuming ratings are on a scale of 0 to 5\n",
    "\n",
    "def calculate_score(rating, user_rating_count, rating_weight=0.7, user_rating_count_weight=0.3):\n",
    "    # Normalize rating and user rating count\n",
    "    normalized_rating = normalize_rating(rating)\n",
    "    normalized_user_rating_count = user_rating_count / max_user_rating_count  # Normalize to range [0, 1]\n",
    "\n",
    "    # Calculate weighted sum\n",
    "    score = (rating_weight * normalized_rating) + (user_rating_count_weight * normalized_user_rating_count)\n",
    "    return score\n",
    "\n",
    "ratings = MadridPlaces['rating']\n",
    "user_rating_counts = MadridPlaces['user_ratings_total']\n",
    "max_user_rating_count = max(user_rating_counts)  # Maximum user rating count\n",
    "\n",
    "# Calculate scores for each place\n",
    "scores = []\n",
    "for rating, user_rating_count in zip(ratings, user_rating_counts):\n",
    "    score = calculate_score(rating, user_rating_count)\n",
    "    scores.append(score)\n",
    "\n",
    "# Print the scores\n",
    "for place_name, score in zip(MadridPlaces['name'], scores):\n",
    "    print(f\"Place {place_name}: Score = {score}\")\n",
    "\n"
   ]
  },
  {
   "cell_type": "code",
   "execution_count": null,
   "metadata": {},
   "outputs": [
    {
     "name": "stdout",
     "output_type": "stream",
     "text": [
      "                                           Place Name     Score\n",
      "0                                   EslabON Coworking  0.762744\n",
      "1   COWORKING - ALQUILER SALAS - DESPACHOS - CENTR...  0.716744\n",
      "2                    Espacio Coworking CC Plaza Río 2  0.583767\n",
      "3                                     CO-MA COWORKING  0.709767\n",
      "4                            Coworking La Ebanistería  0.715349\n",
      "5                         SoWORK Coworking en Leganés  0.716698\n",
      "6                              ACCESS POINT COWORKING  0.712512\n",
      "7                               Espacio Oculto Madrid  0.715209\n",
      "8                           El coworking de altamarea  0.708372\n",
      "9               Coworking La Guarida Creativa Leganés  0.716744\n",
      "10               JERÓNIMO by Bonsai (Coworking Space)  0.702605\n",
      "11                                     Area Coworking  0.737628\n",
      "12                               Talent Garden Madrid  0.930000\n",
      "13                          The Small House CoWorKing  0.716744\n",
      "14                                     MODO Coworking  0.723628\n",
      "15                                           Freeland  0.898047\n",
      "16                             Coworking LOOM Huertas  0.779349\n",
      "17                             Manual - Casa Creativa  0.713860\n"
     ]
    }
   ],
   "source": [
    "import pandas as pd\n",
    "\n",
    "# Initialize lists to store data\n",
    "place_names = []\n",
    "score_values = []\n",
    "\n",
    "# Iterate over the data and collect into lists\n",
    "for place_name, score in zip(MadridPlaces['name'], scores):\n",
    "    place_names.append(place_name)\n",
    "    score_values.append(score)\n",
    "\n",
    "# Create DataFrame from lists\n",
    "data = {'Place Name': place_names, 'Score': score_values}\n",
    "places_score = pd.DataFrame(data)\n",
    "\n",
    "# Display DataFrame\n",
    "print(places_score)\n"
   ]
  },
  {
   "cell_type": "markdown",
   "metadata": {},
   "source": [
    "### Making a score for each one of the places we can classify the top five places."
   ]
  },
  {
   "cell_type": "code",
   "execution_count": null,
   "metadata": {},
   "outputs": [
    {
     "name": "stdout",
     "output_type": "stream",
     "text": [
      "Top five places:\n",
      "Talent Garden Madrid: Score = 0.9299999999999999\n",
      "Freeland: Score = 0.8980465116279068\n",
      "Coworking LOOM Huertas: Score = 0.7793488372093023\n",
      "EslabON Coworking: Score = 0.7627441860465117\n",
      "Area Coworking: Score = 0.7376279069767442\n"
     ]
    }
   ],
   "source": [
    "# Combine names and scores into a DataFrame\n",
    "score_df = pd.DataFrame({'name': MadridPlaces['name'], 'score': scores})\n",
    "\n",
    "# Sort the DataFrame by score in descending order\n",
    "sorted_scores = score_df.sort_values(by='score', ascending=False)\n",
    "\n",
    "# Select the top five places\n",
    "top_five = sorted_scores.head(5)\n",
    "\n",
    "# Print the top five places\n",
    "print(\"Top five places:\")\n",
    "for idx, row in top_five.iterrows():\n",
    "    print(f\"{row['name']}: Score = {row['score']}\")\n"
   ]
  }
 ],
 "metadata": {
  "language_info": {
   "name": "python"
  }
 },
 "nbformat": 4,
 "nbformat_minor": 2
}

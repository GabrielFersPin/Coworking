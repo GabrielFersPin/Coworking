{
 "cells": [
  {
   "cell_type": "markdown",
   "metadata": {},
   "source": [
    "# Analyzing coworking space in Madrid."
   ]
  },
  {
   "cell_type": "code",
   "execution_count": null,
   "metadata": {},
   "outputs": [
    {
     "name": "stdout",
     "output_type": "stream",
     "text": [
      "{'html_attributions': [], 'next_page_token': 'ATplDJZ287heu3vPtRT25B5LIWZ-Uuhmd6HgiM8YH87CguW2aCo90xBxNYDAePiiMrCIBFGnLHz8yX7vT5SYC0_nFRxuRKf86C8z073tWvKqjafUP0ssBPjOYtz-MUdCvMSL17MK1nUnmX1zqFpVmsV4MyiNiuAfEDNBavHcN9qMz__TDQzADvPeHtaj8NXCMFTjyop1vHmf9tqBOIDmf0aQVAtHOUaUybFaEesM8JwlGpwV7HyPL6D27bQcdLYFWz0S6Bm5h_7mSrQEmFfF0_4e8pqxzzPlvFh5K0B8jMgnmzXd9OyHjVhQDhXF9qnTQW5FsNzmTemsG1oedWjIl7ea1Idz6CwY-WdTcKQvPjT0tYvwOAwIGUZL88ig_uiiP_FZsLuJMifoOQ', 'results': [{'business_status': 'OPERATIONAL', 'formatted_address': 'C. de Valle de Oro, 50, local posterior, Carabanchel, 28019 Madrid, Spain', 'geometry': {'location': {'lat': 40.38691, 'lng': -3.723964}, 'viewport': {'northeast': {'lat': 40.38816957989273, 'lng': -3.722638870107278}, 'southwest': {'lat': 40.38546992010728, 'lng': -3.725338529892722}}}, 'icon': 'https://maps.gstatic.com/mapfiles/place_api/icons/v1/png_71/generic_business-71.png', 'icon_background_color': '#7B9EB0', 'icon_mask_base_uri': 'https://maps.gstatic.com/mapfiles/place_api/icons/v2/generic_pinlet', 'name': 'EslabON Coworking', 'opening_hours': {'open_now': False}, 'photos': [{'height': 2592, 'html_attributions': ['<a href=\"https://maps.google.com/maps/contrib/117759763181506569797\">A Google User</a>'], 'photo_reference': 'ATplDJb0ixWmQZusyukmcmQraXE8GBSC9z7-zio22UcXRcCfH0C_rlXi3oNeIQ7ZC69MjSrD8m3j_G5avUJBt8ovj-acEmFO-ZYaS53umOylY-yemjKS2jtPTGkyBgZyZyH05VKvdtNY52R5j0_olafvOds02hgwWZHzdcOSFb0cJW6GxBW7', 'width': 4608}], 'place_id': 'ChIJk7DzEsEnQg0RqE0YlzGBiR4', 'plus_code': {'compound_code': '97PG+QC Madrid', 'global_code': '8CGR97PG+QC'}, 'rating': 4.9, 'reference': 'ChIJk7DzEsEnQg0RqE0YlzGBiR4', 'types': ['point_of_interest', 'establishment'], 'user_ratings_total': 55}, {'business_status': 'OPERATIONAL', 'formatted_address': 'C. del Aguacate, 41 Edificio A1, Local 3, 28054 Madrid, Spain', 'geometry': {'location': {'lat': 40.3693709, 'lng': -3.7426362}, 'viewport': {'northeast': {'lat': 40.37042327989272, 'lng': -3.741328620107277}, 'southwest': {'lat': 40.36772362010728, 'lng': -3.744028279892721}}}, 'icon': 'https://maps.gstatic.com/mapfiles/place_api/icons/v1/png_71/generic_business-71.png', 'icon_background_color': '#7B9EB0', 'icon_mask_base_uri': 'https://maps.gstatic.com/mapfiles/place_api/icons/v2/generic_pinlet', 'name': 'COWORKING - ALQUILER SALAS - DESPACHOS - CENTRO DE NEGOCIOS Aguacate', 'opening_hours': {'open_now': False}, 'photos': [{'height': 3376, 'html_attributions': ['<a href=\"https://maps.google.com/maps/contrib/104333728922627137117\">A Google User</a>'], 'photo_reference': 'ATplDJbVzEkwhK1BvNVqWER8KRTydr9IRKMRf7Yj8uvQGvcMgA5iQhio45NLqmTDw_xtrvXnWWpFK5JvzUQqPWHtwscZ-BQ1Pr3TkYKPfErLEK9QpiZeo42tLA-c5R7yoXedPinUGNs4k9sdeZaSOsjIowtcgoyUib-6yWDmb-8WyX3g9acx', 'width': 6000}], 'place_id': 'ChIJ__-_w38nQg0RYAJhDOxj6sE', 'plus_code': {'compound_code': '9794+PW Madrid', 'global_code': '8CGR9794+PW'}, 'rating': 5, 'reference': 'ChIJ__-_w38nQg0RYAJhDOxj6sE', 'types': ['point_of_interest', 'establishment'], 'user_ratings_total': 12}, {'business_status': 'OPERATIONAL', 'formatted_address': 'Av del Manzanares, 210, Usera, 28026 Madrid, Spain', 'geometry': {'location': {'lat': 40.39111219999999, 'lng': -3.7012758}, 'viewport': {'northeast': {'lat': 40.39251777989272, 'lng': -3.699852520107278}, 'southwest': {'lat': 40.38981812010728, 'lng': -3.702552179892721}}}, 'icon': 'https://maps.gstatic.com/mapfiles/place_api/icons/v1/png_71/generic_business-71.png', 'icon_background_color': '#7B9EB0', 'icon_mask_base_uri': 'https://maps.gstatic.com/mapfiles/place_api/icons/v2/generic_pinlet', 'name': 'Espacio Coworking CC Plaza Río 2', 'opening_hours': {'open_now': False}, 'photos': [{'height': 3024, 'html_attributions': ['<a href=\"https://maps.google.com/maps/contrib/103447267018528790544\">Rubén Ricardo Bararata Gorotiza</a>'], 'photo_reference': 'ATplDJZ_290lLzzywyBy1r4bbtozFDTwC4n37e8pDzqwEQlYx-ElV2d5zBH-2HO7t7kvDUv3E4Xo3g2t71CmGIviWFRImUpHuKZg28R0rsV9qQgk91LlEc1lXrC6O2cKCTVPZSd5wi8NjJFs07z16pdhYg_J5THJvFxSzk5GF8wsv831dmtT', 'width': 4032}], 'place_id': 'ChIJTU786X0nQg0RjlfP-Zzzz04', 'plus_code': {'compound_code': '97RX+CF Madrid', 'global_code': '8CGR97RX+CF'}, 'rating': 4.1, 'reference': 'ChIJTU786X0nQg0RjlfP-Zzzz04', 'types': ['point_of_interest', 'establishment'], 'user_ratings_total': 7}, {'business_status': 'OPERATIONAL', 'formatted_address': 'C. Fernando Poo, 23, Arganzuela, 28045 Madrid, Spain', 'geometry': {'location': {'lat': 40.3969667, 'lng': -3.6996101}, 'viewport': {'northeast': {'lat': 40.39830857989273, 'lng': -3.698376620107278}, 'southwest': {'lat': 40.39560892010728, 'lng': -3.701076279892722}}}, 'icon': 'https://maps.gstatic.com/mapfiles/place_api/icons/v1/png_71/generic_business-71.png', 'icon_background_color': '#7B9EB0', 'icon_mask_base_uri': 'https://maps.gstatic.com/mapfiles/place_api/icons/v2/generic_pinlet', 'name': 'CO-MA COWORKING', 'opening_hours': {'open_now': True}, 'photos': [{'height': 2000, 'html_attributions': ['<a href=\"https://maps.google.com/maps/contrib/110243021966434177507\">A Google User</a>'], 'photo_reference': 'ATplDJbBgfINR7xInyWMQA4cZclcb_wTdoR7IwKedk8rw3gVMrCa0m-PcMYADoX1JSGjGBeiyRe9iXhXcm8mTQ_e0ieQ8O8wC41MKmBgwoBxS_UBGSk5DEAI1NbqAjyN-9JHgkuL3hsYcaV8r4l5LpAk4MZAeECCD-AqHB6cpR8aAgxDdw-M', 'width': 1333}], 'place_id': 'ChIJb8hknTYnQg0R1WbmR1VnQhM', 'plus_code': {'compound_code': '98W2+Q5 Madrid', 'global_code': '8CGR98W2+Q5'}, 'rating': 5, 'reference': 'ChIJb8hknTYnQg0R1WbmR1VnQhM', 'types': ['point_of_interest', 'establishment'], 'user_ratings_total': 7}, {'business_status': 'OPERATIONAL', 'formatted_address': 'C. del Teniente Cnel. Noreña, 46, Arganzuela, 28045 Madrid, Spain', 'geometry': {'location': {'lat': 40.386196, 'lng': -3.691279599999999}, 'viewport': {'northeast': {'lat': 40.38761952989272, 'lng': -3.689978520107278}, 'southwest': {'lat': 40.38491987010728, 'lng': -3.692678179892722}}}, 'icon': 'https://maps.gstatic.com/mapfiles/place_api/icons/v1/png_71/generic_business-71.png', 'icon_background_color': '#7B9EB0', 'icon_mask_base_uri': 'https://maps.gstatic.com/mapfiles/place_api/icons/v2/generic_pinlet', 'name': 'Espacio de Trabajo Compartido', 'opening_hours': {'open_now': True}, 'place_id': 'ChIJDcmz7s8nQg0R5USfQ6Z4h9c', 'plus_code': {'compound_code': '98P5+FF Madrid', 'global_code': '8CGR98P5+FF'}, 'rating': 0, 'reference': 'ChIJDcmz7s8nQg0R5USfQ6Z4h9c', 'types': ['point_of_interest', 'establishment'], 'user_ratings_total': 0}, {'business_status': 'OPERATIONAL', 'formatted_address': 'C. Joaquín Martínez Borreguero, 13, Carabanchel, 28019 Madrid, Spain', 'geometry': {'location': {'lat': 40.3916462, 'lng': -3.7117388}, 'viewport': {'northeast': {'lat': 40.39298577989272, 'lng': -3.710398070107278}, 'southwest': {'lat': 40.39028612010727, 'lng': -3.713097729892722}}}, 'icon': 'https://maps.gstatic.com/mapfiles/place_api/icons/v1/png_71/generic_business-71.png', 'icon_background_color': '#7B9EB0', 'icon_mask_base_uri': 'https://maps.gstatic.com/mapfiles/place_api/icons/v2/generic_pinlet', 'name': 'Coworking La Ebanistería', 'opening_hours': {'open_now': False}, 'photos': [{'height': 3840, 'html_attributions': ['<a href=\"https://maps.google.com/maps/contrib/116206277304845705266\">A Google User</a>'], 'photo_reference': 'ATplDJYXQVgEwX0LFIrn460JF5635z47Q2QYjPzaeskxVGxjE57McBqRKChLSoxdg0228D5cPqkvIoW5yW5XKELy7ZVy5f-V0NFM4_vElYjxB99iNUk_Zlv90g9LJtpZmeFJ8i870rBjsVErE_PDbT7TVtObyfUmrZUyxSHwylIJ302EL7Jq', 'width': 5760}], 'place_id': 'ChIJ4yqvK1snQg0RaIx6caLvO94', 'plus_code': {'compound_code': '97RQ+M8 Madrid', 'global_code': '8CGR97RQ+M8'}, 'rating': 5, 'reference': 'ChIJ4yqvK1snQg0RaIx6caLvO94', 'types': ['point_of_interest', 'establishment'], 'user_ratings_total': 11}, {'business_status': 'OPERATIONAL', 'formatted_address': 'Finca Solimpar, Carr. Madrid - Toledo, km 8, 28916 Leganés, Madrid, Spain', 'geometry': {'location': {'lat': 40.3488939, 'lng': -3.724116299999999}, 'viewport': {'northeast': {'lat': 40.35024392989272, 'lng': -3.722788170107278}, 'southwest': {'lat': 40.34754427010728, 'lng': -3.725487829892721}}}, 'icon': 'https://maps.gstatic.com/mapfiles/place_api/icons/v1/png_71/generic_business-71.png', 'icon_background_color': '#7B9EB0', 'icon_mask_base_uri': 'https://maps.gstatic.com/mapfiles/place_api/icons/v2/generic_pinlet', 'name': 'SoWORK Coworking en Leganés', 'opening_hours': {'open_now': True}, 'photos': [{'height': 2801, 'html_attributions': ['<a href=\"https://maps.google.com/maps/contrib/112051205842193660468\">A Google User</a>'], 'photo_reference': 'ATplDJY3wb-kMdJfbaZJahSSH0ar4Jt18RTpVptB2WjzPcl-k1Jq-ZMrG7ZrL9MYNxlLIIOtsaonyfee00o_ySoUtJoCRSSAdstIm9VqgyiM1geKP_oLDChb6ApoH_genU8PUOBiHTlbh5fTkKytSTPR9OAwf4fKPopOChVuQqubuNo2lHv-', 'width': 4193}], 'place_id': 'ChIJOd78VUAhQg0RYFyht6xdXtw', 'plus_code': {'compound_code': '87XG+H9 Leganés', 'global_code': '8CGR87XG+H9'}, 'rating': 4.9, 'reference': 'ChIJOd78VUAhQg0RYFyht6xdXtw', 'types': ['point_of_interest', 'establishment'], 'user_ratings_total': 22}, {'business_status': 'OPERATIONAL', 'formatted_address': 'C. Azabache, 1, Carabanchel, 28019 Madrid, Spain', 'geometry': {'location': {'lat': 40.3922666, 'lng': -3.7246678}, 'viewport': {'northeast': {'lat': 40.39358197989272, 'lng': -3.723380920107277}, 'southwest': {'lat': 40.39088232010727, 'lng': -3.726080579892721}}}, 'icon': 'https://maps.gstatic.com/mapfiles/place_api/icons/v1/png_71/generic_business-71.png', 'icon_background_color': '#7B9EB0', 'icon_mask_base_uri': 'https://maps.gstatic.com/mapfiles/place_api/icons/v2/generic_pinlet', 'name': 'ACCESS POINT COWORKING', 'opening_hours': {'open_now': False}, 'photos': [{'height': 1200, 'html_attributions': ['<a href=\"https://maps.google.com/maps/contrib/104284107747035708047\">A Google User</a>'], 'photo_reference': 'ATplDJaSd_m55708PGLq8TkGqMzpUFq3QWn-ai2eLhJG6UQ7l5gvIqqIvtF2MmYSxMe3NKCMENgvBPzxYPsgxvCmFbKKf277nr8zY9KEY2XnutXsQ-vLIau2p4-xvOQw5rEaRXQc_Diib-sZ8c3jjYVVzLXbDz-L--K5gYdkgHC3I9Wqxrth', 'width': 1600}], 'place_id': 'ChIJVeP8uesnQg0Rc6asAtGAmnY', 'plus_code': {'compound_code': '97RG+W4 Madrid', 'global_code': '8CGR97RG+W4'}, 'rating': 4.9, 'reference': 'ChIJVeP8uesnQg0Rc6asAtGAmnY', 'types': ['point_of_interest', 'establishment'], 'user_ratings_total': 19}, {'business_status': 'OPERATIONAL', 'formatted_address': 'C. de Nicolás Usera, 27, Usera, 28026 Madrid, Spain', 'geometry': {'location': {'lat': 40.3853893, 'lng': -3.7056078}, 'viewport': {'northeast': {'lat': 40.38674802989273, 'lng': -3.704263270107277}, 'southwest': {'lat': 40.38404837010728, 'lng': -3.706962929892721}}}, 'icon': 'https://maps.gstatic.com/mapfiles/place_api/icons/v1/png_71/generic_business-71.png', 'icon_background_color': '#7B9EB0', 'icon_mask_base_uri': 'https://maps.gstatic.com/mapfiles/place_api/icons/v2/generic_pinlet', 'name': 'Espacio Oculto Madrid', 'opening_hours': {'open_now': False}, 'photos': [{'height': 1053, 'html_attributions': ['<a href=\"https://maps.google.com/maps/contrib/115574460887920433759\">Espacio Oculto</a>'], 'photo_reference': 'ATplDJbwJqoyhdj4LHXew0f79EB0-QyV_sinCgDRMmh3HnsDpzhh5g6i32rZE5NWXGA2mWICKD5k3-Qsllp_fCAKkUVkP9BoBWe66OpC2ZFBeNcmxluTG3_ZDGprpXwgRbJoJHSVPqbm55Yq91r698iXWFLm8n7kdLfIQW40mtjJeWr6Qq2W', 'width': 2048}], 'place_id': 'ChIJAV9iqLMnQg0RcHYQKOqovwE', 'plus_code': {'compound_code': '97PV+5Q Madrid', 'global_code': '8CGR97PV+5Q'}, 'rating': 4.7, 'reference': 'ChIJAV9iqLMnQg0RcHYQKOqovwE', 'types': ['point_of_interest', 'establishment'], 'user_ratings_total': 41}, {'business_status': 'OPERATIONAL', 'formatted_address': 'C. Fernando Poo, 54, Arganzuela, 28045 Madrid, Spain', 'geometry': {'location': {'lat': 40.3951538, 'lng': -3.7002199}, 'viewport': {'northeast': {'lat': 40.39646457989272, 'lng': -3.698829470107278}, 'southwest': {'lat': 40.39376492010728, 'lng': -3.701529129892722}}}, 'icon': 'https://maps.gstatic.com/mapfiles/place_api/icons/v1/png_71/generic_business-71.png', 'icon_background_color': '#7B9EB0', 'icon_mask_base_uri': 'https://maps.gstatic.com/mapfiles/place_api/icons/v2/generic_pinlet', 'name': 'El coworking de altamarea', 'opening_hours': {'open_now': True}, 'photos': [{'height': 3024, 'html_attributions': ['<a href=\"https://maps.google.com/maps/contrib/117285423325753055433\">Sara</a>'], 'photo_reference': 'ATplDJaD9HdmafT_Xw02eOI7LUAOpqZKXC8jXw2acu7lgYJZxFEq9dUq2ngkWjlIp1biKl-rT4jqczdiP5reaRPh9_B-_B__6x-IDxa7u7hnw6QsOqgVNxmjsmO1Nfz7CfgrdPEJYr558Tv7c1jjHoBJ3efa-G_LyKAG9qQBb-W-ugbX0i80', 'width': 4032}], 'place_id': 'ChIJpQB-XUgnQg0RAHY-dsXiRUk', 'plus_code': {'compound_code': '97WX+3W Madrid', 'global_code': '8CGR97WX+3W'}, 'rating': 5, 'reference': 'ChIJpQB-XUgnQg0RAHY-dsXiRUk', 'types': ['point_of_interest', 'establishment'], 'user_ratings_total': 6}, {'business_status': 'OPERATIONAL', 'formatted_address': 'Av del Manzanares, 200, Usera, 28026 Madrid, Spain', 'geometry': {'location': {'lat': 40.3910716, 'lng': -3.7014608}, 'viewport': {'northeast': {'lat': 40.39255102989272, 'lng': -3.699879420107278}, 'southwest': {'lat': 40.38985137010728, 'lng': -3.702579079892722}}}, 'icon': 'https://maps.gstatic.com/mapfiles/place_api/icons/v1/png_71/generic_business-71.png', 'icon_background_color': '#7B9EB0', 'icon_mask_base_uri': 'https://maps.gstatic.com/mapfiles/place_api/icons/v2/generic_pinlet', 'name': 'Coworking Area - Plaza Río 2', 'photos': [{'height': 2268, 'html_attributions': ['<a href=\"https://maps.google.com/maps/contrib/101131504970368527915\">Bruce Bundy</a>'], 'photo_reference': 'ATplDJazW2HJrQkEbCYVDcBfZE-Fofct0tRgQb4pOjhR8NYLm0A6bvdDlwGk03i2Nkk9iNSYBKVRlMYwSm6jcbgHs8o36Trt2rDffura5gJ1II-1mpqhM3JCQoNfXGFY5ZeI-jWMS_LNmn2Da77z52aDYWfLtG1V63QkGFmsgLfz0xRePRIh', 'width': 4032}], 'place_id': 'ChIJYw7uoSQnQg0RRUTTzOsomhg', 'plus_code': {'compound_code': '97RX+CC Madrid', 'global_code': '8CGR97RX+CC'}, 'rating': 0, 'reference': 'ChIJYw7uoSQnQg0RRUTTzOsomhg', 'types': ['point_of_interest', 'establishment'], 'user_ratings_total': 0}, {'business_status': 'OPERATIONAL', 'formatted_address': 'C. Puerto de la Morcuera, 13, Local 1 Salida 7, A-42, 28919 Leganés, Madrid, Spain', 'geometry': {'location': {'lat': 40.3506665, 'lng': -3.7235092}, 'viewport': {'northeast': {'lat': 40.35202847989272, 'lng': -3.722263720107278}, 'southwest': {'lat': 40.34932882010727, 'lng': -3.724963379892722}}}, 'icon': 'https://maps.gstatic.com/mapfiles/place_api/icons/v1/png_71/generic_business-71.png', 'icon_background_color': '#7B9EB0', 'icon_mask_base_uri': 'https://maps.gstatic.com/mapfiles/place_api/icons/v2/generic_pinlet', 'name': 'Coworking La Guarida Creativa Leganés', 'opening_hours': {'open_now': True}, 'photos': [{'height': 1536, 'html_attributions': ['<a href=\"https://maps.google.com/maps/contrib/104643352610676033954\">A Google User</a>'], 'photo_reference': 'ATplDJb4AWHn2b42hF-gx624AK81rk28CpA5w7upbscQkXt66ac3szO5GNPiZPONS8lO0GYbNVHii_uMa8Qvqct6om--i-aBVmYrKImouOnDMBt5I6IUNI9LDDDL8mLhAhZjI15kDO_-ND2_UZL3oS72TmVB7tC_WbXnJu8uaYRNMCcJacEP', 'width': 2048}], 'place_id': 'ChIJ-2fJn9QnQg0RhOu4v3tOzzk', 'plus_code': {'compound_code': '972G+7H Leganés', 'global_code': '8CGR972G+7H'}, 'rating': 5, 'reference': 'ChIJ-2fJn9QnQg0RhOu4v3tOzzk', 'types': ['point_of_interest', 'establishment'], 'user_ratings_total': 12}, {'business_status': 'OPERATIONAL', 'formatted_address': 'Cra de S. Jerónimo, 17, Centro, 28014 Madrid, Spain', 'geometry': {'location': {'lat': 40.4166515, 'lng': -3.6988242}, 'viewport': {'northeast': {'lat': 40.41796572989273, 'lng': -3.697458170107278}, 'southwest': {'lat': 40.41526607010728, 'lng': -3.700157829892722}}}, 'icon': 'https://maps.gstatic.com/mapfiles/place_api/icons/v1/png_71/generic_business-71.png', 'icon_background_color': '#7B9EB0', 'icon_mask_base_uri': 'https://maps.gstatic.com/mapfiles/place_api/icons/v2/generic_pinlet', 'name': 'JERÓNIMO by Bonsai (Coworking Space)', 'opening_hours': {'open_now': True}, 'photos': [{'height': 640, 'html_attributions': ['<a href=\"https://maps.google.com/maps/contrib/100816945236736758222\">The Tribe - Jerónimo!</a>'], 'photo_reference': 'ATplDJZ8zenaoUlnolECBKYUXWgne83tunoy2TLeUS7uHOsnn2CuFbP0ufqv30Vtg8YRKq834emtz6NpdMnIJPigxy_RVbOuWogosedGKz2b5HpXo8lSkEQz6vfAeO04oQjpzmAWrIme1houeP0nJlAA03vkj6WhwPcfIQ-9u41vsLH6KNk', 'width': 640}], 'place_id': 'ChIJD__Da4EoQg0R_b82bVDGmow', 'plus_code': {'compound_code': 'C882+MF Madrid', 'global_code': '8CGRC882+MF'}, 'rating': 4.6, 'reference': 'ChIJD__Da4EoQg0R_b82bVDGmow', 'types': ['point_of_interest', 'establishment'], 'user_ratings_total': 42}, {'business_status': 'OPERATIONAL', 'formatted_address': 'C. de Tomás Bretón, 50-52, Arganzuela, 28045 Madrid, Spain', 'geometry': {'location': {'lat': 40.3971345, 'lng': -3.6917148}, 'viewport': {'northeast': {'lat': 40.39842297989272, 'lng': -3.690229970107278}, 'southwest': {'lat': 40.39572332010728, 'lng': -3.692929629892721}}}, 'icon': 'https://maps.gstatic.com/mapfiles/place_api/icons/v1/png_71/generic_business-71.png', 'icon_background_color': '#7B9EB0', 'icon_mask_base_uri': 'https://maps.gstatic.com/mapfiles/place_api/icons/v2/generic_pinlet', 'name': 'Area Coworking', 'opening_hours': {'open_now': False}, 'photos': [{'height': 1024, 'html_attributions': ['<a href=\"https://maps.google.com/maps/contrib/103509777098916457867\">A Google User</a>'], 'photo_reference': 'ATplDJYwHp2lkMUPsugj37LOIx64LiJ46q6luoe2Q72drveIs7ZPnYBEroXNUQohV0vp7dsrHfZJnydlKdyLi-B6CICdepzOI2ew2Do7Zq8imEIxTxNRjSeMI-O_BHmO6hdBXFDcF8xKyVXnkSsSnEHCV2P47U5UP1lqjK-8qiXx-fcJEYr-', 'width': 768}], 'place_id': 'ChIJaQMYdLwnQg0RVZuoI24CjX0', 'plus_code': {'compound_code': '98W5+V8 Madrid', 'global_code': '8CGR98W5+V8'}, 'rating': 4.9, 'reference': 'ChIJaQMYdLwnQg0RVZuoI24CjX0', 'types': ['point_of_interest', 'establishment'], 'user_ratings_total': 37}, {'business_status': 'OPERATIONAL', 'formatted_address': 'C. de Juan de Mariana, 15, Arganzuela, 28045 Madrid, Spain', 'geometry': {'location': {'lat': 40.398326, 'lng': -3.6863441}, 'viewport': {'northeast': {'lat': 40.39972147989273, 'lng': -3.684880020107278}, 'southwest': {'lat': 40.39702182010728, 'lng': -3.687579679892722}}}, 'icon': 'https://maps.gstatic.com/mapfiles/place_api/icons/v1/png_71/generic_business-71.png', 'icon_background_color': '#7B9EB0', 'icon_mask_base_uri': 'https://maps.gstatic.com/mapfiles/place_api/icons/v2/generic_pinlet', 'name': 'Talent Garden Madrid', 'opening_hours': {'open_now': False}, 'photos': [{'height': 2736, 'html_attributions': ['<a href=\"https://maps.google.com/maps/contrib/105049439494630080636\">A Google User</a>'], 'photo_reference': 'ATplDJZrngTjxwMdu0IzpSskEBUWzBsqWdNmnUnScjk9xvUS2aJOMnT4uag0U7XDJHoxQEr8xLnFHmtgQpeoTnAOCbqN8voceeiTSr2IA6Uy1wKIivNTrDobv71AJofjX-eD8pRKWY7dsCNyHoqEJXu9M66cCMnu8UUwe6L6hOBZnQG7tTz4', 'width': 4096}], 'place_id': 'ChIJrTH0vwYnQg0RwFJPB0NzKeE', 'plus_code': {'compound_code': '98X7+8F Madrid', 'global_code': '8CGR98X7+8F'}, 'rating': 4.5, 'reference': 'ChIJrTH0vwYnQg0RwFJPB0NzKeE', 'types': ['point_of_interest', 'establishment'], 'user_ratings_total': 215}, {'business_status': 'OPERATIONAL', 'formatted_address': 'C. de Sánchez Barcáiztegui, 36, Retiro, 28007 Madrid, Spain', 'geometry': {'location': {'lat': 40.40601059999999, 'lng': -3.6728029}, 'viewport': {'northeast': {'lat': 40.40739037989272, 'lng': -3.671515770107278}, 'southwest': {'lat': 40.40469072010728, 'lng': -3.674215429892722}}}, 'icon': 'https://maps.gstatic.com/mapfiles/place_api/icons/v1/png_71/generic_business-71.png', 'icon_background_color': '#7B9EB0', 'icon_mask_base_uri': 'https://maps.gstatic.com/mapfiles/place_api/icons/v2/generic_pinlet', 'name': 'The Small House CoWorKing', 'opening_hours': {'open_now': False}, 'photos': [{'height': 800, 'html_attributions': ['<a href=\"https://maps.google.com/maps/contrib/110663201551220323978\">A Google User</a>'], 'photo_reference': 'ATplDJZZXxHr3Lgqo6fUpzhgK8_SXCcfVqVFkMsVdRW_1IbQXEHZaDJhercYzf1HM_dXVlcv-F60C9OvjhaaVZK-g2i2wtrQR8XhhDEKRuu6kbHqiP1oTFr5XwFl63I9qbTOQv01-g3m8-kmgq2BawO7uKJSwwzPmuQOw-W2x1jxvkaONL4j', 'width': 1200}], 'place_id': 'ChIJd1Sb1homQg0RogRioL50D-A', 'plus_code': {'compound_code': 'C84G+CV Madrid', 'global_code': '8CGRC84G+CV'}, 'rating': 5, 'reference': 'ChIJd1Sb1homQg0RogRioL50D-A', 'types': ['point_of_interest', 'establishment'], 'user_ratings_total': 12}, {'business_status': 'OPERATIONAL', 'formatted_address': 'C. de Valderribas, 14, Retiro, 28007 Madrid, Spain', 'geometry': {'location': {'lat': 40.40547919999999, 'lng': -3.6780491}, 'viewport': {'northeast': {'lat': 40.40687787989272, 'lng': -3.676664620107277}, 'southwest': {'lat': 40.40417822010727, 'lng': -3.679364279892721}}}, 'icon': 'https://maps.gstatic.com/mapfiles/place_api/icons/v1/png_71/generic_business-71.png', 'icon_background_color': '#7B9EB0', 'icon_mask_base_uri': 'https://maps.gstatic.com/mapfiles/place_api/icons/v2/generic_pinlet', 'name': 'MODO Coworking', 'opening_hours': {'open_now': False}, 'photos': [{'height': 1688, 'html_attributions': ['<a href=\"https://maps.google.com/maps/contrib/102766606645538793949\">A Google User</a>'], 'photo_reference': 'ATplDJb2OCfEGuHANEk3-C0sR0gPPmVzbNWU28CFzgwDtRc5IiLDPwvFxBOd317LJrfX_HyHzz0uc1xOZqtK84llIyibN9w0848a9yidj9BlLLPZRcuqpcFZ4X7lZHmgisOZbZ5pRTYi9i53h1vMz_tcUShrT8YR7nL0kdBp81T7ZP1o_bR6', 'width': 3000}], 'place_id': 'ChIJdYVyhRkmQg0RRKZQvfCirXc', 'plus_code': {'compound_code': 'C84C+5Q Madrid', 'global_code': '8CGRC84C+5Q'}, 'rating': 4.8, 'reference': 'ChIJdYVyhRkmQg0RRKZQvfCirXc', 'types': ['point_of_interest', 'establishment'], 'user_ratings_total': 37}, {'business_status': 'OPERATIONAL', 'formatted_address': 'C. de Gandía, 1, local 9A, Retiro, 28007 Madrid, Spain', 'geometry': {'location': {'lat': 40.3985851, 'lng': -3.6717447}, 'viewport': {'northeast': {'lat': 40.39986872989272, 'lng': -3.670453770107279}, 'southwest': {'lat': 40.39716907010728, 'lng': -3.673153429892723}}}, 'icon': 'https://maps.gstatic.com/mapfiles/place_api/icons/v1/png_71/generic_business-71.png', 'icon_background_color': '#7B9EB0', 'icon_mask_base_uri': 'https://maps.gstatic.com/mapfiles/place_api/icons/v2/generic_pinlet', 'name': 'Freeland', 'opening_hours': {'open_now': False}, 'photos': [{'height': 3456, 'html_attributions': ['<a href=\"https://maps.google.com/maps/contrib/115444703022288603650\">Francisco Camara</a>'], 'photo_reference': 'ATplDJb2DDXekVtRyrSu7Pw5wI-pYQ9d4pR2np_8s578CZitzxj3orPqKKxTIiPZiZOWUUE6HRIsU1uMay-i4NSVaRT1M_QXspFvF0XC_ZOgIqu1Rw5_-SQJ0lj9XosWswEYP2c-Ds05fg1VoUEhsStHOACGB5e4NJy3tyKFAwtGno22nM-1', 'width': 4608}], 'place_id': 'ChIJCVUBCA4mQg0RbIccVWP9JA8', 'plus_code': {'compound_code': '98XH+C8 Madrid', 'global_code': '8CGR98XH+C8'}, 'rating': 4.8, 'reference': 'ChIJCVUBCA4mQg0RbIccVWP9JA8', 'types': ['finance', 'point_of_interest', 'establishment'], 'user_ratings_total': 162}, {'business_status': 'OPERATIONAL', 'formatted_address': 'C. de las Huertas, 11, Centro, 28012 Madrid, Spain', 'geometry': {'location': {'lat': 40.414036, 'lng': -3.700693}, 'viewport': {'northeast': {'lat': 40.41541192989273, 'lng': -3.699710520107277}, 'southwest': {'lat': 40.41271227010728, 'lng': -3.702410179892721}}}, 'icon': 'https://maps.gstatic.com/mapfiles/place_api/icons/v1/png_71/generic_business-71.png', 'icon_background_color': '#7B9EB0', 'icon_mask_base_uri': 'https://maps.gstatic.com/mapfiles/place_api/icons/v2/generic_pinlet', 'name': 'Coworking LOOM Huertas', 'opening_hours': {'open_now': False}, 'photos': [{'height': 867, 'html_attributions': ['<a href=\"https://maps.google.com/maps/contrib/100862956891990216796\">A Google User</a>'], 'photo_reference': 'ATplDJZA2vGva9L0_SVkL2l6vK7yzp_k4x5_o5yUGcHZOpSe1HduKQKT5ITt77pB5lbVxXQ1yFs7V1acU8zbqeCiuPit1wUVdTr0D0NlHj9KzAoMzfVT_aWFam0kNJh75IVywKpYnEAvgBogNcnvTWfm9fVWTCdKs1nxFylhfitkIpl56uS4', 'width': 1300}], 'place_id': 'ChIJhaSSld4pQg0RRoO70EM6E38', 'plus_code': {'compound_code': 'C77X+JP Madrid', 'global_code': '8CGRC77X+JP'}, 'rating': 4.6, 'reference': 'ChIJhaSSld4pQg0RRoO70EM6E38', 'types': ['real_estate_agency', 'point_of_interest', 'establishment'], 'user_ratings_total': 97}, {'business_status': 'OPERATIONAL', 'formatted_address': 'C. de Zurita, 43, Centro, 28012 Madrid, Spain', 'geometry': {'location': {'lat': 40.4087857, 'lng': -3.6999598}, 'viewport': {'northeast': {'lat': 40.41011137989272, 'lng': -3.698593320107278}, 'southwest': {'lat': 40.40741172010728, 'lng': -3.701292979892722}}}, 'icon': 'https://maps.gstatic.com/mapfiles/place_api/icons/v1/png_71/generic_business-71.png', 'icon_background_color': '#7B9EB0', 'icon_mask_base_uri': 'https://maps.gstatic.com/mapfiles/place_api/icons/v2/generic_pinlet', 'name': 'Manual - Casa Creativa', 'opening_hours': {'open_now': False}, 'photos': [{'height': 567, 'html_attributions': ['<a href=\"https://maps.google.com/maps/contrib/111819971958456275702\">La Manual - Casa Creativa</a>'], 'photo_reference': 'ATplDJbcAe3wNk6MXRRYIKTTiA9zsoQrPgfP_MZbKAHJ4jxK61K86_DNW7vgQPiGrrdVxosIHn7wlCDT4oPT7wathHbhFu5efy_21w5iomEN1YohMa81Tls_8-YJHOtMUcdxZUXZX6r8skai720QncUPdCAhowr0jUO8vZexngLvPWcJAOsJ', 'width': 850}], 'place_id': 'ChIJHciTpGIoQg0RRCdtIcwqKm4', 'plus_code': {'compound_code': 'C852+F3 Madrid', 'global_code': '8CGRC852+F3'}, 'rating': 4.8, 'reference': 'ChIJHciTpGIoQg0RRCdtIcwqKm4', 'types': ['point_of_interest', 'establishment'], 'user_ratings_total': 30}], 'status': 'OK'}\n"
     ]
    }
   ],
   "source": [
    "import json\n",
    "import os\n",
    "\n",
    "# Load the data from the \"MadridPlaces.json\" file\n",
    "\n",
    "with open(os.path.join(os.getcwd(), \"MadridPlaces.json\")) as f:\n",
    "\n",
    "    data = json.load(f)\n",
    "\n",
    "\n",
    "# Print the data\n",
    "\n",
    "print(data)"
   ]
  },
  {
   "cell_type": "code",
   "execution_count": null,
   "metadata": {},
   "outputs": [
    {
     "data": {
      "text/html": [
       "<div>\n",
       "<style scoped>\n",
       "    .dataframe tbody tr th:only-of-type {\n",
       "        vertical-align: middle;\n",
       "    }\n",
       "\n",
       "    .dataframe tbody tr th {\n",
       "        vertical-align: top;\n",
       "    }\n",
       "\n",
       "    .dataframe thead th {\n",
       "        text-align: right;\n",
       "    }\n",
       "</style>\n",
       "<table border=\"1\" class=\"dataframe\">\n",
       "  <thead>\n",
       "    <tr style=\"text-align: right;\">\n",
       "      <th></th>\n",
       "      <th>business_status</th>\n",
       "      <th>formatted_address</th>\n",
       "      <th>icon</th>\n",
       "      <th>icon_background_color</th>\n",
       "      <th>icon_mask_base_uri</th>\n",
       "      <th>name</th>\n",
       "      <th>photos</th>\n",
       "      <th>place_id</th>\n",
       "      <th>rating</th>\n",
       "      <th>reference</th>\n",
       "      <th>...</th>\n",
       "      <th>user_ratings_total</th>\n",
       "      <th>geometry.location.lat</th>\n",
       "      <th>geometry.location.lng</th>\n",
       "      <th>geometry.viewport.northeast.lat</th>\n",
       "      <th>geometry.viewport.northeast.lng</th>\n",
       "      <th>geometry.viewport.southwest.lat</th>\n",
       "      <th>geometry.viewport.southwest.lng</th>\n",
       "      <th>opening_hours.open_now</th>\n",
       "      <th>plus_code.compound_code</th>\n",
       "      <th>plus_code.global_code</th>\n",
       "    </tr>\n",
       "  </thead>\n",
       "  <tbody>\n",
       "    <tr>\n",
       "      <th>0</th>\n",
       "      <td>OPERATIONAL</td>\n",
       "      <td>C. de Valle de Oro, 50, local posterior, Carab...</td>\n",
       "      <td>https://maps.gstatic.com/mapfiles/place_api/ic...</td>\n",
       "      <td>#7B9EB0</td>\n",
       "      <td>https://maps.gstatic.com/mapfiles/place_api/ic...</td>\n",
       "      <td>EslabON Coworking</td>\n",
       "      <td>[{'height': 2592, 'html_attributions': ['&lt;a hr...</td>\n",
       "      <td>ChIJk7DzEsEnQg0RqE0YlzGBiR4</td>\n",
       "      <td>4.9</td>\n",
       "      <td>ChIJk7DzEsEnQg0RqE0YlzGBiR4</td>\n",
       "      <td>...</td>\n",
       "      <td>55</td>\n",
       "      <td>40.386910</td>\n",
       "      <td>-3.723964</td>\n",
       "      <td>40.388170</td>\n",
       "      <td>-3.722639</td>\n",
       "      <td>40.385470</td>\n",
       "      <td>-3.725339</td>\n",
       "      <td>False</td>\n",
       "      <td>97PG+QC Madrid</td>\n",
       "      <td>8CGR97PG+QC</td>\n",
       "    </tr>\n",
       "    <tr>\n",
       "      <th>1</th>\n",
       "      <td>OPERATIONAL</td>\n",
       "      <td>C. del Aguacate, 41 Edificio A1, Local 3, 2805...</td>\n",
       "      <td>https://maps.gstatic.com/mapfiles/place_api/ic...</td>\n",
       "      <td>#7B9EB0</td>\n",
       "      <td>https://maps.gstatic.com/mapfiles/place_api/ic...</td>\n",
       "      <td>COWORKING - ALQUILER SALAS - DESPACHOS - CENTR...</td>\n",
       "      <td>[{'height': 3376, 'html_attributions': ['&lt;a hr...</td>\n",
       "      <td>ChIJ__-_w38nQg0RYAJhDOxj6sE</td>\n",
       "      <td>5.0</td>\n",
       "      <td>ChIJ__-_w38nQg0RYAJhDOxj6sE</td>\n",
       "      <td>...</td>\n",
       "      <td>12</td>\n",
       "      <td>40.369371</td>\n",
       "      <td>-3.742636</td>\n",
       "      <td>40.370423</td>\n",
       "      <td>-3.741329</td>\n",
       "      <td>40.367724</td>\n",
       "      <td>-3.744028</td>\n",
       "      <td>False</td>\n",
       "      <td>9794+PW Madrid</td>\n",
       "      <td>8CGR9794+PW</td>\n",
       "    </tr>\n",
       "    <tr>\n",
       "      <th>2</th>\n",
       "      <td>OPERATIONAL</td>\n",
       "      <td>Av del Manzanares, 210, Usera, 28026 Madrid, S...</td>\n",
       "      <td>https://maps.gstatic.com/mapfiles/place_api/ic...</td>\n",
       "      <td>#7B9EB0</td>\n",
       "      <td>https://maps.gstatic.com/mapfiles/place_api/ic...</td>\n",
       "      <td>Espacio Coworking CC Plaza Río 2</td>\n",
       "      <td>[{'height': 3024, 'html_attributions': ['&lt;a hr...</td>\n",
       "      <td>ChIJTU786X0nQg0RjlfP-Zzzz04</td>\n",
       "      <td>4.1</td>\n",
       "      <td>ChIJTU786X0nQg0RjlfP-Zzzz04</td>\n",
       "      <td>...</td>\n",
       "      <td>7</td>\n",
       "      <td>40.391112</td>\n",
       "      <td>-3.701276</td>\n",
       "      <td>40.392518</td>\n",
       "      <td>-3.699853</td>\n",
       "      <td>40.389818</td>\n",
       "      <td>-3.702552</td>\n",
       "      <td>False</td>\n",
       "      <td>97RX+CF Madrid</td>\n",
       "      <td>8CGR97RX+CF</td>\n",
       "    </tr>\n",
       "    <tr>\n",
       "      <th>3</th>\n",
       "      <td>OPERATIONAL</td>\n",
       "      <td>C. Fernando Poo, 23, Arganzuela, 28045 Madrid,...</td>\n",
       "      <td>https://maps.gstatic.com/mapfiles/place_api/ic...</td>\n",
       "      <td>#7B9EB0</td>\n",
       "      <td>https://maps.gstatic.com/mapfiles/place_api/ic...</td>\n",
       "      <td>CO-MA COWORKING</td>\n",
       "      <td>[{'height': 2000, 'html_attributions': ['&lt;a hr...</td>\n",
       "      <td>ChIJb8hknTYnQg0R1WbmR1VnQhM</td>\n",
       "      <td>5.0</td>\n",
       "      <td>ChIJb8hknTYnQg0R1WbmR1VnQhM</td>\n",
       "      <td>...</td>\n",
       "      <td>7</td>\n",
       "      <td>40.396967</td>\n",
       "      <td>-3.699610</td>\n",
       "      <td>40.398309</td>\n",
       "      <td>-3.698377</td>\n",
       "      <td>40.395609</td>\n",
       "      <td>-3.701076</td>\n",
       "      <td>True</td>\n",
       "      <td>98W2+Q5 Madrid</td>\n",
       "      <td>8CGR98W2+Q5</td>\n",
       "    </tr>\n",
       "    <tr>\n",
       "      <th>4</th>\n",
       "      <td>OPERATIONAL</td>\n",
       "      <td>C. del Teniente Cnel. Noreña, 46, Arganzuela, ...</td>\n",
       "      <td>https://maps.gstatic.com/mapfiles/place_api/ic...</td>\n",
       "      <td>#7B9EB0</td>\n",
       "      <td>https://maps.gstatic.com/mapfiles/place_api/ic...</td>\n",
       "      <td>Espacio de Trabajo Compartido</td>\n",
       "      <td>NaN</td>\n",
       "      <td>ChIJDcmz7s8nQg0R5USfQ6Z4h9c</td>\n",
       "      <td>0.0</td>\n",
       "      <td>ChIJDcmz7s8nQg0R5USfQ6Z4h9c</td>\n",
       "      <td>...</td>\n",
       "      <td>0</td>\n",
       "      <td>40.386196</td>\n",
       "      <td>-3.691280</td>\n",
       "      <td>40.387620</td>\n",
       "      <td>-3.689979</td>\n",
       "      <td>40.384920</td>\n",
       "      <td>-3.692678</td>\n",
       "      <td>True</td>\n",
       "      <td>98P5+FF Madrid</td>\n",
       "      <td>8CGR98P5+FF</td>\n",
       "    </tr>\n",
       "  </tbody>\n",
       "</table>\n",
       "<p>5 rows × 21 columns</p>\n",
       "</div>"
      ],
      "text/plain": [
       "  business_status                                  formatted_address  \\\n",
       "0     OPERATIONAL  C. de Valle de Oro, 50, local posterior, Carab...   \n",
       "1     OPERATIONAL  C. del Aguacate, 41 Edificio A1, Local 3, 2805...   \n",
       "2     OPERATIONAL  Av del Manzanares, 210, Usera, 28026 Madrid, S...   \n",
       "3     OPERATIONAL  C. Fernando Poo, 23, Arganzuela, 28045 Madrid,...   \n",
       "4     OPERATIONAL  C. del Teniente Cnel. Noreña, 46, Arganzuela, ...   \n",
       "\n",
       "                                                icon icon_background_color  \\\n",
       "0  https://maps.gstatic.com/mapfiles/place_api/ic...               #7B9EB0   \n",
       "1  https://maps.gstatic.com/mapfiles/place_api/ic...               #7B9EB0   \n",
       "2  https://maps.gstatic.com/mapfiles/place_api/ic...               #7B9EB0   \n",
       "3  https://maps.gstatic.com/mapfiles/place_api/ic...               #7B9EB0   \n",
       "4  https://maps.gstatic.com/mapfiles/place_api/ic...               #7B9EB0   \n",
       "\n",
       "                                  icon_mask_base_uri  \\\n",
       "0  https://maps.gstatic.com/mapfiles/place_api/ic...   \n",
       "1  https://maps.gstatic.com/mapfiles/place_api/ic...   \n",
       "2  https://maps.gstatic.com/mapfiles/place_api/ic...   \n",
       "3  https://maps.gstatic.com/mapfiles/place_api/ic...   \n",
       "4  https://maps.gstatic.com/mapfiles/place_api/ic...   \n",
       "\n",
       "                                                name  \\\n",
       "0                                  EslabON Coworking   \n",
       "1  COWORKING - ALQUILER SALAS - DESPACHOS - CENTR...   \n",
       "2                   Espacio Coworking CC Plaza Río 2   \n",
       "3                                    CO-MA COWORKING   \n",
       "4                      Espacio de Trabajo Compartido   \n",
       "\n",
       "                                              photos  \\\n",
       "0  [{'height': 2592, 'html_attributions': ['<a hr...   \n",
       "1  [{'height': 3376, 'html_attributions': ['<a hr...   \n",
       "2  [{'height': 3024, 'html_attributions': ['<a hr...   \n",
       "3  [{'height': 2000, 'html_attributions': ['<a hr...   \n",
       "4                                                NaN   \n",
       "\n",
       "                      place_id  rating                    reference  ...  \\\n",
       "0  ChIJk7DzEsEnQg0RqE0YlzGBiR4     4.9  ChIJk7DzEsEnQg0RqE0YlzGBiR4  ...   \n",
       "1  ChIJ__-_w38nQg0RYAJhDOxj6sE     5.0  ChIJ__-_w38nQg0RYAJhDOxj6sE  ...   \n",
       "2  ChIJTU786X0nQg0RjlfP-Zzzz04     4.1  ChIJTU786X0nQg0RjlfP-Zzzz04  ...   \n",
       "3  ChIJb8hknTYnQg0R1WbmR1VnQhM     5.0  ChIJb8hknTYnQg0R1WbmR1VnQhM  ...   \n",
       "4  ChIJDcmz7s8nQg0R5USfQ6Z4h9c     0.0  ChIJDcmz7s8nQg0R5USfQ6Z4h9c  ...   \n",
       "\n",
       "  user_ratings_total  geometry.location.lat  geometry.location.lng  \\\n",
       "0                 55              40.386910              -3.723964   \n",
       "1                 12              40.369371              -3.742636   \n",
       "2                  7              40.391112              -3.701276   \n",
       "3                  7              40.396967              -3.699610   \n",
       "4                  0              40.386196              -3.691280   \n",
       "\n",
       "   geometry.viewport.northeast.lat  geometry.viewport.northeast.lng  \\\n",
       "0                        40.388170                        -3.722639   \n",
       "1                        40.370423                        -3.741329   \n",
       "2                        40.392518                        -3.699853   \n",
       "3                        40.398309                        -3.698377   \n",
       "4                        40.387620                        -3.689979   \n",
       "\n",
       "   geometry.viewport.southwest.lat  geometry.viewport.southwest.lng  \\\n",
       "0                        40.385470                        -3.725339   \n",
       "1                        40.367724                        -3.744028   \n",
       "2                        40.389818                        -3.702552   \n",
       "3                        40.395609                        -3.701076   \n",
       "4                        40.384920                        -3.692678   \n",
       "\n",
       "   opening_hours.open_now plus_code.compound_code plus_code.global_code  \n",
       "0                   False          97PG+QC Madrid           8CGR97PG+QC  \n",
       "1                   False          9794+PW Madrid           8CGR9794+PW  \n",
       "2                   False          97RX+CF Madrid           8CGR97RX+CF  \n",
       "3                    True          98W2+Q5 Madrid           8CGR98W2+Q5  \n",
       "4                    True          98P5+FF Madrid           8CGR98P5+FF  \n",
       "\n",
       "[5 rows x 21 columns]"
      ]
     },
     "metadata": {},
     "output_type": "display_data"
    }
   ],
   "source": [
    "import pandas as pd\n",
    "from pandas import json_normalize\n",
    "\n",
    "MadridPlaces = json_normalize(data[\"results\"])\n",
    "\n",
    "MadridPlaces.head()"
   ]
  },
  {
   "cell_type": "code",
   "execution_count": null,
   "metadata": {},
   "outputs": [
    {
     "name": "stdout",
     "output_type": "stream",
     "text": [
      "<class 'pandas.core.frame.DataFrame'>\n",
      "RangeIndex: 20 entries, 0 to 19\n",
      "Data columns (total 21 columns):\n",
      " #   Column                           Non-Null Count  Dtype  \n",
      "---  ------                           --------------  -----  \n",
      " 0   business_status                  20 non-null     object \n",
      " 1   formatted_address                20 non-null     object \n",
      " 2   icon                             20 non-null     object \n",
      " 3   icon_background_color            20 non-null     object \n",
      " 4   icon_mask_base_uri               20 non-null     object \n",
      " 5   name                             20 non-null     object \n",
      " 6   photos                           19 non-null     object \n",
      " 7   place_id                         20 non-null     object \n",
      " 8   rating                           20 non-null     float64\n",
      " 9   reference                        20 non-null     object \n",
      " 10  types                            20 non-null     object \n",
      " 11  user_ratings_total               20 non-null     int64  \n",
      " 12  geometry.location.lat            20 non-null     float64\n",
      " 13  geometry.location.lng            20 non-null     float64\n",
      " 14  geometry.viewport.northeast.lat  20 non-null     float64\n",
      " 15  geometry.viewport.northeast.lng  20 non-null     float64\n",
      " 16  geometry.viewport.southwest.lat  20 non-null     float64\n",
      " 17  geometry.viewport.southwest.lng  20 non-null     float64\n",
      " 18  opening_hours.open_now           19 non-null     object \n",
      " 19  plus_code.compound_code          20 non-null     object \n",
      " 20  plus_code.global_code            20 non-null     object \n",
      "dtypes: float64(7), int64(1), object(13)\n",
      "memory usage: 3.4+ KB\n"
     ]
    }
   ],
   "source": [
    "MadridPlaces.info()"
   ]
  },
  {
   "cell_type": "code",
   "execution_count": null,
   "metadata": {},
   "outputs": [
    {
     "data": {
      "text/plain": [
       "(20, 21)"
      ]
     },
     "metadata": {},
     "output_type": "display_data"
    }
   ],
   "source": [
    "MadridPlaces.shape"
   ]
  },
  {
   "cell_type": "markdown",
   "metadata": {},
   "source": [
    "### Excluding the places whit no reviews."
   ]
  },
  {
   "cell_type": "code",
   "execution_count": null,
   "metadata": {},
   "outputs": [],
   "source": [
    "MadridPlaces = MadridPlaces[MadridPlaces['user_ratings_total'] != 0]\n",
    "# Remove places with missing values in user ratings column"
   ]
  },
  {
   "cell_type": "code",
   "execution_count": null,
   "metadata": {},
   "outputs": [
    {
     "data": {
      "text/plain": [
       "(18, 21)"
      ]
     },
     "metadata": {},
     "output_type": "display_data"
    }
   ],
   "source": [
    "MadridPlaces.shape"
   ]
  },
  {
   "cell_type": "code",
   "execution_count": null,
   "metadata": {},
   "outputs": [],
   "source": [
    "MadridPlaces.to_csv('MadridPlaces.csv', index=False)"
   ]
  },
  {
   "cell_type": "markdown",
   "metadata": {},
   "source": [
    "### Two places were excluded."
   ]
  }
 ],
 "metadata": {
  "language_info": {
   "name": "python"
  }
 },
 "nbformat": 4,
 "nbformat_minor": 2
}

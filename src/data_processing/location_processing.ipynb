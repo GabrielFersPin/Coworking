{
 "cells": [
  {
   "cell_type": "markdown",
   "metadata": {},
   "source": [
    "# Create the distance from the center column."
   ]
  },
  {
   "cell_type": "markdown",
   "metadata": {},
   "source": [
    "## Merge all the places in one dataset."
   ]
  },
  {
   "cell_type": "code",
   "execution_count": 16,
   "metadata": {},
   "outputs": [],
   "source": [
    "import pandas as pd\n",
    "\n",
    "BarcelonaPlaces = pd.read_csv('/workspaces/Coworking/src/results/Barcelona/BarcelonaPlaces.csv')\n",
    "\n",
    "MadridPlaces = pd.read_csv('/workspaces/Coworking/src/results/Madrid/MadridPlaces.csv')\n",
    "\n",
    "NYCPlaces = pd.read_csv('/workspaces/Coworking/src/results/New York/NYC_PLaces.csv')\n",
    "\n",
    "TokyoPlaces = pd.read_csv('/workspaces/Coworking/src/results/Tokyo/TokyoPLaces.csv')"
   ]
  },
  {
   "cell_type": "code",
   "execution_count": 17,
   "metadata": {},
   "outputs": [],
   "source": [
    "# Extract Latitude, Longitude, and name columns from each dataframe\n",
    "BarcelonaPlaces = BarcelonaPlaces[['Latitude', 'Longitude', 'Name']]\n",
    "MadridPlaces = MadridPlaces[['geometry.location.lat', 'geometry.location.lng', 'name']]\n",
    "NYCPlaces = NYCPlaces[['Latitude', 'Longitude', 'Name']]\n",
    "TokyoPlaces = TokyoPlaces[['Latitude', 'Longitude', 'Name']]\n",
    "# Concatenate the dataframes\n",
    "places = pd.concat([BarcelonaPlaces, MadridPlaces, NYCPlaces, TokyoPlaces])\n",
    "\n",
    "places.to_csv('/workspaces/Coworking/src/results/Location.csv', index=False)"
   ]
  },
  {
   "cell_type": "markdown",
   "metadata": {},
   "source": [
    "## Calculate the distance from the center."
   ]
  },
  {
   "cell_type": "code",
   "execution_count": 19,
   "metadata": {},
   "outputs": [],
   "source": [
    "places = pd.read_csv('/workspaces/Coworking/src/results/Location.csv')"
   ]
  },
  {
   "cell_type": "code",
   "execution_count": 20,
   "metadata": {},
   "outputs": [],
   "source": [
    "from geopy.distance import geodesic\n",
    "\n",
    "# Define City center coordinates\n",
    "city_centers = {\n",
    "    \"Barcelona\": (41.3874, 2.1686),\n",
    "    \"Madrid\": (40.4168, -3.7038),\n",
    "    \"New York\": (40.7128, -74.0060),\n",
    "    \"Tokyo\": (35.682839, 139.759455)\n",
    "}\n",
    "\n",
    "# Ensure we have City, Latitude, and Longitude columns\n",
    "if {\"City\", \"Latitude\", \"Longitude\"}.issubset(places.columns):\n",
    "    # Function to calculate distance\n",
    "    def calculate_distance(row):\n",
    "        City = row[\"City\"]\n",
    "        if City in city_centers:\n",
    "            coworking_location = (row[\"Latitude\"], row[\"Longitude\"])\n",
    "            city_center_location = city_centers[City]\n",
    "            return geodesic(coworking_location, city_center_location).kilometers\n",
    "        return None\n",
    "\n",
    "    # Apply function to calculate distances\n",
    "    places[\"distance_from_center\"] = places.apply(calculate_distance, axis=1)\n",
    "\n",
    "    # Show first few rows with new column\n",
    "    places[[\"City\", \"Latitude\", \"Longitude\", \"distance_from_center\"]].head()\n",
    "else:\n",
    "    missing_cols = {\"City\", \"Latitude\", \"Longitude\"} - set(places.columns)\n",
    "    missing_cols\n"
   ]
  },
  {
   "cell_type": "code",
   "execution_count": 21,
   "metadata": {},
   "outputs": [
    {
     "data": {
      "text/html": [
       "<div>\n",
       "<style scoped>\n",
       "    .dataframe tbody tr th:only-of-type {\n",
       "        vertical-align: middle;\n",
       "    }\n",
       "\n",
       "    .dataframe tbody tr th {\n",
       "        vertical-align: top;\n",
       "    }\n",
       "\n",
       "    .dataframe thead th {\n",
       "        text-align: right;\n",
       "    }\n",
       "</style>\n",
       "<table border=\"1\" class=\"dataframe\">\n",
       "  <thead>\n",
       "    <tr style=\"text-align: right;\">\n",
       "      <th></th>\n",
       "      <th>Latitude</th>\n",
       "      <th>Longitude</th>\n",
       "      <th>Name</th>\n",
       "      <th>City</th>\n",
       "      <th>distance_from_center</th>\n",
       "    </tr>\n",
       "  </thead>\n",
       "  <tbody>\n",
       "    <tr>\n",
       "      <th>0</th>\n",
       "      <td>41.406983</td>\n",
       "      <td>2.156765</td>\n",
       "      <td>Betahaus | Coworking Barcelona</td>\n",
       "      <td>Barcelona</td>\n",
       "      <td>2.389523</td>\n",
       "    </tr>\n",
       "    <tr>\n",
       "      <th>1</th>\n",
       "      <td>41.386887</td>\n",
       "      <td>2.172505</td>\n",
       "      <td>OneCoWork Plaça Catalunya | Barcelona Coworking</td>\n",
       "      <td>Barcelona</td>\n",
       "      <td>0.331584</td>\n",
       "    </tr>\n",
       "    <tr>\n",
       "      <th>2</th>\n",
       "      <td>41.374110</td>\n",
       "      <td>2.161943</td>\n",
       "      <td>La Vaca Coworking Barcelona</td>\n",
       "      <td>Barcelona</td>\n",
       "      <td>1.577566</td>\n",
       "    </tr>\n",
       "    <tr>\n",
       "      <th>3</th>\n",
       "      <td>41.391740</td>\n",
       "      <td>2.177145</td>\n",
       "      <td>MOB Bailén - Coworking in Barcelona</td>\n",
       "      <td>Barcelona</td>\n",
       "      <td>0.862032</td>\n",
       "    </tr>\n",
       "    <tr>\n",
       "      <th>4</th>\n",
       "      <td>41.398776</td>\n",
       "      <td>2.155823</td>\n",
       "      <td>Kubik Barcelona</td>\n",
       "      <td>Barcelona</td>\n",
       "      <td>1.654707</td>\n",
       "    </tr>\n",
       "  </tbody>\n",
       "</table>\n",
       "</div>"
      ],
      "text/plain": [
       "    Latitude  Longitude                                             Name  \\\n",
       "0  41.406983   2.156765                   Betahaus | Coworking Barcelona   \n",
       "1  41.386887   2.172505  OneCoWork Plaça Catalunya | Barcelona Coworking   \n",
       "2  41.374110   2.161943                      La Vaca Coworking Barcelona   \n",
       "3  41.391740   2.177145              MOB Bailén - Coworking in Barcelona   \n",
       "4  41.398776   2.155823                                  Kubik Barcelona   \n",
       "\n",
       "        City  distance_from_center  \n",
       "0  Barcelona              2.389523  \n",
       "1  Barcelona              0.331584  \n",
       "2  Barcelona              1.577566  \n",
       "3  Barcelona              0.862032  \n",
       "4  Barcelona              1.654707  "
      ]
     },
     "execution_count": 21,
     "metadata": {},
     "output_type": "execute_result"
    }
   ],
   "source": [
    "places.head()"
   ]
  },
  {
   "cell_type": "code",
   "execution_count": 23,
   "metadata": {},
   "outputs": [
    {
     "data": {
      "text/html": [
       "<div>\n",
       "<style scoped>\n",
       "    .dataframe tbody tr th:only-of-type {\n",
       "        vertical-align: middle;\n",
       "    }\n",
       "\n",
       "    .dataframe tbody tr th {\n",
       "        vertical-align: top;\n",
       "    }\n",
       "\n",
       "    .dataframe thead th {\n",
       "        text-align: right;\n",
       "    }\n",
       "</style>\n",
       "<table border=\"1\" class=\"dataframe\">\n",
       "  <thead>\n",
       "    <tr style=\"text-align: right;\">\n",
       "      <th></th>\n",
       "      <th>Place Name</th>\n",
       "      <th>Score</th>\n",
       "      <th>Latitude</th>\n",
       "      <th>Longitude</th>\n",
       "      <th>Name</th>\n",
       "      <th>City</th>\n",
       "      <th>distance_from_center</th>\n",
       "    </tr>\n",
       "  </thead>\n",
       "  <tbody>\n",
       "    <tr>\n",
       "      <th>0</th>\n",
       "      <td>Betahaus | Coworking Barcelona</td>\n",
       "      <td>0.972000</td>\n",
       "      <td>41.406983</td>\n",
       "      <td>2.156765</td>\n",
       "      <td>Betahaus | Coworking Barcelona</td>\n",
       "      <td>Barcelona</td>\n",
       "      <td>2.389523</td>\n",
       "    </tr>\n",
       "    <tr>\n",
       "      <th>1</th>\n",
       "      <td>OneCoWork Plaça Catalunya | Barcelona Coworking</td>\n",
       "      <td>0.911691</td>\n",
       "      <td>41.386887</td>\n",
       "      <td>2.172505</td>\n",
       "      <td>OneCoWork Plaça Catalunya | Barcelona Coworking</td>\n",
       "      <td>Barcelona</td>\n",
       "      <td>0.331584</td>\n",
       "    </tr>\n",
       "    <tr>\n",
       "      <th>2</th>\n",
       "      <td>La Vaca Coworking Barcelona</td>\n",
       "      <td>0.815041</td>\n",
       "      <td>41.374110</td>\n",
       "      <td>2.161943</td>\n",
       "      <td>La Vaca Coworking Barcelona</td>\n",
       "      <td>Barcelona</td>\n",
       "      <td>1.577566</td>\n",
       "    </tr>\n",
       "    <tr>\n",
       "      <th>3</th>\n",
       "      <td>MOB Bailén - Coworking in Barcelona</td>\n",
       "      <td>0.801732</td>\n",
       "      <td>41.391740</td>\n",
       "      <td>2.177145</td>\n",
       "      <td>MOB Bailén - Coworking in Barcelona</td>\n",
       "      <td>Barcelona</td>\n",
       "      <td>0.862032</td>\n",
       "    </tr>\n",
       "    <tr>\n",
       "      <th>4</th>\n",
       "      <td>Kubik Barcelona</td>\n",
       "      <td>0.695113</td>\n",
       "      <td>41.398776</td>\n",
       "      <td>2.155823</td>\n",
       "      <td>Kubik Barcelona</td>\n",
       "      <td>Barcelona</td>\n",
       "      <td>1.654707</td>\n",
       "    </tr>\n",
       "  </tbody>\n",
       "</table>\n",
       "</div>"
      ],
      "text/plain": [
       "                                        Place Name     Score   Latitude  \\\n",
       "0                   Betahaus | Coworking Barcelona  0.972000  41.406983   \n",
       "1  OneCoWork Plaça Catalunya | Barcelona Coworking  0.911691  41.386887   \n",
       "2                      La Vaca Coworking Barcelona  0.815041  41.374110   \n",
       "3              MOB Bailén - Coworking in Barcelona  0.801732  41.391740   \n",
       "4                                  Kubik Barcelona  0.695113  41.398776   \n",
       "\n",
       "   Longitude                                             Name       City  \\\n",
       "0   2.156765                   Betahaus | Coworking Barcelona  Barcelona   \n",
       "1   2.172505  OneCoWork Plaça Catalunya | Barcelona Coworking  Barcelona   \n",
       "2   2.161943                      La Vaca Coworking Barcelona  Barcelona   \n",
       "3   2.177145              MOB Bailén - Coworking in Barcelona  Barcelona   \n",
       "4   2.155823                                  Kubik Barcelona  Barcelona   \n",
       "\n",
       "   distance_from_center  \n",
       "0              2.389523  \n",
       "1              0.331584  \n",
       "2              1.577566  \n",
       "3              0.862032  \n",
       "4              1.654707  "
      ]
     },
     "execution_count": 23,
     "metadata": {},
     "output_type": "execute_result"
    }
   ],
   "source": [
    "# Load AllScores.csv\n",
    "AllScores = pd.read_csv('/workspaces/Coworking/src/results/AllScores.csv')\n",
    "\n",
    "# Merge AllScores with places\n",
    "merged_df = pd.merge(AllScores, places, left_on='Place Name', right_on='Name', how='right')\n",
    "\n",
    "# Display the first few rows of the merged dataframe\n",
    "merged_df.head()"
   ]
  },
  {
   "cell_type": "code",
   "execution_count": 24,
   "metadata": {},
   "outputs": [],
   "source": [
    "merged_df.drop(columns=['Name'], inplace=True)"
   ]
  },
  {
   "cell_type": "code",
   "execution_count": 25,
   "metadata": {},
   "outputs": [],
   "source": [
    "merged_df.to_csv('/workspaces/Coworking/src/results/PlacesCenterDistance.csv', index=False)"
   ]
  },
  {
   "cell_type": "code",
   "execution_count": 26,
   "metadata": {},
   "outputs": [
    {
     "data": {
      "text/plain": [
       "City\n",
       "Barcelona      1.516297\n",
       "Madrid         3.214696\n",
       "New York       3.865845\n",
       "Tokyo        522.932395\n",
       "Name: distance_from_center, dtype: float64"
      ]
     },
     "execution_count": 26,
     "metadata": {},
     "output_type": "execute_result"
    }
   ],
   "source": [
    "merged_df.groupby('City')['distance_from_center'].mean()"
   ]
  },
  {
   "cell_type": "code",
   "execution_count": 28,
   "metadata": {},
   "outputs": [
    {
     "data": {
      "text/plain": [
       "<Axes: >"
      ]
     },
     "execution_count": 28,
     "metadata": {},
     "output_type": "execute_result"
    },
    {
     "data": {
      "image/png": "[encoded data removed]",
      "text/plain": [
       "<Figure size 640x480 with 2 Axes>"
      ]
     },
     "metadata": {},
     "output_type": "display_data"
    }
   ],
   "source": [
    "import seaborn as sns\n",
    "numerical_cols = merged_df.select_dtypes(include=['float64', 'int64']).columns\n",
    "\n",
    "# correlation matrix\n",
    "correlation_matrix = merged_df[numerical_cols].corr()\n",
    "\n",
    "# plot correlation matrix\n",
    "sns.heatmap(correlation_matrix, annot=True)"
   ]
  }
 ],
 "metadata": {
  "kernelspec": {
   "display_name": "new_venv",
   "language": "python",
   "name": "python3"
  },
  "language_info": {
   "codemirror_mode": {
    "name": "ipython",
    "version": 3
   },
   "file_extension": ".py",
   "mimetype": "text/x-python",
   "name": "python",
   "nbconvert_exporter": "python",
   "pygments_lexer": "ipython3",
   "version": "3.12.1"
  }
 },
 "nbformat": 4,
 "nbformat_minor": 2
}

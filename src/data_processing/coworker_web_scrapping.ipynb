{
 "cells": [
  {
   "cell_type": "markdown",
   "metadata": {},
   "source": [
    "# Scrap from coworker.com"
   ]
  },
  {
   "cell_type": "code",
   "execution_count": null,
   "metadata": {},
   "outputs": [
    {
     "name": "stdout",
     "output_type": "stream",
     "text": [
      "Found 0 coworking spaces.\n"
     ]
    }
   ],
   "source": [
    "from selenium import webdriver\n",
    "from selenium.webdriver.chrome.service import Service\n",
    "from selenium.webdriver.chrome.options import Options\n",
    "from selenium.webdriver.common.by import By\n",
    "import time\n",
    "import os\n",
    "\n",
    "# Setup Selenium WebDriver\n",
    "chromedriver_path = \"/workspaces/Coworking/chromedriver-linux64/chromedriver\"\n",
    "chrome_options = Options()\n",
    "chrome_options.add_argument(\"--no-sandbox\")\n",
    "chrome_options.add_argument(\"--disable-dev-shm-usage\")\n",
    "chrome_options.add_argument(\"--headless=false\")  # Run with visible browser\n",
    "\n",
    "service = Service(chromedriver_path)\n",
    "driver = webdriver.Chrome(service=service, options=chrome_options)\n",
    "\n",
    "# Open coworking page\n",
    "city = \"madrid\"\n",
    "base_url = f\"https://www.coworker.com/spain/{city}?view=list\"\n",
    "driver.get(base_url)\n",
    "\n",
    "time.sleep(5)  # Wait for page to load\n",
    "\n",
    "# Save page source for manual inspection\n",
    "with open(\"/workspaces/Coworking/page_source.html\", \"w\", encoding=\"utf-8\") as f:\n",
    "    f.write(driver.page_source)\n",
    "\n",
    "# Print coworking space elements\n",
    "try:\n",
    "    coworking_blocks = driver.find_elements(By.CSS_SELECTOR, \"div.SearchResult_container__0EI6G\")  # Adjust if needed\n",
    "    print(f\"Found {len(coworking_blocks)} coworking spaces.\")\n",
    "\n",
    "    for i, block in enumerate(coworking_blocks[:5]):  # Print first 5 elements\n",
    "        print(f\"🔹 Block {i+1} HTML:\")\n",
    "        print(block.get_attribute(\"outerHTML\"))\n",
    "        print(\"=\" * 50)\n",
    "\n",
    "except Exception as e:\n",
    "    print(\"Error finding coworking blocks:\", e)\n",
    "\n",
    "driver.quit()\n"
   ]
  },
  {
   "cell_type": "code",
   "execution_count": 4,
   "metadata": {},
   "outputs": [
    {
     "name": "stdout",
     "output_type": "stream",
     "text": [
      "🚀 Starting web scraping...\n",
      "Page title: Just a moment...\n",
      "❌ Error finding coworking blocks: Message: \n",
      "\n",
      "Empty DataFrame\n",
      "Columns: [Coworking Name, Address, Amenities, Price (per month)]\n",
      "Index: [] Total rows: 0\n",
      "✅ CSV file saved at /workspaces/Coworking/src/results/Madrid/coworkings_madrid.csv\n"
     ]
    }
   ],
   "source": [
    "from selenium import webdriver\n",
    "from selenium.webdriver.chrome.service import Service\n",
    "from selenium.webdriver.chrome.options import Options\n",
    "from selenium.webdriver.support.ui import WebDriverWait\n",
    "from selenium.webdriver.support import expected_conditions as EC\n",
    "from selenium.webdriver.common.by import By\n",
    "import time\n",
    "import pandas as pd\n",
    "import os\n",
    "\n",
    "def scrape_coworker_data(driver, city=\"madrid\"):\n",
    "    base_url = f\"https://www.coworker.com/spain/{city}?view=list\"\n",
    "    driver.get(base_url)\n",
    "\n",
    "    time.sleep(5)  # Wait for content to load\n",
    "\n",
    "    # ✅ Save page source for debugging\n",
    "    with open(f\"/workspaces/Coworking/page_source_{city}.html\", \"w\", encoding=\"utf-8\") as f:\n",
    "        f.write(driver.page_source)\n",
    "\n",
    "    # ✅ Print page title to confirm loading\n",
    "    print(f\"Page title: {driver.title}\")\n",
    "\n",
    "    coworkings, addresses, amenities, prices = [], [], [], []\n",
    "\n",
    "    while True:\n",
    "        wait = WebDriverWait(driver, 10)\n",
    "        try:\n",
    "            coworking_blocks = wait.until(EC.presence_of_all_elements_located((By.CSS_SELECTOR, \"div.SearchResult_container__0EI6G\")))\n",
    "            print(f\"Found {len(coworking_blocks)} coworking spaces on this page.\")\n",
    "        except Exception as e:\n",
    "            print(\"❌ Error finding coworking blocks:\", e)\n",
    "            break\n",
    "\n",
    "        for block in coworking_blocks:\n",
    "            try:\n",
    "                name = block.find_element(By.CSS_SELECTOR, \"p.SearchResult_container__content__title__fSW47\").text\n",
    "                address = block.find_element(By.CSS_SELECTOR, \"span.Transportation_name__CkTxv\").text\n",
    "                amenities_str = \", \".join([a.text for a in block.find_elements(By.CSS_SELECTOR, \"div.amenities li\")]) or \"N/A\"\n",
    "                price = block.find_element(By.CSS_SELECTOR, \"div.Prices_container__-8jBv p\").text or \"N/A\"\n",
    "\n",
    "                coworkings.append(name)\n",
    "                addresses.append(address)\n",
    "                amenities.append(amenities_str)\n",
    "                prices.append(price)\n",
    "\n",
    "            except Exception as e:\n",
    "                print(f\"⚠️ Error scraping a coworking space: {e}\")\n",
    "\n",
    "        try:\n",
    "            next_button = driver.find_element(By.CSS_SELECTOR, \"button.Pagination_page_link__4IZxn\")\n",
    "            next_button.click()\n",
    "            time.sleep(5)\n",
    "        except:\n",
    "            print(\"✅ No more pages. Scraping complete.\")\n",
    "            break\n",
    "\n",
    "    df = pd.DataFrame({\n",
    "        \"Coworking Name\": coworkings,\n",
    "        \"Address\": addresses,\n",
    "        \"Amenities\": amenities,\n",
    "        \"Price (per month)\": prices\n",
    "    })\n",
    "\n",
    "    print(df.head(), f\"Total rows: {df.shape[0]}\")\n",
    "\n",
    "    save_path = \"/workspaces/Coworking/src/results/Madrid/\"\n",
    "    os.makedirs(save_path, exist_ok=True)\n",
    "    csv_filename = os.path.join(save_path, f\"coworkings_{city}.csv\")\n",
    "    df.to_csv(csv_filename, index=False)\n",
    "\n",
    "    print(f\"✅ CSV file saved at {csv_filename}\")\n",
    "\n",
    "# ---------- Main Execution ----------\n",
    "if __name__ == \"__main__\":\n",
    "    chromedriver_path = \"/workspaces/Coworking/chromedriver-linux64/chromedriver\"\n",
    "\n",
    "    if not os.path.exists(chromedriver_path):\n",
    "        raise FileNotFoundError(f\"ChromeDriver not found at {chromedriver_path}\")\n",
    "\n",
    "    chrome_options = Options()\n",
    "    chrome_options.add_argument(\"--no-sandbox\")\n",
    "    chrome_options.add_argument(\"--disable-dev-shm-usage\")\n",
    "    chrome_options.add_argument(\"--headless=false\")  # ✅ Run with a visible browser for debugging\n",
    "\n",
    "    service = Service(chromedriver_path)\n",
    "    driver = webdriver.Chrome(service=service, options=chrome_options)\n",
    "\n",
    "    print(\"🚀 Starting web scraping...\")\n",
    "    scrape_coworker_data(driver, city=\"madrid\")\n",
    "\n",
    "    driver.quit()\n"
   ]
  },
  {
   "cell_type": "code",
   "execution_count": 2,
   "metadata": {},
   "outputs": [
    {
     "ename": "NameError",
     "evalue": "name 'df' is not defined",
     "output_type": "error",
     "traceback": [
      "\u001b[0;31m---------------------------------------------------------------------------\u001b[0m",
      "\u001b[0;31mNameError\u001b[0m                                 Traceback (most recent call last)",
      "Cell \u001b[0;32mIn[2], line 1\u001b[0m\n\u001b[0;32m----> 1\u001b[0m \u001b[43mdf\u001b[49m\u001b[38;5;241m.\u001b[39mhead()\n",
      "\u001b[0;31mNameError\u001b[0m: name 'df' is not defined"
     ]
    }
   ],
   "source": [
    "df.head()"
   ]
  }
 ],
 "metadata": {
  "kernelspec": {
   "display_name": "Python 3",
   "language": "python",
   "name": "python3"
  },
  "language_info": {
   "codemirror_mode": {
    "name": "ipython",
    "version": 3
   },
   "file_extension": ".py",
   "mimetype": "text/x-python",
   "name": "python",
   "nbconvert_exporter": "python",
   "pygments_lexer": "ipython3",
   "version": "3.11.11"
  }
 },
 "nbformat": 4,
 "nbformat_minor": 2
}

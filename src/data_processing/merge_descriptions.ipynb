{
 "cells": [
  {
   "cell_type": "markdown",
   "metadata": {},
   "source": [
    "# Clustering the coworking spaces."
   ]
  },
  {
   "cell_type": "markdown",
   "metadata": {},
   "source": [
    "## Merge the description from the JSON file of each city."
   ]
  },
  {
   "cell_type": "code",
   "execution_count": 1,
   "metadata": {},
   "outputs": [
    {
     "name": "stdout",
     "output_type": "stream",
     "text": [
      "                                                 url  \\\n",
      "0  https://www.coworker.com/spain/madrid/regus-ma...   \n",
      "1  https://www.coworker.com/spain/madrid/regus-la...   \n",
      "2  https://www.coworker.com/spain/madrid/regus-ma...   \n",
      "3  https://www.coworker.com/spain/madrid/wework-e...   \n",
      "4  https://www.coworker.com/spain/madrid/regus-ma...   \n",
      "\n",
      "                                                name address  \\\n",
      "0  Coworking Space: Regus - Madrid Financial Dist...           \n",
      "1  Coworking Space: Regus - LAS ROZAS, Las Rozas ...           \n",
      "2  Coworking Space: Regus - Madrid, Ortega y Gass...           \n",
      "3  Coworking Space: WeWork Eloy Gonzalo 27 in Madrid           \n",
      "4  Coworking Space: Regus - Madrid Pinar-Salamanc...           \n",
      "\n",
      "                                         description amenities  \\\n",
      "0  Overview of Regus - Madrid Financial District ...        []   \n",
      "1  Overview of Regus - LAS ROZAS, Las Rozas\\nThe ...        []   \n",
      "2  Overview of Regus - Madrid, Ortega y Gasset\\nT...        []   \n",
      "3  Overview of WeWork Eloy Gonzalo 27\\n***OPENING...        []   \n",
      "4  Overview of Regus - Madrid Pinar-Salamanca Dis...        []   \n",
      "\n",
      "                                 price  \n",
      "0  Private Office\\n from € 490\\n/month  \n",
      "1  Private Office\\n from € 189\\n/month  \n",
      "2  Private Office\\n from € 315\\n/month  \n",
      "3  Private Office\\n from € 980\\n/month  \n",
      "4  Private Office\\n from € 225\\n/month  \n",
      "All JSON files have been merged successfully!\n"
     ]
    }
   ],
   "source": [
    "import pandas as pd\n",
    "import json\n",
    "import os\n",
    "\n",
    "# List of JSON file paths (you should replace these with the correct paths to your files)\n",
    "json_files = [\n",
    "    \"/workspaces/Coworking/src/results/Madrid/Madrid_coworking_spaces.json\",\n",
    "    \"/workspaces/Coworking/src/results/Barcelona/Barcelona_coworking_spaces.json\",\n",
    "    \"/workspaces/Coworking/src/results/New York/New_York_coworking_spaces.json\",\n",
    "    \"/workspaces/Coworking/src/results/Tokyo/tokyo_coworking_spaces.json\",\n",
    "    \"/workspaces/Coworking/src/results/Sao Paulo/sp_coworking_spaces.json\"\n",
    "]\n",
    "\n",
    "# List to hold all dataframes\n",
    "dfs = []\n",
    "\n",
    "# Load each JSON file and convert it to a DataFrame\n",
    "for file in json_files:\n",
    "    with open(file, 'r', encoding='utf-8') as f:\n",
    "        data = json.load(f)\n",
    "        df = pd.DataFrame(data)\n",
    "        dfs.append(df)\n",
    "\n",
    "# Concatenate all the dataframes into one\n",
    "merged_df = pd.concat(dfs, ignore_index=True)\n",
    "\n",
    "# Optional: You can inspect the first few rows\n",
    "print(merged_df.head())\n",
    "\n",
    "# Save merged data to CSV\n",
    "merged_df.to_csv(\"merged_coworking_spaces.csv\", index=False)\n",
    "\n",
    "# Save merged data to JSON (optional)\n",
    "merged_df.to_json(\"merged_coworking_spaces.json\", orient=\"records\", lines=True, force_ascii=False)\n",
    "\n",
    "print(\"All JSON files have been merged successfully!\")\n"
   ]
  },
  {
   "cell_type": "markdown",
   "metadata": {},
   "source": [
    "## Using K-Means clustering "
   ]
  },
  {
   "cell_type": "code",
   "execution_count": null,
   "metadata": {},
   "outputs": [],
   "source": [
    "import pandas as pd\n",
    "from sklearn.feature_extraction.text import TfidfVectorizer\n",
    "from sklearn.preprocessing import StandardScaler\n",
    "from sklearn.cluster import KMeans\n",
    "import matplotlib.pyplot as plt\n",
    "import seaborn as sns\n",
    "\n",
    "open\n",
    "\n",
    "# Drop rows where price is missing or invalid\n",
    "merged_df = merged_df.dropna(subset=['price'])\n",
    "\n",
    "# Handle text in 'description' column using TF-IDF Vectorizer\n",
    "tfidf = TfidfVectorizer(stop_words='english', max_features=500)\n",
    "description_tfidf = tfidf.fit_transform(merged_df['description'])\n",
    "\n",
    "# Normalize the price data\n",
    "scaler = StandardScaler()\n",
    "normalized_price = scaler.fit_transform(merged_df[['price']])\n",
    "\n",
    "# Convert the sparse matrix from TF-IDF to a dense array\n",
    "description_tfidf = description_tfidf.toarray()\n",
    "\n",
    "# Combine the description features (TF-IDF) and price features (normalized)\n",
    "features = pd.concat([pd.DataFrame(description_tfidf), pd.DataFrame(normalized_price)], axis=1)\n",
    "\n",
    "# Perform K-Means clustering\n",
    "kmeans = KMeans(n_clusters=5, random_state=42)  # Set the number of clusters (5 is an example)\n",
    "merged_df['cluster'] = kmeans.fit_predict(features)\n",
    "\n",
    "# Visualize the clusters (using the first two features for simplicity)\n",
    "sns.scatterplot(x=features[:, 0], y=features[:, 1], hue=merged_df['cluster'], palette='viridis')\n",
    "plt.title('K-Means Clustering of Coworking Spaces')\n",
    "plt.xlabel('Feature 1 (from description TF-IDF)')\n",
    "plt.ylabel('Feature 2 (from description TF-IDF)')\n",
    "plt.legend()\n",
    "plt.show()\n",
    "\n",
    "# Optional: Inspect the clusters and the coworking spaces in each cluster\n",
    "for i in range(5):  # Assuming you have 5 clusters\n",
    "    print(f\"\\nCluster {i}:\")\n",
    "    cluster_centers = kmeans.cluster_centers_[i]\n",
    "    print(f\"Cluster center: {cluster_centers}\")\n",
    "    \n",
    "    cluster_coworking_spaces = merged_df[merged_df['cluster'] == i]\n",
    "    print(cluster_coworking_spaces[['name', 'price', 'address']].head())\n"
   ]
  }
 ],
 "metadata": {
  "kernelspec": {
   "display_name": "Python 3",
   "language": "python",
   "name": "python3"
  },
  "language_info": {
   "codemirror_mode": {
    "name": "ipython",
    "version": 3
   },
   "file_extension": ".py",
   "mimetype": "text/x-python",
   "name": "python",
   "nbconvert_exporter": "python",
   "pygments_lexer": "ipython3",
   "version": "3.11.11"
  }
 },
 "nbformat": 4,
 "nbformat_minor": 2
}

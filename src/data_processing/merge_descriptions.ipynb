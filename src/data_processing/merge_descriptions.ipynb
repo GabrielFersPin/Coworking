{
 "cells": [
  {
   "cell_type": "markdown",
   "metadata": {},
   "source": [
    "# Clustering the coworking spaces."
   ]
  },
  {
   "cell_type": "markdown",
   "metadata": {},
   "source": [
    "## Merge the description from the JSON file of each city."
   ]
  },
  {
   "cell_type": "code",
   "execution_count": null,
   "metadata": {},
   "outputs": [],
   "source": [
    "import pandas as pd\n",
    "import json\n",
    "import os\n",
    "\n",
    "# List of JSON file paths (you should replace these with the correct paths to your files)\n",
    "json_files = [\n",
    "    \"/workspaces/Coworking/src/results/Madrid/Madrid_coworking_spaces.json\",\n",
    "    \"/workspaces/Coworking/src/results/Barcelona/Barcelona_coworking_spaces.json\",\n",
    "    \"path_to_new_york.json\",\n",
    "    \"/workspaces/Coworking/src/results/Tokyo/tokyo_coworking_spaces.json\",\n",
    "    \"/workspaces/Coworking/src/results/Sao Paulo/sp_coworking_spaces.json\"\n",
    "]\n",
    "\n",
    "# List to hold all dataframes\n",
    "dfs = []\n",
    "\n",
    "# Load each JSON file and convert it to a DataFrame\n",
    "for file in json_files:\n",
    "    with open(file, 'r', encoding='utf-8') as f:\n",
    "        data = json.load(f)\n",
    "        df = pd.DataFrame(data)\n",
    "        dfs.append(df)\n",
    "\n",
    "# Concatenate all the dataframes into one\n",
    "merged_df = pd.concat(dfs, ignore_index=True)\n",
    "\n",
    "# Optional: You can inspect the first few rows\n",
    "print(merged_df.head())\n",
    "\n",
    "# Save merged data to CSV\n",
    "merged_df.to_csv(\"merged_coworking_spaces.csv\", index=False)\n",
    "\n",
    "# Save merged data to JSON (optional)\n",
    "merged_df.to_json(\"merged_coworking_spaces.json\", orient=\"records\", lines=True, force_ascii=False)\n",
    "\n",
    "print(\"All JSON files have been merged successfully!\")\n"
   ]
  },
  {
   "cell_type": "markdown",
   "metadata": {},
   "source": [
    "## Using K-Means clustering "
   ]
  },
  {
   "cell_type": "code",
   "execution_count": null,
   "metadata": {},
   "outputs": [],
   "source": [
    "import pandas as pd\n",
    "from sklearn.feature_extraction.text import TfidfVectorizer\n",
    "from sklearn.preprocessing import StandardScaler\n",
    "from sklearn.cluster import KMeans\n",
    "import matplotlib.pyplot as plt\n",
    "import seaborn as sns\n",
    "\n",
    "# Load the merged DataFrame (assuming it's already loaded in 'merged_df')\n",
    "# If you haven't loaded it yet, do so:\n",
    "# merged_df = pd.read_csv(\"merged_coworking_spaces.csv\")\n",
    "\n",
    "# Clean the 'price' column to extract numerical values\n",
    "merged_df['price'] = merged_df['price'].str.extract('(\\d+)', expand=False)\n",
    "merged_df['price'] = pd.to_numeric(merged_df['price'], errors='coerce')\n",
    "\n",
    "# Drop rows where price is missing or invalid\n",
    "merged_df = merged_df.dropna(subset=['price'])\n",
    "\n",
    "# Handle text in 'description' column using TF-IDF Vectorizer\n",
    "tfidf = TfidfVectorizer(stop_words='english', max_features=500)\n",
    "description_tfidf = tfidf.fit_transform(merged_df['description'])\n",
    "\n",
    "# Normalize the price data\n",
    "scaler = StandardScaler()\n",
    "normalized_price = scaler.fit_transform(merged_df[['price']])\n",
    "\n",
    "# Convert the sparse matrix from TF-IDF to a dense array\n",
    "description_tfidf = description_tfidf.toarray()\n",
    "\n",
    "# Combine the description features (TF-IDF) and price features (normalized)\n",
    "features = pd.concat([pd.DataFrame(description_tfidf), pd.DataFrame(normalized_price)], axis=1)\n",
    "\n",
    "# Perform K-Means clustering\n",
    "kmeans = KMeans(n_clusters=5, random_state=42)  # Set the number of clusters (5 is an example)\n",
    "merged_df['cluster'] = kmeans.fit_predict(features)\n",
    "\n",
    "# Visualize the clusters (using the first two features for simplicity)\n",
    "sns.scatterplot(x=features[:, 0], y=features[:, 1], hue=merged_df['cluster'], palette='viridis')\n",
    "plt.title('K-Means Clustering of Coworking Spaces')\n",
    "plt.xlabel('Feature 1 (from description TF-IDF)')\n",
    "plt.ylabel('Feature 2 (from description TF-IDF)')\n",
    "plt.legend()\n",
    "plt.show()\n",
    "\n",
    "# Optional: Inspect the clusters and the coworking spaces in each cluster\n",
    "for i in range(5):  # Assuming you have 5 clusters\n",
    "    print(f\"\\nCluster {i}:\")\n",
    "    cluster_centers = kmeans.cluster_centers_[i]\n",
    "    print(f\"Cluster center: {cluster_centers}\")\n",
    "    \n",
    "    cluster_coworking_spaces = merged_df[merged_df['cluster'] == i]\n",
    "    print(cluster_coworking_spaces[['name', 'price', 'address']].head())\n"
   ]
  }
 ],
 "metadata": {
  "kernelspec": {
   "display_name": "Python 3",
   "language": "python",
   "name": "python3"
  },
  "language_info": {
   "name": "python",
   "version": "3.11.11"
  }
 },
 "nbformat": 4,
 "nbformat_minor": 2
}

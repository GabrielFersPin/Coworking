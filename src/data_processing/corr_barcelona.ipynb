{
 "cells": [
  {
   "cell_type": "markdown",
   "metadata": {},
   "source": [
    "# Show the correlations using the location informations and the prices."
   ]
  },
  {
   "cell_type": "code",
   "execution_count": 4,
   "metadata": {},
   "outputs": [
    {
     "name": "stdout",
     "output_type": "stream",
     "text": [
      "Fallo inesperado\n"
     ]
    },
    {
     "ename": "NameError",
     "evalue": "name 'barcelona_location' is not defined",
     "output_type": "error",
     "traceback": [
      "\u001b[0;31m---------------------------------------------------------------------------\u001b[0m",
      "\u001b[0;31mNameError\u001b[0m                                 Traceback (most recent call last)",
      "Cell \u001b[0;32mIn[4], line 9\u001b[0m\n\u001b[1;32m      6\u001b[0m \u001b[38;5;28;01mexcept\u001b[39;00m \u001b[38;5;167;01mException\u001b[39;00m \u001b[38;5;28;01mas\u001b[39;00m e:\n\u001b[1;32m      7\u001b[0m     \u001b[38;5;28mprint\u001b[39m(\u001b[38;5;124m'\u001b[39m\u001b[38;5;124mFallo inesperado\u001b[39m\u001b[38;5;124m'\u001b[39m)\n\u001b[0;32m----> 9\u001b[0m \u001b[38;5;28mprint\u001b[39m(\u001b[43mbarcelona_location\u001b[49m)\n",
      "\u001b[0;31mNameError\u001b[0m: name 'barcelona_location' is not defined"
     ]
    }
   ],
   "source": [
    "import pandas as pd\n",
    "\n",
    "try:\n",
    "    barcelona_location = pd.read_csv('/workspaces/Coworking/src/results/Barcelona/LocationCoworking.csv')\n",
    "    print('File correct exported!')\n",
    "except Exception as e:\n",
    "    print('Fallo inesperado')\n",
    "    \n",
    "print(barcelona_location)\n"
   ]
  },
  {
   "cell_type": "code",
   "execution_count": 3,
   "metadata": {},
   "outputs": [
    {
     "name": "stdout",
     "output_type": "stream",
     "text": [
      "File correct exported!\n",
      "                                              Name  Daily Price  Fix Desk\n",
      "0                   Betahaus | Coworking Barcelona           20       275\n",
      "1  OneCoWork Plaça Catalunya | Barcelona Coworking           25       235\n",
      "2         OneCoWork Catedral | Barcelona Coworking           25       265\n",
      "3                          Coworking space Camaleó           25       200\n",
      "4                      La Vaca Coworking Barcelona           22       240\n"
     ]
    }
   ],
   "source": [
    "import pandas as pd\n",
    "\n",
    "try:\n",
    "    barcelona_prices = pd.read_csv('/workspaces/Coworking/src/results/Barcelona/PreciosCoworking.csv')\n",
    "    print('File correct exported!')\n",
    "except Exception as e:\n",
    "    print('Fallo inesperado')\n",
    "    \n",
    "print(barcelona_prices)"
   ]
  }
 ],
 "metadata": {
  "kernelspec": {
   "display_name": "new_venv",
   "language": "python",
   "name": "python3"
  },
  "language_info": {
   "codemirror_mode": {
    "name": "ipython",
    "version": 3
   },
   "file_extension": ".py",
   "mimetype": "text/x-python",
   "name": "python",
   "nbconvert_exporter": "python",
   "pygments_lexer": "ipython3",
   "version": "3.12.1"
  }
 },
 "nbformat": 4,
 "nbformat_minor": 2
}

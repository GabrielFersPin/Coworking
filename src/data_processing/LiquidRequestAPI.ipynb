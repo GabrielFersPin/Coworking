{
 "cells": [
  {
   "cell_type": "code",
   "execution_count": null,
   "metadata": {},
   "outputs": [],
   "source": [
    "########### Python 3.2 #############\n",
    "import urllib.request, json\n",
    "\n",
    "try:\n",
    "    url = \"https://api.liquidspace.com/marketplace/api/search\"\n",
    "\n",
    "    hdr ={\n",
    "    # Request headers\n",
    "    'Content-Type': 'application/json',\n",
    "    'Cache-Control': 'no-cache',\n",
    "    }\n",
    "\n",
    "    # Request body\n",
    "    data =  \n",
    "    data = json.dumps(data)\n",
    "    req = urllib.request.Request(url, headers=hdr, data = bytes(data.encode(\"utf-8\")))\n",
    "\n",
    "    req.get_method = lambda: 'POST'\n",
    "    response = urllib.request.urlopen(req)\n",
    "    print(response.getcode())\n",
    "    print(response.read())\n",
    "except Exception as e:\n",
    "    print(e)\n",
    "####################################"
   ]
  }
 ],
 "metadata": {
  "kernelspec": {
   "display_name": "new_venv",
   "language": "python",
   "name": "python3"
  },
  "language_info": {
   "name": "python",
   "version": "3.12.1"
  }
 },
 "nbformat": 4,
 "nbformat_minor": 2
}

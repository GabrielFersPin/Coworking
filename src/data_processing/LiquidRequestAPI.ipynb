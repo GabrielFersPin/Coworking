{
 "cells": [
  {
   "cell_type": "code",
<<<<<<< HEAD
   "execution_count": 6,
=======
   "execution_count": 8,
>>>>>>> 84b5dbff4 (	new file:   src/data_processing/LiquidRequestAPI.ipynb)
   "execution_count": 1,
   "metadata": {},
   "outputs": [
    {
     "ename": "ValueError",
     "evalue": "⚠️ API Key not found! Make sure to set it as an environment variable.",
     "output_type": "error",
     "traceback": [
      "\u001b[0;31m---------------------------------------------------------------------------\u001b[0m",
      "\u001b[0;31mValueError\u001b[0m                                Traceback (most recent call last)",
      "Cell \u001b[0;32mIn[1], line 53\u001b[0m\n\u001b[1;32m     51\u001b[0m API_KEY \u001b[38;5;241m=\u001b[39m os\u001b[38;5;241m.\u001b[39mgetenv(\u001b[38;5;124m\"\u001b[39m\u001b[38;5;124mGOOGLE_PLACES_API_KEY\u001b[39m\u001b[38;5;124m\"\u001b[39m)\n\u001b[1;32m     52\u001b[0m \u001b[38;5;28;01mif\u001b[39;00m \u001b[38;5;129;01mnot\u001b[39;00m API_KEY:\n\u001b[0;32m---> 53\u001b[0m     \u001b[38;5;28;01mraise\u001b[39;00m \u001b[38;5;167;01mValueError\u001b[39;00m(\u001b[38;5;124m\"\u001b[39m\u001b[38;5;124m⚠️ API Key not found! Make sure to set it as an environment variable.\u001b[39m\u001b[38;5;124m\"\u001b[39m)\n\u001b[1;32m     55\u001b[0m \u001b[38;5;28mprint\u001b[39m(\u001b[38;5;124mf\u001b[39m\u001b[38;5;124m\"\u001b[39m\u001b[38;5;124m✅ API Key Loaded Successfully: \u001b[39m\u001b[38;5;132;01m{\u001b[39;00mAPI_KEY[:\u001b[38;5;241m4\u001b[39m]\u001b[38;5;132;01m}\u001b[39;00m\u001b[38;5;124m****\u001b[39m\u001b[38;5;124m\"\u001b[39m)  \u001b[38;5;66;03m# Only show part of the key for debugging\u001b[39;00m\n\u001b[1;32m     56\u001b[0m CITY \u001b[38;5;241m=\u001b[39m \u001b[38;5;124m\"\u001b[39m\u001b[38;5;124mBarcelona\u001b[39m\u001b[38;5;124m\"\u001b[39m\n",
      "\u001b[0;31mValueError\u001b[0m: ⚠️ API Key not found! Make sure to set it as an environment variable."
     ]
    }
   ],
   "source": [
    "import os\n",
    "import requests\n",
    "import pandas as pd\n",
    "from dotenv import load_dotenv\n",
    "\n",
    "def fetch_coworking_places(city, api_key):\n",
    "    url = \"https://places.googleapis.com/v1/places:searchText\"\n",
    "    headers = {\n",
    "        \"Content-Type\": \"application/json\",\n",
    "        \"X-Goog-Api-Key\": api_key,\n",
    "        \"X-Goog-FieldMask\": \"places.displayName,places.formattedAddress,places.priceLevel,places.rating,places.userRatingCount,places.location\"\n",
    "    }\n",
    "    data = {\n",
    "        \"textQuery\": f\"coworking spaces in {city}\"\n",
    "    }\n",
    "    \n",
    "    places = []\n",
    "    next_page_token = None\n",
    "    \n",
    "    while True:\n",
    "        if next_page_token:\n",
    "            data[\"pageToken\"] = next_page_token\n",
    "        \n",
    "        try:\n",
    "            response = requests.post(url, headers=headers, json=data)\n",
    "            response.raise_for_status()\n",
    "        except requests.exceptions.RequestException as e:\n",
    "            print(f\"Error fetching data: {e}\")\n",
    "            return []\n",
    "        \n",
    "        results = response.json().get(\"places\", [])\n",
    "        for place in results:\n",
    "            places.append({\n",
    "                \"Name\": place.get(\"displayName\", {}).get(\"text\", \"N/A\"),\n",
    "                \"Address\": place.get(\"formattedAddress\", \"N/A\"),\n",
    "                \"Latitude\": place.get(\"location\", {}).get(\"latitude\", \"N/A\"),\n",
    "                \"Longitude\": place.get(\"location\", {}).get(\"longitude\", \"N/A\"),\n",
    "                \"Price Level\": place.get(\"priceLevel\", \"N/A\"),\n",
    "                \"Rating\": place.get(\"rating\", \"N/A\"),\n",
    "                \"User Rating Count\": place.get(\"userRatingCount\", \"N/A\")\n",
    "            })\n",
    "        \n",
    "        next_page_token = response.json().get(\"nextPageToken\")\n",
    "        if not next_page_token:\n",
    "            break\n",
    "    \n",
    "    return places\n",
    "\n",
    "# Load environment variables\n",
    "load_dotenv()\n",
    "API_KEY = os.getenv(\"GOOGLE_PLACES_API_KEY\")\n",
    "if not API_KEY:\n",
    "    raise ValueError(\"⚠️ API Key not found! Make sure to set it as an environment variable.\")\n",
    "\n",
    "print(f\"✅ API Key Loaded Successfully: {API_KEY[:4]}****\")  # Only show part of the key for debugging\n",
    "CITY = \"Barcelona\"\n",
    "\n",
    "# Fetch coworking places\n",
    "coworking_places = fetch_coworking_places(CITY, API_KEY)\n",
    "\n",
    "# Save data to CSV\n",
    "df = pd.DataFrame(coworking_places)\n",
    "df.to_csv(\"BarcelonaPlaces.csv\", index=False, encoding=\"utf-8-sig\")\n",
    "\n",
    "print(\"✅ Datos guardados en BarcelonaPlaces.csv\")"
   ]
  }
 ],
 "metadata": {
  "kernelspec": {
   "display_name": "new_venv",
   "language": "python",
   "name": "python3"
  },
  "language_info": {
   "codemirror_mode": {
    "name": "ipython",
    "version": 3
   },
   "file_extension": ".py",
   "mimetype": "text/x-python",
   "name": "python",
   "nbconvert_exporter": "python",
   "pygments_lexer": "ipython3",
   "version": "3.12.1"
  }
 },
 "nbformat": 4,
 "nbformat_minor": 2
}

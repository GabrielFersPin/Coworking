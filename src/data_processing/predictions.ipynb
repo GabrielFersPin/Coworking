{
 "cells": [
  {
   "cell_type": "markdown",
   "metadata": {},
   "source": [
    "# Predictions using the location informations and the prices."
   ]
  },
  {
   "cell_type": "markdown",
   "metadata": {},
   "source": [
    "## Load CSV files"
   ]
  },
  {
   "cell_type": "code",
   "execution_count": 26,
   "metadata": {},
   "outputs": [
    {
     "ename": "SyntaxError",
     "evalue": "(unicode error) 'unicodeescape' codec can't decode bytes in position 0-1: truncated \\UXXXXXXXX escape (3754768711.py, line 4)",
     "output_type": "error",
     "traceback": [
      "\u001b[0;36m  Cell \u001b[0;32mIn[26], line 4\u001b[0;36m\u001b[0m\n\u001b[0;31m    merge_df = pd.read_csv('\\Users\\Sysadmin\\Downloads\\Coworking-main\\Coworking-main\\merged_df.csv')\u001b[0m\n\u001b[0m                           ^\u001b[0m\n\u001b[0;31mSyntaxError\u001b[0m\u001b[0;31m:\u001b[0m (unicode error) 'unicodeescape' codec can't decode bytes in position 0-1: truncated \\UXXXXXXXX escape\n"
     ]
    }
   ],
   "source": [
    "import pandas as pd\n",
    "\n",
    "# Load the two CSV files into dataframes\n",
    "merge_df = pd.read_csv('\\Users\\Sysadmin\\Downloads\\Coworking-main\\Coworking-main\\merged_df.csv')\n",
    "\n",
    "# Display the first few rows to confirm the data is loaded correctly\n",
    "print(merge_df.head())\n"
   ]
  },
  {
   "cell_type": "code",
   "execution_count": null,
   "metadata": {},
   "outputs": [
    {
     "name": "stdout",
     "output_type": "stream",
     "text": [
      "Population                    10816.0\n",
      "Household average net rent    40008.0\n",
      "dtype: float64\n",
      "Population                    10816.0\n",
      "Household average net rent    40008.0\n",
      "dtype: float64\n",
      "Population                    float64\n",
      "Household average net rent      int64\n",
      "dtype: object\n"
     ]
    }
   ],
   "source": [
    "# Check the minimum and maximum values of each column\n",
    "print(merged_df[['Population', 'Household average net rent']].min())\n",
    "print(merged_df[['Population', 'Household average net rent']].max())\n",
    "\n",
    "# Check for any non-numeric entries\n",
    "print(merged_df[['Population', 'Household average net rent']].dtypes)\n"
   ]
  },
  {
   "cell_type": "markdown",
   "metadata": {},
   "source": [
    "## Merge the dataframes."
   ]
  },
  {
   "cell_type": "code",
   "execution_count": 2,
   "metadata": {},
   "outputs": [
    {
     "name": "stdout",
     "output_type": "stream",
     "text": [
      "Index(['Unnamed: 0', 'Neightboorhood', 'Population',\n",
      "       'Percentage of population between 16 and 64 years', 'ForeignPopulation',\n",
      "       'Unemployes', 'Household average net rent', 'Metro', 'Closest bus stop',\n",
      "       'formatted_address', 'lat', 'lng'],\n",
      "      dtype='object')\n",
      "Index(['Unnamed: 0', 'EslabOn', 'Area', 'Freeland', 'Talent Garden', 'Loom'], dtype='object')\n"
     ]
    }
   ],
   "source": [
    "# Check the columns of both dataframes\n",
    "print(coworking_info_df.columns)\n",
    "print(prices_df.columns)\n"
   ]
  },
  {
   "cell_type": "code",
   "execution_count": 3,
   "metadata": {},
   "outputs": [],
   "source": [
    "# Rename the 'Unnamed: 0' column to 'Coworking Area' in coworking_info_df\n",
    "coworking_info_df.rename(columns={'Unnamed: 0': 'Coworking Area'}, inplace=True)"
   ]
  },
  {
   "cell_type": "code",
   "execution_count": 4,
   "metadata": {},
   "outputs": [],
   "source": [
    "# Transpose the prices dataframe to make the coworking areas as rows\n",
    "prices_df_transposed = prices_df.transpose()\n",
    "\n",
    "# Reset index and rename the columns appropriately\n",
    "prices_df_transposed.reset_index(inplace=True)\n",
    "prices_df_transposed.columns = ['Coworking Area', 'Mesa Fija', 'Mesa Flexible', 'Despacho Priado', 'Pases/Bonos (días)']\n"
   ]
  },
  {
   "cell_type": "code",
   "execution_count": null,
   "metadata": {},
   "outputs": [
    {
     "name": "stdout",
     "output_type": "stream",
     "text": [
      "  Coworking Area Neightboorhood  Population  \\\n",
      "0       Freeland         Cortes     10816.0   \n",
      "\n",
      "  Percentage of population between 16 and 64 years ForeignPopulation  \\\n",
      "0                                            76,4%             28,4%   \n",
      "\n",
      "   Unemployes  Household average net rent  Metro Closest bus stop  \\\n",
      "0         438                       40008     10             110m   \n",
      "\n",
      "                                   formatted_address        lat       lng  \\\n",
      "0  C. de Gandía, 1, local 9A, Retiro, 28007 Madri...  40.398585 -3.671745   \n",
      "\n",
      "  Mesa Fija Mesa Flexible Despacho Priado Pases/Bonos (días)  \n",
      "0       150            95             375                 20  \n"
     ]
    }
   ],
   "source": [
    "# Merge the two dataframes on 'Coworking Area'\n",
    "merged_df = pd.merge(coworking_info_df, prices_df_transposed, how='inner', on='Coworking Area')\n",
    "\n",
    "# Display the merged dataframe\n",
    "print(merged_df.head())\n"
   ]
  },
  {
   "cell_type": "markdown",
   "metadata": {},
   "source": [
    "## Data Processing."
   ]
  },
  {
   "cell_type": "code",
   "execution_count": 11,
   "metadata": {},
   "outputs": [
    {
     "name": "stdout",
     "output_type": "stream",
     "text": [
      "<class 'pandas.core.frame.DataFrame'>\n",
      "RangeIndex: 1 entries, 0 to 0\n",
      "Data columns (total 16 columns):\n",
      " #   Column                                            Non-Null Count  Dtype  \n",
      "---  ------                                            --------------  -----  \n",
      " 0   Coworking Area                                    1 non-null      object \n",
      " 1   Neightboorhood                                    1 non-null      object \n",
      " 2   Population                                        1 non-null      float64\n",
      " 3   Percentage of population between 16 and 64 years  1 non-null      float64\n",
      " 4   ForeignPopulation                                 1 non-null      float64\n",
      " 5   Unemployes                                        1 non-null      int64  \n",
      " 6   Household average net rent                        1 non-null      int64  \n",
      " 7   Metro                                             1 non-null      int64  \n",
      " 8   Closest bus stop                                  1 non-null      object \n",
      " 9   formatted_address                                 1 non-null      object \n",
      " 10  lat                                               1 non-null      float64\n",
      " 11  lng                                               1 non-null      float64\n",
      " 12  Mesa Fija                                         1 non-null      object \n",
      " 13  Mesa Flexible                                     1 non-null      object \n",
      " 14  Despacho Priado                                   1 non-null      object \n",
      " 15  Pases/Bonos (días)                                1 non-null      object \n",
      "dtypes: float64(5), int64(3), object(8)\n",
      "memory usage: 260.0+ bytes\n"
     ]
    }
   ],
   "source": [
    "merged_df.info()"
   ]
  },
  {
   "cell_type": "code",
   "execution_count": 15,
   "metadata": {},
   "outputs": [
    {
     "name": "stdout",
     "output_type": "stream",
     "text": [
      "  Coworking Area Neightboorhood  Population  \\\n",
      "0       Freeland         Cortes     10816.0   \n",
      "\n",
      "   Percentage of population between 16 and 64 years  ForeignPopulation  \\\n",
      "0                                             0.764              0.284   \n",
      "\n",
      "   Unemployes  Household average net rent  Metro Closest bus stop  \\\n",
      "0         438                       40008     10             110m   \n",
      "\n",
      "                                   formatted_address        lat       lng  \\\n",
      "0  C. de Gandía, 1, local 9A, Retiro, 28007 Madri...  40.398585 -3.671745   \n",
      "\n",
      "   Mesa Fija  Mesa Flexible  Despacho Priado  Pases/Bonos (días)  \n",
      "0        150             95              375                  20  \n"
     ]
    }
   ],
   "source": [
    "import pandas as pd\n",
    "\n",
    "# Convert price columns to numeric values\n",
    "merged_df['Mesa Fija'] = pd.to_numeric(merged_df['Mesa Fija'], errors='coerce')\n",
    "merged_df['Mesa Flexible'] = pd.to_numeric(merged_df['Mesa Flexible'], errors='coerce')\n",
    "merged_df['Despacho Priado'] = pd.to_numeric(merged_df['Despacho Priado'], errors='coerce')\n",
    "merged_df['Pases/Bonos (días)'] = pd.to_numeric(merged_df['Pases/Bonos (días)'], errors='coerce')\n",
    "\n",
    "# Check the dataframe after cleaning\n",
    "print(merged_df.head())\n"
   ]
  },
  {
   "cell_type": "code",
   "execution_count": 7,
   "metadata": {},
   "outputs": [],
   "source": [
    "# Clean the percentage columns by replacing commas with dots and removing the '%' symbol\n",
    "merged_df['Percentage of population between 16 and 64 years'] = merged_df['Percentage of population between 16 and 64 years'] \\\n",
    "    .str.replace(',', '.', regex=False) \\\n",
    "    .str.replace('%', '', regex=False) \\\n",
    "    .astype(float) / 100\n",
    "\n",
    "# Clean the 'ForeignPopulation' column (if necessary)\n",
    "merged_df['ForeignPopulation'] = merged_df['ForeignPopulation'] \\\n",
    "    .str.replace(',', '.', regex=False) \\\n",
    "    .str.replace('%', '', regex=False) \\\n",
    "    .astype(float) / 100\n"
   ]
  },
  {
   "cell_type": "code",
   "execution_count": 8,
   "metadata": {},
   "outputs": [
    {
     "name": "stdout",
     "output_type": "stream",
     "text": [
      "   Percentage of population between 16 and 64 years  ForeignPopulation\n",
      "0                                             0.764              0.284\n"
     ]
    }
   ],
   "source": [
    "print(merged_df[['Percentage of population between 16 and 64 years', 'ForeignPopulation']].head())"
   ]
  },
  {
   "cell_type": "code",
   "execution_count": 17,
   "metadata": {},
   "outputs": [
    {
     "name": "stdout",
     "output_type": "stream",
     "text": [
      "   Population  Household average net rent  Mesa Fija  Mesa Flexible  \\\n",
      "0         0.0                         0.0        0.0            0.0   \n",
      "\n",
      "   Despacho Priado  Pases/Bonos (días)  \n",
      "0              0.0                 0.0  \n"
     ]
    }
   ],
   "source": [
    "from sklearn.preprocessing import MinMaxScaler\n",
    "\n",
    "# Select the columns to normalize (numerical columns)\n",
    "columns_to_normalize = ['Population', 'Household average net rent', 'Mesa Fija', 'Mesa Flexible', 'Despacho Priado', 'Pases/Bonos (días)']\n",
    "\n",
    "# Apply MinMaxScaler to normalize data\n",
    "scaler = MinMaxScaler()\n",
    "\n",
    "merged_df[columns_to_normalize] = scaler.fit_transform(merged_df[columns_to_normalize])\n",
    "\n",
    "print(merged_df[columns_to_normalize].head())\n"
   ]
  },
  {
   "cell_type": "markdown",
   "metadata": {},
   "source": [
    "## Visualizations."
   ]
  },
  {
   "cell_type": "markdown",
   "metadata": {},
   "source": [
    "### Heatmap"
   ]
  },
  {
   "cell_type": "markdown",
   "metadata": {},
   "source": [
    "### Radar Chart."
   ]
  },
  {
   "cell_type": "markdown",
   "metadata": {},
   "source": [
    "### Bar chart"
   ]
  }
 ],
 "metadata": {
  "kernelspec": {
   "display_name": "new_venv",
   "language": "python",
   "name": "python3"
  },
  "language_info": {
   "codemirror_mode": {
    "name": "ipython",
    "version": 3
   },
   "file_extension": ".py",
   "mimetype": "text/x-python",
   "name": "python",
   "nbconvert_exporter": "python",
   "pygments_lexer": "ipython3",
   "version": "3.12.1"
  }
 },
 "nbformat": 4,
 "nbformat_minor": 2
}

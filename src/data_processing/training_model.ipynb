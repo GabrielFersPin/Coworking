{
 "cells": [
  {
   "cell_type": "markdown",
   "metadata": {},
   "source": [
    "# Predicting the price of the places."
   ]
  },
  {
   "cell_type": "code",
   "execution_count": 1,
   "metadata": {},
   "outputs": [],
   "source": [
    "import pandas as pd\n",
    "\n",
    "df = pd.read_csv('/workspaces/Coworking/src/results/MergedPlacesScore.csv')"
   ]
  },
  {
   "cell_type": "code",
   "execution_count": 2,
   "metadata": {},
   "outputs": [
    {
     "name": "stdout",
     "output_type": "stream",
     "text": [
      "<class 'pandas.core.frame.DataFrame'>\n",
      "RangeIndex: 19 entries, 0 to 18\n",
      "Data columns (total 18 columns):\n",
      " #   Column                                            Non-Null Count  Dtype  \n",
      "---  ------                                            --------------  -----  \n",
      " 0   name                                              19 non-null     object \n",
      " 1   City                                              19 non-null     object \n",
      " 2   Country                                           19 non-null     object \n",
      " 3   Neighborhood                                      19 non-null     object \n",
      " 4   Population                                        19 non-null     int64  \n",
      " 5   Median Household Income                           19 non-null     float64\n",
      " 6   Percentage of population between 16 and 64 years  19 non-null     float64\n",
      " 7   Transport                                         19 non-null     int64  \n",
      " 8   Day Pass                                          19 non-null     float64\n",
      " 9   Month Pass                                        19 non-null     float64\n",
      " 10  Address                                           19 non-null     object \n",
      " 11  Latitude                                          19 non-null     float64\n",
      " 12  Longitude                                         19 non-null     float64\n",
      " 13  Rating                                            19 non-null     float64\n",
      " 14  User Rating Count                                 19 non-null     int64  \n",
      " 15  Weighted Rating                                   19 non-null     float64\n",
      " 16  Score                                             19 non-null     float64\n",
      " 17  distance_from_center                              19 non-null     float64\n",
      "dtypes: float64(10), int64(3), object(5)\n",
      "memory usage: 2.8+ KB\n"
     ]
    }
   ],
   "source": [
    "df.info()"
   ]
  },
  {
   "cell_type": "code",
   "execution_count": 3,
   "metadata": {},
   "outputs": [],
   "source": [
    "# Drop the Address column as it doesn't add predictive value\n",
    "df = df.drop(columns=[\"Address\", 'Latitude', 'Longitude'])"
   ]
  },
  {
   "cell_type": "code",
   "execution_count": 4,
   "metadata": {},
   "outputs": [],
   "source": [
    "from sklearn.preprocessing import OneHotEncoder\n",
    "import joblib\n",
    "\n",
    "# One-hot encode categorical features like City and Neighborhood\n",
    "city_encoder = OneHotEncoder(sparse_output=False)\n",
    "city_encoded = city_encoder.fit_transform(df[['City']])\n",
    "\n",
    "neighborhood_encoder = OneHotEncoder(sparse_output=False)\n",
    "neighborhood_encoded = neighborhood_encoder.fit_transform(df[['Neighborhood']])\n",
    "\n",
    "# Create DataFrames from the one-hot encoded features\n",
    "city_encoded_df = pd.DataFrame(city_encoded, columns=city_encoder.categories_[0])\n",
    "neighborhood_encoded_df = pd.DataFrame(neighborhood_encoded, columns=neighborhood_encoder.categories_[0])\n",
    "\n",
    "# Save the encoders\n",
    "joblib.dump(city_encoder, \"/workspaces/Coworking/src/results/city_encoder.pkl\")\n",
    "joblib.dump(neighborhood_encoder, \"/workspaces/Coworking/src/results/neighborhood_encoder.pkl\")\n",
    "\n",
    "# Combine the original dataframe with the encoded columns\n",
    "df_encoded = pd.concat([df, city_encoded_df, neighborhood_encoded_df], axis=1)"
   ]
  },
  {
   "cell_type": "code",
   "execution_count": 5,
   "metadata": {},
   "outputs": [
    {
     "data": {
      "text/html": [
       "<div>\n",
       "<style scoped>\n",
       "    .dataframe tbody tr th:only-of-type {\n",
       "        vertical-align: middle;\n",
       "    }\n",
       "\n",
       "    .dataframe tbody tr th {\n",
       "        vertical-align: top;\n",
       "    }\n",
       "\n",
       "    .dataframe thead th {\n",
       "        text-align: right;\n",
       "    }\n",
       "</style>\n",
       "<table border=\"1\" class=\"dataframe\">\n",
       "  <thead>\n",
       "    <tr style=\"text-align: right;\">\n",
       "      <th></th>\n",
       "      <th>Barcelona</th>\n",
       "      <th>Madrid</th>\n",
       "      <th>New York</th>\n",
       "      <th>Tokyo</th>\n",
       "    </tr>\n",
       "  </thead>\n",
       "  <tbody>\n",
       "    <tr>\n",
       "      <th>0</th>\n",
       "      <td>0.0</td>\n",
       "      <td>0.0</td>\n",
       "      <td>1.0</td>\n",
       "      <td>0.0</td>\n",
       "    </tr>\n",
       "    <tr>\n",
       "      <th>1</th>\n",
       "      <td>0.0</td>\n",
       "      <td>0.0</td>\n",
       "      <td>1.0</td>\n",
       "      <td>0.0</td>\n",
       "    </tr>\n",
       "    <tr>\n",
       "      <th>2</th>\n",
       "      <td>0.0</td>\n",
       "      <td>0.0</td>\n",
       "      <td>1.0</td>\n",
       "      <td>0.0</td>\n",
       "    </tr>\n",
       "    <tr>\n",
       "      <th>3</th>\n",
       "      <td>0.0</td>\n",
       "      <td>0.0</td>\n",
       "      <td>1.0</td>\n",
       "      <td>0.0</td>\n",
       "    </tr>\n",
       "    <tr>\n",
       "      <th>4</th>\n",
       "      <td>0.0</td>\n",
       "      <td>0.0</td>\n",
       "      <td>1.0</td>\n",
       "      <td>0.0</td>\n",
       "    </tr>\n",
       "  </tbody>\n",
       "</table>\n",
       "</div>"
      ],
      "text/plain": [
       "   Barcelona  Madrid  New York  Tokyo\n",
       "0        0.0     0.0       1.0    0.0\n",
       "1        0.0     0.0       1.0    0.0\n",
       "2        0.0     0.0       1.0    0.0\n",
       "3        0.0     0.0       1.0    0.0\n",
       "4        0.0     0.0       1.0    0.0"
      ]
     },
     "execution_count": 5,
     "metadata": {},
     "output_type": "execute_result"
    }
   ],
   "source": [
    "city_encoded_df.head()"
   ]
  },
  {
   "cell_type": "code",
   "execution_count": 6,
   "metadata": {},
   "outputs": [
    {
     "data": {
      "text/plain": [
       "Index(['Barcelona', 'Madrid', 'New York', 'Tokyo'], dtype='object')"
      ]
     },
     "execution_count": 6,
     "metadata": {},
     "output_type": "execute_result"
    }
   ],
   "source": [
    "city_encoded_df.columns"
   ]
  },
  {
   "cell_type": "code",
   "execution_count": 7,
   "metadata": {},
   "outputs": [
    {
     "data": {
      "text/plain": [
       "Index(['Adelfas', 'Akasaka', 'Ciutat Vella', 'Cortes', 'Delicias', 'Gràcia',\n",
       "       'Higashishinjuku', 'Midtown', 'Nishiogi', 'Opañel', 'Sants-Montjuic',\n",
       "       'Shibuya', 'Shinbashi', 'SoHo', 'Williansburg'],\n",
       "      dtype='object')"
      ]
     },
     "execution_count": 7,
     "metadata": {},
     "output_type": "execute_result"
    }
   ],
   "source": [
    "neighborhood_encoded_df.columns"
   ]
  },
  {
   "cell_type": "code",
   "execution_count": 8,
   "metadata": {},
   "outputs": [
    {
     "name": "stdout",
     "output_type": "stream",
     "text": [
      "<class 'pandas.core.frame.DataFrame'>\n",
      "RangeIndex: 19 entries, 0 to 18\n",
      "Data columns (total 34 columns):\n",
      " #   Column                                            Non-Null Count  Dtype  \n",
      "---  ------                                            --------------  -----  \n",
      " 0   name                                              19 non-null     object \n",
      " 1   City                                              19 non-null     object \n",
      " 2   Country                                           19 non-null     object \n",
      " 3   Neighborhood                                      19 non-null     object \n",
      " 4   Population                                        19 non-null     int64  \n",
      " 5   Median Household Income                           19 non-null     float64\n",
      " 6   Percentage of population between 16 and 64 years  19 non-null     float64\n",
      " 7   Transport                                         19 non-null     int64  \n",
      " 8   Day Pass                                          19 non-null     float64\n",
      " 9   Month Pass                                        19 non-null     float64\n",
      " 10  Rating                                            19 non-null     float64\n",
      " 11  User Rating Count                                 19 non-null     int64  \n",
      " 12  Weighted Rating                                   19 non-null     float64\n",
      " 13  Score                                             19 non-null     float64\n",
      " 14  distance_from_center                              19 non-null     float64\n",
      " 15  Barcelona                                         19 non-null     float64\n",
      " 16  Madrid                                            19 non-null     float64\n",
      " 17  New York                                          19 non-null     float64\n",
      " 18  Tokyo                                             19 non-null     float64\n",
      " 19  Adelfas                                           19 non-null     float64\n",
      " 20  Akasaka                                           19 non-null     float64\n",
      " 21  Ciutat Vella                                      19 non-null     float64\n",
      " 22  Cortes                                            19 non-null     float64\n",
      " 23  Delicias                                          19 non-null     float64\n",
      " 24  Gràcia                                            19 non-null     float64\n",
      " 25  Higashishinjuku                                   19 non-null     float64\n",
      " 26  Midtown                                           19 non-null     float64\n",
      " 27  Nishiogi                                          19 non-null     float64\n",
      " 28  Opañel                                            19 non-null     float64\n",
      " 29  Sants-Montjuic                                    19 non-null     float64\n",
      " 30  Shibuya                                           19 non-null     float64\n",
      " 31  Shinbashi                                         19 non-null     float64\n",
      " 32  SoHo                                              19 non-null     float64\n",
      " 33  Williansburg                                      19 non-null     float64\n",
      "dtypes: float64(27), int64(3), object(4)\n",
      "memory usage: 5.2+ KB\n"
     ]
    }
   ],
   "source": [
    "df_encoded.info()"
   ]
  },
  {
   "cell_type": "code",
   "execution_count": 9,
   "metadata": {},
   "outputs": [],
   "source": [
    "import numpy as np\n",
    "\n",
    "# Add log transformations for skewed variables\n",
    "df_encoded['log_population'] = np.log(df_encoded['Population'] + 1)\n",
    "df_encoded['log_income'] = np.log(df_encoded['Median Household Income'] + 1)\n",
    "df_encoded['log_distance'] = np.log(df_encoded['distance_from_center'] + 1)\n",
    "df_encoded['income_per_capita'] = df_encoded['Median Household Income'] / df_encoded['Population']\n",
    "\n",
    "# Drop the original columns\n",
    "df_encoded = df_encoded.drop(columns=['Population', 'Median Household Income', 'distance_from_center'])"
   ]
  },
  {
   "cell_type": "code",
   "execution_count": 10,
   "metadata": {},
   "outputs": [
    {
     "name": "stdout",
     "output_type": "stream",
     "text": [
      "<class 'pandas.core.frame.DataFrame'>\n",
      "RangeIndex: 19 entries, 0 to 18\n",
      "Data columns (total 35 columns):\n",
      " #   Column                                            Non-Null Count  Dtype  \n",
      "---  ------                                            --------------  -----  \n",
      " 0   name                                              19 non-null     object \n",
      " 1   City                                              19 non-null     object \n",
      " 2   Country                                           19 non-null     object \n",
      " 3   Neighborhood                                      19 non-null     object \n",
      " 4   Percentage of population between 16 and 64 years  19 non-null     float64\n",
      " 5   Transport                                         19 non-null     int64  \n",
      " 6   Day Pass                                          19 non-null     float64\n",
      " 7   Month Pass                                        19 non-null     float64\n",
      " 8   Rating                                            19 non-null     float64\n",
      " 9   User Rating Count                                 19 non-null     int64  \n",
      " 10  Weighted Rating                                   19 non-null     float64\n",
      " 11  Score                                             19 non-null     float64\n",
      " 12  Barcelona                                         19 non-null     float64\n",
      " 13  Madrid                                            19 non-null     float64\n",
      " 14  New York                                          19 non-null     float64\n",
      " 15  Tokyo                                             19 non-null     float64\n",
      " 16  Adelfas                                           19 non-null     float64\n",
      " 17  Akasaka                                           19 non-null     float64\n",
      " 18  Ciutat Vella                                      19 non-null     float64\n",
      " 19  Cortes                                            19 non-null     float64\n",
      " 20  Delicias                                          19 non-null     float64\n",
      " 21  Gràcia                                            19 non-null     float64\n",
      " 22  Higashishinjuku                                   19 non-null     float64\n",
      " 23  Midtown                                           19 non-null     float64\n",
      " 24  Nishiogi                                          19 non-null     float64\n",
      " 25  Opañel                                            19 non-null     float64\n",
      " 26  Sants-Montjuic                                    19 non-null     float64\n",
      " 27  Shibuya                                           19 non-null     float64\n",
      " 28  Shinbashi                                         19 non-null     float64\n",
      " 29  SoHo                                              19 non-null     float64\n",
      " 30  Williansburg                                      19 non-null     float64\n",
      " 31  log_population                                    19 non-null     float64\n",
      " 32  log_income                                        19 non-null     float64\n",
      " 33  log_distance                                      19 non-null     float64\n",
      " 34  income_per_capita                                 19 non-null     float64\n",
      "dtypes: float64(29), int64(2), object(4)\n",
      "memory usage: 5.3+ KB\n"
     ]
    }
   ],
   "source": [
    "df_encoded.info()"
   ]
  },
  {
   "cell_type": "code",
   "execution_count": 11,
   "metadata": {},
   "outputs": [
    {
     "data": {
      "text/html": [
       "<div>\n",
       "<style scoped>\n",
       "    .dataframe tbody tr th:only-of-type {\n",
       "        vertical-align: middle;\n",
       "    }\n",
       "\n",
       "    .dataframe tbody tr th {\n",
       "        vertical-align: top;\n",
       "    }\n",
       "\n",
       "    .dataframe thead th {\n",
       "        text-align: right;\n",
       "    }\n",
       "</style>\n",
       "<table border=\"1\" class=\"dataframe\">\n",
       "  <thead>\n",
       "    <tr style=\"text-align: right;\">\n",
       "      <th></th>\n",
       "      <th>log_population</th>\n",
       "      <th>log_income</th>\n",
       "      <th>log_distance</th>\n",
       "      <th>income_per_capita</th>\n",
       "    </tr>\n",
       "  </thead>\n",
       "  <tbody>\n",
       "    <tr>\n",
       "      <th>0</th>\n",
       "      <td>0.553769</td>\n",
       "      <td>1.000000</td>\n",
       "      <td>0.600036</td>\n",
       "      <td>0.204923</td>\n",
       "    </tr>\n",
       "    <tr>\n",
       "      <th>1</th>\n",
       "      <td>0.553769</td>\n",
       "      <td>1.000000</td>\n",
       "      <td>0.497535</td>\n",
       "      <td>0.204923</td>\n",
       "    </tr>\n",
       "    <tr>\n",
       "      <th>2</th>\n",
       "      <td>0.024998</td>\n",
       "      <td>0.960482</td>\n",
       "      <td>0.154363</td>\n",
       "      <td>1.000000</td>\n",
       "    </tr>\n",
       "    <tr>\n",
       "      <th>3</th>\n",
       "      <td>0.553769</td>\n",
       "      <td>1.000000</td>\n",
       "      <td>0.585948</td>\n",
       "      <td>0.204923</td>\n",
       "    </tr>\n",
       "    <tr>\n",
       "      <th>4</th>\n",
       "      <td>0.835214</td>\n",
       "      <td>0.711988</td>\n",
       "      <td>0.550212</td>\n",
       "      <td>0.030753</td>\n",
       "    </tr>\n",
       "  </tbody>\n",
       "</table>\n",
       "</div>"
      ],
      "text/plain": [
       "   log_population  log_income  log_distance  income_per_capita\n",
       "0        0.553769    1.000000      0.600036           0.204923\n",
       "1        0.553769    1.000000      0.497535           0.204923\n",
       "2        0.024998    0.960482      0.154363           1.000000\n",
       "3        0.553769    1.000000      0.585948           0.204923\n",
       "4        0.835214    0.711988      0.550212           0.030753"
      ]
     },
     "execution_count": 11,
     "metadata": {},
     "output_type": "execute_result"
    }
   ],
   "source": [
    "from sklearn.preprocessing import MinMaxScaler\n",
    "\n",
    "# Initialize the MinMaxScaler\n",
    "scaler = MinMaxScaler()\n",
    "\n",
    "# Numerical columns\n",
    "numerical_columns = ['log_population', 'log_income', 'log_distance', 'income_per_capita']\n",
    "\n",
    "# Convert string columns to float\n",
    "df_encoded[numerical_columns] = df_encoded[numerical_columns].astype(float)\n",
    "\n",
    "# Apply the scaler to the numerical columns of the dataframe\n",
    "df_encoded_scaled = pd.DataFrame(scaler.fit_transform(df_encoded[numerical_columns]), columns=numerical_columns)\n",
    "\n",
    "# Save the scaler for future use\n",
    "joblib.dump(scaler, \"/workspaces/Coworking/src/results/minmax_scaler.pkl\")\n",
    "\n",
    "df_encoded_scaled.head()\n"
   ]
  },
  {
   "cell_type": "code",
   "execution_count": 12,
   "metadata": {},
   "outputs": [
    {
     "data": {
      "text/html": [
       "<div>\n",
       "<style scoped>\n",
       "    .dataframe tbody tr th:only-of-type {\n",
       "        vertical-align: middle;\n",
       "    }\n",
       "\n",
       "    .dataframe tbody tr th {\n",
       "        vertical-align: top;\n",
       "    }\n",
       "\n",
       "    .dataframe thead th {\n",
       "        text-align: right;\n",
       "    }\n",
       "</style>\n",
       "<table border=\"1\" class=\"dataframe\">\n",
       "  <thead>\n",
       "    <tr style=\"text-align: right;\">\n",
       "      <th></th>\n",
       "      <th>name</th>\n",
       "      <th>City</th>\n",
       "      <th>Country</th>\n",
       "      <th>Neighborhood</th>\n",
       "      <th>Percentage of population between 16 and 64 years</th>\n",
       "      <th>Transport</th>\n",
       "      <th>Day Pass</th>\n",
       "      <th>Month Pass</th>\n",
       "      <th>Rating</th>\n",
       "      <th>User Rating Count</th>\n",
       "      <th>...</th>\n",
       "      <th>Opañel</th>\n",
       "      <th>Sants-Montjuic</th>\n",
       "      <th>Shibuya</th>\n",
       "      <th>Shinbashi</th>\n",
       "      <th>SoHo</th>\n",
       "      <th>Williansburg</th>\n",
       "      <th>log_population</th>\n",
       "      <th>log_income</th>\n",
       "      <th>log_distance</th>\n",
       "      <th>income_per_capita</th>\n",
       "    </tr>\n",
       "  </thead>\n",
       "  <tbody>\n",
       "    <tr>\n",
       "      <th>0</th>\n",
       "      <td>WORKVILLE - Flexible Office Space, Conference ...</td>\n",
       "      <td>New York</td>\n",
       "      <td>USA</td>\n",
       "      <td>Midtown</td>\n",
       "      <td>0.7</td>\n",
       "      <td>6</td>\n",
       "      <td>49.0</td>\n",
       "      <td>300.0</td>\n",
       "      <td>5.0</td>\n",
       "      <td>349</td>\n",
       "      <td>...</td>\n",
       "      <td>0.0</td>\n",
       "      <td>0.0</td>\n",
       "      <td>0.0</td>\n",
       "      <td>0.0</td>\n",
       "      <td>0.0</td>\n",
       "      <td>0.0</td>\n",
       "      <td>0.553769</td>\n",
       "      <td>1.000000</td>\n",
       "      <td>0.600036</td>\n",
       "      <td>0.204923</td>\n",
       "    </tr>\n",
       "    <tr>\n",
       "      <th>1</th>\n",
       "      <td>Rise New York</td>\n",
       "      <td>New York</td>\n",
       "      <td>USA</td>\n",
       "      <td>Midtown</td>\n",
       "      <td>0.7</td>\n",
       "      <td>6</td>\n",
       "      <td>0.0</td>\n",
       "      <td>250.0</td>\n",
       "      <td>4.7</td>\n",
       "      <td>258</td>\n",
       "      <td>...</td>\n",
       "      <td>0.0</td>\n",
       "      <td>0.0</td>\n",
       "      <td>0.0</td>\n",
       "      <td>0.0</td>\n",
       "      <td>0.0</td>\n",
       "      <td>0.0</td>\n",
       "      <td>0.553769</td>\n",
       "      <td>1.000000</td>\n",
       "      <td>0.497535</td>\n",
       "      <td>0.204923</td>\n",
       "    </tr>\n",
       "    <tr>\n",
       "      <th>2</th>\n",
       "      <td>The Farm SoHo NYC - Coworking Office Space and...</td>\n",
       "      <td>New York</td>\n",
       "      <td>USA</td>\n",
       "      <td>SoHo</td>\n",
       "      <td>0.7</td>\n",
       "      <td>4</td>\n",
       "      <td>29.0</td>\n",
       "      <td>179.0</td>\n",
       "      <td>4.5</td>\n",
       "      <td>257</td>\n",
       "      <td>...</td>\n",
       "      <td>0.0</td>\n",
       "      <td>0.0</td>\n",
       "      <td>0.0</td>\n",
       "      <td>0.0</td>\n",
       "      <td>1.0</td>\n",
       "      <td>0.0</td>\n",
       "      <td>0.024998</td>\n",
       "      <td>0.960482</td>\n",
       "      <td>0.154363</td>\n",
       "      <td>1.000000</td>\n",
       "    </tr>\n",
       "    <tr>\n",
       "      <th>3</th>\n",
       "      <td>OASIS by Workville - Conference Center &amp; Corpo...</td>\n",
       "      <td>New York</td>\n",
       "      <td>USA</td>\n",
       "      <td>Midtown</td>\n",
       "      <td>0.7</td>\n",
       "      <td>6</td>\n",
       "      <td>49.0</td>\n",
       "      <td>350.0</td>\n",
       "      <td>5.0</td>\n",
       "      <td>162</td>\n",
       "      <td>...</td>\n",
       "      <td>0.0</td>\n",
       "      <td>0.0</td>\n",
       "      <td>0.0</td>\n",
       "      <td>0.0</td>\n",
       "      <td>0.0</td>\n",
       "      <td>0.0</td>\n",
       "      <td>0.553769</td>\n",
       "      <td>1.000000</td>\n",
       "      <td>0.585948</td>\n",
       "      <td>0.204923</td>\n",
       "    </tr>\n",
       "    <tr>\n",
       "      <th>4</th>\n",
       "      <td>The New Work Project</td>\n",
       "      <td>New York</td>\n",
       "      <td>USA</td>\n",
       "      <td>Williansburg</td>\n",
       "      <td>0.6</td>\n",
       "      <td>2</td>\n",
       "      <td>40.0</td>\n",
       "      <td>370.0</td>\n",
       "      <td>5.0</td>\n",
       "      <td>126</td>\n",
       "      <td>...</td>\n",
       "      <td>0.0</td>\n",
       "      <td>0.0</td>\n",
       "      <td>0.0</td>\n",
       "      <td>0.0</td>\n",
       "      <td>0.0</td>\n",
       "      <td>1.0</td>\n",
       "      <td>0.835214</td>\n",
       "      <td>0.711988</td>\n",
       "      <td>0.550212</td>\n",
       "      <td>0.030753</td>\n",
       "    </tr>\n",
       "  </tbody>\n",
       "</table>\n",
       "<p>5 rows × 35 columns</p>\n",
       "</div>"
      ],
      "text/plain": [
       "                                                name      City Country  \\\n",
       "0  WORKVILLE - Flexible Office Space, Conference ...  New York     USA   \n",
       "1                                      Rise New York  New York     USA   \n",
       "2  The Farm SoHo NYC - Coworking Office Space and...  New York     USA   \n",
       "3  OASIS by Workville - Conference Center & Corpo...  New York     USA   \n",
       "4                               The New Work Project  New York     USA   \n",
       "\n",
       "   Neighborhood  Percentage of population between 16 and 64 years  Transport  \\\n",
       "0       Midtown                                               0.7          6   \n",
       "1       Midtown                                               0.7          6   \n",
       "2          SoHo                                               0.7          4   \n",
       "3       Midtown                                               0.7          6   \n",
       "4  Williansburg                                               0.6          2   \n",
       "\n",
       "   Day Pass  Month Pass  Rating  User Rating Count  ...  Opañel  \\\n",
       "0      49.0       300.0     5.0                349  ...     0.0   \n",
       "1       0.0       250.0     4.7                258  ...     0.0   \n",
       "2      29.0       179.0     4.5                257  ...     0.0   \n",
       "3      49.0       350.0     5.0                162  ...     0.0   \n",
       "4      40.0       370.0     5.0                126  ...     0.0   \n",
       "\n",
       "   Sants-Montjuic  Shibuya  Shinbashi  SoHo  Williansburg  log_population  \\\n",
       "0             0.0      0.0        0.0   0.0           0.0        0.553769   \n",
       "1             0.0      0.0        0.0   0.0           0.0        0.553769   \n",
       "2             0.0      0.0        0.0   1.0           0.0        0.024998   \n",
       "3             0.0      0.0        0.0   0.0           0.0        0.553769   \n",
       "4             0.0      0.0        0.0   0.0           1.0        0.835214   \n",
       "\n",
       "   log_income  log_distance  income_per_capita  \n",
       "0    1.000000      0.600036           0.204923  \n",
       "1    1.000000      0.497535           0.204923  \n",
       "2    0.960482      0.154363           1.000000  \n",
       "3    1.000000      0.585948           0.204923  \n",
       "4    0.711988      0.550212           0.030753  \n",
       "\n",
       "[5 rows x 35 columns]"
      ]
     },
     "execution_count": 12,
     "metadata": {},
     "output_type": "execute_result"
    }
   ],
   "source": [
    "# Concatenate the scaled numerical columns to the original encoded dataframe\n",
    "df_final = pd.concat([df_encoded.drop(columns=numerical_columns), df_encoded_scaled], axis=1)\n",
    "\n",
    "df_final.head()"
   ]
  },
  {
   "cell_type": "code",
   "execution_count": 13,
   "metadata": {},
   "outputs": [
    {
     "data": {
      "text/plain": [
       "Index(['name', 'City', 'Country', 'Neighborhood',\n",
       "       'Percentage of population between 16 and 64 years', 'Transport',\n",
       "       'Day Pass', 'Month Pass', 'Rating', 'User Rating Count',\n",
       "       'Weighted Rating', 'Score', 'Barcelona', 'Madrid', 'New York', 'Tokyo',\n",
       "       'Adelfas', 'Akasaka', 'Ciutat Vella', 'Cortes', 'Delicias', 'Gràcia',\n",
       "       'Higashishinjuku', 'Midtown', 'Nishiogi', 'Opañel', 'Sants-Montjuic',\n",
       "       'Shibuya', 'Shinbashi', 'SoHo', 'Williansburg', 'log_population',\n",
       "       'log_income', 'log_distance', 'income_per_capita'],\n",
       "      dtype='object')"
      ]
     },
     "execution_count": 13,
     "metadata": {},
     "output_type": "execute_result"
    }
   ],
   "source": [
    "df_final.columns"
   ]
  },
  {
   "cell_type": "code",
   "execution_count": 14,
   "metadata": {},
   "outputs": [],
   "source": [
    "import pandas as pd\n",
    "\n",
    "df_final.to_csv('/workspaces/Coworking/src/results/PreprocessedData.csv', index=False)"
   ]
  },
  {
   "cell_type": "markdown",
   "metadata": {},
   "source": [
    "## Predict the day pass."
   ]
  },
  {
   "cell_type": "code",
   "execution_count": 15,
   "metadata": {},
   "outputs": [
    {
     "name": "stdout",
     "output_type": "stream",
     "text": [
      "RidgeMAE= 18.450434011375556 RidgeRMSE= 22.791071848246606 RandonForestMAE= 14.639150000000004 RandonForestRMSE= 19.55457988771428\n"
     ]
    }
   ],
   "source": [
    "# Import necessary libraries\n",
    "import pandas as pd\n",
    "from sklearn.model_selection import train_test_split\n",
    "from sklearn.linear_model import Ridge\n",
    "from sklearn.ensemble import RandomForestRegressor\n",
    "from sklearn.metrics import mean_absolute_error, mean_squared_error\n",
    "import numpy as np\n",
    "\n",
    "# Load the numerical data\n",
    "\n",
    "# Define features (X) and target variable (y)\n",
    "X = df_final.drop(columns=[\"Day Pass\", 'name', 'City', 'Neighborhood', 'Country'])\n",
    "y = df_final[\"Day Pass\"]\n",
    "\n",
    "# Split into training and testing sets\n",
    "X_train, X_test, y_train, y_test = train_test_split(X, y, test_size=0.2, random_state=42)\n",
    "\n",
    "# Train Ridge Regression model\n",
    "ridge_model = Ridge(alpha=1.0)\n",
    "ridge_model.fit(X_train, y_train)\n",
    "ridge_preds = ridge_model.predict(X_test)\n",
    "\n",
    "# Train Random Forest model\n",
    "rf_model = RandomForestRegressor(n_estimators=100, random_state=42)\n",
    "rf_model.fit(X_train, y_train)\n",
    "rf_preds = rf_model.predict(X_test)\n",
    "\n",
    "# Evaluate models\n",
    "ridge_mae = mean_absolute_error(y_test, ridge_preds)\n",
    "ridge_rmse = np.sqrt(mean_squared_error(y_test, ridge_preds))\n",
    "\n",
    "rf_mae = mean_absolute_error(y_test, rf_preds)\n",
    "rf_rmse = np.sqrt(mean_squared_error(y_test, rf_preds))\n",
    "\n",
    "print(f'RidgeMAE=',ridge_mae, 'RidgeRMSE=',ridge_rmse, 'RandonForestMAE=',rf_mae, 'RandonForestRMSE=',rf_rmse)\n"
   ]
  },
  {
   "cell_type": "code",
   "execution_count": 16,
   "metadata": {},
   "outputs": [
    {
     "name": "stdout",
     "output_type": "stream",
     "text": [
      "MAE for each fold: [13.42677994 12.0620836   6.7893682  26.49668476 14.79779606]\n",
      "Average MAE: 14.714542511425702\n"
     ]
    }
   ],
   "source": [
    "from sklearn.model_selection import cross_val_score\n",
    "\n",
    "# Define the model\n",
    "ridge_model = Ridge(alpha=1.0)\n",
    "\n",
    "# Perform k-fold cross-validation\n",
    "k = 5  # Number of folds\n",
    "scores = cross_val_score(ridge_model, X, y, cv=k, scoring='neg_mean_absolute_error')\n",
    "\n",
    "# Convert scores to positive MAE\n",
    "mae_scores = -scores\n",
    "print(f\"MAE for each fold: {mae_scores}\")\n",
    "print(f\"Average MAE: {mae_scores.mean()}\")"
   ]
  },
  {
   "cell_type": "code",
   "execution_count": 32,
   "metadata": {},
   "outputs": [
    {
     "name": "stdout",
     "output_type": "stream",
     "text": [
      "Fold 4 Test Indices: [ 4  7 12 18]\n",
      "Fold 4 Test Data:\n",
      "                                        name       City Country  Neighborhood  \\\n",
      "4                       The New Work Project   New York     USA  Williansburg   \n",
      "7   OneCoWork Catedral | Barcelona Coworking  Barcelona   Spain  Ciutat Vella   \n",
      "12                         EslabON Coworking     Madrid   Spain        Opañel   \n",
      "18        【法人登記可】コワーキングスペースfactoria nishiogi      Tokyo   Japan      Nishiogi   \n",
      "\n",
      "    Percentage of population between 16 and 64 years  Transport  Day Pass  \\\n",
      "4                                               0.60          2     40.00   \n",
      "7                                               0.75          5     36.23   \n",
      "12                                              0.70          4     21.74   \n",
      "18                                              0.65          3     20.67   \n",
      "\n",
      "    Month Pass  Rating  User Rating Count  ...  Opañel  Sants-Montjuic  \\\n",
      "4       370.00     5.0                126  ...     0.0             0.0   \n",
      "7       384.06     4.8                205  ...     0.0             0.0   \n",
      "12      259.42     4.9                 55  ...     1.0             0.0   \n",
      "18      310.05     4.9                 47  ...     0.0             0.0   \n",
      "\n",
      "    Shibuya  Shinbashi  SoHo  Williansburg  log_population  log_income  \\\n",
      "4       0.0        0.0   0.0           1.0        0.835214    0.711988   \n",
      "7       0.0        0.0   0.0           0.0        0.471175    0.000000   \n",
      "12      0.0        0.0   0.0           0.0        0.373516    0.382178   \n",
      "18      0.0        0.0   0.0           0.0        0.654545    0.369605   \n",
      "\n",
      "    log_distance  income_per_capita  \n",
      "4       0.550212           0.030753  \n",
      "7       0.107273           0.010156  \n",
      "12      0.516010           0.072665  \n",
      "18      1.000000           0.020016  \n",
      "\n",
      "[4 rows x 35 columns]\n"
     ]
    }
   ],
   "source": [
    "from sklearn.model_selection import KFold\n",
    "\n",
    "# Initialize KFold\n",
    "kf = KFold(n_splits=5, shuffle=True, random_state=42)\n",
    "\n",
    "# Loop through folds and inspect Fold 4\n",
    "for fold, (train_idx, test_idx) in enumerate(kf.split(X)):\n",
    "    if fold == 3:  # Fold 4 (0-indexed)\n",
    "        print(\"Fold 4 Test Indices:\", test_idx)\n",
    "        print(\"Fold 4 Test Data:\")\n",
    "        print(df_final.iloc[test_idx])"
   ]
  },
  {
   "cell_type": "code",
   "execution_count": 17,
   "metadata": {},
   "outputs": [
    {
     "name": "stdout",
     "output_type": "stream",
     "text": [
      "Best Ridge Params: {'alpha': 100.0}\n"
     ]
    }
   ],
   "source": [
    "from sklearn.model_selection import GridSearchCV\n",
    "\n",
    "# Define the parameter grid for Ridge Regression\n",
    "ridge_param_grid = {'alpha': [0.1, 1.0, 10.0, 100.0]}\n",
    "\n",
    "# Initialize GridSearchCV with k-fold cross-validation\n",
    "ridge_grid_search = GridSearchCV(Ridge(), ridge_param_grid, cv=5, scoring='neg_mean_absolute_error')\n",
    "ridge_grid_search.fit(X, y)\n",
    "\n",
    "# Get the best parameters\n",
    "best_ridge_params = ridge_grid_search.best_params_\n",
    "print(f\"Best Ridge Params: {best_ridge_params}\")"
   ]
  },
  {
   "cell_type": "code",
   "execution_count": 18,
   "metadata": {},
   "outputs": [
    {
     "name": "stdout",
     "output_type": "stream",
     "text": [
      "Best Ridge MAE: 17.8252204741847\n",
      "Best Ridge RMSE: 21.066337044130783\n"
     ]
    }
   ],
   "source": [
    "# Train the best Ridge Regression model using the best parameters\n",
    "best_ridge_model = Ridge(**best_ridge_params)\n",
    "best_ridge_model.fit(X_train, y_train)\n",
    "\n",
    "# Predict the Month Pass values using the best model\n",
    "best_ridge_preds = best_ridge_model.predict(X_test)\n",
    "\n",
    "# Evaluate the best model\n",
    "best_ridge_mae = mean_absolute_error(y_test, best_ridge_preds)\n",
    "best_ridge_rmse = np.sqrt(mean_squared_error(y_test, best_ridge_preds))\n",
    "\n",
    "print(f'Best Ridge MAE: {best_ridge_mae}')\n",
    "print(f'Best Ridge RMSE: {best_ridge_rmse}')"
   ]
  },
  {
   "cell_type": "code",
   "execution_count": 19,
   "metadata": {},
   "outputs": [
    {
     "data": {
      "text/plain": [
       "['/workspaces/Coworking/src/results/day_ridge_model.pkl']"
      ]
     },
     "execution_count": 19,
     "metadata": {},
     "output_type": "execute_result"
    }
   ],
   "source": [
    "import joblib\n",
    "\n",
    "# Save the model\n",
    "joblib.dump(best_ridge_model, \"/workspaces/Coworking/src/results/day_ridge_model.pkl\")"
   ]
  },
  {
   "cell_type": "code",
   "execution_count": 20,
   "metadata": {},
   "outputs": [
    {
     "name": "stdout",
     "output_type": "stream",
     "text": [
      "Model trained with features: ['Percentage of population between 16 and 64 years' 'Transport'\n",
      " 'Month Pass' 'Rating' 'User Rating Count' 'Weighted Rating' 'Score'\n",
      " 'Barcelona' 'Madrid' 'New York' 'Tokyo' 'Adelfas' 'Akasaka'\n",
      " 'Ciutat Vella' 'Cortes' 'Delicias' 'Gràcia' 'Higashishinjuku' 'Midtown'\n",
      " 'Nishiogi' 'Opañel' 'Sants-Montjuic' 'Shibuya' 'Shinbashi' 'SoHo'\n",
      " 'Williansburg' 'log_population' 'log_income' 'log_distance'\n",
      " 'income_per_capita']\n"
     ]
    }
   ],
   "source": [
    "import joblib\n",
    "\n",
    "# Load the trained model\n",
    "model_path = \"/workspaces/Coworking/src/results/day_ridge_model.pkl\"\n",
    "day_pass_model = joblib.load(model_path)\n",
    "\n",
    "# Extract feature names used during training\n",
    "trained_features = day_pass_model.feature_names_in_\n",
    "print(\"Model trained with features:\", trained_features)\n"
   ]
  },
  {
   "cell_type": "code",
   "execution_count": 21,
   "metadata": {},
   "outputs": [],
   "source": [
    "def predict_day_pass(city, neighborhood, df_final, model):\n",
    "    # Get the trained features from the model\n",
    "    trained_features = model.feature_names_in_\n",
    "\n",
    "    # Create an input DataFrame with the same structure as df_final\n",
    "    input_data = pd.DataFrame(columns=trained_features)\n",
    "    input_data.loc[0] = 0  # Initialize all values to zero\n",
    "\n",
    "    # Fill in numerical features using dataset mean\n",
    "    num_features = ['log_population', 'log_income', 'log_distance', 'income_per_capita']\n",
    "    for feature in num_features:\n",
    "        if feature in trained_features and feature in df_final.columns:\n",
    "            input_data.loc[0, feature] = df_final[feature].mean()\n",
    "\n",
    "    # Fill in one-hot encoded city and neighborhood directly from df_final\n",
    "    if city in df_final.columns and city in trained_features:\n",
    "        input_data.loc[0, city] = 1\n",
    "    if neighborhood in df_final.columns and neighborhood in trained_features:\n",
    "        input_data.loc[0, neighborhood] = 1\n",
    "\n",
    "    # Convert to float and match trained features\n",
    "    input_data = input_data.astype(float)\n",
    "    input_data = input_data[trained_features]  # Ensure correct feature order\n",
    "\n",
    "    # Predict the price\n",
    "    prediction = model.predict(input_data)\n",
    "    \n",
    "    return prediction[0]\n"
   ]
  },
  {
   "cell_type": "code",
   "execution_count": 22,
   "metadata": {},
   "outputs": [
    {
     "name": "stdout",
     "output_type": "stream",
     "text": [
      "Predicted Day Pass Price: $14.03\n"
     ]
    },
    {
     "name": "stderr",
     "output_type": "stream",
     "text": [
      "/tmp/ipykernel_16308/3646710545.py:13: FutureWarning: Setting an item of incompatible dtype is deprecated and will raise an error in a future version of pandas. Value '0.48376811642652606' has dtype incompatible with int64, please explicitly cast to a compatible dtype first.\n",
      "  input_data.loc[0, feature] = df_final[feature].mean()\n",
      "/tmp/ipykernel_16308/3646710545.py:13: FutureWarning: Setting an item of incompatible dtype is deprecated and will raise an error in a future version of pandas. Value '0.501195116580436' has dtype incompatible with int64, please explicitly cast to a compatible dtype first.\n",
      "  input_data.loc[0, feature] = df_final[feature].mean()\n",
      "/tmp/ipykernel_16308/3646710545.py:13: FutureWarning: Setting an item of incompatible dtype is deprecated and will raise an error in a future version of pandas. Value '0.4183862382707086' has dtype incompatible with int64, please explicitly cast to a compatible dtype first.\n",
      "  input_data.loc[0, feature] = df_final[feature].mean()\n",
      "/tmp/ipykernel_16308/3646710545.py:13: FutureWarning: Setting an item of incompatible dtype is deprecated and will raise an error in a future version of pandas. Value '0.14490436377612595' has dtype incompatible with int64, please explicitly cast to a compatible dtype first.\n",
      "  input_data.loc[0, feature] = df_final[feature].mean()\n"
     ]
    }
   ],
   "source": [
    "# Example: Predict the price for a coworking space in Barcelona, Ciutat Vella\n",
    "predicted_price = predict_day_pass(city=\"Barcelona\", neighborhood=\"Ciutat Vella\", df_final=df_final, model=day_pass_model)\n",
    "\n",
    "print(f\"Predicted Day Pass Price: ${predicted_price:.2f}\")\n"
   ]
  },
  {
   "cell_type": "code",
   "execution_count": 23,
   "metadata": {},
   "outputs": [
    {
     "name": "stdout",
     "output_type": "stream",
     "text": [
      "Predicted Day Pass Price: $14.13\n"
     ]
    },
    {
     "name": "stderr",
     "output_type": "stream",
     "text": [
      "/tmp/ipykernel_16308/3646710545.py:13: FutureWarning: Setting an item of incompatible dtype is deprecated and will raise an error in a future version of pandas. Value '0.48376811642652606' has dtype incompatible with int64, please explicitly cast to a compatible dtype first.\n",
      "  input_data.loc[0, feature] = df_final[feature].mean()\n",
      "/tmp/ipykernel_16308/3646710545.py:13: FutureWarning: Setting an item of incompatible dtype is deprecated and will raise an error in a future version of pandas. Value '0.501195116580436' has dtype incompatible with int64, please explicitly cast to a compatible dtype first.\n",
      "  input_data.loc[0, feature] = df_final[feature].mean()\n",
      "/tmp/ipykernel_16308/3646710545.py:13: FutureWarning: Setting an item of incompatible dtype is deprecated and will raise an error in a future version of pandas. Value '0.4183862382707086' has dtype incompatible with int64, please explicitly cast to a compatible dtype first.\n",
      "  input_data.loc[0, feature] = df_final[feature].mean()\n",
      "/tmp/ipykernel_16308/3646710545.py:13: FutureWarning: Setting an item of incompatible dtype is deprecated and will raise an error in a future version of pandas. Value '0.14490436377612595' has dtype incompatible with int64, please explicitly cast to a compatible dtype first.\n",
      "  input_data.loc[0, feature] = df_final[feature].mean()\n"
     ]
    }
   ],
   "source": [
    "predicted_price = predict_day_pass(city='Madrid', neighborhood='Delicias', df_final=df_final, model=day_pass_model)\n",
    "\n",
    "print(f\"Predicted Day Pass Price: ${predicted_price:.2f}\")"
   ]
  },
  {
   "cell_type": "markdown",
   "metadata": {},
   "source": [
    "## Predict the Month Pass"
   ]
  },
  {
   "cell_type": "code",
   "execution_count": 24,
   "metadata": {},
   "outputs": [
    {
     "name": "stdout",
     "output_type": "stream",
     "text": [
      "RidgeMAE= 87.6087183664276 RidgeRMSE= 123.14144090932305 RandonForestMAE= 72.71329999999995 RandonForestRMSE= 85.15230542615978\n"
     ]
    }
   ],
   "source": [
    "# Import necessary libraries\n",
    "import pandas as pd\n",
    "from sklearn.model_selection import train_test_split\n",
    "from sklearn.linear_model import Ridge\n",
    "from sklearn.ensemble import RandomForestRegressor\n",
    "from sklearn.metrics import mean_absolute_error, mean_squared_error\n",
    "import numpy as np\n",
    "\n",
    "# Load the numerical data\n",
    "\n",
    "# Define features (X) and target variable (y)\n",
    "X = df_final.drop(columns=['name', 'City', 'Neighborhood', 'Country', 'Month Pass'])\n",
    "y = df_final[\"Month Pass\"]\n",
    "\n",
    "# Split into training and testing sets\n",
    "X_train, X_test, y_train, y_test = train_test_split(X, y, test_size=0.2, random_state=42)\n",
    "\n",
    "# Train Ridge Regression model\n",
    "ridge_model = Ridge(alpha=1.0)\n",
    "ridge_model.fit(X_train, y_train)\n",
    "ridge_preds = ridge_model.predict(X_test)\n",
    "\n",
    "# Train Random Forest model\n",
    "rf_model = RandomForestRegressor(n_estimators=100, random_state=42)\n",
    "rf_model.fit(X_train, y_train)\n",
    "rf_preds = rf_model.predict(X_test)\n",
    "\n",
    "# Evaluate models\n",
    "ridge_mae = mean_absolute_error(y_test, ridge_preds)\n",
    "ridge_rmse = np.sqrt(mean_squared_error(y_test, ridge_preds))\n",
    "\n",
    "rf_mae = mean_absolute_error(y_test, rf_preds)\n",
    "rf_rmse = np.sqrt(mean_squared_error(y_test, rf_preds))\n",
    "\n",
    "print(f'RidgeMAE=',ridge_mae, 'RidgeRMSE=',ridge_rmse, 'RandonForestMAE=',rf_mae, 'RandonForestRMSE=',rf_rmse)\n"
   ]
  },
  {
   "cell_type": "code",
   "execution_count": 25,
   "metadata": {},
   "outputs": [
    {
     "name": "stdout",
     "output_type": "stream",
     "text": [
      "Best Ridge Params: {'alpha': 1.0}, Best Ridge MAE: 59.160034902410004\n",
      "Best RF Params: {'max_depth': None, 'n_estimators': 200}, Best RF MAE: 66.35418333333334\n"
     ]
    }
   ],
   "source": [
    "from sklearn.model_selection import GridSearchCV\n",
    "\n",
    "# Define the parameter grid for Ridge Regression\n",
    "ridge_param_grid = {\n",
    "    'alpha': [0.1, 1.0, 10.0, 100.0]\n",
    "}\n",
    "\n",
    "# Define the parameter grid for Random Forest Regressor\n",
    "rf_param_grid = {\n",
    "    'n_estimators': [50, 100, 200],\n",
    "    'max_depth': [None, 10, 20, 30]\n",
    "}\n",
    "\n",
    "# Initialize GridSearchCV for Ridge Regression\n",
    "ridge_grid_search = GridSearchCV(Ridge(), ridge_param_grid, cv=5, scoring='neg_mean_absolute_error')\n",
    "ridge_grid_search.fit(X_train, y_train)\n",
    "\n",
    "# Initialize GridSearchCV for Random Forest Regressor\n",
    "rf_grid_search = GridSearchCV(RandomForestRegressor(random_state=42), rf_param_grid, cv=5, scoring='neg_mean_absolute_error')\n",
    "rf_grid_search.fit(X_train, y_train)\n",
    "\n",
    "# Get the best parameters and best score for Ridge Regression\n",
    "best_ridge_params = ridge_grid_search.best_params_\n",
    "best_ridge_score = -ridge_grid_search.best_score_\n",
    "\n",
    "# Get the best parameters and best score for Random Forest Regressor\n",
    "best_rf_params = rf_grid_search.best_params_\n",
    "best_rf_score = -rf_grid_search.best_score_\n",
    "\n",
    "print(f'Best Ridge Params: {best_ridge_params}, Best Ridge MAE: {best_ridge_score}')\n",
    "print(f'Best RF Params: {best_rf_params}, Best RF MAE: {best_rf_score}')"
   ]
  },
  {
   "cell_type": "code",
   "execution_count": 26,
   "metadata": {},
   "outputs": [
    {
     "name": "stdout",
     "output_type": "stream",
     "text": [
      "Best Ridge MAE: 87.6087183664276\n",
      "Best Ridge RMSE: 123.14144090932305\n"
     ]
    }
   ],
   "source": [
    "# Train the best Ridge Regression model using the best parameters\n",
    "best_ridge_model = Ridge(**best_ridge_params)\n",
    "best_ridge_model.fit(X_train, y_train)\n",
    "\n",
    "# Predict the Month Pass values using the best model\n",
    "best_ridge_preds = best_ridge_model.predict(X_test)\n",
    "\n",
    "# Evaluate the best model\n",
    "best_ridge_mae = mean_absolute_error(y_test, best_ridge_preds)\n",
    "best_ridge_rmse = np.sqrt(mean_squared_error(y_test, best_ridge_preds))\n",
    "\n",
    "print(f'Best Ridge MAE: {best_ridge_mae}')\n",
    "print(f'Best Ridge RMSE: {best_ridge_rmse}')"
   ]
  },
  {
   "cell_type": "code",
   "execution_count": 27,
   "metadata": {},
   "outputs": [
    {
     "data": {
      "text/plain": [
       "['/workspaces/Coworking/src/results/month_ridge_model.pkl']"
      ]
     },
     "execution_count": 27,
     "metadata": {},
     "output_type": "execute_result"
    }
   ],
   "source": [
    "import joblib\n",
    "\n",
    "# Save the model\n",
    "joblib.dump(best_ridge_model, \"/workspaces/Coworking/src/results/month_ridge_model.pkl\")"
   ]
  },
  {
   "cell_type": "code",
   "execution_count": 28,
   "metadata": {},
   "outputs": [
    {
     "name": "stdout",
     "output_type": "stream",
     "text": [
      "Model trained with features: ['Percentage of population between 16 and 64 years' 'Transport' 'Day Pass'\n",
      " 'Rating' 'User Rating Count' 'Weighted Rating' 'Score' 'Barcelona'\n",
      " 'Madrid' 'New York' 'Tokyo' 'Adelfas' 'Akasaka' 'Ciutat Vella' 'Cortes'\n",
      " 'Delicias' 'Gràcia' 'Higashishinjuku' 'Midtown' 'Nishiogi' 'Opañel'\n",
      " 'Sants-Montjuic' 'Shibuya' 'Shinbashi' 'SoHo' 'Williansburg'\n",
      " 'log_population' 'log_income' 'log_distance' 'income_per_capita']\n"
     ]
    }
   ],
   "source": [
    "import joblib\n",
    "\n",
    "# Load the trained model\n",
    "model_path = \"/workspaces/Coworking/src/results/month_ridge_model.pkl\"\n",
    "month_pass_model = joblib.load(model_path)\n",
    "\n",
    "# Extract feature names used during training\n",
    "trained_features = month_pass_model.feature_names_in_\n",
    "print(\"Model trained with features:\", trained_features)\n"
   ]
  },
  {
   "cell_type": "code",
   "execution_count": 29,
   "metadata": {},
   "outputs": [],
   "source": [
    "def predict_month_pass(city, neighborhood, df_final, model):\n",
    "    # Get the trained features from the model\n",
    "    trained_features = model.feature_names_in_\n",
    "\n",
    "    # Create an input DataFrame with the same structure as df_final\n",
    "    input_data = pd.DataFrame(columns=trained_features)\n",
    "    input_data.loc[0] = 0  # Initialize all values to zero\n",
    "\n",
    "    # Fill in numerical features using dataset mean\n",
    "    num_features = ['log_population', 'log_income', 'log_distance', 'income_per_capita']\n",
    "    for feature in num_features:\n",
    "        if feature in trained_features and feature in df_final.columns:\n",
    "            input_data.loc[0, feature] = df_final[feature].mean()\n",
    "\n",
    "    # Fill in one-hot encoded city and neighborhood directly from df_final\n",
    "    if city in df_final.columns and city in trained_features:\n",
    "        input_data.loc[0, city] = 1\n",
    "    if neighborhood in df_final.columns and neighborhood in trained_features:\n",
    "        input_data.loc[0, neighborhood] = 1\n",
    "\n",
    "    # Convert to float and match trained features\n",
    "    input_data = input_data.astype(float)\n",
    "    input_data = input_data[trained_features]  # Ensure correct feature order\n",
    "\n",
    "    # Debugging: Check the final input data\n",
    "    print(\"Final Input Data:\")\n",
    "    print(input_data)\n",
    "\n",
    "    # Make a prediction\n",
    "    prediction = model.predict(input_data)\n",
    "    \n",
    "    # Debugging: Check the prediction\n",
    "    print(\"Prediction:\", prediction)\n",
    "\n",
    "    return prediction[0]\n"
   ]
  },
  {
   "cell_type": "code",
   "execution_count": 30,
   "metadata": {},
   "outputs": [
    {
     "name": "stdout",
     "output_type": "stream",
     "text": [
      "Predicted Month Pass Price: $151.74\n"
     ]
    },
    {
     "name": "stderr",
     "output_type": "stream",
     "text": [
      "/tmp/ipykernel_16308/3646710545.py:13: FutureWarning: Setting an item of incompatible dtype is deprecated and will raise an error in a future version of pandas. Value '0.48376811642652606' has dtype incompatible with int64, please explicitly cast to a compatible dtype first.\n",
      "  input_data.loc[0, feature] = df_final[feature].mean()\n",
      "/tmp/ipykernel_16308/3646710545.py:13: FutureWarning: Setting an item of incompatible dtype is deprecated and will raise an error in a future version of pandas. Value '0.501195116580436' has dtype incompatible with int64, please explicitly cast to a compatible dtype first.\n",
      "  input_data.loc[0, feature] = df_final[feature].mean()\n",
      "/tmp/ipykernel_16308/3646710545.py:13: FutureWarning: Setting an item of incompatible dtype is deprecated and will raise an error in a future version of pandas. Value '0.4183862382707086' has dtype incompatible with int64, please explicitly cast to a compatible dtype first.\n",
      "  input_data.loc[0, feature] = df_final[feature].mean()\n",
      "/tmp/ipykernel_16308/3646710545.py:13: FutureWarning: Setting an item of incompatible dtype is deprecated and will raise an error in a future version of pandas. Value '0.14490436377612595' has dtype incompatible with int64, please explicitly cast to a compatible dtype first.\n",
      "  input_data.loc[0, feature] = df_final[feature].mean()\n"
     ]
    }
   ],
   "source": [
    "predicted_price = predict_day_pass(city=\"Barcelona\", neighborhood=\"Ciutat Vella\", df_final=df_final, model=month_pass_model)\n",
    "\n",
    "print(f\"Predicted Month Pass Price: ${predicted_price:.2f}\")\n"
   ]
  },
  {
   "cell_type": "code",
   "execution_count": 31,
   "metadata": {},
   "outputs": [
    {
     "name": "stdout",
     "output_type": "stream",
     "text": [
      "Predicted Month Pass Price: $155.92\n"
     ]
    },
    {
     "name": "stderr",
     "output_type": "stream",
     "text": [
      "/tmp/ipykernel_16308/3646710545.py:13: FutureWarning: Setting an item of incompatible dtype is deprecated and will raise an error in a future version of pandas. Value '0.48376811642652606' has dtype incompatible with int64, please explicitly cast to a compatible dtype first.\n",
      "  input_data.loc[0, feature] = df_final[feature].mean()\n",
      "/tmp/ipykernel_16308/3646710545.py:13: FutureWarning: Setting an item of incompatible dtype is deprecated and will raise an error in a future version of pandas. Value '0.501195116580436' has dtype incompatible with int64, please explicitly cast to a compatible dtype first.\n",
      "  input_data.loc[0, feature] = df_final[feature].mean()\n",
      "/tmp/ipykernel_16308/3646710545.py:13: FutureWarning: Setting an item of incompatible dtype is deprecated and will raise an error in a future version of pandas. Value '0.4183862382707086' has dtype incompatible with int64, please explicitly cast to a compatible dtype first.\n",
      "  input_data.loc[0, feature] = df_final[feature].mean()\n",
      "/tmp/ipykernel_16308/3646710545.py:13: FutureWarning: Setting an item of incompatible dtype is deprecated and will raise an error in a future version of pandas. Value '0.14490436377612595' has dtype incompatible with int64, please explicitly cast to a compatible dtype first.\n",
      "  input_data.loc[0, feature] = df_final[feature].mean()\n"
     ]
    }
   ],
   "source": [
    "predicted_price = predict_day_pass(city='Madrid', neighborhood='Delicias', df_final=df_final, model=month_pass_model)\n",
    "\n",
    "print(f\"Predicted Month Pass Price: ${predicted_price:.2f}\")"
   ]
  }
 ],
 "metadata": {
  "kernelspec": {
   "display_name": "Python 3",
   "language": "python",
   "name": "python3"
  },
  "language_info": {
   "codemirror_mode": {
    "name": "ipython",
    "version": 3
   },
   "file_extension": ".py",
   "mimetype": "text/x-python",
   "name": "python",
   "nbconvert_exporter": "python",
   "pygments_lexer": "ipython3",
   "version": "3.11.11"
  }
 },
 "nbformat": 4,
 "nbformat_minor": 2
}

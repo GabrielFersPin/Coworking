{
 "cells": [
  {
   "cell_type": "code",
   "execution_count": 3,
   "metadata": {},
   "outputs": [
    {
     "name": "stdout",
     "output_type": "stream",
     "text": [
      "API Key: None\n"
     ]
    }
   ],
   "source": [
    "from dotenv import load_dotenv\n",
    "import os\n",
    "\n",
    "load_dotenv()\n",
    "api_key = os.getenv(\"GOOGLE_PLACES_API_KEY\")\n",
    "print(\"API Key:\", api_key)"
   ]
  },
  {
   "cell_type": "code",
   "execution_count": 10,
   "metadata": {},
   "outputs": [
    {
     "name": "stdout",
     "output_type": "stream",
     "text": [
      "✅ API Key Loaded Successfully: AIza****\n",
      "✅ Datos guardados en BarcelonaPlaces.csv\n"
     ]
    }
   ],
   "source": [
    "import os\n",
    "import requests\n",
    "import pandas as pd\n",
    "from dotenv import load_dotenv\n",
    "\n",
    "def fetch_coworking_places(city, api_key):\n",
    "    url = \"https://places.googleapis.com/v1/places:searchText\"\n",
    "    headers = {\n",
    "        \"Content-Type\": \"application/json\",\n",
    "        \"X-Goog-Api-Key\": api_key,\n",
    "        \"X-Goog-FieldMask\": \"places.displayName,places.formattedAddress,places.priceLevel,places.rating,places.userRatingCount,places.location\"\n",
    "    }\n",
    "    data = {\n",
    "        \"textQuery\": f\"coworking spaces in {city}\"\n",
    "    }\n",
    "    \n",
    "    places = []\n",
    "    next_page_token = None\n",
    "    \n",
    "    while True:\n",
    "        if next_page_token:\n",
    "            data[\"pageToken\"] = next_page_token\n",
    "        \n",
    "        try:\n",
    "            response = requests.post(url, headers=headers, json=data)\n",
    "            response.raise_for_status()\n",
    "        except requests.exceptions.RequestException as e:\n",
    "            print(f\"Error fetching data: {e}\")\n",
    "            return []\n",
    "        \n",
    "        results = response.json().get(\"places\", [])\n",
    "        for place in results:\n",
    "            places.append({\n",
    "                \"Name\": place.get(\"displayName\", {}).get(\"text\", \"N/A\"),\n",
    "                \"Address\": place.get(\"formattedAddress\", \"N/A\"),\n",
    "                \"Latitude\": place.get(\"location\", {}).get(\"latitude\", \"N/A\"),\n",
    "                \"Longitude\": place.get(\"location\", {}).get(\"longitude\", \"N/A\"),\n",
    "                \"Price Level\": place.get(\"priceLevel\", \"N/A\"),\n",
    "                \"Rating\": place.get(\"rating\", \"N/A\"),\n",
    "                \"User Rating Count\": place.get(\"userRatingCount\", \"N/A\")\n",
    "            })\n",
    "        \n",
    "        next_page_token = response.json().get(\"nextPageToken\")\n",
    "        if not next_page_token:\n",
    "            break\n",
    "    \n",
    "    return places\n",
    "\n",
    "print(f\"✅ API Key Loaded Successfully: {API_KEY[:4]}****\")  # Only show part of the key for debugging\n",
    "CITY = \"Barcelona\"\n",
    "\n",
    "# Fetch coworking places\n",
    "coworking_places = fetch_coworking_places(CITY, API_KEY)\n",
    "\n",
    "# Save data to CSV\n",
    "df = pd.DataFrame(coworking_places)\n",
    "df.to_csv(\"BarcelonaPlaces.csv\", index=False, encoding=\"utf-8-sig\")\n",
    "\n",
    "print(\"✅ Datos guardados en BarcelonaPlaces.csv\")"
   ]
  },
  {
   "cell_type": "code",
   "execution_count": null,
   "metadata": {},
   "outputs": [
    {
     "name": "stdout",
     "output_type": "stream",
     "text": [
      "✅ Datos guardados en BarcelonaPlaces.csv\n"
     ]
    }
   ],
   "source": [
    "import os\n",
    "import requests\n",
    "import pandas as pd\n",
    "from dotenv import load_dotenv\n",
    "\n",
    "def fetch_coworking_places(city, api_key):\n",
    "    url = \"https://places.googleapis.com/v1/places:searchText\"\n",
    "    headers = {\n",
    "        \"Content-Type\": \"application/json\",\n",
    "        \"X-Goog-Api-Key\": api_key,\n",
    "        \"X-Goog-FieldMask\": \"places.displayName,places.formattedAddress,places.priceLevel,places.rating,places.userRatingCount,places.location\"\n",
    "    }\n",
    "    data = {\n",
    "        \"textQuery\": f\"coworking spaces in {city}\"\n",
    "    }\n",
    "    \n",
    "    places = []\n",
    "    next_page_token = None\n",
    "    \n",
    "    while True:\n",
    "        if next_page_token:\n",
    "            data[\"pageToken\"] = next_page_token\n",
    "        \n",
    "        try:\n",
    "            response = requests.post(url, headers=headers, json=data)\n",
    "            response.raise_for_status()\n",
    "        except requests.exceptions.RequestException as e:\n",
    "            print(f\"Error fetching data: {e}\")\n",
    "            return []\n",
    "        \n",
    "        results = response.json().get(\"places\", [])\n",
    "        for place in results:\n",
    "            places.append({\n",
    "                \"Name\": place.get(\"displayName\", {}).get(\"text\", \"N/A\"),\n",
    "                \"Address\": place.get(\"formattedAddress\", \"N/A\"),\n",
    "                \"Latitude\": place.get(\"location\", {}).get(\"latitude\", \"N/A\"),\n",
    "                \"Longitude\": place.get(\"location\", {}).get(\"longitude\", \"N/A\"),\n",
    "                \"Price Level\": place.get(\"priceLevel\", \"N/A\"),\n",
    "                \"Rating\": place.get(\"rating\", \"N/A\"),\n",
    "                \"User Rating Count\": place.get(\"userRatingCount\", \"N/A\")\n",
    "            })\n",
    "        \n",
    "        next_page_token = response.json().get(\"nextPageToken\")\n",
    "        if not next_page_token:\n",
    "            break\n",
    "    \n",
    "    return places\n",
    "\n",
    "CITY = 'New York'\n",
    "\n",
    "# Fetch coworking places\n",
    "coworking_places = fetch_coworking_places(CITY, API_KEY)\n",
    "\n",
    "# Save data to CSV\n",
    "df = pd.DataFrame(coworking_places)\n",
    "df.to_csv(\"BarcelonaPlaces.csv\", index=False, encoding=\"utf-8-sig\")\n",
    "\n",
    "print(\"✅ Datos guardados en New_York_Places.csv\")"
   ]
  },
  {
   "cell_type": "code",
   "execution_count": null,
   "metadata": {},
   "outputs": [],
   "source": []
  }
 ],
 "metadata": {
  "kernelspec": {
   "display_name": "new_venv",
   "language": "python",
   "name": "python3"
  },
  "language_info": {
   "codemirror_mode": {
    "name": "ipython",
    "version": 3
   },
   "file_extension": ".py",
   "mimetype": "text/x-python",
   "name": "python",
   "nbconvert_exporter": "python",
   "pygments_lexer": "ipython3",
   "version": "3.12.1"
  }
 },
 "nbformat": 4,
 "nbformat_minor": 2
}

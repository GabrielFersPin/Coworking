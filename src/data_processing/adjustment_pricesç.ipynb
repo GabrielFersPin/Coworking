{
 "cells": [
  {
   "cell_type": "code",
   "execution_count": null,
   "metadata": {
    "vscode": {
     "languageId": "plaintext"
    }
   },
   "outputs": [],
   "source": [
    "import pandas as pd\n",
    "\n",
    "# Example PPP conversion factors (replace with real data)\n",
    "ppp_factors = {\n",
    "    \"Spain\": 0.58,\n",
    "    \"USA\": 1.0,\n",
    "    \"Japan\": 94.93\n",
    "}\n",
    "\n",
    "# Load your coworking data\n",
    "df = pd.read_csv(\"/workspaces/Coworking/src/results/LocationPLaces.csv\")  # Your dataset\n",
    "\n",
    "# Apply PPP adjustment\n",
    "df[\"PPP_Adjusted_Price\"] = df[\"Price_USD\"] / df[\"Country\"].map(ppp_factors)\n",
    "\n",
    "# Save the adjusted data\n",
    "df.to_csv(\"CoworkingPrices_PPP_Adjusted.csv\", index=False)\n",
    "\n",
    "print(\"✅ Prices adjusted to PPP!\")\n"
   ]
  }
 ],
 "metadata": {
  "language_info": {
   "name": "python"
  }
 },
 "nbformat": 4,
 "nbformat_minor": 2
}

{
 "cells": [
  {
   "cell_type": "markdown",
   "metadata": {},
   "source": [
    "# Adjusting currencies "
   ]
  },
  {
   "cell_type": "markdown",
   "metadata": {},
   "source": [
    "## Extracting the prices from Barcelona json file"
   ]
  },
  {
   "cell_type": "code",
   "execution_count": 1,
   "metadata": {},
   "outputs": [],
   "source": [
    "import json\n",
    "import pandas as pd\n",
    "import os\n",
    "\n",
    "#Open the madrid coworkings csv\n",
    "path = '/workspaces/Coworking/src/results/Barcelona/Barcelona_coworking_spaces.json'\n",
    "\n",
    "with open(path, 'r', encoding='utf-8') as file:\n",
    "    data = json.load(file)\n",
    "\n",
    "df_barcelona_price = pd.json_normalize(data)\n",
    "\n",
    "df_barcelona_price= df_barcelona_price[['price']]"
   ]
  },
  {
   "cell_type": "code",
   "execution_count": 2,
   "metadata": {},
   "outputs": [
    {
     "name": "stdout",
     "output_type": "stream",
     "text": [
      "                                    price  price_cleaned\n",
      "0    Private Office\\n from € 1214\\n/month         1214.0\n",
      "1     Private Office\\n from € 305\\n/month          305.0\n",
      "2                           1\\n2\\n3\\n4\\n5            1.0\n",
      "3     Private Office\\n from € 155\\n/month          155.0\n",
      "4     Private Office\\n from € 345\\n/month          345.0\n",
      "..                                    ...            ...\n",
      "182     Private Office \\nPrice on request            NaN\n",
      "183     Private Office \\nPrice on request            NaN\n",
      "184                1\\n2\\n3\\n4\\n5\\n6\\n7\\n8            1.0\n",
      "185     Private Office \\nPrice on request            NaN\n",
      "186     Private Office \\nPrice on request            NaN\n",
      "\n",
      "[187 rows x 2 columns]\n"
     ]
    }
   ],
   "source": [
    "import re\n",
    "\n",
    "# Function to extract the price\n",
    "def extract_price(text):\n",
    "    if pd.isna(text):  # Handle missing values\n",
    "        return None\n",
    "    match = re.search(r'(\\d+)', text)  # Extract the first number\n",
    "    return int(match.group(1)) if match else None  # Convert to int if found\n",
    "\n",
    "# Apply the function to the 'price' column\n",
    "df_barcelona_price['price_cleaned'] = df_barcelona_price['price'].apply(extract_price)\n",
    "\n",
    "# Display the results\n",
    "print(df_barcelona_price[['price', 'price_cleaned']])"
   ]
  },
  {
   "cell_type": "markdown",
   "metadata": {},
   "source": [
    "## Extract the price from Madrid json file."
   ]
  },
  {
   "cell_type": "code",
   "execution_count": 3,
   "metadata": {},
   "outputs": [],
   "source": [
    "import json\n",
    "import pandas as pd\n",
    "import os\n",
    "\n",
    "#Open the madrid coworkings csv\n",
    "path = '/workspaces/Coworking/src/results/Madrid/Madrid_coworking_spaces.json'\n",
    "\n",
    "with open(path, 'r', encoding='utf-8') as file:\n",
    "    data = json.load(file)\n",
    "\n",
    "df = pd.json_normalize(data)\n",
    "\n",
    "df_madrid_price= df[['price']]"
   ]
  },
  {
   "cell_type": "code",
   "execution_count": 4,
   "metadata": {},
   "outputs": [
    {
     "name": "stdout",
     "output_type": "stream",
     "text": [
      "                                   price  price_cleaned\n",
      "0    Private Office\\n from € 490\\n/month          490.0\n",
      "1    Private Office\\n from € 189\\n/month          189.0\n",
      "2    Private Office\\n from € 315\\n/month          315.0\n",
      "3    Private Office\\n from € 980\\n/month          980.0\n",
      "4    Private Office\\n from € 225\\n/month          225.0\n",
      "..                                   ...            ...\n",
      "180    Private Office \\nPrice on request            NaN\n",
      "181    Private Office \\nPrice on request            NaN\n",
      "182    Private Office \\nPrice on request            NaN\n",
      "183    Private Office \\nPrice on request            NaN\n",
      "184                        1\\n2\\n3\\n4\\n5            1.0\n",
      "\n",
      "[185 rows x 2 columns]\n"
     ]
    },
    {
     "name": "stderr",
     "output_type": "stream",
     "text": [
      "/tmp/ipykernel_4215/871941500.py:11: SettingWithCopyWarning: \n",
      "A value is trying to be set on a copy of a slice from a DataFrame.\n",
      "Try using .loc[row_indexer,col_indexer] = value instead\n",
      "\n",
      "See the caveats in the documentation: https://pandas.pydata.org/pandas-docs/stable/user_guide/indexing.html#returning-a-view-versus-a-copy\n",
      "  df_madrid_price['price_cleaned'] = df_madrid_price['price'].apply(extract_price)\n"
     ]
    }
   ],
   "source": [
    "import re\n",
    "\n",
    "# Function to extract the price\n",
    "def extract_price(text):\n",
    "    if pd.isna(text):  # Handle missing values\n",
    "        return None\n",
    "    match = re.search(r'(\\d+)', text)  # Extract the first number\n",
    "    return int(match.group(1)) if match else None  # Convert to int if found\n",
    "\n",
    "# Apply the function to the 'price' column\n",
    "df_madrid_price['price_cleaned'] = df_madrid_price['price'].apply(extract_price)\n",
    "\n",
    "# Display the results\n",
    "print(df_madrid_price[['price', 'price_cleaned']])"
   ]
  },
  {
   "cell_type": "markdown",
   "metadata": {},
   "source": [
    "## Merge both prices dataframes."
   ]
  },
  {
   "cell_type": "code",
   "execution_count": 5,
   "metadata": {},
   "outputs": [
    {
     "data": {
      "text/html": [
       "<div>\n",
       "<style scoped>\n",
       "    .dataframe tbody tr th:only-of-type {\n",
       "        vertical-align: middle;\n",
       "    }\n",
       "\n",
       "    .dataframe tbody tr th {\n",
       "        vertical-align: top;\n",
       "    }\n",
       "\n",
       "    .dataframe thead th {\n",
       "        text-align: right;\n",
       "    }\n",
       "</style>\n",
       "<table border=\"1\" class=\"dataframe\">\n",
       "  <thead>\n",
       "    <tr style=\"text-align: right;\">\n",
       "      <th></th>\n",
       "      <th>price</th>\n",
       "      <th>price_cleaned</th>\n",
       "    </tr>\n",
       "  </thead>\n",
       "  <tbody>\n",
       "    <tr>\n",
       "      <th>0</th>\n",
       "      <td>Private Office\\n from € 490\\n/month</td>\n",
       "      <td>490.0</td>\n",
       "    </tr>\n",
       "    <tr>\n",
       "      <th>1</th>\n",
       "      <td>Private Office\\n from € 189\\n/month</td>\n",
       "      <td>189.0</td>\n",
       "    </tr>\n",
       "    <tr>\n",
       "      <th>2</th>\n",
       "      <td>Private Office\\n from € 315\\n/month</td>\n",
       "      <td>315.0</td>\n",
       "    </tr>\n",
       "    <tr>\n",
       "      <th>3</th>\n",
       "      <td>Private Office\\n from € 980\\n/month</td>\n",
       "      <td>980.0</td>\n",
       "    </tr>\n",
       "    <tr>\n",
       "      <th>4</th>\n",
       "      <td>Private Office\\n from € 225\\n/month</td>\n",
       "      <td>225.0</td>\n",
       "    </tr>\n",
       "  </tbody>\n",
       "</table>\n",
       "</div>"
      ],
      "text/plain": [
       "                                 price  price_cleaned\n",
       "0  Private Office\\n from € 490\\n/month          490.0\n",
       "1  Private Office\\n from € 189\\n/month          189.0\n",
       "2  Private Office\\n from € 315\\n/month          315.0\n",
       "3  Private Office\\n from € 980\\n/month          980.0\n",
       "4  Private Office\\n from € 225\\n/month          225.0"
      ]
     },
     "execution_count": 5,
     "metadata": {},
     "output_type": "execute_result"
    }
   ],
   "source": [
    "import pandas as pd\n",
    "\n",
    "# Concatenate both dataframes\n",
    "df_euro = pd.concat([df_madrid_price, df_barcelona_price], ignore_index=True)\n",
    "\n",
    "# Optionally, you can reset the index if needed\n",
    "df_euro.reset_index(drop=True, inplace=True)\n",
    "\n",
    "df_euro.head()"
   ]
  },
  {
   "cell_type": "code",
   "execution_count": 6,
   "metadata": {},
   "outputs": [
    {
     "data": {
      "text/html": [
       "<div>\n",
       "<style scoped>\n",
       "    .dataframe tbody tr th:only-of-type {\n",
       "        vertical-align: middle;\n",
       "    }\n",
       "\n",
       "    .dataframe tbody tr th {\n",
       "        vertical-align: top;\n",
       "    }\n",
       "\n",
       "    .dataframe thead th {\n",
       "        text-align: right;\n",
       "    }\n",
       "</style>\n",
       "<table border=\"1\" class=\"dataframe\">\n",
       "  <thead>\n",
       "    <tr style=\"text-align: right;\">\n",
       "      <th></th>\n",
       "      <th>price_cleaned</th>\n",
       "    </tr>\n",
       "  </thead>\n",
       "  <tbody>\n",
       "    <tr>\n",
       "      <th>0</th>\n",
       "      <td>490.0</td>\n",
       "    </tr>\n",
       "    <tr>\n",
       "      <th>1</th>\n",
       "      <td>189.0</td>\n",
       "    </tr>\n",
       "    <tr>\n",
       "      <th>2</th>\n",
       "      <td>315.0</td>\n",
       "    </tr>\n",
       "    <tr>\n",
       "      <th>3</th>\n",
       "      <td>980.0</td>\n",
       "    </tr>\n",
       "    <tr>\n",
       "      <th>4</th>\n",
       "      <td>225.0</td>\n",
       "    </tr>\n",
       "  </tbody>\n",
       "</table>\n",
       "</div>"
      ],
      "text/plain": [
       "   price_cleaned\n",
       "0          490.0\n",
       "1          189.0\n",
       "2          315.0\n",
       "3          980.0\n",
       "4          225.0"
      ]
     },
     "execution_count": 6,
     "metadata": {},
     "output_type": "execute_result"
    }
   ],
   "source": [
    "df_euro.drop(columns='price', inplace=True)\n",
    "\n",
    "df_euro.head()"
   ]
  },
  {
   "cell_type": "markdown",
   "metadata": {},
   "source": [
    "### Transform NaN values with the median."
   ]
  },
  {
   "cell_type": "code",
   "execution_count": 7,
   "metadata": {},
   "outputs": [
    {
     "data": {
      "text/plain": [
       "price_cleaned    27\n",
       "dtype: int64"
      ]
     },
     "execution_count": 7,
     "metadata": {},
     "output_type": "execute_result"
    }
   ],
   "source": [
    "df_euro.isna().sum()"
   ]
  },
  {
   "cell_type": "code",
   "execution_count": 8,
   "metadata": {},
   "outputs": [
    {
     "name": "stderr",
     "output_type": "stream",
     "text": [
      "/tmp/ipykernel_4215/1063668431.py:2: FutureWarning: A value is trying to be set on a copy of a DataFrame or Series through chained assignment using an inplace method.\n",
      "The behavior will change in pandas 3.0. This inplace method will never work because the intermediate object on which we are setting values always behaves as a copy.\n",
      "\n",
      "For example, when doing 'df[col].method(value, inplace=True)', try using 'df.method({col: value}, inplace=True)' or df[col] = df[col].method(value) instead, to perform the operation inplace on the original object.\n",
      "\n",
      "\n",
      "  df_euro['price_cleaned'].fillna(median_price, inplace=True)\n"
     ]
    }
   ],
   "source": [
    "median_price = df_euro['price_cleaned'].median()\n",
    "df_euro['price_cleaned'].fillna(median_price, inplace=True)"
   ]
  },
  {
   "cell_type": "code",
   "execution_count": 9,
   "metadata": {},
   "outputs": [
    {
     "data": {
      "text/plain": [
       "price_cleaned    0\n",
       "dtype: int64"
      ]
     },
     "execution_count": 9,
     "metadata": {},
     "output_type": "execute_result"
    }
   ],
   "source": [
    "df_euro.isna().sum()"
   ]
  },
  {
   "cell_type": "markdown",
   "metadata": {},
   "source": [
    "## Convert Euro in USD and normalize"
   ]
  },
  {
   "cell_type": "markdown",
   "metadata": {},
   "source": [
    "### Using ExchangeRate-API"
   ]
  },
  {
   "cell_type": "code",
   "execution_count": 10,
   "metadata": {},
   "outputs": [
    {
     "name": "stdout",
     "output_type": "stream",
     "text": [
      "     price_cleaned  price_usd\n",
      "0            490.0   555.6110\n",
      "1            189.0   214.3071\n",
      "2            315.0   357.1785\n",
      "3            980.0  1111.2220\n",
      "4            225.0   255.1275\n",
      "..             ...        ...\n",
      "367          250.0   283.4750\n",
      "368          250.0   283.4750\n",
      "369            1.0     1.1339\n",
      "370          250.0   283.4750\n",
      "371          250.0   283.4750\n",
      "\n",
      "[372 rows x 2 columns]\n"
     ]
    }
   ],
   "source": [
    "import pandas as pd\n",
    "import requests\n",
    "\n",
    "# Define your API endpoint and your API key\n",
    "api_key = \"7352f0026f58a51e76be2471\"  # Replace with your API key\n",
    "api_url = f\"https://v6.exchangerate-api.com/v6/{api_key}/latest/EUR\"\n",
    "\n",
    "# Fetch the EUR to USD conversion rate from the API\n",
    "def get_eur_to_usd_rate():\n",
    "    response = requests.get(api_url)\n",
    "    data = response.json()\n",
    "    \n",
    "    # Check if the response is valid\n",
    "    if data['result'] == 'success':\n",
    "        return data['conversion_rates']['USD']\n",
    "    else:\n",
    "        raise Exception(\"Error fetching exchange rate from API\")\n",
    "\n",
    "# Convert EUR to USD\n",
    "def convert_eur_to_usd(eur_price, conversion_rate):\n",
    "    return eur_price * conversion_rate\n",
    "\n",
    "# Fetch the conversion rate (EUR to USD)\n",
    "conversion_rate = get_eur_to_usd_rate()\n",
    "\n",
    "# Apply the conversion to the 'price' column\n",
    "df_euro['price_usd'] = df_euro['price_cleaned'].apply(lambda x: convert_eur_to_usd(x, conversion_rate))\n",
    "\n",
    "# Print the updated DataFrame\n",
    "print(df_euro)\n"
   ]
  },
  {
   "cell_type": "code",
   "execution_count": 11,
   "metadata": {},
   "outputs": [
    {
     "data": {
      "text/html": [
       "<div>\n",
       "<style scoped>\n",
       "    .dataframe tbody tr th:only-of-type {\n",
       "        vertical-align: middle;\n",
       "    }\n",
       "\n",
       "    .dataframe tbody tr th {\n",
       "        vertical-align: top;\n",
       "    }\n",
       "\n",
       "    .dataframe thead th {\n",
       "        text-align: right;\n",
       "    }\n",
       "</style>\n",
       "<table border=\"1\" class=\"dataframe\">\n",
       "  <thead>\n",
       "    <tr style=\"text-align: right;\">\n",
       "      <th></th>\n",
       "      <th>price_usd</th>\n",
       "    </tr>\n",
       "  </thead>\n",
       "  <tbody>\n",
       "    <tr>\n",
       "      <th>0</th>\n",
       "      <td>555.6110</td>\n",
       "    </tr>\n",
       "    <tr>\n",
       "      <th>1</th>\n",
       "      <td>214.3071</td>\n",
       "    </tr>\n",
       "    <tr>\n",
       "      <th>2</th>\n",
       "      <td>357.1785</td>\n",
       "    </tr>\n",
       "    <tr>\n",
       "      <th>3</th>\n",
       "      <td>1111.2220</td>\n",
       "    </tr>\n",
       "    <tr>\n",
       "      <th>4</th>\n",
       "      <td>255.1275</td>\n",
       "    </tr>\n",
       "  </tbody>\n",
       "</table>\n",
       "</div>"
      ],
      "text/plain": [
       "   price_usd\n",
       "0   555.6110\n",
       "1   214.3071\n",
       "2   357.1785\n",
       "3  1111.2220\n",
       "4   255.1275"
      ]
     },
     "execution_count": 11,
     "metadata": {},
     "output_type": "execute_result"
    }
   ],
   "source": [
    "df_euro.drop(columns='price_cleaned', inplace=True)\n",
    "\n",
    "df_euro.head()"
   ]
  },
  {
   "cell_type": "markdown",
   "metadata": {},
   "source": [
    "### The PPP factor of Spain is 1(LCU/Euro)(Local Currency Unit)"
   ]
  },
  {
   "cell_type": "markdown",
   "metadata": {},
   "source": [
    "## Convert Yens in USD and use the PPP factor."
   ]
  },
  {
   "cell_type": "code",
   "execution_count": 12,
   "metadata": {},
   "outputs": [],
   "source": [
    "import json\n",
    "import pandas as pd\n",
    "import os\n",
    "\n",
    "#Open the madrid coworkings csv\n",
    "path = '/workspaces/Coworking/src/results/Tokyo/tokyo_coworking_spaces.json'\n",
    "\n",
    "with open(path, 'r', encoding='utf-8') as file:\n",
    "    data = json.load(file)\n",
    "\n",
    "df = pd.json_normalize(data)\n",
    "\n",
    "df_tokyo_price= df[['price']]"
   ]
  },
  {
   "cell_type": "code",
   "execution_count": 13,
   "metadata": {},
   "outputs": [
    {
     "name": "stdout",
     "output_type": "stream",
     "text": [
      "                                     price  price_cleaned\n",
      "0    Private Office\\n from ¥ 55500\\n/month        55500.0\n",
      "1    Private Office\\n from ¥ 69900\\n/month        69900.0\n",
      "2    Private Office\\n from ¥ 43000\\n/month        43000.0\n",
      "3    Private Office\\n from ¥ 58500\\n/month        58500.0\n",
      "4    Private Office\\n from ¥ 71900\\n/month        71900.0\n",
      "..                                     ...            ...\n",
      "191      Private Office \\nPrice on request            NaN\n",
      "192                          1\\n2\\n3\\n4\\n5            1.0\n",
      "193      Private Office \\nPrice on request            NaN\n",
      "194      Private Office \\nPrice on request            NaN\n",
      "195      Private Office \\nPrice on request            NaN\n",
      "\n",
      "[196 rows x 2 columns]\n"
     ]
    },
    {
     "name": "stderr",
     "output_type": "stream",
     "text": [
      "/tmp/ipykernel_4215/3197838495.py:3: SettingWithCopyWarning: \n",
      "A value is trying to be set on a copy of a slice from a DataFrame.\n",
      "Try using .loc[row_indexer,col_indexer] = value instead\n",
      "\n",
      "See the caveats in the documentation: https://pandas.pydata.org/pandas-docs/stable/user_guide/indexing.html#returning-a-view-versus-a-copy\n",
      "  df_tokyo_price['price_cleaned'] = df_tokyo_price['price'].apply(extract_price)\n"
     ]
    }
   ],
   "source": [
    "import re\n",
    "\n",
    "df_tokyo_price['price_cleaned'] = df_tokyo_price['price'].apply(extract_price)\n",
    "\n",
    "# Display the results\n",
    "print(df_tokyo_price[['price', 'price_cleaned']])"
   ]
  },
  {
   "cell_type": "code",
   "execution_count": 14,
   "metadata": {},
   "outputs": [
    {
     "data": {
      "text/plain": [
       "price             0\n",
       "price_cleaned    25\n",
       "dtype: int64"
      ]
     },
     "execution_count": 14,
     "metadata": {},
     "output_type": "execute_result"
    }
   ],
   "source": [
    "df_tokyo_price.isna().sum()"
   ]
  },
  {
   "cell_type": "code",
   "execution_count": 15,
   "metadata": {},
   "outputs": [
    {
     "name": "stderr",
     "output_type": "stream",
     "text": [
      "/tmp/ipykernel_4215/616912941.py:2: FutureWarning: A value is trying to be set on a copy of a DataFrame or Series through chained assignment using an inplace method.\n",
      "The behavior will change in pandas 3.0. This inplace method will never work because the intermediate object on which we are setting values always behaves as a copy.\n",
      "\n",
      "For example, when doing 'df[col].method(value, inplace=True)', try using 'df.method({col: value}, inplace=True)' or df[col] = df[col].method(value) instead, to perform the operation inplace on the original object.\n",
      "\n",
      "\n",
      "  df_tokyo_price['price_cleaned'].fillna(median_price, inplace=True)\n",
      "/tmp/ipykernel_4215/616912941.py:2: SettingWithCopyWarning: \n",
      "A value is trying to be set on a copy of a slice from a DataFrame\n",
      "\n",
      "See the caveats in the documentation: https://pandas.pydata.org/pandas-docs/stable/user_guide/indexing.html#returning-a-view-versus-a-copy\n",
      "  df_tokyo_price['price_cleaned'].fillna(median_price, inplace=True)\n"
     ]
    }
   ],
   "source": [
    "median_price = df_tokyo_price['price_cleaned'].median()\n",
    "df_tokyo_price['price_cleaned'].fillna(median_price, inplace=True)"
   ]
  },
  {
   "cell_type": "code",
   "execution_count": 16,
   "metadata": {},
   "outputs": [
    {
     "name": "stderr",
     "output_type": "stream",
     "text": [
      "/tmp/ipykernel_4215/1139496757.py:1: SettingWithCopyWarning: \n",
      "A value is trying to be set on a copy of a slice from a DataFrame\n",
      "\n",
      "See the caveats in the documentation: https://pandas.pydata.org/pandas-docs/stable/user_guide/indexing.html#returning-a-view-versus-a-copy\n",
      "  df_tokyo_price.drop(columns='price', inplace=True)\n"
     ]
    }
   ],
   "source": [
    "df_tokyo_price.drop(columns='price', inplace=True)"
   ]
  },
  {
   "cell_type": "code",
   "execution_count": 17,
   "metadata": {},
   "outputs": [
    {
     "name": "stdout",
     "output_type": "stream",
     "text": [
      "     price_cleaned   price_usd\n",
      "0          55500.0  62931.4500\n",
      "1          69900.0  79259.6100\n",
      "2          43000.0  48757.7000\n",
      "3          58500.0  66333.1500\n",
      "4          71900.0  81527.4100\n",
      "..             ...         ...\n",
      "191        35000.0  39686.5000\n",
      "192            1.0      1.1339\n",
      "193        35000.0  39686.5000\n",
      "194        35000.0  39686.5000\n",
      "195        35000.0  39686.5000\n",
      "\n",
      "[196 rows x 2 columns]\n"
     ]
    },
    {
     "name": "stderr",
     "output_type": "stream",
     "text": [
      "/tmp/ipykernel_4215/4015434545.py:27: SettingWithCopyWarning: \n",
      "A value is trying to be set on a copy of a slice from a DataFrame.\n",
      "Try using .loc[row_indexer,col_indexer] = value instead\n",
      "\n",
      "See the caveats in the documentation: https://pandas.pydata.org/pandas-docs/stable/user_guide/indexing.html#returning-a-view-versus-a-copy\n",
      "  df_tokyo_price['price_usd'] = df_tokyo_price['price_cleaned'].apply(lambda x: convert_eur_to_usd(x, conversion_rate))\n"
     ]
    }
   ],
   "source": [
    "import pandas as pd\n",
    "import requests\n",
    "\n",
    "# Define your API endpoint and your API key\n",
    "api_key = \"7352f0026f58a51e76be2471\"  # Replace with your API key\n",
    "api_url = f\"https://v6.exchangerate-api.com/v6/{api_key}/latest/EUR\"\n",
    "\n",
    "# Fetch the EUR to USD conversion rate from the API\n",
    "def get_eur_to_usd_rate():\n",
    "    response = requests.get(api_url)\n",
    "    data = response.json()\n",
    "    \n",
    "    # Check if the response is valid\n",
    "    if data['result'] == 'success':\n",
    "        return data['conversion_rates']['USD']\n",
    "    else:\n",
    "        raise Exception(\"Error fetching exchange rate from API\")\n",
    "\n",
    "# Convert EUR to USD\n",
    "def convert_eur_to_usd(eur_price, conversion_rate):\n",
    "    return eur_price * conversion_rate\n",
    "\n",
    "# Fetch the conversion rate (EUR to USD)\n",
    "conversion_rate = get_eur_to_usd_rate()\n",
    "\n",
    "# Apply the conversion to the 'price' column\n",
    "df_tokyo_price['price_usd'] = df_tokyo_price['price_cleaned'].apply(lambda x: convert_eur_to_usd(x, conversion_rate))\n",
    "\n",
    "# Print the updated DataFrame\n",
    "print(df_tokyo_price)\n"
   ]
  },
  {
   "cell_type": "code",
   "execution_count": 18,
   "metadata": {},
   "outputs": [
    {
     "name": "stderr",
     "output_type": "stream",
     "text": [
      "/tmp/ipykernel_4215/1048160013.py:1: SettingWithCopyWarning: \n",
      "A value is trying to be set on a copy of a slice from a DataFrame\n",
      "\n",
      "See the caveats in the documentation: https://pandas.pydata.org/pandas-docs/stable/user_guide/indexing.html#returning-a-view-versus-a-copy\n",
      "  df_tokyo_price.drop(columns='price_cleaned', inplace=True)\n"
     ]
    }
   ],
   "source": [
    "df_tokyo_price.drop(columns='price_cleaned', inplace=True)"
   ]
  },
  {
   "cell_type": "markdown",
   "metadata": {},
   "source": [
    "### The PPP of Japan is 95(LSU/USD)"
   ]
  },
  {
   "cell_type": "code",
   "execution_count": 19,
   "metadata": {},
   "outputs": [
    {
     "name": "stderr",
     "output_type": "stream",
     "text": [
      "/tmp/ipykernel_4215/1995806028.py:1: SettingWithCopyWarning: \n",
      "A value is trying to be set on a copy of a slice from a DataFrame.\n",
      "Try using .loc[row_indexer,col_indexer] = value instead\n",
      "\n",
      "See the caveats in the documentation: https://pandas.pydata.org/pandas-docs/stable/user_guide/indexing.html#returning-a-view-versus-a-copy\n",
      "  df_tokyo_price['price_usd'] = df_tokyo_price['price_usd']*95\n"
     ]
    },
    {
     "data": {
      "text/html": [
       "<div>\n",
       "<style scoped>\n",
       "    .dataframe tbody tr th:only-of-type {\n",
       "        vertical-align: middle;\n",
       "    }\n",
       "\n",
       "    .dataframe tbody tr th {\n",
       "        vertical-align: top;\n",
       "    }\n",
       "\n",
       "    .dataframe thead th {\n",
       "        text-align: right;\n",
       "    }\n",
       "</style>\n",
       "<table border=\"1\" class=\"dataframe\">\n",
       "  <thead>\n",
       "    <tr style=\"text-align: right;\">\n",
       "      <th></th>\n",
       "      <th>price_usd</th>\n",
       "    </tr>\n",
       "  </thead>\n",
       "  <tbody>\n",
       "    <tr>\n",
       "      <th>0</th>\n",
       "      <td>5978487.75</td>\n",
       "    </tr>\n",
       "    <tr>\n",
       "      <th>1</th>\n",
       "      <td>7529662.95</td>\n",
       "    </tr>\n",
       "    <tr>\n",
       "      <th>2</th>\n",
       "      <td>4631981.50</td>\n",
       "    </tr>\n",
       "    <tr>\n",
       "      <th>3</th>\n",
       "      <td>6301649.25</td>\n",
       "    </tr>\n",
       "    <tr>\n",
       "      <th>4</th>\n",
       "      <td>7745103.95</td>\n",
       "    </tr>\n",
       "  </tbody>\n",
       "</table>\n",
       "</div>"
      ],
      "text/plain": [
       "    price_usd\n",
       "0  5978487.75\n",
       "1  7529662.95\n",
       "2  4631981.50\n",
       "3  6301649.25\n",
       "4  7745103.95"
      ]
     },
     "execution_count": 19,
     "metadata": {},
     "output_type": "execute_result"
    }
   ],
   "source": [
    "df_tokyo_price['price_usd'] = df_tokyo_price['price_usd']*95\n",
    "\n",
    "df_tokyo_price.head()"
   ]
  },
  {
   "cell_type": "markdown",
   "metadata": {},
   "source": [
    "## Convert Real into USD and use the PPP factor."
   ]
  },
  {
   "cell_type": "code",
   "execution_count": 20,
   "metadata": {},
   "outputs": [],
   "source": [
    "import json\n",
    "import pandas as pd\n",
    "import os\n",
    "\n",
    "#Open Sao Paulo json\n",
    "path = '/workspaces/Coworking/src/results/Sao Paulo/sp_coworking_spaces.json'\n",
    "\n",
    "with open(path, 'r', encoding='utf-8') as file:\n",
    "    data = json.load(file)\n",
    "\n",
    "df = pd.json_normalize(data)\n",
    "\n",
    "df_brazil_price= df[['price']]"
   ]
  },
  {
   "cell_type": "code",
   "execution_count": 21,
   "metadata": {},
   "outputs": [
    {
     "name": "stdout",
     "output_type": "stream",
     "text": [
      "                                     price  price_cleaned\n",
      "0    Private Office\\n from R$ 1385\\n/month         1385.0\n",
      "1    Private Office\\n from R$ 1015\\n/month         1015.0\n",
      "2    Private Office\\n from R$ 1565\\n/month         1565.0\n",
      "3    Private Office\\n from R$ 1389\\n/month         1389.0\n",
      "4    Private Office\\n from R$ 1899\\n/month         1899.0\n",
      "..                                     ...            ...\n",
      "133      Private Office \\nPrice on request            NaN\n",
      "134      Private Office \\nPrice on request            NaN\n",
      "135                       1\\n2\\n3\\n4\\n5\\n6            1.0\n",
      "136      Private Office \\nPrice on request            NaN\n",
      "137      Private Office \\nPrice on request            NaN\n",
      "\n",
      "[138 rows x 2 columns]\n"
     ]
    },
    {
     "name": "stderr",
     "output_type": "stream",
     "text": [
      "/tmp/ipykernel_4215/1699147551.py:11: SettingWithCopyWarning: \n",
      "A value is trying to be set on a copy of a slice from a DataFrame.\n",
      "Try using .loc[row_indexer,col_indexer] = value instead\n",
      "\n",
      "See the caveats in the documentation: https://pandas.pydata.org/pandas-docs/stable/user_guide/indexing.html#returning-a-view-versus-a-copy\n",
      "  df_brazil_price['price_cleaned'] = df_brazil_price['price'].apply(extract_price)\n"
     ]
    }
   ],
   "source": [
    "import re\n",
    "\n",
    "# Function to extract the price\n",
    "def extract_price(text):\n",
    "    if pd.isna(text):  # Handle missing values\n",
    "        return None\n",
    "    match = re.search(r'(\\d+)', text)  # Extract the first number\n",
    "    return int(match.group(1)) if match else None  # Convert to int if found\n",
    "\n",
    "# Apply the function to the 'price' column\n",
    "df_brazil_price['price_cleaned'] = df_brazil_price['price'].apply(extract_price)\n",
    "\n",
    "# Display the results\n",
    "print(df_brazil_price[['price', 'price_cleaned']])"
   ]
  },
  {
   "cell_type": "code",
   "execution_count": 22,
   "metadata": {},
   "outputs": [
    {
     "data": {
      "text/plain": [
       "price             0\n",
       "price_cleaned    32\n",
       "dtype: int64"
      ]
     },
     "execution_count": 22,
     "metadata": {},
     "output_type": "execute_result"
    }
   ],
   "source": [
    "df_brazil_price.isna().sum()"
   ]
  },
  {
   "cell_type": "code",
   "execution_count": 23,
   "metadata": {},
   "outputs": [
    {
     "name": "stderr",
     "output_type": "stream",
     "text": [
      "/tmp/ipykernel_4215/4224878642.py:2: FutureWarning: A value is trying to be set on a copy of a DataFrame or Series through chained assignment using an inplace method.\n",
      "The behavior will change in pandas 3.0. This inplace method will never work because the intermediate object on which we are setting values always behaves as a copy.\n",
      "\n",
      "For example, when doing 'df[col].method(value, inplace=True)', try using 'df.method({col: value}, inplace=True)' or df[col] = df[col].method(value) instead, to perform the operation inplace on the original object.\n",
      "\n",
      "\n",
      "  df_brazil_price['price_cleaned'].fillna(median_price, inplace=True)\n",
      "/tmp/ipykernel_4215/4224878642.py:2: SettingWithCopyWarning: \n",
      "A value is trying to be set on a copy of a slice from a DataFrame\n",
      "\n",
      "See the caveats in the documentation: https://pandas.pydata.org/pandas-docs/stable/user_guide/indexing.html#returning-a-view-versus-a-copy\n",
      "  df_brazil_price['price_cleaned'].fillna(median_price, inplace=True)\n"
     ]
    }
   ],
   "source": [
    "median_price = df_brazil_price['price_cleaned'].median()\n",
    "df_brazil_price['price_cleaned'].fillna(median_price, inplace=True)"
   ]
  },
  {
   "cell_type": "code",
   "execution_count": 24,
   "metadata": {},
   "outputs": [],
   "source": [
    "df_brazil_price = df_brazil_price[df_brazil_price['price_cleaned'] != 1]\n"
   ]
  },
  {
   "cell_type": "code",
   "execution_count": 25,
   "metadata": {},
   "outputs": [],
   "source": [
    "df_brazil_price.drop(columns='price', inplace=True)"
   ]
  },
  {
   "cell_type": "markdown",
   "metadata": {},
   "source": [
    "## Load New York prices."
   ]
  },
  {
   "cell_type": "code",
   "execution_count": 26,
   "metadata": {},
   "outputs": [],
   "source": [
    "import json\n",
    "import pandas as pd\n",
    "import os\n",
    "\n",
    "#Open New York json\n",
    "path = '/workspaces/Coworking/src/results/New York/New_York_coworking_spaces.json'\n",
    "\n",
    "with open(path, 'r', encoding='utf-8') as file:\n",
    "    data = json.load(file)\n",
    "\n",
    "df = pd.json_normalize(data)\n",
    "\n",
    "df_newyork_price= df[['price']]"
   ]
  },
  {
   "cell_type": "code",
   "execution_count": 27,
   "metadata": {},
   "outputs": [
    {
     "name": "stderr",
     "output_type": "stream",
     "text": [
      "/tmp/ipykernel_4215/1387685678.py:11: SettingWithCopyWarning: \n",
      "A value is trying to be set on a copy of a slice from a DataFrame.\n",
      "Try using .loc[row_indexer,col_indexer] = value instead\n",
      "\n",
      "See the caveats in the documentation: https://pandas.pydata.org/pandas-docs/stable/user_guide/indexing.html#returning-a-view-versus-a-copy\n",
      "  df_newyork_price['price_cleaned'] = df_newyork_price['price'].apply(extract_price)\n"
     ]
    },
    {
     "name": "stdout",
     "output_type": "stream",
     "text": [
      "                                               price  price_cleaned\n",
      "0                                    Price not found            NaN\n",
      "1  Coworking Space\\nfrom \\n$ 420\\n/month\\nGET QUO...          420.0\n",
      "2                                    Price not found            NaN\n",
      "3                Private Office\\n from $ 615\\n/month          615.0\n",
      "4               Private Office\\n from $ 3875\\n/month         3875.0\n"
     ]
    }
   ],
   "source": [
    "import re\n",
    "\n",
    "# Function to extract the price\n",
    "def extract_price(text):\n",
    "    if pd.isna(text):  # Handle missing values\n",
    "        return None\n",
    "    match = re.search(r'(\\d+)', text)  # Extract the first number\n",
    "    return int(match.group(1)) if match else None  # Convert to int if found\n",
    "\n",
    "# Apply the function to create a new column 'price_cleaned'\n",
    "df_newyork_price['price_cleaned'] = df_newyork_price['price'].apply(extract_price)\n",
    "\n",
    "# Display the results\n",
    "print(df_newyork_price[['price', 'price_cleaned']].head())"
   ]
  },
  {
   "cell_type": "code",
   "execution_count": 28,
   "metadata": {},
   "outputs": [
    {
     "data": {
      "text/plain": [
       "price              0\n",
       "price_cleaned    230\n",
       "dtype: int64"
      ]
     },
     "execution_count": 28,
     "metadata": {},
     "output_type": "execute_result"
    }
   ],
   "source": [
    "df_newyork_price.isna().sum()"
   ]
  },
  {
   "cell_type": "code",
   "execution_count": 29,
   "metadata": {},
   "outputs": [
    {
     "data": {
      "text/html": [
       "<div>\n",
       "<style scoped>\n",
       "    .dataframe tbody tr th:only-of-type {\n",
       "        vertical-align: middle;\n",
       "    }\n",
       "\n",
       "    .dataframe tbody tr th {\n",
       "        vertical-align: top;\n",
       "    }\n",
       "\n",
       "    .dataframe thead th {\n",
       "        text-align: right;\n",
       "    }\n",
       "</style>\n",
       "<table border=\"1\" class=\"dataframe\">\n",
       "  <thead>\n",
       "    <tr style=\"text-align: right;\">\n",
       "      <th></th>\n",
       "      <th>price</th>\n",
       "      <th>price_cleaned</th>\n",
       "    </tr>\n",
       "  </thead>\n",
       "  <tbody>\n",
       "    <tr>\n",
       "      <th>1</th>\n",
       "      <td>Coworking Space\\nfrom \\n$ 420\\n/month\\nGET QUO...</td>\n",
       "      <td>420.0</td>\n",
       "    </tr>\n",
       "    <tr>\n",
       "      <th>3</th>\n",
       "      <td>Private Office\\n from $ 615\\n/month</td>\n",
       "      <td>615.0</td>\n",
       "    </tr>\n",
       "    <tr>\n",
       "      <th>4</th>\n",
       "      <td>Private Office\\n from $ 3875\\n/month</td>\n",
       "      <td>3875.0</td>\n",
       "    </tr>\n",
       "    <tr>\n",
       "      <th>5</th>\n",
       "      <td>Private Office\\n from $ 1350\\n/month</td>\n",
       "      <td>1350.0</td>\n",
       "    </tr>\n",
       "    <tr>\n",
       "      <th>6</th>\n",
       "      <td>Private Office\\n from $ 3200\\n/month</td>\n",
       "      <td>3200.0</td>\n",
       "    </tr>\n",
       "    <tr>\n",
       "      <th>...</th>\n",
       "      <td>...</td>\n",
       "      <td>...</td>\n",
       "    </tr>\n",
       "    <tr>\n",
       "      <th>356</th>\n",
       "      <td>Private Office \\nfrom $ 1110\\n/month</td>\n",
       "      <td>1110.0</td>\n",
       "    </tr>\n",
       "    <tr>\n",
       "      <th>361</th>\n",
       "      <td>1\\n2\\n3\\n4\\n5\\n6</td>\n",
       "      <td>1.0</td>\n",
       "    </tr>\n",
       "    <tr>\n",
       "      <th>372</th>\n",
       "      <td>1\\n2\\n3\\n4\\n5</td>\n",
       "      <td>1.0</td>\n",
       "    </tr>\n",
       "    <tr>\n",
       "      <th>386</th>\n",
       "      <td>1\\n2\\n3\\n4\\n5\\n6</td>\n",
       "      <td>1.0</td>\n",
       "    </tr>\n",
       "    <tr>\n",
       "      <th>391</th>\n",
       "      <td>1\\n2\\n3\\n4\\n5\\n6</td>\n",
       "      <td>1.0</td>\n",
       "    </tr>\n",
       "  </tbody>\n",
       "</table>\n",
       "<p>278 rows × 2 columns</p>\n",
       "</div>"
      ],
      "text/plain": [
       "                                                 price  price_cleaned\n",
       "1    Coworking Space\\nfrom \\n$ 420\\n/month\\nGET QUO...          420.0\n",
       "3                  Private Office\\n from $ 615\\n/month          615.0\n",
       "4                 Private Office\\n from $ 3875\\n/month         3875.0\n",
       "5                 Private Office\\n from $ 1350\\n/month         1350.0\n",
       "6                 Private Office\\n from $ 3200\\n/month         3200.0\n",
       "..                                                 ...            ...\n",
       "356               Private Office \\nfrom $ 1110\\n/month         1110.0\n",
       "361                                   1\\n2\\n3\\n4\\n5\\n6            1.0\n",
       "372                                      1\\n2\\n3\\n4\\n5            1.0\n",
       "386                                   1\\n2\\n3\\n4\\n5\\n6            1.0\n",
       "391                                   1\\n2\\n3\\n4\\n5\\n6            1.0\n",
       "\n",
       "[278 rows x 2 columns]"
      ]
     },
     "execution_count": 29,
     "metadata": {},
     "output_type": "execute_result"
    }
   ],
   "source": [
    "df_newyork_price.dropna()"
   ]
  },
  {
   "cell_type": "code",
   "execution_count": 30,
   "metadata": {},
   "outputs": [
    {
     "name": "stderr",
     "output_type": "stream",
     "text": [
      "/tmp/ipykernel_4215/2059561520.py:1: SettingWithCopyWarning: \n",
      "A value is trying to be set on a copy of a slice from a DataFrame\n",
      "\n",
      "See the caveats in the documentation: https://pandas.pydata.org/pandas-docs/stable/user_guide/indexing.html#returning-a-view-versus-a-copy\n",
      "  df_newyork_price.drop(columns='price', inplace=True)\n"
     ]
    }
   ],
   "source": [
    "df_newyork_price.drop(columns='price', inplace=True)"
   ]
  },
  {
   "cell_type": "code",
   "execution_count": 31,
   "metadata": {},
   "outputs": [
    {
     "data": {
      "text/html": [
       "<div>\n",
       "<style scoped>\n",
       "    .dataframe tbody tr th:only-of-type {\n",
       "        vertical-align: middle;\n",
       "    }\n",
       "\n",
       "    .dataframe tbody tr th {\n",
       "        vertical-align: top;\n",
       "    }\n",
       "\n",
       "    .dataframe thead th {\n",
       "        text-align: right;\n",
       "    }\n",
       "</style>\n",
       "<table border=\"1\" class=\"dataframe\">\n",
       "  <thead>\n",
       "    <tr style=\"text-align: right;\">\n",
       "      <th></th>\n",
       "      <th>price_cleaned</th>\n",
       "    </tr>\n",
       "  </thead>\n",
       "  <tbody>\n",
       "    <tr>\n",
       "      <th>count</th>\n",
       "      <td>278.000000</td>\n",
       "    </tr>\n",
       "    <tr>\n",
       "      <th>mean</th>\n",
       "      <td>955.316547</td>\n",
       "    </tr>\n",
       "    <tr>\n",
       "      <th>std</th>\n",
       "      <td>1577.473914</td>\n",
       "    </tr>\n",
       "    <tr>\n",
       "      <th>min</th>\n",
       "      <td>1.000000</td>\n",
       "    </tr>\n",
       "    <tr>\n",
       "      <th>25%</th>\n",
       "      <td>371.000000</td>\n",
       "    </tr>\n",
       "    <tr>\n",
       "      <th>50%</th>\n",
       "      <td>700.000000</td>\n",
       "    </tr>\n",
       "    <tr>\n",
       "      <th>75%</th>\n",
       "      <td>1000.000000</td>\n",
       "    </tr>\n",
       "    <tr>\n",
       "      <th>max</th>\n",
       "      <td>19500.000000</td>\n",
       "    </tr>\n",
       "  </tbody>\n",
       "</table>\n",
       "</div>"
      ],
      "text/plain": [
       "       price_cleaned\n",
       "count     278.000000\n",
       "mean      955.316547\n",
       "std      1577.473914\n",
       "min         1.000000\n",
       "25%       371.000000\n",
       "50%       700.000000\n",
       "75%      1000.000000\n",
       "max     19500.000000"
      ]
     },
     "execution_count": 31,
     "metadata": {},
     "output_type": "execute_result"
    }
   ],
   "source": [
    "df_newyork_price.describe()"
   ]
  },
  {
   "cell_type": "markdown",
   "metadata": {},
   "source": [
    "## Merge all the prices."
   ]
  },
  {
   "cell_type": "code",
   "execution_count": 32,
   "metadata": {},
   "outputs": [
    {
     "data": {
      "text/html": [
       "<div>\n",
       "<style scoped>\n",
       "    .dataframe tbody tr th:only-of-type {\n",
       "        vertical-align: middle;\n",
       "    }\n",
       "\n",
       "    .dataframe tbody tr th {\n",
       "        vertical-align: top;\n",
       "    }\n",
       "\n",
       "    .dataframe thead th {\n",
       "        text-align: right;\n",
       "    }\n",
       "</style>\n",
       "<table border=\"1\" class=\"dataframe\">\n",
       "  <thead>\n",
       "    <tr style=\"text-align: right;\">\n",
       "      <th></th>\n",
       "      <th>price</th>\n",
       "    </tr>\n",
       "  </thead>\n",
       "  <tbody>\n",
       "    <tr>\n",
       "      <th>0</th>\n",
       "      <td>555.6110</td>\n",
       "    </tr>\n",
       "    <tr>\n",
       "      <th>1</th>\n",
       "      <td>214.3071</td>\n",
       "    </tr>\n",
       "    <tr>\n",
       "      <th>2</th>\n",
       "      <td>357.1785</td>\n",
       "    </tr>\n",
       "    <tr>\n",
       "      <th>3</th>\n",
       "      <td>1111.2220</td>\n",
       "    </tr>\n",
       "    <tr>\n",
       "      <th>4</th>\n",
       "      <td>255.1275</td>\n",
       "    </tr>\n",
       "  </tbody>\n",
       "</table>\n",
       "</div>"
      ],
      "text/plain": [
       "       price\n",
       "0   555.6110\n",
       "1   214.3071\n",
       "2   357.1785\n",
       "3  1111.2220\n",
       "4   255.1275"
      ]
     },
     "execution_count": 32,
     "metadata": {},
     "output_type": "execute_result"
    }
   ],
   "source": [
    "import pandas as pd\n",
    "\n",
    "df_prices = pd.concat([df_euro, df_tokyo_price, df_brazil_price, df_newyork_price]).stack().reset_index(drop=True).to_frame(name='price')\n",
    "\n",
    "df_prices.head()"
   ]
  },
  {
   "cell_type": "code",
   "execution_count": 33,
   "metadata": {},
   "outputs": [
    {
     "data": {
      "text/plain": [
       "(971, 1)"
      ]
     },
     "execution_count": 33,
     "metadata": {},
     "output_type": "execute_result"
    }
   ],
   "source": [
    "df_prices.shape"
   ]
  },
  {
   "cell_type": "code",
   "execution_count": 34,
   "metadata": {},
   "outputs": [
    {
     "data": {
      "text/html": [
       "<div>\n",
       "<style scoped>\n",
       "    .dataframe tbody tr th:only-of-type {\n",
       "        vertical-align: middle;\n",
       "    }\n",
       "\n",
       "    .dataframe tbody tr th {\n",
       "        vertical-align: top;\n",
       "    }\n",
       "\n",
       "    .dataframe thead th {\n",
       "        text-align: right;\n",
       "    }\n",
       "</style>\n",
       "<table border=\"1\" class=\"dataframe\">\n",
       "  <thead>\n",
       "    <tr style=\"text-align: right;\">\n",
       "      <th></th>\n",
       "      <th>price</th>\n",
       "    </tr>\n",
       "  </thead>\n",
       "  <tbody>\n",
       "    <tr>\n",
       "      <th>count</th>\n",
       "      <td>9.710000e+02</td>\n",
       "    </tr>\n",
       "    <tr>\n",
       "      <th>mean</th>\n",
       "      <td>1.275921e+06</td>\n",
       "    </tr>\n",
       "    <tr>\n",
       "      <th>std</th>\n",
       "      <td>9.893945e+06</td>\n",
       "    </tr>\n",
       "    <tr>\n",
       "      <th>min</th>\n",
       "      <td>1.000000e+00</td>\n",
       "    </tr>\n",
       "    <tr>\n",
       "      <th>25%</th>\n",
       "      <td>2.602301e+02</td>\n",
       "    </tr>\n",
       "    <tr>\n",
       "      <th>50%</th>\n",
       "      <td>6.236450e+02</td>\n",
       "    </tr>\n",
       "    <tr>\n",
       "      <th>75%</th>\n",
       "      <td>1.705000e+03</td>\n",
       "    </tr>\n",
       "    <tr>\n",
       "      <th>max</th>\n",
       "      <td>2.973086e+08</td>\n",
       "    </tr>\n",
       "  </tbody>\n",
       "</table>\n",
       "</div>"
      ],
      "text/plain": [
       "              price\n",
       "count  9.710000e+02\n",
       "mean   1.275921e+06\n",
       "std    9.893945e+06\n",
       "min    1.000000e+00\n",
       "25%    2.602301e+02\n",
       "50%    6.236450e+02\n",
       "75%    1.705000e+03\n",
       "max    2.973086e+08"
      ]
     },
     "execution_count": 34,
     "metadata": {},
     "output_type": "execute_result"
    }
   ],
   "source": [
    "df_prices.describe()"
   ]
  },
  {
   "cell_type": "code",
   "execution_count": 35,
   "metadata": {},
   "outputs": [
    {
     "data": {
      "image/png": "[encoded data removed]",
      "text/plain": [
       "<Figure size 1000x600 with 1 Axes>"
      ]
     },
     "metadata": {},
     "output_type": "display_data"
    }
   ],
   "source": [
    "import matplotlib.pyplot as plt\n",
    "\n",
    "# Create a boxplot to visualize outliers\n",
    "plt.figure(figsize=(10, 6))\n",
    "plt.boxplot(df_prices['price'], vert=False)\n",
    "plt.title('Boxplot of Prices')\n",
    "plt.xlabel('Price')\n",
    "plt.show()"
   ]
  },
  {
   "cell_type": "code",
   "execution_count": 39,
   "metadata": {},
   "outputs": [
    {
     "data": {
      "image/png": "[encoded data removed]",
      "text/plain": [
       "<Figure size 1000x600 with 1 Axes>"
      ]
     },
     "metadata": {},
     "output_type": "display_data"
    },
    {
     "name": "stdout",
     "output_type": "stream",
     "text": [
      "Original number of records: 971\n",
      "Number of records after removing outliers: 779\n"
     ]
    },
    {
     "name": "stderr",
     "output_type": "stream",
     "text": [
      "Bad pipe message: %s [b'u; Linux x86_64; rv:137.0) Gecko/20100101 Firefox/137.0\\r\\nAccept: text/html,application/xhtml+xml,application/']\n",
      "Bad pipe message: %s [b'l;q=0.9,*/*;q=0.8\\r\\nAccept-Language: en-US,en;q=0.5\\r\\nAccept-Encoding: gzip, deflate, br, zstd\\r\\nDNT: 1\\r\\nSec-GPC: 1\\r\\nConne', b'ion: keep-alive\\r\\nCookie: ajs_anonymous_id=066901b2-045c-4e8e-919a-35dee6f78dd1\\r\\nUpgrade-Insecure-R']\n",
      "Bad pipe message: %s [b'u; Linux x86_64; rv:137.0) Gecko/20100101 Firefox/137.0\\r\\nAccept: text/html,application/xhtml+xml,application/']\n",
      "Bad pipe message: %s [b'l;q=0.9,*/*;q=0.8\\r\\nAccept-Language: en-US,en;q=0.5\\r\\nAccept-Encoding: gzip, deflate, br, zstd\\r\\nDNT: 1\\r\\nSec-GPC: 1\\r\\nConne', b'ion: keep-alive\\r\\nCookie: ajs_anonymous_id=066901b2-045c-4e8e-919a-35dee6f78dd1\\r\\nUpgrade-Insecure-R']\n"
     ]
    }
   ],
   "source": [
    "# Calculate Q1, Q3, and IQR\n",
    "Q1 = df_prices['price'].quantile(0.25)\n",
    "Q3 = df_prices['price'].quantile(0.75)\n",
    "IQR = Q3 - Q1\n",
    "\n",
    "# Define bounds for outliers\n",
    "lower_bound = Q1 - 1.5 * IQR\n",
    "upper_bound = Q3 + 1.5 * IQR\n",
    "\n",
    "# Remove outliers\n",
    "df_prices_clean = df_prices[(df_prices['price'] >= lower_bound) & (df_prices['price'] <= upper_bound)]\n",
    "\n",
    "# Create a new boxplot to visualize the cleaned data\n",
    "plt.figure(figsize=(10, 6))\n",
    "plt.boxplot(df_prices_clean['price'], vert=False)\n",
    "plt.title('Boxplot of Prices (After Removing Outliers)')\n",
    "plt.xlabel('Price')\n",
    "plt.show()\n",
    "\n",
    "print(f\"Original number of records: {len(df_prices)}\")\n",
    "print(f\"Number of records after removing outliers: {len(df_prices_clean)}\")"
   ]
  },
  {
   "cell_type": "code",
   "execution_count": 36,
   "metadata": {},
   "outputs": [
    {
     "name": "stdout",
     "output_type": "stream",
     "text": [
      "(33, 1)\n"
     ]
    }
   ],
   "source": [
    "df_one = df_prices[df_prices['price']==1]\n",
    "\n",
    "print(df_one.shape)"
   ]
  },
  {
   "cell_type": "code",
   "execution_count": 37,
   "metadata": {},
   "outputs": [
    {
     "name": "stdout",
     "output_type": "stream",
     "text": [
      "         price\n",
      "0     555.6110\n",
      "1     214.3071\n",
      "2     357.1785\n",
      "3    1111.2220\n",
      "4     255.1275\n",
      "..         ...\n",
      "966  1110.0000\n",
      "967   666.0000\n",
      "968   666.0000\n",
      "969   666.0000\n",
      "970   666.0000\n",
      "\n",
      "[971 rows x 1 columns]\n"
     ]
    }
   ],
   "source": [
    "import pandas as pd\n",
    "\n",
    "# Calculate median (excluding 1)\n",
    "median_price = df_prices[df_prices['price'] != 1]['price'].median()\n",
    "\n",
    "# Replace 1 with median\n",
    "df_prices['price'] = df_prices['price'].replace(1, median_price)\n",
    "\n",
    "print(df_prices)"
   ]
  },
  {
   "cell_type": "code",
   "execution_count": 38,
   "metadata": {},
   "outputs": [],
   "source": [
    "import pandas as pd\n",
    "\n",
    "df_prices.to_json('/workspaces/Coworking/src/results/Cleaned_Prices.json', orient='records', indent=4)"
   ]
  }
 ],
 "metadata": {
  "kernelspec": {
   "display_name": "Python 3",
   "language": "python",
   "name": "python3"
  },
  "language_info": {
   "codemirror_mode": {
    "name": "ipython",
    "version": 3
   },
   "file_extension": ".py",
   "mimetype": "text/x-python",
   "name": "python",
   "nbconvert_exporter": "python",
   "pygments_lexer": "ipython3",
   "version": "3.11.11"
  }
 },
 "nbformat": 4,
 "nbformat_minor": 2
}

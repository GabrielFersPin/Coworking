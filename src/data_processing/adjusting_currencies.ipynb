{
 "cells": [
  {
   "cell_type": "markdown",
   "metadata": {},
   "source": [
    "# Adjusting currencies "
   ]
  },
  {
   "cell_type": "markdown",
   "metadata": {},
   "source": [
    "## Extracting the prices from Barcelona json file"
   ]
  },
  {
   "cell_type": "code",
   "execution_count": 2,
   "metadata": {},
   "outputs": [],
   "source": [
    "import json\n",
    "import pandas as pd\n",
    "import os\n",
    "\n",
    "#Open the madrid coworkings csv\n",
    "path = '/workspaces/Coworking/src/results/Barcelona/Barcelona_coworking_spaces.json'\n",
    "\n",
    "with open(path, 'r', encoding='utf-8') as file:\n",
    "    data = json.load(file)\n",
    "\n",
    "df = pd.json_normalize(data)\n",
    "\n",
    "df_barcelona_price= df[['price']]"
   ]
  },
  {
   "cell_type": "code",
   "execution_count": 3,
   "metadata": {},
   "outputs": [
    {
     "name": "stdout",
     "output_type": "stream",
     "text": [
      "                                  price  price_cleaned\n",
      "0   Private Office\\n from € 500\\n/month            500\n",
      "1   Private Office\\n from € 305\\n/month            305\n",
      "2   Private Office\\n from € 245\\n/month            245\n",
      "3  Private Office\\n from € 1214\\n/month           1214\n",
      "4   Private Office\\n from € 249\\n/month            249\n",
      "5   Private Office\\n from € 350\\n/month            350\n",
      "6                         1\\n2\\n3\\n4\\n5              1\n",
      "7   Private Office\\n from € 249\\n/month            249\n",
      "8   Private Office\\n from € 345\\n/month            345\n",
      "9   Private Office\\n from € 155\\n/month            155\n"
     ]
    },
    {
     "name": "stderr",
     "output_type": "stream",
     "text": [
      "/tmp/ipykernel_26605/1902064055.py:11: SettingWithCopyWarning: \n",
      "A value is trying to be set on a copy of a slice from a DataFrame.\n",
      "Try using .loc[row_indexer,col_indexer] = value instead\n",
      "\n",
      "See the caveats in the documentation: https://pandas.pydata.org/pandas-docs/stable/user_guide/indexing.html#returning-a-view-versus-a-copy\n",
      "  df_barcelona_price['price_cleaned'] = df_barcelona_price['price'].apply(extract_price)\n"
     ]
    }
   ],
   "source": [
    "import re\n",
    "\n",
    "# Function to extract the price\n",
    "def extract_price(text):\n",
    "    if pd.isna(text):  # Handle missing values\n",
    "        return None\n",
    "    match = re.search(r'(\\d+)', text)  # Extract the first number\n",
    "    return int(match.group(1)) if match else None  # Convert to int if found\n",
    "\n",
    "# Apply the function to the 'price' column\n",
    "df_barcelona_price['price_cleaned'] = df_barcelona_price['price'].apply(extract_price)\n",
    "\n",
    "# Display the results\n",
    "print(df_barcelona_price[['price', 'price_cleaned']])"
   ]
  },
  {
   "cell_type": "markdown",
   "metadata": {},
   "source": [
    "## Extract the price from Madrid json file."
   ]
  },
  {
   "cell_type": "code",
   "execution_count": 4,
   "metadata": {},
   "outputs": [],
   "source": [
    "import json\n",
    "import pandas as pd\n",
    "import os\n",
    "\n",
    "#Open the madrid coworkings csv\n",
    "path = '/workspaces/Coworking/src/results/Madrid/Madrid_coworking_spaces.json'\n",
    "\n",
    "with open(path, 'r', encoding='utf-8') as file:\n",
    "    data = json.load(file)\n",
    "\n",
    "df = pd.json_normalize(data)\n",
    "\n",
    "df_madrid_price= df[['price']]"
   ]
  },
  {
   "cell_type": "code",
   "execution_count": 5,
   "metadata": {},
   "outputs": [
    {
     "name": "stdout",
     "output_type": "stream",
     "text": [
      "                                   price  price_cleaned\n",
      "0    Private Office\\n from € 490\\n/month          490.0\n",
      "1    Private Office\\n from € 189\\n/month          189.0\n",
      "2    Private Office\\n from € 315\\n/month          315.0\n",
      "3    Private Office\\n from € 980\\n/month          980.0\n",
      "4    Private Office\\n from € 225\\n/month          225.0\n",
      "..                                   ...            ...\n",
      "180    Private Office \\nPrice on request            NaN\n",
      "181    Private Office \\nPrice on request            NaN\n",
      "182    Private Office \\nPrice on request            NaN\n",
      "183    Private Office \\nPrice on request            NaN\n",
      "184                        1\\n2\\n3\\n4\\n5            1.0\n",
      "\n",
      "[185 rows x 2 columns]\n"
     ]
    },
    {
     "name": "stderr",
     "output_type": "stream",
     "text": [
      "/tmp/ipykernel_26605/871941500.py:11: SettingWithCopyWarning: \n",
      "A value is trying to be set on a copy of a slice from a DataFrame.\n",
      "Try using .loc[row_indexer,col_indexer] = value instead\n",
      "\n",
      "See the caveats in the documentation: https://pandas.pydata.org/pandas-docs/stable/user_guide/indexing.html#returning-a-view-versus-a-copy\n",
      "  df_madrid_price['price_cleaned'] = df_madrid_price['price'].apply(extract_price)\n"
     ]
    }
   ],
   "source": [
    "import re\n",
    "\n",
    "# Function to extract the price\n",
    "def extract_price(text):\n",
    "    if pd.isna(text):  # Handle missing values\n",
    "        return None\n",
    "    match = re.search(r'(\\d+)', text)  # Extract the first number\n",
    "    return int(match.group(1)) if match else None  # Convert to int if found\n",
    "\n",
    "# Apply the function to the 'price' column\n",
    "df_madrid_price['price_cleaned'] = df_madrid_price['price'].apply(extract_price)\n",
    "\n",
    "# Display the results\n",
    "print(df_madrid_price[['price', 'price_cleaned']])"
   ]
  },
  {
   "cell_type": "markdown",
   "metadata": {},
   "source": [
    "## Merge both prices dataframes."
   ]
  },
  {
   "cell_type": "code",
   "execution_count": 6,
   "metadata": {},
   "outputs": [
    {
     "data": {
      "text/html": [
       "<div>\n",
       "<style scoped>\n",
       "    .dataframe tbody tr th:only-of-type {\n",
       "        vertical-align: middle;\n",
       "    }\n",
       "\n",
       "    .dataframe tbody tr th {\n",
       "        vertical-align: top;\n",
       "    }\n",
       "\n",
       "    .dataframe thead th {\n",
       "        text-align: right;\n",
       "    }\n",
       "</style>\n",
       "<table border=\"1\" class=\"dataframe\">\n",
       "  <thead>\n",
       "    <tr style=\"text-align: right;\">\n",
       "      <th></th>\n",
       "      <th>price</th>\n",
       "      <th>price_cleaned</th>\n",
       "    </tr>\n",
       "  </thead>\n",
       "  <tbody>\n",
       "    <tr>\n",
       "      <th>0</th>\n",
       "      <td>Private Office\\n from € 490\\n/month</td>\n",
       "      <td>490.0</td>\n",
       "    </tr>\n",
       "    <tr>\n",
       "      <th>1</th>\n",
       "      <td>Private Office\\n from € 189\\n/month</td>\n",
       "      <td>189.0</td>\n",
       "    </tr>\n",
       "    <tr>\n",
       "      <th>2</th>\n",
       "      <td>Private Office\\n from € 315\\n/month</td>\n",
       "      <td>315.0</td>\n",
       "    </tr>\n",
       "    <tr>\n",
       "      <th>3</th>\n",
       "      <td>Private Office\\n from € 980\\n/month</td>\n",
       "      <td>980.0</td>\n",
       "    </tr>\n",
       "    <tr>\n",
       "      <th>4</th>\n",
       "      <td>Private Office\\n from € 225\\n/month</td>\n",
       "      <td>225.0</td>\n",
       "    </tr>\n",
       "  </tbody>\n",
       "</table>\n",
       "</div>"
      ],
      "text/plain": [
       "                                 price  price_cleaned\n",
       "0  Private Office\\n from € 490\\n/month          490.0\n",
       "1  Private Office\\n from € 189\\n/month          189.0\n",
       "2  Private Office\\n from € 315\\n/month          315.0\n",
       "3  Private Office\\n from € 980\\n/month          980.0\n",
       "4  Private Office\\n from € 225\\n/month          225.0"
      ]
     },
     "execution_count": 6,
     "metadata": {},
     "output_type": "execute_result"
    }
   ],
   "source": [
    "import pandas as pd\n",
    "\n",
    "# Concatenate both dataframes\n",
    "df_euro = pd.concat([df_madrid_price, df_barcelona_price], ignore_index=True)\n",
    "\n",
    "# Optionally, you can reset the index if needed\n",
    "df_euro.reset_index(drop=True, inplace=True)\n",
    "\n",
    "df_euro.head()"
   ]
  },
  {
   "cell_type": "code",
   "execution_count": 7,
   "metadata": {},
   "outputs": [
    {
     "data": {
      "text/html": [
       "<div>\n",
       "<style scoped>\n",
       "    .dataframe tbody tr th:only-of-type {\n",
       "        vertical-align: middle;\n",
       "    }\n",
       "\n",
       "    .dataframe tbody tr th {\n",
       "        vertical-align: top;\n",
       "    }\n",
       "\n",
       "    .dataframe thead th {\n",
       "        text-align: right;\n",
       "    }\n",
       "</style>\n",
       "<table border=\"1\" class=\"dataframe\">\n",
       "  <thead>\n",
       "    <tr style=\"text-align: right;\">\n",
       "      <th></th>\n",
       "      <th>price_cleaned</th>\n",
       "    </tr>\n",
       "  </thead>\n",
       "  <tbody>\n",
       "    <tr>\n",
       "      <th>0</th>\n",
       "      <td>490.0</td>\n",
       "    </tr>\n",
       "    <tr>\n",
       "      <th>1</th>\n",
       "      <td>189.0</td>\n",
       "    </tr>\n",
       "    <tr>\n",
       "      <th>2</th>\n",
       "      <td>315.0</td>\n",
       "    </tr>\n",
       "    <tr>\n",
       "      <th>3</th>\n",
       "      <td>980.0</td>\n",
       "    </tr>\n",
       "    <tr>\n",
       "      <th>4</th>\n",
       "      <td>225.0</td>\n",
       "    </tr>\n",
       "  </tbody>\n",
       "</table>\n",
       "</div>"
      ],
      "text/plain": [
       "   price_cleaned\n",
       "0          490.0\n",
       "1          189.0\n",
       "2          315.0\n",
       "3          980.0\n",
       "4          225.0"
      ]
     },
     "execution_count": 7,
     "metadata": {},
     "output_type": "execute_result"
    }
   ],
   "source": [
    "df_euro.drop(columns='price', inplace=True)\n",
    "\n",
    "df_euro.head()"
   ]
  },
  {
   "cell_type": "markdown",
   "metadata": {},
   "source": [
    "### Transform NaN values with the median."
   ]
  },
  {
   "cell_type": "code",
   "execution_count": 8,
   "metadata": {},
   "outputs": [
    {
     "data": {
      "text/plain": [
       "price_cleaned    14\n",
       "dtype: int64"
      ]
     },
     "execution_count": 8,
     "metadata": {},
     "output_type": "execute_result"
    }
   ],
   "source": [
    "df_euro.isna().sum()"
   ]
  },
  {
   "cell_type": "code",
   "execution_count": 9,
   "metadata": {},
   "outputs": [
    {
     "name": "stderr",
     "output_type": "stream",
     "text": [
      "/tmp/ipykernel_26605/1063668431.py:2: FutureWarning: A value is trying to be set on a copy of a DataFrame or Series through chained assignment using an inplace method.\n",
      "The behavior will change in pandas 3.0. This inplace method will never work because the intermediate object on which we are setting values always behaves as a copy.\n",
      "\n",
      "For example, when doing 'df[col].method(value, inplace=True)', try using 'df.method({col: value}, inplace=True)' or df[col] = df[col].method(value) instead, to perform the operation inplace on the original object.\n",
      "\n",
      "\n",
      "  df_euro['price_cleaned'].fillna(median_price, inplace=True)\n"
     ]
    }
   ],
   "source": [
    "median_price = df_euro['price_cleaned'].median()\n",
    "df_euro['price_cleaned'].fillna(median_price, inplace=True)"
   ]
  },
  {
   "cell_type": "code",
   "execution_count": 10,
   "metadata": {},
   "outputs": [
    {
     "data": {
      "text/plain": [
       "price_cleaned    0\n",
       "dtype: int64"
      ]
     },
     "execution_count": 10,
     "metadata": {},
     "output_type": "execute_result"
    }
   ],
   "source": [
    "df_euro.isna().sum()"
   ]
  },
  {
   "cell_type": "markdown",
   "metadata": {},
   "source": [
    "## Convert Euro in USD and normalize"
   ]
  },
  {
   "cell_type": "markdown",
   "metadata": {},
   "source": [
    "### Using ExchangeRate-API"
   ]
  },
  {
   "cell_type": "code",
   "execution_count": 11,
   "metadata": {},
   "outputs": [
    {
     "name": "stdout",
     "output_type": "stream",
     "text": [
      "     price_cleaned  price_usd\n",
      "0            490.0   530.3760\n",
      "1            189.0   204.5736\n",
      "2            315.0   340.9560\n",
      "3            980.0  1060.7520\n",
      "4            225.0   243.5400\n",
      "..             ...        ...\n",
      "190          350.0   378.8400\n",
      "191            1.0     1.0824\n",
      "192          249.0   269.5176\n",
      "193          345.0   373.4280\n",
      "194          155.0   167.7720\n",
      "\n",
      "[195 rows x 2 columns]\n"
     ]
    }
   ],
   "source": [
    "import pandas as pd\n",
    "import requests\n",
    "\n",
    "# Define your API endpoint and your API key\n",
    "api_key = \"7352f0026f58a51e76be2471\"  # Replace with your API key\n",
    "api_url = f\"https://v6.exchangerate-api.com/v6/{api_key}/latest/EUR\"\n",
    "\n",
    "# Fetch the EUR to USD conversion rate from the API\n",
    "def get_eur_to_usd_rate():\n",
    "    response = requests.get(api_url)\n",
    "    data = response.json()\n",
    "    \n",
    "    # Check if the response is valid\n",
    "    if data['result'] == 'success':\n",
    "        return data['conversion_rates']['USD']\n",
    "    else:\n",
    "        raise Exception(\"Error fetching exchange rate from API\")\n",
    "\n",
    "# Convert EUR to USD\n",
    "def convert_eur_to_usd(eur_price, conversion_rate):\n",
    "    return eur_price * conversion_rate\n",
    "\n",
    "# Fetch the conversion rate (EUR to USD)\n",
    "conversion_rate = get_eur_to_usd_rate()\n",
    "\n",
    "# Apply the conversion to the 'price' column\n",
    "df_euro['price_usd'] = df_euro['price_cleaned'].apply(lambda x: convert_eur_to_usd(x, conversion_rate))\n",
    "\n",
    "# Print the updated DataFrame\n",
    "print(df_euro)\n"
   ]
  },
  {
   "cell_type": "code",
   "execution_count": 12,
   "metadata": {},
   "outputs": [
    {
     "data": {
      "text/html": [
       "<div>\n",
       "<style scoped>\n",
       "    .dataframe tbody tr th:only-of-type {\n",
       "        vertical-align: middle;\n",
       "    }\n",
       "\n",
       "    .dataframe tbody tr th {\n",
       "        vertical-align: top;\n",
       "    }\n",
       "\n",
       "    .dataframe thead th {\n",
       "        text-align: right;\n",
       "    }\n",
       "</style>\n",
       "<table border=\"1\" class=\"dataframe\">\n",
       "  <thead>\n",
       "    <tr style=\"text-align: right;\">\n",
       "      <th></th>\n",
       "      <th>price_usd</th>\n",
       "    </tr>\n",
       "  </thead>\n",
       "  <tbody>\n",
       "    <tr>\n",
       "      <th>0</th>\n",
       "      <td>530.3760</td>\n",
       "    </tr>\n",
       "    <tr>\n",
       "      <th>1</th>\n",
       "      <td>204.5736</td>\n",
       "    </tr>\n",
       "    <tr>\n",
       "      <th>2</th>\n",
       "      <td>340.9560</td>\n",
       "    </tr>\n",
       "    <tr>\n",
       "      <th>3</th>\n",
       "      <td>1060.7520</td>\n",
       "    </tr>\n",
       "    <tr>\n",
       "      <th>4</th>\n",
       "      <td>243.5400</td>\n",
       "    </tr>\n",
       "  </tbody>\n",
       "</table>\n",
       "</div>"
      ],
      "text/plain": [
       "   price_usd\n",
       "0   530.3760\n",
       "1   204.5736\n",
       "2   340.9560\n",
       "3  1060.7520\n",
       "4   243.5400"
      ]
     },
     "execution_count": 12,
     "metadata": {},
     "output_type": "execute_result"
    }
   ],
   "source": [
    "df_euro.drop(columns='price_cleaned', inplace=True)\n",
    "\n",
    "df_euro.head()"
   ]
  },
  {
   "cell_type": "markdown",
   "metadata": {},
   "source": [
    "### The PPP factor of Spain is 1(LCU/Euro)(Local Currency Unit)"
   ]
  },
  {
   "cell_type": "markdown",
   "metadata": {},
   "source": [
    "## Convert Yens in USD and use the PPP factor."
   ]
  },
  {
   "cell_type": "code",
   "execution_count": 13,
   "metadata": {},
   "outputs": [],
   "source": [
    "import json\n",
    "import pandas as pd\n",
    "import os\n",
    "\n",
    "#Open the madrid coworkings csv\n",
    "path = '/workspaces/Coworking/src/results/Tokyo/tokyo_coworking_spaces.json'\n",
    "\n",
    "with open(path, 'r', encoding='utf-8') as file:\n",
    "    data = json.load(file)\n",
    "\n",
    "df = pd.json_normalize(data)\n",
    "\n",
    "df_tokyo_price= df[['price']]"
   ]
  },
  {
   "cell_type": "code",
   "execution_count": 14,
   "metadata": {},
   "outputs": [
    {
     "name": "stdout",
     "output_type": "stream",
     "text": [
      "                                   price  price_cleaned\n",
      "0  Private Office\\n from ¥ 57500\\n/month          57500\n",
      "1                          1\\n2\\n3\\n4\\n5              1\n",
      "2  Private Office\\n from ¥ 56000\\n/month          56000\n",
      "3  Private Office\\n from ¥ 43000\\n/month          43000\n",
      "4  Private Office\\n from ¥ 71500\\n/month          71500\n",
      "5  Private Office\\n from ¥ 71900\\n/month          71900\n",
      "6  Private Office\\n from ¥ 48000\\n/month          48000\n",
      "7  Private Office\\n from ¥ 58500\\n/month          58500\n",
      "8  Private Office\\n from ¥ 69900\\n/month          69900\n",
      "9  Private Office\\n from ¥ 55500\\n/month          55500\n"
     ]
    },
    {
     "name": "stderr",
     "output_type": "stream",
     "text": [
      "/tmp/ipykernel_26605/3197838495.py:3: SettingWithCopyWarning: \n",
      "A value is trying to be set on a copy of a slice from a DataFrame.\n",
      "Try using .loc[row_indexer,col_indexer] = value instead\n",
      "\n",
      "See the caveats in the documentation: https://pandas.pydata.org/pandas-docs/stable/user_guide/indexing.html#returning-a-view-versus-a-copy\n",
      "  df_tokyo_price['price_cleaned'] = df_tokyo_price['price'].apply(extract_price)\n"
     ]
    }
   ],
   "source": [
    "import re\n",
    "\n",
    "df_tokyo_price['price_cleaned'] = df_tokyo_price['price'].apply(extract_price)\n",
    "\n",
    "# Display the results\n",
    "print(df_tokyo_price[['price', 'price_cleaned']])"
   ]
  },
  {
   "cell_type": "code",
   "execution_count": 15,
   "metadata": {},
   "outputs": [
    {
     "data": {
      "text/plain": [
       "price            0\n",
       "price_cleaned    0\n",
       "dtype: int64"
      ]
     },
     "execution_count": 15,
     "metadata": {},
     "output_type": "execute_result"
    }
   ],
   "source": [
    "df_tokyo_price.isna().sum()"
   ]
  },
  {
   "cell_type": "code",
   "execution_count": 16,
   "metadata": {},
   "outputs": [
    {
     "name": "stderr",
     "output_type": "stream",
     "text": [
      "/tmp/ipykernel_26605/1139496757.py:1: SettingWithCopyWarning: \n",
      "A value is trying to be set on a copy of a slice from a DataFrame\n",
      "\n",
      "See the caveats in the documentation: https://pandas.pydata.org/pandas-docs/stable/user_guide/indexing.html#returning-a-view-versus-a-copy\n",
      "  df_tokyo_price.drop(columns='price', inplace=True)\n"
     ]
    }
   ],
   "source": [
    "df_tokyo_price.drop(columns='price', inplace=True)"
   ]
  },
  {
   "cell_type": "code",
   "execution_count": 17,
   "metadata": {},
   "outputs": [
    {
     "name": "stdout",
     "output_type": "stream",
     "text": [
      "   price_cleaned   price_usd\n",
      "0          57500  62238.0000\n",
      "1              1      1.0824\n",
      "2          56000  60614.4000\n",
      "3          43000  46543.2000\n",
      "4          71500  77391.6000\n",
      "5          71900  77824.5600\n",
      "6          48000  51955.2000\n",
      "7          58500  63320.4000\n",
      "8          69900  75659.7600\n",
      "9          55500  60073.2000\n"
     ]
    },
    {
     "name": "stderr",
     "output_type": "stream",
     "text": [
      "/tmp/ipykernel_26605/4015434545.py:27: SettingWithCopyWarning: \n",
      "A value is trying to be set on a copy of a slice from a DataFrame.\n",
      "Try using .loc[row_indexer,col_indexer] = value instead\n",
      "\n",
      "See the caveats in the documentation: https://pandas.pydata.org/pandas-docs/stable/user_guide/indexing.html#returning-a-view-versus-a-copy\n",
      "  df_tokyo_price['price_usd'] = df_tokyo_price['price_cleaned'].apply(lambda x: convert_eur_to_usd(x, conversion_rate))\n"
     ]
    }
   ],
   "source": [
    "import pandas as pd\n",
    "import requests\n",
    "\n",
    "# Define your API endpoint and your API key\n",
    "api_key = \"7352f0026f58a51e76be2471\"  # Replace with your API key\n",
    "api_url = f\"https://v6.exchangerate-api.com/v6/{api_key}/latest/EUR\"\n",
    "\n",
    "# Fetch the EUR to USD conversion rate from the API\n",
    "def get_eur_to_usd_rate():\n",
    "    response = requests.get(api_url)\n",
    "    data = response.json()\n",
    "    \n",
    "    # Check if the response is valid\n",
    "    if data['result'] == 'success':\n",
    "        return data['conversion_rates']['USD']\n",
    "    else:\n",
    "        raise Exception(\"Error fetching exchange rate from API\")\n",
    "\n",
    "# Convert EUR to USD\n",
    "def convert_eur_to_usd(eur_price, conversion_rate):\n",
    "    return eur_price * conversion_rate\n",
    "\n",
    "# Fetch the conversion rate (EUR to USD)\n",
    "conversion_rate = get_eur_to_usd_rate()\n",
    "\n",
    "# Apply the conversion to the 'price' column\n",
    "df_tokyo_price['price_usd'] = df_tokyo_price['price_cleaned'].apply(lambda x: convert_eur_to_usd(x, conversion_rate))\n",
    "\n",
    "# Print the updated DataFrame\n",
    "print(df_tokyo_price)\n"
   ]
  },
  {
   "cell_type": "code",
   "execution_count": 18,
   "metadata": {},
   "outputs": [
    {
     "name": "stderr",
     "output_type": "stream",
     "text": [
      "/tmp/ipykernel_26605/1048160013.py:1: SettingWithCopyWarning: \n",
      "A value is trying to be set on a copy of a slice from a DataFrame\n",
      "\n",
      "See the caveats in the documentation: https://pandas.pydata.org/pandas-docs/stable/user_guide/indexing.html#returning-a-view-versus-a-copy\n",
      "  df_tokyo_price.drop(columns='price_cleaned', inplace=True)\n"
     ]
    }
   ],
   "source": [
    "df_tokyo_price.drop(columns='price_cleaned', inplace=True)"
   ]
  },
  {
   "cell_type": "markdown",
   "metadata": {},
   "source": [
    "### The PPP of Japan is 95(LSU/USD)"
   ]
  },
  {
   "cell_type": "code",
   "execution_count": 19,
   "metadata": {},
   "outputs": [
    {
     "name": "stderr",
     "output_type": "stream",
     "text": [
      "/tmp/ipykernel_26605/1995806028.py:1: SettingWithCopyWarning: \n",
      "A value is trying to be set on a copy of a slice from a DataFrame.\n",
      "Try using .loc[row_indexer,col_indexer] = value instead\n",
      "\n",
      "See the caveats in the documentation: https://pandas.pydata.org/pandas-docs/stable/user_guide/indexing.html#returning-a-view-versus-a-copy\n",
      "  df_tokyo_price['price_usd'] = df_tokyo_price['price_usd']*95\n"
     ]
    },
    {
     "data": {
      "text/html": [
       "<div>\n",
       "<style scoped>\n",
       "    .dataframe tbody tr th:only-of-type {\n",
       "        vertical-align: middle;\n",
       "    }\n",
       "\n",
       "    .dataframe tbody tr th {\n",
       "        vertical-align: top;\n",
       "    }\n",
       "\n",
       "    .dataframe thead th {\n",
       "        text-align: right;\n",
       "    }\n",
       "</style>\n",
       "<table border=\"1\" class=\"dataframe\">\n",
       "  <thead>\n",
       "    <tr style=\"text-align: right;\">\n",
       "      <th></th>\n",
       "      <th>price_usd</th>\n",
       "    </tr>\n",
       "  </thead>\n",
       "  <tbody>\n",
       "    <tr>\n",
       "      <th>0</th>\n",
       "      <td>5912610.000</td>\n",
       "    </tr>\n",
       "    <tr>\n",
       "      <th>1</th>\n",
       "      <td>102.828</td>\n",
       "    </tr>\n",
       "    <tr>\n",
       "      <th>2</th>\n",
       "      <td>5758368.000</td>\n",
       "    </tr>\n",
       "    <tr>\n",
       "      <th>3</th>\n",
       "      <td>4421604.000</td>\n",
       "    </tr>\n",
       "    <tr>\n",
       "      <th>4</th>\n",
       "      <td>7352202.000</td>\n",
       "    </tr>\n",
       "  </tbody>\n",
       "</table>\n",
       "</div>"
      ],
      "text/plain": [
       "     price_usd\n",
       "0  5912610.000\n",
       "1      102.828\n",
       "2  5758368.000\n",
       "3  4421604.000\n",
       "4  7352202.000"
      ]
     },
     "execution_count": 19,
     "metadata": {},
     "output_type": "execute_result"
    }
   ],
   "source": [
    "df_tokyo_price['price_usd'] = df_tokyo_price['price_usd']*95\n",
    "\n",
    "df_tokyo_price.head()"
   ]
  },
  {
   "cell_type": "markdown",
   "metadata": {},
   "source": [
    "## Convert Real into USD and use the PPP factor."
   ]
  },
  {
   "cell_type": "code",
   "execution_count": 20,
   "metadata": {},
   "outputs": [],
   "source": [
    "import json\n",
    "import pandas as pd\n",
    "import os\n",
    "\n",
    "#Open Sao Paulo json\n",
    "path = '/workspaces/Coworking/src/results/Sao Paulo/Sao_Paulo_coworking_spaces.json'\n",
    "\n",
    "with open(path, 'r', encoding='utf-8') as file:\n",
    "    data = json.load(file)\n",
    "\n",
    "df = pd.json_normalize(data)\n",
    "\n",
    "df_brazil_price= df[['price']]"
   ]
  },
  {
   "cell_type": "code",
   "execution_count": 21,
   "metadata": {},
   "outputs": [
    {
     "name": "stdout",
     "output_type": "stream",
     "text": [
      "                                   price  price_cleaned\n",
      "0  Private Office\\n from R$ 1815\\n/month           1815\n",
      "1                          1\\n2\\n3\\n4\\n5              1\n",
      "2  Private Office\\n from R$ 1389\\n/month           1389\n",
      "3  Private Office\\n from R$ 1565\\n/month           1565\n",
      "4  Private Office\\n from R$ 1015\\n/month           1015\n",
      "5  Private Office\\n from R$ 1385\\n/month           1385\n",
      "6  Private Office\\n from R$ 2209\\n/month           2209\n",
      "7  Private Office\\n from R$ 1899\\n/month           1899\n",
      "8  Private Office\\n from R$ 1059\\n/month           1059\n",
      "9  Private Office\\n from R$ 1299\\n/month           1299\n"
     ]
    },
    {
     "name": "stderr",
     "output_type": "stream",
     "text": [
      "/tmp/ipykernel_26605/1699147551.py:11: SettingWithCopyWarning: \n",
      "A value is trying to be set on a copy of a slice from a DataFrame.\n",
      "Try using .loc[row_indexer,col_indexer] = value instead\n",
      "\n",
      "See the caveats in the documentation: https://pandas.pydata.org/pandas-docs/stable/user_guide/indexing.html#returning-a-view-versus-a-copy\n",
      "  df_brazil_price['price_cleaned'] = df_brazil_price['price'].apply(extract_price)\n"
     ]
    }
   ],
   "source": [
    "import re\n",
    "\n",
    "# Function to extract the price\n",
    "def extract_price(text):\n",
    "    if pd.isna(text):  # Handle missing values\n",
    "        return None\n",
    "    match = re.search(r'(\\d+)', text)  # Extract the first number\n",
    "    return int(match.group(1)) if match else None  # Convert to int if found\n",
    "\n",
    "# Apply the function to the 'price' column\n",
    "df_brazil_price['price_cleaned'] = df_brazil_price['price'].apply(extract_price)\n",
    "\n",
    "# Display the results\n",
    "print(df_brazil_price[['price', 'price_cleaned']])"
   ]
  },
  {
   "cell_type": "code",
   "execution_count": 22,
   "metadata": {},
   "outputs": [
    {
     "data": {
      "text/plain": [
       "price            0\n",
       "price_cleaned    0\n",
       "dtype: int64"
      ]
     },
     "execution_count": 22,
     "metadata": {},
     "output_type": "execute_result"
    }
   ],
   "source": [
    "df_brazil_price.isna().sum()"
   ]
  },
  {
   "cell_type": "code",
   "execution_count": 23,
   "metadata": {},
   "outputs": [],
   "source": [
    "df_brazil_price = df_brazil_price[df_brazil_price['price_cleaned'] != 1]\n"
   ]
  },
  {
   "cell_type": "code",
   "execution_count": 24,
   "metadata": {},
   "outputs": [],
   "source": [
    "df_brazil_price = df_brazil_price[df_brazil_price['price_cleaned'] != 1]"
   ]
  },
  {
   "cell_type": "code",
   "execution_count": 25,
   "metadata": {},
   "outputs": [],
   "source": [
    "df_brazil_price.drop(columns='price', inplace=True)"
   ]
  },
  {
   "cell_type": "markdown",
   "metadata": {},
   "source": [
    "## Load New York prices."
   ]
  },
  {
   "cell_type": "code",
   "execution_count": 26,
   "metadata": {},
   "outputs": [],
   "source": [
    "import json\n",
    "import pandas as pd\n",
    "import os\n",
    "\n",
    "#Open Sao Paulo json\n",
    "path = '/workspaces/Coworking/src/results/New York/New_York_coworking_spaces.json'\n",
    "\n",
    "with open(path, 'r', encoding='utf-8') as file:\n",
    "    data = json.load(file)\n",
    "\n",
    "df = pd.json_normalize(data)\n",
    "\n",
    "df_newyork_price= df[['price']]"
   ]
  },
  {
   "cell_type": "code",
   "execution_count": 27,
   "metadata": {},
   "outputs": [
    {
     "name": "stdout",
     "output_type": "stream",
     "text": [
      "                                               price  price_cleaned\n",
      "0               Private Office\\n from $ 1600\\n/month         1600.0\n",
      "1                Private Office\\n from $ 473\\n/month          473.0\n",
      "2               Private Office\\n from $ 3875\\n/month         3875.0\n",
      "3               Private Office\\n from $ 1350\\n/month         1350.0\n",
      "4                                            POPULAR            NaN\n",
      "5                Private Office\\n from $ 775\\n/month          775.0\n",
      "6               Private Office\\n from $ 3200\\n/month         3200.0\n",
      "7                Private Office\\n from $ 600\\n/month          600.0\n",
      "8                Private Office\\n from $ 615\\n/month          615.0\n",
      "9  Coworking Space\\nfrom \\n$420\\n/month\\nGET QUOT...          420.0\n"
     ]
    },
    {
     "name": "stderr",
     "output_type": "stream",
     "text": [
      "/tmp/ipykernel_26605/2228938316.py:11: SettingWithCopyWarning: \n",
      "A value is trying to be set on a copy of a slice from a DataFrame.\n",
      "Try using .loc[row_indexer,col_indexer] = value instead\n",
      "\n",
      "See the caveats in the documentation: https://pandas.pydata.org/pandas-docs/stable/user_guide/indexing.html#returning-a-view-versus-a-copy\n",
      "  df_newyork_price['price_cleaned'] = df_newyork_price['price'].apply(extract_price)\n"
     ]
    }
   ],
   "source": [
    "import re\n",
    "\n",
    "# Function to extract the price\n",
    "def extract_price(text):\n",
    "    if pd.isna(text):  # Handle missing values\n",
    "        return None\n",
    "    match = re.search(r'(\\d+)', text)  # Extract the first number\n",
    "    return int(match.group(1)) if match else None  # Convert to int if found\n",
    "\n",
    "# Apply the function to the 'price' column\n",
    "df_newyork_price['price_cleaned'] = df_newyork_price['price'].apply(extract_price)\n",
    "\n",
    "# Display the results\n",
    "print(df_newyork_price[['price', 'price_cleaned']])"
   ]
  },
  {
   "cell_type": "code",
   "execution_count": 28,
   "metadata": {},
   "outputs": [
    {
     "name": "stderr",
     "output_type": "stream",
     "text": [
      "/tmp/ipykernel_26605/2059561520.py:1: SettingWithCopyWarning: \n",
      "A value is trying to be set on a copy of a slice from a DataFrame\n",
      "\n",
      "See the caveats in the documentation: https://pandas.pydata.org/pandas-docs/stable/user_guide/indexing.html#returning-a-view-versus-a-copy\n",
      "  df_newyork_price.drop(columns='price', inplace=True)\n"
     ]
    }
   ],
   "source": [
    "df_newyork_price.drop(columns='price', inplace=True)"
   ]
  },
  {
   "cell_type": "code",
   "execution_count": 29,
   "metadata": {},
   "outputs": [
    {
     "data": {
      "text/plain": [
       "price_cleaned    1\n",
       "dtype: int64"
      ]
     },
     "execution_count": 29,
     "metadata": {},
     "output_type": "execute_result"
    }
   ],
   "source": [
    "df_newyork_price.isna().sum()"
   ]
  },
  {
   "cell_type": "code",
   "execution_count": 30,
   "metadata": {},
   "outputs": [
    {
     "data": {
      "text/html": [
       "<div>\n",
       "<style scoped>\n",
       "    .dataframe tbody tr th:only-of-type {\n",
       "        vertical-align: middle;\n",
       "    }\n",
       "\n",
       "    .dataframe tbody tr th {\n",
       "        vertical-align: top;\n",
       "    }\n",
       "\n",
       "    .dataframe thead th {\n",
       "        text-align: right;\n",
       "    }\n",
       "</style>\n",
       "<table border=\"1\" class=\"dataframe\">\n",
       "  <thead>\n",
       "    <tr style=\"text-align: right;\">\n",
       "      <th></th>\n",
       "      <th>price_cleaned</th>\n",
       "    </tr>\n",
       "  </thead>\n",
       "  <tbody>\n",
       "    <tr>\n",
       "      <th>0</th>\n",
       "      <td>1600.0</td>\n",
       "    </tr>\n",
       "    <tr>\n",
       "      <th>1</th>\n",
       "      <td>473.0</td>\n",
       "    </tr>\n",
       "    <tr>\n",
       "      <th>2</th>\n",
       "      <td>3875.0</td>\n",
       "    </tr>\n",
       "    <tr>\n",
       "      <th>3</th>\n",
       "      <td>1350.0</td>\n",
       "    </tr>\n",
       "    <tr>\n",
       "      <th>5</th>\n",
       "      <td>775.0</td>\n",
       "    </tr>\n",
       "    <tr>\n",
       "      <th>6</th>\n",
       "      <td>3200.0</td>\n",
       "    </tr>\n",
       "    <tr>\n",
       "      <th>7</th>\n",
       "      <td>600.0</td>\n",
       "    </tr>\n",
       "    <tr>\n",
       "      <th>8</th>\n",
       "      <td>615.0</td>\n",
       "    </tr>\n",
       "    <tr>\n",
       "      <th>9</th>\n",
       "      <td>420.0</td>\n",
       "    </tr>\n",
       "  </tbody>\n",
       "</table>\n",
       "</div>"
      ],
      "text/plain": [
       "   price_cleaned\n",
       "0         1600.0\n",
       "1          473.0\n",
       "2         3875.0\n",
       "3         1350.0\n",
       "5          775.0\n",
       "6         3200.0\n",
       "7          600.0\n",
       "8          615.0\n",
       "9          420.0"
      ]
     },
     "execution_count": 30,
     "metadata": {},
     "output_type": "execute_result"
    }
   ],
   "source": [
    "df_newyork_price.dropna()"
   ]
  },
  {
   "cell_type": "markdown",
   "metadata": {},
   "source": [
    "## Merge all the prices."
   ]
  },
  {
   "cell_type": "code",
   "execution_count": 31,
   "metadata": {},
   "outputs": [
    {
     "data": {
      "text/html": [
       "<div>\n",
       "<style scoped>\n",
       "    .dataframe tbody tr th:only-of-type {\n",
       "        vertical-align: middle;\n",
       "    }\n",
       "\n",
       "    .dataframe tbody tr th {\n",
       "        vertical-align: top;\n",
       "    }\n",
       "\n",
       "    .dataframe thead th {\n",
       "        text-align: right;\n",
       "    }\n",
       "</style>\n",
       "<table border=\"1\" class=\"dataframe\">\n",
       "  <thead>\n",
       "    <tr style=\"text-align: right;\">\n",
       "      <th></th>\n",
       "      <th>price</th>\n",
       "    </tr>\n",
       "  </thead>\n",
       "  <tbody>\n",
       "    <tr>\n",
       "      <th>0</th>\n",
       "      <td>530.3760</td>\n",
       "    </tr>\n",
       "    <tr>\n",
       "      <th>1</th>\n",
       "      <td>204.5736</td>\n",
       "    </tr>\n",
       "    <tr>\n",
       "      <th>2</th>\n",
       "      <td>340.9560</td>\n",
       "    </tr>\n",
       "    <tr>\n",
       "      <th>3</th>\n",
       "      <td>1060.7520</td>\n",
       "    </tr>\n",
       "    <tr>\n",
       "      <th>4</th>\n",
       "      <td>243.5400</td>\n",
       "    </tr>\n",
       "  </tbody>\n",
       "</table>\n",
       "</div>"
      ],
      "text/plain": [
       "       price\n",
       "0   530.3760\n",
       "1   204.5736\n",
       "2   340.9560\n",
       "3  1060.7520\n",
       "4   243.5400"
      ]
     },
     "execution_count": 31,
     "metadata": {},
     "output_type": "execute_result"
    }
   ],
   "source": [
    "import pandas as pd\n",
    "\n",
    "df_prices = pd.concat([df_euro, df_tokyo_price, df_brazil_price, df_newyork_price]).stack().reset_index(drop=True).to_frame(name='price')\n",
    "\n",
    "df_prices.head()"
   ]
  },
  {
   "cell_type": "code",
   "execution_count": 32,
   "metadata": {},
   "outputs": [
    {
     "data": {
      "text/plain": [
       "(223, 1)"
      ]
     },
     "execution_count": 32,
     "metadata": {},
     "output_type": "execute_result"
    }
   ],
   "source": [
    "df_prices.shape"
   ]
  },
  {
   "cell_type": "code",
   "execution_count": 33,
   "metadata": {},
   "outputs": [
    {
     "data": {
      "text/html": [
       "<div>\n",
       "<style scoped>\n",
       "    .dataframe tbody tr th:only-of-type {\n",
       "        vertical-align: middle;\n",
       "    }\n",
       "\n",
       "    .dataframe tbody tr th {\n",
       "        vertical-align: top;\n",
       "    }\n",
       "\n",
       "    .dataframe thead th {\n",
       "        text-align: right;\n",
       "    }\n",
       "</style>\n",
       "<table border=\"1\" class=\"dataframe\">\n",
       "  <thead>\n",
       "    <tr style=\"text-align: right;\">\n",
       "      <th></th>\n",
       "      <th>price</th>\n",
       "    </tr>\n",
       "  </thead>\n",
       "  <tbody>\n",
       "    <tr>\n",
       "      <th>218</th>\n",
       "      <td>775.0</td>\n",
       "    </tr>\n",
       "    <tr>\n",
       "      <th>219</th>\n",
       "      <td>3200.0</td>\n",
       "    </tr>\n",
       "    <tr>\n",
       "      <th>220</th>\n",
       "      <td>600.0</td>\n",
       "    </tr>\n",
       "    <tr>\n",
       "      <th>221</th>\n",
       "      <td>615.0</td>\n",
       "    </tr>\n",
       "    <tr>\n",
       "      <th>222</th>\n",
       "      <td>420.0</td>\n",
       "    </tr>\n",
       "  </tbody>\n",
       "</table>\n",
       "</div>"
      ],
      "text/plain": [
       "      price\n",
       "218   775.0\n",
       "219  3200.0\n",
       "220   600.0\n",
       "221   615.0\n",
       "222   420.0"
      ]
     },
     "execution_count": 33,
     "metadata": {},
     "output_type": "execute_result"
    }
   ],
   "source": [
    "df_prices.tail()"
   ]
  }
 ],
 "metadata": {
  "kernelspec": {
   "display_name": "Python 3",
   "language": "python",
   "name": "python3"
  },
  "language_info": {
   "codemirror_mode": {
    "name": "ipython",
    "version": 3
   },
   "file_extension": ".py",
   "mimetype": "text/x-python",
   "name": "python",
   "nbconvert_exporter": "python",
   "pygments_lexer": "ipython3",
   "version": "3.11.11"
  }
 },
 "nbformat": 4,
 "nbformat_minor": 2
}

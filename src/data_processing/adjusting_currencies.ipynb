{
 "cells": [
  {
   "cell_type": "markdown",
   "metadata": {},
   "source": [
    "# Adjusting currencies "
   ]
  },
  {
   "cell_type": "markdown",
   "metadata": {},
   "source": [
    "## Extracting the prices from Barcelona json file"
   ]
  },
  {
   "cell_type": "code",
   "execution_count": 1,
   "metadata": {},
   "outputs": [],
   "source": [
    "import json\n",
    "import pandas as pd\n",
    "import os\n",
    "\n",
    "#Open the madrid coworkings csv\n",
    "path = '/workspaces/Coworking/src/results/Barcelona/Barcelona_coworking_spaces.json'\n",
    "\n",
    "with open(path, 'r', encoding='utf-8') as file:\n",
    "    data = json.load(file)\n",
    "\n",
    "df = pd.json_normalize(data)\n",
    "\n",
    "df_barcelona_price= df[['price']]"
   ]
  },
  {
   "cell_type": "code",
   "execution_count": 2,
   "metadata": {},
   "outputs": [
    {
     "name": "stdout",
     "output_type": "stream",
     "text": [
      "                                    price  price_cleaned\n",
      "0    Private Office\\n from € 1214\\n/month         1214.0\n",
      "1     Private Office\\n from € 305\\n/month          305.0\n",
      "2                           1\\n2\\n3\\n4\\n5            1.0\n",
      "3     Private Office\\n from € 155\\n/month          155.0\n",
      "4     Private Office\\n from € 345\\n/month          345.0\n",
      "..                                    ...            ...\n",
      "182     Private Office \\nPrice on request            NaN\n",
      "183     Private Office \\nPrice on request            NaN\n",
      "184                1\\n2\\n3\\n4\\n5\\n6\\n7\\n8            1.0\n",
      "185     Private Office \\nPrice on request            NaN\n",
      "186     Private Office \\nPrice on request            NaN\n",
      "\n",
      "[187 rows x 2 columns]\n"
     ]
    },
    {
     "name": "stderr",
     "output_type": "stream",
     "text": [
      "/tmp/ipykernel_36786/1902064055.py:11: SettingWithCopyWarning: \n",
      "A value is trying to be set on a copy of a slice from a DataFrame.\n",
      "Try using .loc[row_indexer,col_indexer] = value instead\n",
      "\n",
      "See the caveats in the documentation: https://pandas.pydata.org/pandas-docs/stable/user_guide/indexing.html#returning-a-view-versus-a-copy\n",
      "  df_barcelona_price['price_cleaned'] = df_barcelona_price['price'].apply(extract_price)\n"
     ]
    }
   ],
   "source": [
    "import re\n",
    "\n",
    "# Function to extract the price\n",
    "def extract_price(text):\n",
    "    if pd.isna(text):  # Handle missing values\n",
    "        return None\n",
    "    match = re.search(r'(\\d+)', text)  # Extract the first number\n",
    "    return int(match.group(1)) if match else None  # Convert to int if found\n",
    "\n",
    "# Apply the function to the 'price' column\n",
    "df_barcelona_price['price_cleaned'] = df_barcelona_price['price'].apply(extract_price)\n",
    "\n",
    "# Display the results\n",
    "print(df_barcelona_price[['price', 'price_cleaned']])"
   ]
  },
  {
   "cell_type": "markdown",
   "metadata": {},
   "source": [
    "## Extract the price from Madrid json file."
   ]
  },
  {
   "cell_type": "code",
   "execution_count": 3,
   "metadata": {},
   "outputs": [],
   "source": [
    "import json\n",
    "import pandas as pd\n",
    "import os\n",
    "\n",
    "#Open the madrid coworkings csv\n",
    "path = '/workspaces/Coworking/src/results/Madrid/Madrid_coworking_spaces.json'\n",
    "\n",
    "with open(path, 'r', encoding='utf-8') as file:\n",
    "    data = json.load(file)\n",
    "\n",
    "df = pd.json_normalize(data)\n",
    "\n",
    "df_madrid_price= df[['price']]"
   ]
  },
  {
   "cell_type": "code",
   "execution_count": 4,
   "metadata": {},
   "outputs": [
    {
     "name": "stdout",
     "output_type": "stream",
     "text": [
      "                                   price  price_cleaned\n",
      "0    Private Office\\n from € 490\\n/month          490.0\n",
      "1    Private Office\\n from € 189\\n/month          189.0\n",
      "2    Private Office\\n from € 315\\n/month          315.0\n",
      "3    Private Office\\n from € 980\\n/month          980.0\n",
      "4    Private Office\\n from € 225\\n/month          225.0\n",
      "..                                   ...            ...\n",
      "180    Private Office \\nPrice on request            NaN\n",
      "181    Private Office \\nPrice on request            NaN\n",
      "182    Private Office \\nPrice on request            NaN\n",
      "183    Private Office \\nPrice on request            NaN\n",
      "184                        1\\n2\\n3\\n4\\n5            1.0\n",
      "\n",
      "[185 rows x 2 columns]\n"
     ]
    },
    {
     "name": "stderr",
     "output_type": "stream",
     "text": [
      "/tmp/ipykernel_36786/871941500.py:11: SettingWithCopyWarning: \n",
      "A value is trying to be set on a copy of a slice from a DataFrame.\n",
      "Try using .loc[row_indexer,col_indexer] = value instead\n",
      "\n",
      "See the caveats in the documentation: https://pandas.pydata.org/pandas-docs/stable/user_guide/indexing.html#returning-a-view-versus-a-copy\n",
      "  df_madrid_price['price_cleaned'] = df_madrid_price['price'].apply(extract_price)\n"
     ]
    }
   ],
   "source": [
    "import re\n",
    "\n",
    "# Function to extract the price\n",
    "def extract_price(text):\n",
    "    if pd.isna(text):  # Handle missing values\n",
    "        return None\n",
    "    match = re.search(r'(\\d+)', text)  # Extract the first number\n",
    "    return int(match.group(1)) if match else None  # Convert to int if found\n",
    "\n",
    "# Apply the function to the 'price' column\n",
    "df_madrid_price['price_cleaned'] = df_madrid_price['price'].apply(extract_price)\n",
    "\n",
    "# Display the results\n",
    "print(df_madrid_price[['price', 'price_cleaned']])"
   ]
  },
  {
   "cell_type": "markdown",
   "metadata": {},
   "source": [
    "## Merge both prices dataframes."
   ]
  },
  {
   "cell_type": "code",
   "execution_count": 5,
   "metadata": {},
   "outputs": [
    {
     "data": {
      "text/html": [
       "<div>\n",
       "<style scoped>\n",
       "    .dataframe tbody tr th:only-of-type {\n",
       "        vertical-align: middle;\n",
       "    }\n",
       "\n",
       "    .dataframe tbody tr th {\n",
       "        vertical-align: top;\n",
       "    }\n",
       "\n",
       "    .dataframe thead th {\n",
       "        text-align: right;\n",
       "    }\n",
       "</style>\n",
       "<table border=\"1\" class=\"dataframe\">\n",
       "  <thead>\n",
       "    <tr style=\"text-align: right;\">\n",
       "      <th></th>\n",
       "      <th>price</th>\n",
       "      <th>price_cleaned</th>\n",
       "    </tr>\n",
       "  </thead>\n",
       "  <tbody>\n",
       "    <tr>\n",
       "      <th>0</th>\n",
       "      <td>Private Office\\n from € 490\\n/month</td>\n",
       "      <td>490.0</td>\n",
       "    </tr>\n",
       "    <tr>\n",
       "      <th>1</th>\n",
       "      <td>Private Office\\n from € 189\\n/month</td>\n",
       "      <td>189.0</td>\n",
       "    </tr>\n",
       "    <tr>\n",
       "      <th>2</th>\n",
       "      <td>Private Office\\n from € 315\\n/month</td>\n",
       "      <td>315.0</td>\n",
       "    </tr>\n",
       "    <tr>\n",
       "      <th>3</th>\n",
       "      <td>Private Office\\n from € 980\\n/month</td>\n",
       "      <td>980.0</td>\n",
       "    </tr>\n",
       "    <tr>\n",
       "      <th>4</th>\n",
       "      <td>Private Office\\n from € 225\\n/month</td>\n",
       "      <td>225.0</td>\n",
       "    </tr>\n",
       "  </tbody>\n",
       "</table>\n",
       "</div>"
      ],
      "text/plain": [
       "                                 price  price_cleaned\n",
       "0  Private Office\\n from € 490\\n/month          490.0\n",
       "1  Private Office\\n from € 189\\n/month          189.0\n",
       "2  Private Office\\n from € 315\\n/month          315.0\n",
       "3  Private Office\\n from € 980\\n/month          980.0\n",
       "4  Private Office\\n from € 225\\n/month          225.0"
      ]
     },
     "execution_count": 5,
     "metadata": {},
     "output_type": "execute_result"
    }
   ],
   "source": [
    "import pandas as pd\n",
    "\n",
    "# Concatenate both dataframes\n",
    "df_euro = pd.concat([df_madrid_price, df_barcelona_price], ignore_index=True)\n",
    "\n",
    "# Optionally, you can reset the index if needed\n",
    "df_euro.reset_index(drop=True, inplace=True)\n",
    "\n",
    "df_euro.head()"
   ]
  },
  {
   "cell_type": "code",
   "execution_count": 6,
   "metadata": {},
   "outputs": [
    {
     "data": {
      "text/html": [
       "<div>\n",
       "<style scoped>\n",
       "    .dataframe tbody tr th:only-of-type {\n",
       "        vertical-align: middle;\n",
       "    }\n",
       "\n",
       "    .dataframe tbody tr th {\n",
       "        vertical-align: top;\n",
       "    }\n",
       "\n",
       "    .dataframe thead th {\n",
       "        text-align: right;\n",
       "    }\n",
       "</style>\n",
       "<table border=\"1\" class=\"dataframe\">\n",
       "  <thead>\n",
       "    <tr style=\"text-align: right;\">\n",
       "      <th></th>\n",
       "      <th>price_cleaned</th>\n",
       "    </tr>\n",
       "  </thead>\n",
       "  <tbody>\n",
       "    <tr>\n",
       "      <th>0</th>\n",
       "      <td>490.0</td>\n",
       "    </tr>\n",
       "    <tr>\n",
       "      <th>1</th>\n",
       "      <td>189.0</td>\n",
       "    </tr>\n",
       "    <tr>\n",
       "      <th>2</th>\n",
       "      <td>315.0</td>\n",
       "    </tr>\n",
       "    <tr>\n",
       "      <th>3</th>\n",
       "      <td>980.0</td>\n",
       "    </tr>\n",
       "    <tr>\n",
       "      <th>4</th>\n",
       "      <td>225.0</td>\n",
       "    </tr>\n",
       "  </tbody>\n",
       "</table>\n",
       "</div>"
      ],
      "text/plain": [
       "   price_cleaned\n",
       "0          490.0\n",
       "1          189.0\n",
       "2          315.0\n",
       "3          980.0\n",
       "4          225.0"
      ]
     },
     "execution_count": 6,
     "metadata": {},
     "output_type": "execute_result"
    }
   ],
   "source": [
    "df_euro.drop(columns='price', inplace=True)\n",
    "\n",
    "df_euro.head()"
   ]
  },
  {
   "cell_type": "markdown",
   "metadata": {},
   "source": [
    "### Transform NaN values with the median."
   ]
  },
  {
   "cell_type": "code",
   "execution_count": 7,
   "metadata": {},
   "outputs": [
    {
     "data": {
      "text/plain": [
       "price_cleaned    27\n",
       "dtype: int64"
      ]
     },
     "execution_count": 7,
     "metadata": {},
     "output_type": "execute_result"
    }
   ],
   "source": [
    "df_euro.isna().sum()"
   ]
  },
  {
   "cell_type": "code",
   "execution_count": 8,
   "metadata": {},
   "outputs": [
    {
     "name": "stderr",
     "output_type": "stream",
     "text": [
      "/tmp/ipykernel_36786/1063668431.py:2: FutureWarning: A value is trying to be set on a copy of a DataFrame or Series through chained assignment using an inplace method.\n",
      "The behavior will change in pandas 3.0. This inplace method will never work because the intermediate object on which we are setting values always behaves as a copy.\n",
      "\n",
      "For example, when doing 'df[col].method(value, inplace=True)', try using 'df.method({col: value}, inplace=True)' or df[col] = df[col].method(value) instead, to perform the operation inplace on the original object.\n",
      "\n",
      "\n",
      "  df_euro['price_cleaned'].fillna(median_price, inplace=True)\n"
     ]
    }
   ],
   "source": [
    "median_price = df_euro['price_cleaned'].median()\n",
    "df_euro['price_cleaned'].fillna(median_price, inplace=True)"
   ]
  },
  {
   "cell_type": "code",
   "execution_count": 9,
   "metadata": {},
   "outputs": [
    {
     "data": {
      "text/plain": [
       "price_cleaned    0\n",
       "dtype: int64"
      ]
     },
     "execution_count": 9,
     "metadata": {},
     "output_type": "execute_result"
    }
   ],
   "source": [
    "df_euro.isna().sum()"
   ]
  },
  {
   "cell_type": "markdown",
   "metadata": {},
   "source": [
    "## Convert Euro in USD and normalize"
   ]
  },
  {
   "cell_type": "markdown",
   "metadata": {},
   "source": [
    "### Using ExchangeRate-API"
   ]
  },
  {
   "cell_type": "code",
   "execution_count": 10,
   "metadata": {},
   "outputs": [
    {
     "name": "stdout",
     "output_type": "stream",
     "text": [
      "     price_cleaned  price_usd\n",
      "0            490.0   529.9350\n",
      "1            189.0   204.4035\n",
      "2            315.0   340.6725\n",
      "3            980.0  1059.8700\n",
      "4            225.0   243.3375\n",
      "..             ...        ...\n",
      "367          250.0   270.3750\n",
      "368          250.0   270.3750\n",
      "369            1.0     1.0815\n",
      "370          250.0   270.3750\n",
      "371          250.0   270.3750\n",
      "\n",
      "[372 rows x 2 columns]\n"
     ]
    }
   ],
   "source": [
    "import pandas as pd\n",
    "import requests\n",
    "\n",
    "# Define your API endpoint and your API key\n",
    "api_key = \"7352f0026f58a51e76be2471\"  # Replace with your API key\n",
    "api_url = f\"https://v6.exchangerate-api.com/v6/{api_key}/latest/EUR\"\n",
    "\n",
    "# Fetch the EUR to USD conversion rate from the API\n",
    "def get_eur_to_usd_rate():\n",
    "    response = requests.get(api_url)\n",
    "    data = response.json()\n",
    "    \n",
    "    # Check if the response is valid\n",
    "    if data['result'] == 'success':\n",
    "        return data['conversion_rates']['USD']\n",
    "    else:\n",
    "        raise Exception(\"Error fetching exchange rate from API\")\n",
    "\n",
    "# Convert EUR to USD\n",
    "def convert_eur_to_usd(eur_price, conversion_rate):\n",
    "    return eur_price * conversion_rate\n",
    "\n",
    "# Fetch the conversion rate (EUR to USD)\n",
    "conversion_rate = get_eur_to_usd_rate()\n",
    "\n",
    "# Apply the conversion to the 'price' column\n",
    "df_euro['price_usd'] = df_euro['price_cleaned'].apply(lambda x: convert_eur_to_usd(x, conversion_rate))\n",
    "\n",
    "# Print the updated DataFrame\n",
    "print(df_euro)\n"
   ]
  },
  {
   "cell_type": "code",
   "execution_count": 11,
   "metadata": {},
   "outputs": [
    {
     "data": {
      "text/html": [
       "<div>\n",
       "<style scoped>\n",
       "    .dataframe tbody tr th:only-of-type {\n",
       "        vertical-align: middle;\n",
       "    }\n",
       "\n",
       "    .dataframe tbody tr th {\n",
       "        vertical-align: top;\n",
       "    }\n",
       "\n",
       "    .dataframe thead th {\n",
       "        text-align: right;\n",
       "    }\n",
       "</style>\n",
       "<table border=\"1\" class=\"dataframe\">\n",
       "  <thead>\n",
       "    <tr style=\"text-align: right;\">\n",
       "      <th></th>\n",
       "      <th>price_usd</th>\n",
       "    </tr>\n",
       "  </thead>\n",
       "  <tbody>\n",
       "    <tr>\n",
       "      <th>0</th>\n",
       "      <td>529.9350</td>\n",
       "    </tr>\n",
       "    <tr>\n",
       "      <th>1</th>\n",
       "      <td>204.4035</td>\n",
       "    </tr>\n",
       "    <tr>\n",
       "      <th>2</th>\n",
       "      <td>340.6725</td>\n",
       "    </tr>\n",
       "    <tr>\n",
       "      <th>3</th>\n",
       "      <td>1059.8700</td>\n",
       "    </tr>\n",
       "    <tr>\n",
       "      <th>4</th>\n",
       "      <td>243.3375</td>\n",
       "    </tr>\n",
       "  </tbody>\n",
       "</table>\n",
       "</div>"
      ],
      "text/plain": [
       "   price_usd\n",
       "0   529.9350\n",
       "1   204.4035\n",
       "2   340.6725\n",
       "3  1059.8700\n",
       "4   243.3375"
      ]
     },
     "execution_count": 11,
     "metadata": {},
     "output_type": "execute_result"
    }
   ],
   "source": [
    "df_euro.drop(columns='price_cleaned', inplace=True)\n",
    "\n",
    "df_euro.head()"
   ]
  },
  {
   "cell_type": "markdown",
   "metadata": {},
   "source": [
    "### The PPP factor of Spain is 1(LCU/Euro)(Local Currency Unit)"
   ]
  },
  {
   "cell_type": "markdown",
   "metadata": {},
   "source": [
    "## Convert Yens in USD and use the PPP factor."
   ]
  },
  {
   "cell_type": "code",
   "execution_count": 12,
   "metadata": {},
   "outputs": [],
   "source": [
    "import json\n",
    "import pandas as pd\n",
    "import os\n",
    "\n",
    "#Open the madrid coworkings csv\n",
    "path = '/workspaces/Coworking/src/results/Tokyo/tokyo_coworking_spaces.json'\n",
    "\n",
    "with open(path, 'r', encoding='utf-8') as file:\n",
    "    data = json.load(file)\n",
    "\n",
    "df = pd.json_normalize(data)\n",
    "\n",
    "df_tokyo_price= df[['price']]"
   ]
  },
  {
   "cell_type": "code",
   "execution_count": 13,
   "metadata": {},
   "outputs": [
    {
     "name": "stderr",
     "output_type": "stream",
     "text": [
      "/tmp/ipykernel_36786/3197838495.py:3: SettingWithCopyWarning: \n",
      "A value is trying to be set on a copy of a slice from a DataFrame.\n",
      "Try using .loc[row_indexer,col_indexer] = value instead\n",
      "\n",
      "See the caveats in the documentation: https://pandas.pydata.org/pandas-docs/stable/user_guide/indexing.html#returning-a-view-versus-a-copy\n",
      "  df_tokyo_price['price_cleaned'] = df_tokyo_price['price'].apply(extract_price)\n"
     ]
    },
    {
     "name": "stdout",
     "output_type": "stream",
     "text": [
      "                                     price  price_cleaned\n",
      "0    Private Office\\n from ¥ 55500\\n/month        55500.0\n",
      "1    Private Office\\n from ¥ 69900\\n/month        69900.0\n",
      "2    Private Office\\n from ¥ 43000\\n/month        43000.0\n",
      "3    Private Office\\n from ¥ 58500\\n/month        58500.0\n",
      "4    Private Office\\n from ¥ 71900\\n/month        71900.0\n",
      "..                                     ...            ...\n",
      "191      Private Office \\nPrice on request            NaN\n",
      "192                          1\\n2\\n3\\n4\\n5            1.0\n",
      "193      Private Office \\nPrice on request            NaN\n",
      "194      Private Office \\nPrice on request            NaN\n",
      "195      Private Office \\nPrice on request            NaN\n",
      "\n",
      "[196 rows x 2 columns]\n"
     ]
    }
   ],
   "source": [
    "import re\n",
    "\n",
    "df_tokyo_price['price_cleaned'] = df_tokyo_price['price'].apply(extract_price)\n",
    "\n",
    "# Display the results\n",
    "print(df_tokyo_price[['price', 'price_cleaned']])"
   ]
  },
  {
   "cell_type": "code",
   "execution_count": 14,
   "metadata": {},
   "outputs": [
    {
     "data": {
      "text/plain": [
       "price             0\n",
       "price_cleaned    25\n",
       "dtype: int64"
      ]
     },
     "execution_count": 14,
     "metadata": {},
     "output_type": "execute_result"
    }
   ],
   "source": [
    "df_tokyo_price.isna().sum()"
   ]
  },
  {
   "cell_type": "code",
   "execution_count": 15,
   "metadata": {},
   "outputs": [
    {
     "name": "stderr",
     "output_type": "stream",
     "text": [
      "/tmp/ipykernel_36786/616912941.py:2: FutureWarning: A value is trying to be set on a copy of a DataFrame or Series through chained assignment using an inplace method.\n",
      "The behavior will change in pandas 3.0. This inplace method will never work because the intermediate object on which we are setting values always behaves as a copy.\n",
      "\n",
      "For example, when doing 'df[col].method(value, inplace=True)', try using 'df.method({col: value}, inplace=True)' or df[col] = df[col].method(value) instead, to perform the operation inplace on the original object.\n",
      "\n",
      "\n",
      "  df_tokyo_price['price_cleaned'].fillna(median_price, inplace=True)\n",
      "/tmp/ipykernel_36786/616912941.py:2: SettingWithCopyWarning: \n",
      "A value is trying to be set on a copy of a slice from a DataFrame\n",
      "\n",
      "See the caveats in the documentation: https://pandas.pydata.org/pandas-docs/stable/user_guide/indexing.html#returning-a-view-versus-a-copy\n",
      "  df_tokyo_price['price_cleaned'].fillna(median_price, inplace=True)\n"
     ]
    }
   ],
   "source": [
    "median_price = df_tokyo_price['price_cleaned'].median()\n",
    "df_tokyo_price['price_cleaned'].fillna(median_price, inplace=True)"
   ]
  },
  {
   "cell_type": "code",
   "execution_count": 16,
   "metadata": {},
   "outputs": [
    {
     "name": "stderr",
     "output_type": "stream",
     "text": [
      "/tmp/ipykernel_36786/1139496757.py:1: SettingWithCopyWarning: \n",
      "A value is trying to be set on a copy of a slice from a DataFrame\n",
      "\n",
      "See the caveats in the documentation: https://pandas.pydata.org/pandas-docs/stable/user_guide/indexing.html#returning-a-view-versus-a-copy\n",
      "  df_tokyo_price.drop(columns='price', inplace=True)\n"
     ]
    }
   ],
   "source": [
    "df_tokyo_price.drop(columns='price', inplace=True)"
   ]
  },
  {
   "cell_type": "code",
   "execution_count": 17,
   "metadata": {},
   "outputs": [
    {
     "name": "stdout",
     "output_type": "stream",
     "text": [
      "     price_cleaned   price_usd\n",
      "0          55500.0  60023.2500\n",
      "1          69900.0  75596.8500\n",
      "2          43000.0  46504.5000\n",
      "3          58500.0  63267.7500\n",
      "4          71900.0  77759.8500\n",
      "..             ...         ...\n",
      "191        35000.0  37852.5000\n",
      "192            1.0      1.0815\n",
      "193        35000.0  37852.5000\n",
      "194        35000.0  37852.5000\n",
      "195        35000.0  37852.5000\n",
      "\n",
      "[196 rows x 2 columns]\n"
     ]
    },
    {
     "name": "stderr",
     "output_type": "stream",
     "text": [
      "/tmp/ipykernel_36786/4015434545.py:27: SettingWithCopyWarning: \n",
      "A value is trying to be set on a copy of a slice from a DataFrame.\n",
      "Try using .loc[row_indexer,col_indexer] = value instead\n",
      "\n",
      "See the caveats in the documentation: https://pandas.pydata.org/pandas-docs/stable/user_guide/indexing.html#returning-a-view-versus-a-copy\n",
      "  df_tokyo_price['price_usd'] = df_tokyo_price['price_cleaned'].apply(lambda x: convert_eur_to_usd(x, conversion_rate))\n"
     ]
    }
   ],
   "source": [
    "import pandas as pd\n",
    "import requests\n",
    "\n",
    "# Define your API endpoint and your API key\n",
    "api_key = \"7352f0026f58a51e76be2471\"  # Replace with your API key\n",
    "api_url = f\"https://v6.exchangerate-api.com/v6/{api_key}/latest/EUR\"\n",
    "\n",
    "# Fetch the EUR to USD conversion rate from the API\n",
    "def get_eur_to_usd_rate():\n",
    "    response = requests.get(api_url)\n",
    "    data = response.json()\n",
    "    \n",
    "    # Check if the response is valid\n",
    "    if data['result'] == 'success':\n",
    "        return data['conversion_rates']['USD']\n",
    "    else:\n",
    "        raise Exception(\"Error fetching exchange rate from API\")\n",
    "\n",
    "# Convert EUR to USD\n",
    "def convert_eur_to_usd(eur_price, conversion_rate):\n",
    "    return eur_price * conversion_rate\n",
    "\n",
    "# Fetch the conversion rate (EUR to USD)\n",
    "conversion_rate = get_eur_to_usd_rate()\n",
    "\n",
    "# Apply the conversion to the 'price' column\n",
    "df_tokyo_price['price_usd'] = df_tokyo_price['price_cleaned'].apply(lambda x: convert_eur_to_usd(x, conversion_rate))\n",
    "\n",
    "# Print the updated DataFrame\n",
    "print(df_tokyo_price)\n"
   ]
  },
  {
   "cell_type": "code",
   "execution_count": 18,
   "metadata": {},
   "outputs": [
    {
     "name": "stderr",
     "output_type": "stream",
     "text": [
      "/tmp/ipykernel_36786/1048160013.py:1: SettingWithCopyWarning: \n",
      "A value is trying to be set on a copy of a slice from a DataFrame\n",
      "\n",
      "See the caveats in the documentation: https://pandas.pydata.org/pandas-docs/stable/user_guide/indexing.html#returning-a-view-versus-a-copy\n",
      "  df_tokyo_price.drop(columns='price_cleaned', inplace=True)\n"
     ]
    }
   ],
   "source": [
    "df_tokyo_price.drop(columns='price_cleaned', inplace=True)"
   ]
  },
  {
   "cell_type": "markdown",
   "metadata": {},
   "source": [
    "### The PPP of Japan is 95(LSU/USD)"
   ]
  },
  {
   "cell_type": "code",
   "execution_count": 19,
   "metadata": {},
   "outputs": [
    {
     "name": "stderr",
     "output_type": "stream",
     "text": [
      "/tmp/ipykernel_36786/1995806028.py:1: SettingWithCopyWarning: \n",
      "A value is trying to be set on a copy of a slice from a DataFrame.\n",
      "Try using .loc[row_indexer,col_indexer] = value instead\n",
      "\n",
      "See the caveats in the documentation: https://pandas.pydata.org/pandas-docs/stable/user_guide/indexing.html#returning-a-view-versus-a-copy\n",
      "  df_tokyo_price['price_usd'] = df_tokyo_price['price_usd']*95\n"
     ]
    },
    {
     "data": {
      "text/html": [
       "<div>\n",
       "<style scoped>\n",
       "    .dataframe tbody tr th:only-of-type {\n",
       "        vertical-align: middle;\n",
       "    }\n",
       "\n",
       "    .dataframe tbody tr th {\n",
       "        vertical-align: top;\n",
       "    }\n",
       "\n",
       "    .dataframe thead th {\n",
       "        text-align: right;\n",
       "    }\n",
       "</style>\n",
       "<table border=\"1\" class=\"dataframe\">\n",
       "  <thead>\n",
       "    <tr style=\"text-align: right;\">\n",
       "      <th></th>\n",
       "      <th>price_usd</th>\n",
       "    </tr>\n",
       "  </thead>\n",
       "  <tbody>\n",
       "    <tr>\n",
       "      <th>0</th>\n",
       "      <td>5702208.75</td>\n",
       "    </tr>\n",
       "    <tr>\n",
       "      <th>1</th>\n",
       "      <td>7181700.75</td>\n",
       "    </tr>\n",
       "    <tr>\n",
       "      <th>2</th>\n",
       "      <td>4417927.50</td>\n",
       "    </tr>\n",
       "    <tr>\n",
       "      <th>3</th>\n",
       "      <td>6010436.25</td>\n",
       "    </tr>\n",
       "    <tr>\n",
       "      <th>4</th>\n",
       "      <td>7387185.75</td>\n",
       "    </tr>\n",
       "  </tbody>\n",
       "</table>\n",
       "</div>"
      ],
      "text/plain": [
       "    price_usd\n",
       "0  5702208.75\n",
       "1  7181700.75\n",
       "2  4417927.50\n",
       "3  6010436.25\n",
       "4  7387185.75"
      ]
     },
     "execution_count": 19,
     "metadata": {},
     "output_type": "execute_result"
    }
   ],
   "source": [
    "df_tokyo_price['price_usd'] = df_tokyo_price['price_usd']*95\n",
    "\n",
    "df_tokyo_price.head()"
   ]
  },
  {
   "cell_type": "markdown",
   "metadata": {},
   "source": [
    "## Convert Real into USD and use the PPP factor."
   ]
  },
  {
   "cell_type": "code",
   "execution_count": 20,
   "metadata": {},
   "outputs": [],
   "source": [
    "import json\n",
    "import pandas as pd\n",
    "import os\n",
    "\n",
    "#Open Sao Paulo json\n",
    "path = '/workspaces/Coworking/src/results/Sao Paulo/sp_coworking_spaces.json'\n",
    "\n",
    "with open(path, 'r', encoding='utf-8') as file:\n",
    "    data = json.load(file)\n",
    "\n",
    "df = pd.json_normalize(data)\n",
    "\n",
    "df_brazil_price= df[['price']]"
   ]
  },
  {
   "cell_type": "code",
   "execution_count": 21,
   "metadata": {},
   "outputs": [
    {
     "name": "stdout",
     "output_type": "stream",
     "text": [
      "                                     price  price_cleaned\n",
      "0    Private Office\\n from R$ 1385\\n/month         1385.0\n",
      "1    Private Office\\n from R$ 1015\\n/month         1015.0\n",
      "2    Private Office\\n from R$ 1565\\n/month         1565.0\n",
      "3    Private Office\\n from R$ 1389\\n/month         1389.0\n",
      "4    Private Office\\n from R$ 1899\\n/month         1899.0\n",
      "..                                     ...            ...\n",
      "133      Private Office \\nPrice on request            NaN\n",
      "134      Private Office \\nPrice on request            NaN\n",
      "135                       1\\n2\\n3\\n4\\n5\\n6            1.0\n",
      "136      Private Office \\nPrice on request            NaN\n",
      "137      Private Office \\nPrice on request            NaN\n",
      "\n",
      "[138 rows x 2 columns]\n"
     ]
    },
    {
     "name": "stderr",
     "output_type": "stream",
     "text": [
      "/tmp/ipykernel_36786/1699147551.py:11: SettingWithCopyWarning: \n",
      "A value is trying to be set on a copy of a slice from a DataFrame.\n",
      "Try using .loc[row_indexer,col_indexer] = value instead\n",
      "\n",
      "See the caveats in the documentation: https://pandas.pydata.org/pandas-docs/stable/user_guide/indexing.html#returning-a-view-versus-a-copy\n",
      "  df_brazil_price['price_cleaned'] = df_brazil_price['price'].apply(extract_price)\n"
     ]
    }
   ],
   "source": [
    "import re\n",
    "\n",
    "# Function to extract the price\n",
    "def extract_price(text):\n",
    "    if pd.isna(text):  # Handle missing values\n",
    "        return None\n",
    "    match = re.search(r'(\\d+)', text)  # Extract the first number\n",
    "    return int(match.group(1)) if match else None  # Convert to int if found\n",
    "\n",
    "# Apply the function to the 'price' column\n",
    "df_brazil_price['price_cleaned'] = df_brazil_price['price'].apply(extract_price)\n",
    "\n",
    "# Display the results\n",
    "print(df_brazil_price[['price', 'price_cleaned']])"
   ]
  },
  {
   "cell_type": "code",
   "execution_count": 22,
   "metadata": {},
   "outputs": [
    {
     "data": {
      "text/plain": [
       "price             0\n",
       "price_cleaned    32\n",
       "dtype: int64"
      ]
     },
     "execution_count": 22,
     "metadata": {},
     "output_type": "execute_result"
    }
   ],
   "source": [
    "df_brazil_price.isna().sum()"
   ]
  },
  {
   "cell_type": "code",
   "execution_count": 23,
   "metadata": {},
   "outputs": [
    {
     "name": "stderr",
     "output_type": "stream",
     "text": [
      "/tmp/ipykernel_36786/4224878642.py:2: FutureWarning: A value is trying to be set on a copy of a DataFrame or Series through chained assignment using an inplace method.\n",
      "The behavior will change in pandas 3.0. This inplace method will never work because the intermediate object on which we are setting values always behaves as a copy.\n",
      "\n",
      "For example, when doing 'df[col].method(value, inplace=True)', try using 'df.method({col: value}, inplace=True)' or df[col] = df[col].method(value) instead, to perform the operation inplace on the original object.\n",
      "\n",
      "\n",
      "  df_brazil_price['price_cleaned'].fillna(median_price, inplace=True)\n",
      "/tmp/ipykernel_36786/4224878642.py:2: SettingWithCopyWarning: \n",
      "A value is trying to be set on a copy of a slice from a DataFrame\n",
      "\n",
      "See the caveats in the documentation: https://pandas.pydata.org/pandas-docs/stable/user_guide/indexing.html#returning-a-view-versus-a-copy\n",
      "  df_brazil_price['price_cleaned'].fillna(median_price, inplace=True)\n"
     ]
    }
   ],
   "source": [
    "median_price = df_brazil_price['price_cleaned'].median()\n",
    "df_brazil_price['price_cleaned'].fillna(median_price, inplace=True)"
   ]
  },
  {
   "cell_type": "code",
   "execution_count": 24,
   "metadata": {},
   "outputs": [],
   "source": [
    "df_brazil_price = df_brazil_price[df_brazil_price['price_cleaned'] != 1]\n"
   ]
  },
  {
   "cell_type": "code",
   "execution_count": 25,
   "metadata": {},
   "outputs": [],
   "source": [
    "df_brazil_price.drop(columns='price', inplace=True)"
   ]
  },
  {
   "cell_type": "markdown",
   "metadata": {},
   "source": [
    "## Load New York prices."
   ]
  },
  {
   "cell_type": "code",
   "execution_count": 26,
   "metadata": {},
   "outputs": [],
   "source": [
    "import pandas as pd\n",
    "\n",
    "#Open New York csv\n",
    "path = '/workspaces/Coworking/src/results/New York/New_York_coworking_spaces.csv'\n",
    "\n",
    "df_newyork_price = pd.read_csv(path)"
   ]
  },
  {
   "cell_type": "code",
   "execution_count": 34,
   "metadata": {},
   "outputs": [
    {
     "name": "stdout",
     "output_type": "stream",
     "text": [
      "                                  price  price_cleaned\n",
      "0                       Price not found            NaN\n",
      "1                               POPULAR            NaN\n",
      "2  Private Office\\n from $ 3875\\n/month         3875.0\n",
      "3  Private Office\\n from $ 1600\\n/month         1600.0\n",
      "4                       Price not found            NaN\n"
     ]
    }
   ],
   "source": [
    "import re\n",
    "\n",
    "# Function to extract the price\n",
    "def extract_price(text):\n",
    "    if pd.isna(text):  # Handle missing values\n",
    "        return None\n",
    "    match = re.search(r'(\\d+)', text)  # Extract the first number\n",
    "    return int(match.group(1)) if match else None  # Convert to int if found\n",
    "\n",
    "# Apply the function to create a new column 'price_cleaned'\n",
    "df_newyork_price['price_cleaned'] = df_newyork_price['price'].apply(extract_price)\n",
    "\n",
    "# Display the results\n",
    "print(df_newyork_price[['price', 'price_cleaned']].head())"
   ]
  },
  {
   "cell_type": "code",
   "execution_count": 36,
   "metadata": {},
   "outputs": [
    {
     "data": {
      "text/plain": [
       "url                0\n",
       "name               3\n",
       "address          426\n",
       "description        0\n",
       "price              0\n",
       "price_cleaned    151\n",
       "dtype: int64"
      ]
     },
     "execution_count": 36,
     "metadata": {},
     "output_type": "execute_result"
    }
   ],
   "source": [
    "df_newyork_price.isna().sum()"
   ]
  },
  {
   "cell_type": "code",
   "execution_count": 30,
   "metadata": {},
   "outputs": [
    {
     "data": {
      "text/html": [
       "<div>\n",
       "<style scoped>\n",
       "    .dataframe tbody tr th:only-of-type {\n",
       "        vertical-align: middle;\n",
       "    }\n",
       "\n",
       "    .dataframe tbody tr th {\n",
       "        vertical-align: top;\n",
       "    }\n",
       "\n",
       "    .dataframe thead th {\n",
       "        text-align: right;\n",
       "    }\n",
       "</style>\n",
       "<table border=\"1\" class=\"dataframe\">\n",
       "  <thead>\n",
       "    <tr style=\"text-align: right;\">\n",
       "      <th></th>\n",
       "      <th>url</th>\n",
       "      <th>name</th>\n",
       "      <th>address</th>\n",
       "      <th>description</th>\n",
       "      <th>price</th>\n",
       "    </tr>\n",
       "  </thead>\n",
       "  <tbody>\n",
       "  </tbody>\n",
       "</table>\n",
       "</div>"
      ],
      "text/plain": [
       "Empty DataFrame\n",
       "Columns: [url, name, address, description, price]\n",
       "Index: []"
      ]
     },
     "execution_count": 30,
     "metadata": {},
     "output_type": "execute_result"
    }
   ],
   "source": [
    "df_newyork_price.dropna()"
   ]
  },
  {
   "cell_type": "markdown",
   "metadata": {},
   "source": [
    "## Merge all the prices."
   ]
  },
  {
   "cell_type": "code",
   "execution_count": 31,
   "metadata": {},
   "outputs": [
    {
     "data": {
      "text/html": [
       "<div>\n",
       "<style scoped>\n",
       "    .dataframe tbody tr th:only-of-type {\n",
       "        vertical-align: middle;\n",
       "    }\n",
       "\n",
       "    .dataframe tbody tr th {\n",
       "        vertical-align: top;\n",
       "    }\n",
       "\n",
       "    .dataframe thead th {\n",
       "        text-align: right;\n",
       "    }\n",
       "</style>\n",
       "<table border=\"1\" class=\"dataframe\">\n",
       "  <thead>\n",
       "    <tr style=\"text-align: right;\">\n",
       "      <th></th>\n",
       "      <th>price</th>\n",
       "    </tr>\n",
       "  </thead>\n",
       "  <tbody>\n",
       "    <tr>\n",
       "      <th>0</th>\n",
       "      <td>529.935</td>\n",
       "    </tr>\n",
       "    <tr>\n",
       "      <th>1</th>\n",
       "      <td>204.4035</td>\n",
       "    </tr>\n",
       "    <tr>\n",
       "      <th>2</th>\n",
       "      <td>340.6725</td>\n",
       "    </tr>\n",
       "    <tr>\n",
       "      <th>3</th>\n",
       "      <td>1059.87</td>\n",
       "    </tr>\n",
       "    <tr>\n",
       "      <th>4</th>\n",
       "      <td>243.3375</td>\n",
       "    </tr>\n",
       "  </tbody>\n",
       "</table>\n",
       "</div>"
      ],
      "text/plain": [
       "      price\n",
       "0   529.935\n",
       "1  204.4035\n",
       "2  340.6725\n",
       "3   1059.87\n",
       "4  243.3375"
      ]
     },
     "execution_count": 31,
     "metadata": {},
     "output_type": "execute_result"
    }
   ],
   "source": [
    "import pandas as pd\n",
    "\n",
    "df_prices = pd.concat([df_euro, df_tokyo_price, df_brazil_price, df_newyork_price]).stack().reset_index(drop=True).to_frame(name='price')\n",
    "\n",
    "df_prices.head()"
   ]
  },
  {
   "cell_type": "code",
   "execution_count": 32,
   "metadata": {},
   "outputs": [
    {
     "data": {
      "text/plain": [
       "(2394, 1)"
      ]
     },
     "execution_count": 32,
     "metadata": {},
     "output_type": "execute_result"
    }
   ],
   "source": [
    "df_prices.shape"
   ]
  }
 ],
 "metadata": {
  "kernelspec": {
   "display_name": "Python 3",
   "language": "python",
   "name": "python3"
  },
  "language_info": {
   "codemirror_mode": {
    "name": "ipython",
    "version": 3
   },
   "file_extension": ".py",
   "mimetype": "text/x-python",
   "name": "python",
   "nbconvert_exporter": "python",
   "pygments_lexer": "ipython3",
   "version": "3.11.11"
  }
 },
 "nbformat": 4,
 "nbformat_minor": 2
}
